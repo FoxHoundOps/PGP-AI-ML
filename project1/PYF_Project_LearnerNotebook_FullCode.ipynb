{
 "cells": [
  {
   "cell_type": "markdown",
   "metadata": {
    "id": "Gc8x8QimJY_H"
   },
   "source": [
    "# Project Python Foundations: FoodHub Data Analysis\n",
    "\n",
    "**Marks: 60**"
   ]
  },
  {
   "cell_type": "markdown",
   "metadata": {
    "id": "NqikjkWwJY_L"
   },
   "source": [
    "### Context\n",
    "\n",
    "The number of restaurants in New York is increasing day by day. Lots of students and busy professionals rely on those restaurants due to their hectic lifestyles. Online food delivery service is a great option for them. It provides them with good food from their favorite restaurants. A food aggregator company FoodHub offers access to multiple restaurants through a single smartphone app.\n",
    "\n",
    "The app allows the restaurants to receive a direct online order from a customer. The app assigns a delivery person from the company to pick up the order after it is confirmed by the restaurant. The delivery person then uses the map to reach the restaurant and waits for the food package. Once the food package is handed over to the delivery person, he/she confirms the pick-up in the app and travels to the customer's location to deliver the food. The delivery person confirms the drop-off in the app after delivering the food package to the customer. The customer can rate the order in the app. The food aggregator earns money by collecting a fixed margin of the delivery order from the restaurants.\n",
    "\n",
    "### Objective\n",
    "\n",
    "The food aggregator company has stored the data of the different orders made by the registered customers in their online portal. They want to analyze the data to get a fair idea about the demand of different restaurants which will help them in enhancing their customer experience. Suppose you are hired as a Data Scientist in this company and the Data Science team has shared some of the key questions that need to be answered. Perform the data analysis to find answers to these questions that will help the company to improve the business. \n",
    "\n",
    "### Data Description\n",
    "\n",
    "The data contains the different data related to a food order. The detailed data dictionary is given below.\n",
    "\n",
    "### Data Dictionary\n",
    "\n",
    "* order_id: Unique ID of the order\n",
    "* customer_id: ID of the customer who ordered the food\n",
    "* restaurant_name: Name of the restaurant\n",
    "* cuisine_type: Cuisine ordered by the customer\n",
    "* cost: Cost of the order\n",
    "* day_of_the_week: Indicates whether the order is placed on a weekday or weekend (The weekday is from Monday to Friday and the weekend is Saturday and Sunday)\n",
    "* rating: Rating given by the customer out of 5\n",
    "* food_preparation_time: Time (in minutes) taken by the restaurant to prepare the food. This is calculated by taking the difference between the timestamps of the restaurant's order confirmation and the delivery person's pick-up confirmation.\n",
    "* delivery_time: Time (in minutes) taken by the delivery person to deliver the food package. This is calculated by taking the difference between the timestamps of the delivery person's pick-up confirmation and drop-off information"
   ]
  },
  {
   "cell_type": "markdown",
   "metadata": {
    "id": "cEtNUxNAJY_M"
   },
   "source": [
    "### Let us start by importing the required libraries"
   ]
  },
  {
   "cell_type": "code",
   "execution_count": null,
   "metadata": {
    "id": "u6PlpJAPJY_N"
   },
   "outputs": [],
   "source": [
    "# import libraries for data manipulation\n",
    "import numpy as np\n",
    "import pandas as pd\n",
    "\n",
    "# import libraries for data visualization\n",
    "import matplotlib.pyplot as plt\n",
    "import seaborn as sns"
   ]
  },
  {
   "cell_type": "markdown",
   "metadata": {
    "id": "AdracY0HJY_O"
   },
   "source": [
    "### Understanding the structure of the data"
   ]
  },
  {
   "cell_type": "code",
   "execution_count": null,
   "metadata": {
    "id": "WBh2ZGB9kFhU"
   },
   "outputs": [],
   "source": [
    "# uncomment and run the following lines for Google Colab\n",
    "# from google.colab import drive\n",
    "# drive.mount('/content/drive')"
   ]
  },
  {
   "cell_type": "code",
   "execution_count": null,
   "metadata": {
    "id": "GF01IZDbJY_O",
    "scrolled": true
   },
   "outputs": [],
   "source": [
    "# read the data\n",
    "df = pd.read_csv('foodhub_order.csv')\n",
    "# returns the first 5 rows\n",
    "df.head()"
   ]
  },
  {
   "cell_type": "markdown",
   "metadata": {
    "id": "J_Y9aJDJJY_P"
   },
   "source": [
    "#### Observations:\n",
    "\n",
    "The DataFrame has 9 columns as mentioned in the Data Dictionary. Data in each row corresponds to the order placed by a customer."
   ]
  },
  {
   "cell_type": "markdown",
   "metadata": {
    "id": "c3kenV4vJY_Q"
   },
   "source": [
    "### **Question 1:** How many rows and columns are present in the data? [0.5 mark]"
   ]
  },
  {
   "cell_type": "code",
   "execution_count": null,
   "metadata": {
    "id": "Yvz5i-PhJY_Q"
   },
   "outputs": [],
   "source": [
    "# Use the shape attribute to get the number of rows and colums\n",
    "num_rows, num_cols = df.shape\n",
    "print(\"The number of rows is:\", num_rows)\n",
    "print(\"The number of columns is:\", num_cols)\n"
   ]
  },
  {
   "attachments": {},
   "cell_type": "markdown",
   "metadata": {
    "id": "UsTNy3unJY_R"
   },
   "source": [
    "#### Observations:\n",
    "By using the `shape` attribute of `pandas.DataFrame`, we can see that there are 1898 rows and 9 columns. "
   ]
  },
  {
   "cell_type": "markdown",
   "metadata": {
    "id": "jRXakVrUJY_R"
   },
   "source": [
    "### **Question 2:** What are the datatypes of the different columns in the dataset? (The info() function can be used) [0.5 mark]"
   ]
  },
  {
   "cell_type": "code",
   "execution_count": null,
   "metadata": {
    "id": "Kp70Z0BNJY_R"
   },
   "outputs": [],
   "source": [
    "# Use info() to print a concise summary of the DataFrame\n",
    "df.info()"
   ]
  },
  {
   "attachments": {},
   "cell_type": "markdown",
   "metadata": {
    "id": "WJes5GP2JY_S"
   },
   "source": [
    "#### Observations:\n",
    "By using `df.info()`, we can see the data has 3 different datatypes:\n",
    "- 1 column of type float64, which is a 64-bit floating point number\n",
    "- 4 columns of type int64, which is a 64-bit integer\n",
    "- 4 columns of type object, which is often used to store string values"
   ]
  },
  {
   "cell_type": "markdown",
   "metadata": {
    "id": "pF_92MN6JY_S"
   },
   "source": [
    "### **Question 3:** Are there any missing values in the data? If yes, treat them using an appropriate method. [1 mark]"
   ]
  },
  {
   "cell_type": "code",
   "execution_count": null,
   "metadata": {
    "id": "Zth-RR1PJY_S"
   },
   "outputs": [],
   "source": [
    "# Loop through each object-type column and print the unique values\n",
    "for col in df.select_dtypes(include=['object']):\n",
    "    print(col)\n",
    "    print(df[col].unique())\n",
    "    print()"
   ]
  },
  {
   "attachments": {},
   "cell_type": "markdown",
   "metadata": {
    "id": "jDHT3vD1JY_S"
   },
   "source": [
    "#### Observations:\n",
    "Based on the output of `df.info()` from the previous question, we can see that the Non-Null Count is the same as the total number of rows, for each of the columns. This implies that there is no missing data. However, the above code allows us to look at all the unique values of each of those columns. We can see that for `rating` we have a unique value of 'Not given', indiciating missing ratings. We need to handle this. We can handle this by replacing these values with `NaN` values, with the following code below:"
   ]
  },
  {
   "cell_type": "code",
   "execution_count": null,
   "metadata": {},
   "outputs": [],
   "source": [
    "# Replace all 'Not given' values in column 'rating' with NaN, and make the changes in the original dataframe df, then print the unique values\n",
    "df['rating'].replace('Not given', np.nan, inplace=True)\n",
    "print(df['rating'].unique())"
   ]
  },
  {
   "attachments": {},
   "cell_type": "markdown",
   "metadata": {},
   "source": [
    "#### Observations:\n",
    "After executing the code, we can look again at the unique values for column `rating`. We see that the 'Not given' rating values have now been replaced with 'NaN'. Now also for future use in analysis that follows, it might be useful and appropriate to convert `rating` types to be of type float, rather than string objects, since they do represent numerical ratings up to 5. We can do this with the following code:\n"
   ]
  },
  {
   "cell_type": "code",
   "execution_count": null,
   "metadata": {},
   "outputs": [],
   "source": [
    "# Convert all values in column 'rating' to be float-type\n",
    "df['rating'] = df['rating'].astype(float)\n",
    "df.info()"
   ]
  },
  {
   "attachments": {},
   "cell_type": "markdown",
   "metadata": {},
   "source": [
    "From calling `info()` on our dataframe, we can see that the column for `rating` has now been changed from `object` to `float64`.  "
   ]
  },
  {
   "cell_type": "markdown",
   "metadata": {
    "id": "MnJo7MWrJY_S"
   },
   "source": [
    "### **Question 4:** Check the statistical summary of the data. What is the minimum, average, and maximum time it takes for food to be prepared once an order is placed? [2 marks]"
   ]
  },
  {
   "cell_type": "code",
   "execution_count": null,
   "metadata": {
    "id": "WprQBgOSJY_T"
   },
   "outputs": [],
   "source": [
    "# Get summary statistics on column 'food_preparation_time'\n",
    "df['food_preparation_time'].describe()"
   ]
  },
  {
   "attachments": {},
   "cell_type": "markdown",
   "metadata": {
    "id": "9YbSOR5wJY_T"
   },
   "source": [
    "#### Observations:\n",
    "Based on the output of the `describe()` function on the `food_preparation_time` column, we can see:\n",
    "\n",
    "- min: 20 minutes\n",
    "- average: 27.371970 minutes\n",
    "- max: 35 minutes"
   ]
  },
  {
   "cell_type": "markdown",
   "metadata": {
    "id": "cw3l58z_JY_T"
   },
   "source": [
    "### **Question 5:** How many orders are not rated? [1 mark]"
   ]
  },
  {
   "cell_type": "code",
   "execution_count": null,
   "metadata": {
    "id": "hEzDUL9wgksi"
   },
   "outputs": [],
   "source": [
    "# Sum up the numbers of rows that have missing or NaN values in column 'rating'\n",
    "df['rating'].isna().sum()"
   ]
  },
  {
   "attachments": {},
   "cell_type": "markdown",
   "metadata": {
    "id": "5E0O_oviJY_T"
   },
   "source": [
    "#### Observations:\n",
    "We can use `isna()` to find and sum up how many orders are have the NaN value we assigned before. According to the output: 736 orders are not rated. \n"
   ]
  },
  {
   "cell_type": "markdown",
   "metadata": {
    "id": "7msIfXE-JY_T"
   },
   "source": [
    "### Exploratory Data Analysis (EDA)"
   ]
  },
  {
   "cell_type": "markdown",
   "metadata": {
    "id": "-2xfI28YJY_T"
   },
   "source": [
    "### Univariate Analysis"
   ]
  },
  {
   "cell_type": "markdown",
   "metadata": {
    "id": "0RHZnugBJY_U"
   },
   "source": [
    "### **Question 6:** Explore all the variables and provide observations on their distributions. (Generally, histograms, boxplots, countplots, etc. are used for univariate exploration.) [9 marks]"
   ]
  },
  {
   "attachments": {},
   "cell_type": "markdown",
   "metadata": {},
   "source": [
    "**Observations on Order ID**"
   ]
  },
  {
   "cell_type": "code",
   "execution_count": null,
   "metadata": {},
   "outputs": [],
   "source": [
    "# check number of unique order IDs\n",
    "df['order_id'].nunique()  "
   ]
  },
  {
   "attachments": {},
   "cell_type": "markdown",
   "metadata": {},
   "source": [
    "#### Observations:\n",
    "There are 1898 unique order IDs, which is the same number of rows in this dataset, implying there are no duplicate orders. "
   ]
  },
  {
   "attachments": {},
   "cell_type": "markdown",
   "metadata": {},
   "source": [
    "**Observations on Customer ID**"
   ]
  },
  {
   "cell_type": "code",
   "execution_count": null,
   "metadata": {},
   "outputs": [],
   "source": [
    "# check number of unique customer IDs\n",
    "df['customer_id'].nunique()  "
   ]
  },
  {
   "attachments": {},
   "cell_type": "markdown",
   "metadata": {},
   "source": [
    "#### Observations:\n",
    "There are 1200 unique customer IDs, which indicates that some customers have more than 1 order, also indicating that there are customers that frequenty order from FoodHub. "
   ]
  },
  {
   "attachments": {},
   "cell_type": "markdown",
   "metadata": {},
   "source": [
    "**Observations on Restaurant Name**"
   ]
  },
  {
   "attachments": {},
   "cell_type": "markdown",
   "metadata": {},
   "source": [
    "`restaurant_name` is a categorical variable that represents the name of the restaurant that received the food ordere. We can perform univariate analysis on this column to look for any insights into the frequency of orders placed at each restaurant and possibly infer which restaurants are more popular.\n",
    "\n",
    "Let us begin by first looking at the frequency distribution.  We can look at a frequency distribution table and create a bar chart from this to show the number of orders placed at each restraunt. This can give us a visual representation on the more popular restaurant and the less popular restaurants."
   ]
  },
  {
   "cell_type": "code",
   "execution_count": null,
   "metadata": {},
   "outputs": [],
   "source": [
    "# Create a frequency distribution of the restaurant_name column\n",
    "restaurant_counts = df['restaurant_name'].value_counts()\n",
    "\n",
    "# Print the frequency distribution table\n",
    "print(restaurant_counts)\n",
    "\n",
    "# Create a bar chart of the frequency distribution\n",
    "plt.bar(restaurant_counts.index, restaurant_counts.values)\n",
    "plt.xlabel('Restaurant Name')\n",
    "plt.ylabel('Frequency')\n",
    "plt.title('Frequency Distribution of Restaurants')\n",
    "plt.xticks(rotation=90)\n",
    "plt.show()"
   ]
  },
  {
   "attachments": {},
   "cell_type": "markdown",
   "metadata": {},
   "source": [
    "#### Observations:\n",
    "Based on the frequency distribution, it clearly looks like certain restaurants are more popular than others. Just looking at this frequency of orders, it looks like some of the restaurants further to the right are not significantly different in their order count."
   ]
  },
  {
   "attachments": {},
   "cell_type": "markdown",
   "metadata": {},
   "source": [
    "Let us look further into this and look at the percentage distribution. The percentage distribution can show the percentage of food orders placed at each restaurant, based on their market share among the customers. This can help identify the most popular restaurants and the ones that are less popular, based on the percentage of orders they receive relative to the other restaurants in the dataset."
   ]
  },
  {
   "cell_type": "code",
   "execution_count": null,
   "metadata": {},
   "outputs": [],
   "source": [
    "# Create a percentage distribution of the restaurant_name column\n",
    "restaurant_counts = df['restaurant_name'].value_counts(normalize=True) * 100\n",
    "\n",
    "# Print the percentage distribution table\n",
    "print(restaurant_counts)\n",
    "\n",
    "# Create a pie chart of the percentage distribution\n",
    "plt.pie(restaurant_counts.values, labels=restaurant_counts.index, autopct='%1.1f%%')\n",
    "plt.title('Percentage Distribution of Restaurants')\n",
    "plt.show()\n"
   ]
  },
  {
   "attachments": {},
   "cell_type": "markdown",
   "metadata": {},
   "source": [
    "#### Observations:\n",
    "A few restaurant appear to account for a large part of the market share among customers. The top 4 restaurants shown here account for about 30% of the total orders of the dataset. From this we can infer that a few of the most popular restaurants account for a large part of the market share. "
   ]
  },
  {
   "attachments": {},
   "cell_type": "markdown",
   "metadata": {},
   "source": [
    "**Observations on Cuisine Type**"
   ]
  },
  {
   "attachments": {},
   "cell_type": "markdown",
   "metadata": {},
   "source": [
    "`cuisine_type` is a categorical variable that represents the type of cuisine that was ordered by the customer. We can perform univariate analysis on this column to look for any insights into the frequency of each cuisine type and look for any insights into food preferences and tastes of the customers. \n",
    "\n",
    "Let us begin by first looking at the frequency distribution.  We can look at a frequency distribution table and create a bar chart from this and help identify the most popular cuisines and also the ones that are less popular. "
   ]
  },
  {
   "cell_type": "code",
   "execution_count": null,
   "metadata": {},
   "outputs": [],
   "source": [
    "# Create a frequency distribution of the restaurant_name column\n",
    "cuisine_counts = df['cuisine_type'].value_counts()\n",
    "\n",
    "# Print the frequency distribution table\n",
    "print(cuisine_counts)\n",
    "\n",
    "# Create a bar chart of the frequency distribution\n",
    "plt.bar(cuisine_counts.index, cuisine_counts.values)\n",
    "plt.xlabel('Cuisine Type')\n",
    "plt.ylabel('Frequency')\n",
    "plt.title('Frequency Distribution of Cuisine Types')\n",
    "plt.xticks(rotation=90)\n",
    "plt.show()"
   ]
  },
  {
   "attachments": {},
   "cell_type": "markdown",
   "metadata": {},
   "source": [
    "#### Observations:\n",
    "Based on the frequency distribution, it clearly looks like certain cuisine types are more popular than others. Let us continue and look at the percentage distribution:"
   ]
  },
  {
   "cell_type": "code",
   "execution_count": null,
   "metadata": {},
   "outputs": [],
   "source": [
    "# Create a percentage distribution of the cuisine type column\n",
    "cuisine_counts = df['cuisine_type'].value_counts(normalize=True) * 100\n",
    "\n",
    "# Print the percentage distribution table\n",
    "print(cuisine_counts)\n",
    "\n",
    "# Create a pie chart of the percentage distribution\n",
    "plt.pie(cuisine_counts.values, labels=cuisine_counts.index, autopct='%1.1f%%')\n",
    "plt.title('Percentage Distribution of Cuisine Types')\n",
    "plt.show()"
   ]
  },
  {
   "attachments": {},
   "cell_type": "markdown",
   "metadata": {},
   "source": [
    "#### Observations:\n",
    "Based on the percentage distribution we can see insights that American, Japanese, Italian and Chinese food together account for about 82.6% of the total orders. These are clearly the most popular types of cuisine that dominate the market share. "
   ]
  },
  {
   "attachments": {},
   "cell_type": "markdown",
   "metadata": {},
   "source": [
    "**Observations on Cost of the Order**"
   ]
  },
  {
   "cell_type": "code",
   "execution_count": null,
   "metadata": {},
   "outputs": [],
   "source": [
    "df['cost_of_the_order'].describe()"
   ]
  },
  {
   "cell_type": "code",
   "execution_count": null,
   "metadata": {
    "id": "rU5ZqISjJY_U"
   },
   "outputs": [],
   "source": [
    "# Create a histogram of the cost_of_the_order column\n",
    "sns.histplot(data=df, x='cost_of_the_order')\n",
    "plt.show()\n",
    "sns.boxplot(data=df, x='cost_of_the_order')\n",
    "plt.show()"
   ]
  },
  {
   "cell_type": "code",
   "execution_count": null,
   "metadata": {},
   "outputs": [],
   "source": [
    "# Create a density plot of the cost_of_the_order column\n",
    "df['cost_of_the_order'].plot(kind='density')\n",
    "\n",
    "# Set the plot title and axis labels\n",
    "plt.title('Density Plot of Cost of the Order')\n",
    "plt.xlabel('Cost')\n",
    "plt.ylabel('Density')\n",
    "\n",
    "# Show the plot\n",
    "plt.show()"
   ]
  },
  {
   "attachments": {},
   "cell_type": "markdown",
   "metadata": {},
   "source": [
    "#### Observations:\n",
    "- Minimum: $4.47\n",
    "- Mean: $16.50\n",
    "- Maximum: $35.41\n",
    "- There are no outliers for `cost_of_the_order`\n",
    "- It looks like most of the orders are in the range of $12 to $17"
   ]
  },
  {
   "attachments": {},
   "cell_type": "markdown",
   "metadata": {},
   "source": [
    "**Observations on Days of the Week**"
   ]
  },
  {
   "cell_type": "code",
   "execution_count": null,
   "metadata": {},
   "outputs": [],
   "source": [
    "# Compute the frequency distribution of the day_of_the_week column\n",
    "day_counts = df['day_of_the_week'].value_counts()\n",
    "\n",
    "# Create a bar chart of the frequency distribution\n",
    "day_counts.plot(kind='bar')\n",
    "\n",
    "# Set the plot title and axis labels\n",
    "plt.title('Frequency Distribution of Orders by Day of the Week')\n",
    "plt.xlabel('Day of the Week')\n",
    "plt.ylabel('Number of Orders')\n",
    "\n",
    "# Show the plot\n",
    "plt.show()"
   ]
  },
  {
   "cell_type": "code",
   "execution_count": null,
   "metadata": {},
   "outputs": [],
   "source": [
    "# Compute the percentage distribution of the day_of_the_week column\n",
    "day_pct = df['day_of_the_week'].value_counts(normalize=True) * 100\n",
    "\n",
    "# Create a pie chart of the percentage distribution\n",
    "day_pct.plot(kind='pie', autopct='%1.1f%%')\n",
    "\n",
    "# Set the plot title and legend\n",
    "plt.title('Percentage Distribution of Orders by Day of the Week')\n",
    "plt.legend(loc='best')\n",
    "\n",
    "# Show the plot\n",
    "plt.show()"
   ]
  },
  {
   "attachments": {},
   "cell_type": "markdown",
   "metadata": {},
   "source": [
    "#### Observations\n",
    "A majority of the orders places were on the weekend. It is important to remember that there are 5 days (Monday, Tuesday, Wednesday, Thursday, Friday) that fall under 'Weekday' and only 2 days (Saturday and Sunday) that full under 'Weekend'. The number of orders places on the Weekend account for 71.2% of the total orders. "
   ]
  },
  {
   "attachments": {},
   "cell_type": "markdown",
   "metadata": {},
   "source": [
    "**Observations on Food Preparation Time**"
   ]
  },
  {
   "cell_type": "code",
   "execution_count": null,
   "metadata": {},
   "outputs": [],
   "source": [
    "df['food_preparation_time'].describe()"
   ]
  },
  {
   "cell_type": "code",
   "execution_count": null,
   "metadata": {},
   "outputs": [],
   "source": [
    "# Create a boxplot of the food_preparation_time column\n",
    "plt.boxplot(df['food_preparation_time'])\n",
    "\n",
    "# Set the plot title and axis labels\n",
    "plt.title('Boxplot of Food Preparation Time')\n",
    "plt.xlabel('Food Preparation Time (minutes)')\n",
    "plt.ylabel('Frequency')\n",
    "\n",
    "# Show the plot\n",
    "plt.show()"
   ]
  },
  {
   "cell_type": "code",
   "execution_count": null,
   "metadata": {},
   "outputs": [],
   "source": [
    "# Create a KDE plot of the food_preparation_time column, set the plot title and axis labels\n",
    "sns.displot(data=df,x='food_preparation_time',kind='kde')\n",
    "plt.title('Kernel Density Estimate of Food Preparation Time')\n",
    "plt.xlabel('Food Preparation Time (minutes)')\n",
    "plt.ylabel('Density')\n",
    "\n",
    "# Show the plot\n",
    "plt.show()"
   ]
  },
  {
   "attachments": {},
   "cell_type": "markdown",
   "metadata": {},
   "source": [
    "#### Observations\n",
    "- Minimum time: 20 minutes\n",
    "- Mean time: 27.371970 minutes\n",
    "- Maximum time: 35 minutes \n",
    "- There are no outliers for `food_preparation_time`\n",
    "- The KDE is pretty symmetic with no anomolies"
   ]
  },
  {
   "attachments": {},
   "cell_type": "markdown",
   "metadata": {},
   "source": [
    "**Observations on Delivery Time**"
   ]
  },
  {
   "cell_type": "code",
   "execution_count": null,
   "metadata": {},
   "outputs": [],
   "source": [
    "df['delivery_time'].describe()"
   ]
  },
  {
   "cell_type": "code",
   "execution_count": null,
   "metadata": {},
   "outputs": [],
   "source": [
    "# Create a boxplot of the delivery_time column\n",
    "plt.boxplot(df['delivery_time'])\n",
    "\n",
    "# Set the plot title and axis labels\n",
    "plt.title('Boxplot of Delivery Time')\n",
    "plt.xlabel('Delivery Time (minutes)')\n",
    "plt.ylabel('Frequency')\n",
    "\n",
    "# Show the plot\n",
    "plt.show()"
   ]
  },
  {
   "cell_type": "code",
   "execution_count": null,
   "metadata": {},
   "outputs": [],
   "source": [
    "# Create a KDE plot of the delivery_time column, set the plot title and axis labels\n",
    "sns.displot(data=df,x='delivery_time',kind='kde')\n",
    "plt.title('Kernel Density Estimate of Delivery Time')\n",
    "plt.xlabel('Delivery Time (minutes)')\n",
    "plt.ylabel('Density')\n",
    "\n",
    "# Show the plot\n",
    "plt.show()"
   ]
  },
  {
   "attachments": {},
   "cell_type": "markdown",
   "metadata": {},
   "source": [
    "#### Observations\n",
    "- Minimum time: 15 minutes\n",
    "- Mean time: 24.161749 minutes\n",
    "- Maximum time: 33 minutes\n",
    "- There are no outliers for `delivery_time`\n",
    "- The KDE looks a bit odd from about 22 minutes to about 30 minutes, showing higher density of this range\n"
   ]
  },
  {
   "attachments": {},
   "cell_type": "markdown",
   "metadata": {},
   "source": [
    "**Observations on Rating**"
   ]
  },
  {
   "cell_type": "code",
   "execution_count": null,
   "metadata": {},
   "outputs": [],
   "source": [
    "df['rating'].mode()"
   ]
  },
  {
   "cell_type": "code",
   "execution_count": null,
   "metadata": {},
   "outputs": [],
   "source": [
    "# Create a frequency distribution of ratings\n",
    "rating_counts = df['rating'].value_counts()\n",
    "\n",
    "# Print the counts\n",
    "print(rating_counts)\n",
    "\n",
    "# Plot the frequency distribution as a bar chart\n",
    "rating_counts.plot(kind='bar')\n",
    "plt.xlabel('Rating')\n",
    "plt.ylabel('Frequency')\n",
    "plt.title('Frequency Distribution of Ratings')\n",
    "plt.show()"
   ]
  },
  {
   "cell_type": "code",
   "execution_count": null,
   "metadata": {},
   "outputs": [],
   "source": [
    "# Create a percentage distribution of ratings\n",
    "rating_pct = df['rating'].value_counts(normalize=True) * 100\n",
    "\n",
    "# Print the percentages\n",
    "print(rating_pct)\n",
    "\n",
    "# Plot the percentage distribution as a pie chart\n",
    "rating_pct.plot(kind='pie')\n",
    "plt.axis('equal')\n",
    "plt.title('Percentage Distribution of Ratings')\n",
    "plt.show()"
   ]
  },
  {
   "attachments": {},
   "cell_type": "markdown",
   "metadata": {},
   "source": [
    "#### Observations\n",
    "- The most common rating given is 5 stars\n",
    "- 5 stars is the most given rating, followed by 4 stars, followed by 3 stars\n",
    "- 5 star ratings account for about 50.6% of the total ratings given\n",
    "- 4 star ratings account for about 33.2% of the total ratings given\n",
    "- 3 star ratings account for about 16.2% of the total ratings given"
   ]
  },
  {
   "cell_type": "markdown",
   "metadata": {
    "id": "K9CqA5H_JY_U"
   },
   "source": [
    "### **Question 7**: Which are the top 5 restaurants in terms of the number of orders received? [1 mark]"
   ]
  },
  {
   "cell_type": "code",
   "execution_count": null,
   "metadata": {
    "id": "PaJZ3wlOJY_U"
   },
   "outputs": [],
   "source": [
    "# Get the top 5 restaurants by number of orders received\n",
    "top_restaurants = df['restaurant_name'].value_counts().head(5)\n",
    "\n",
    "# Print the top 5 restaurants\n",
    "print(top_restaurants)"
   ]
  },
  {
   "attachments": {},
   "cell_type": "markdown",
   "metadata": {
    "id": "tnjhWgUfJY_U"
   },
   "source": [
    "#### Observations:\n",
    "1. Shake Shack\n",
    "2. The Meatball Shop\n",
    "3. Blue Ribbon Sushi\n",
    "4. Blue Ribbon Fried Chicken\n",
    "5. Parm\n"
   ]
  },
  {
   "cell_type": "markdown",
   "metadata": {
    "id": "gWPMqGq0JY_U"
   },
   "source": [
    "### **Question 8**: Which is the most popular cuisine on weekends? [1 mark]"
   ]
  },
  {
   "cell_type": "code",
   "execution_count": null,
   "metadata": {
    "id": "c-Xnus3VJY_U"
   },
   "outputs": [],
   "source": [
    "# Filter the DataFrame to include only weekends\n",
    "weekend_orders = df[df['day_of_the_week'] == 'Weekend']\n",
    "\n",
    "# Get the most popular cuisine on weekends\n",
    "most_popular_cuisine = weekend_orders['cuisine_type'].value_counts().head(1)\n",
    "\n",
    "# Print the most popular cuisine\n",
    "print(\"The most popular cuisine on weekends is: \", most_popular_cuisine.index[0])"
   ]
  },
  {
   "attachments": {},
   "cell_type": "markdown",
   "metadata": {
    "id": "bpQ270TUJY_U"
   },
   "source": [
    "#### Observations:\n",
    "American is the most popular cuisine on the weekends. \n"
   ]
  },
  {
   "cell_type": "markdown",
   "metadata": {
    "id": "88xgTqkxJY_U"
   },
   "source": [
    "### **Question 9**: What percentage of the orders cost more than 20 dollars? [2 marks]"
   ]
  },
  {
   "cell_type": "code",
   "execution_count": null,
   "metadata": {
    "id": "OTpHyTdzJY_U"
   },
   "outputs": [],
   "source": [
    "# Filter the DataFrame to include only orders with cost greater than 20 dollars\n",
    "cost_above_20 = df[df['cost_of_the_order'] > 20]\n",
    "\n",
    "# Calculate the percentage of orders with cost greater than 20 dollars\n",
    "percent_above_20 = (cost_above_20.shape[0] / df.shape[0]) * 100\n",
    "\n",
    "# Print the percentage of orders with cost above 20 dollars\n",
    "print(\"Percentage of orders with cost above $20: {:.2f}%\".format(percent_above_20))"
   ]
  },
  {
   "attachments": {},
   "cell_type": "markdown",
   "metadata": {
    "id": "77KNAC5zJY_U"
   },
   "source": [
    "#### Observations:\n",
    "29.24% of the orders cost more than $20.\n"
   ]
  },
  {
   "cell_type": "markdown",
   "metadata": {
    "id": "HFyHn7hsJY_V"
   },
   "source": [
    "### **Question 10**: What is the mean order delivery time? [1 mark]"
   ]
  },
  {
   "cell_type": "code",
   "execution_count": null,
   "metadata": {
    "id": "cyFL13hNJY_V"
   },
   "outputs": [],
   "source": [
    "# Calculate the mean delivery time\n",
    "mean_delivery_time = df['delivery_time'].mean()\n",
    "\n",
    "# Print the mean delivery time\n",
    "print(\"The mean delivery time is: {:.2f} minutes\".format(mean_delivery_time))"
   ]
  },
  {
   "attachments": {},
   "cell_type": "markdown",
   "metadata": {
    "id": "F35SRV-HJY_V"
   },
   "source": [
    "#### Observations:\n",
    "The mean order delivery time is 24.16 minutes."
   ]
  },
  {
   "cell_type": "markdown",
   "metadata": {
    "id": "48IjaOuDJY_V"
   },
   "source": [
    "### **Question 11:** The company has decided to give 20% discount vouchers to the top 3 most frequent customers. Find the IDs of these customers and the number of orders they placed. [1 mark]"
   ]
  },
  {
   "cell_type": "code",
   "execution_count": null,
   "metadata": {
    "id": "Hz8-DE4Zge0j"
   },
   "outputs": [],
   "source": [
    "# Get the top 3 most frequent customers\n",
    "top_customers = df['customer_id'].value_counts().head(3)\n",
    "\n",
    "# Print the top 3 most frequent customers\n",
    "print(\"The top 3 most frequent customers are:\")\n",
    "for i, (customer_id, count) in enumerate(top_customers.items()):\n",
    "    print(\"{}) Customer ID {}: {} orders\".format(i+1, customer_id, count))"
   ]
  },
  {
   "attachments": {},
   "cell_type": "markdown",
   "metadata": {
    "id": "9tWVwfX6JY_V"
   },
   "source": [
    "#### Observations:\n",
    "1. Customer ID 52832: 13 orders\n",
    "2. Customer ID 47440: 10 orders\n",
    "3. Customer ID 83287: 9 orders"
   ]
  },
  {
   "cell_type": "markdown",
   "metadata": {
    "id": "AfIc2jPaJY_V"
   },
   "source": [
    "### Multivariate Analysis"
   ]
  },
  {
   "cell_type": "markdown",
   "metadata": {
    "id": "iqiS0RT_JY_V"
   },
   "source": [
    "### **Question 12**: Perform a multivariate analysis to explore relationships between the important variables in the dataset. (It is a good idea to explore relations between numerical variables as well as relations between numerical and categorical variables) [10 marks]\n"
   ]
  },
  {
   "attachments": {},
   "cell_type": "markdown",
   "metadata": {},
   "source": [
    "**Cuisine vs Cost of the order**"
   ]
  },
  {
   "cell_type": "code",
   "execution_count": null,
   "metadata": {},
   "outputs": [],
   "source": [
    "# Relationship between cost of the order and cuisine type\n",
    "plt.figure(figsize=(15,7))\n",
    "sns.boxplot(x = \"cuisine_type\", y = \"cost_of_the_order\", data = df, palette = 'PuBu')\n",
    "plt.xticks(rotation = 60)\n",
    "plt.show()"
   ]
  },
  {
   "attachments": {},
   "cell_type": "markdown",
   "metadata": {},
   "source": [
    "**Cuisine vs Food Preparation time**"
   ]
  },
  {
   "cell_type": "code",
   "execution_count": null,
   "metadata": {},
   "outputs": [],
   "source": [
    "# Relationship between food preparation time and cuisine type\n",
    "plt.figure(figsize=(15,7))\n",
    "sns.boxplot(x='cuisine_type', y='food_preparation_time', data=df)\n",
    "plt.xticks(rotation = 60)\n",
    "plt.show()"
   ]
  },
  {
   "attachments": {},
   "cell_type": "markdown",
   "metadata": {},
   "source": [
    "**Day of the Week vs Delivery time**"
   ]
  },
  {
   "cell_type": "code",
   "execution_count": null,
   "metadata": {},
   "outputs": [],
   "source": [
    "# Relationship between day of the week and delivery time\n",
    "plt.figure(figsize=(15,7))\n",
    "sns.boxplot(x='day_of_the_week', y='delivery_time', data=df)\n",
    "plt.show()"
   ]
  },
  {
   "attachments": {},
   "cell_type": "markdown",
   "metadata": {},
   "source": [
    "#### Run the below code and write your observations on the revenue generated by the restaurants."
   ]
  },
  {
   "cell_type": "code",
   "execution_count": null,
   "metadata": {},
   "outputs": [],
   "source": [
    "df.groupby(['restaurant_name'])['cost_of_the_order'].sum().sort_values(ascending = False).head(14)"
   ]
  },
  {
   "attachments": {},
   "cell_type": "markdown",
   "metadata": {},
   "source": [
    "**Rating vs Delivery time**"
   ]
  },
  {
   "cell_type": "code",
   "execution_count": null,
   "metadata": {},
   "outputs": [],
   "source": [
    "# Relationship between rating and delivery time\n",
    "plt.figure(figsize=(15, 7))\n",
    "sns.pointplot(x = 'rating', y = 'delivery_time', data = df)\n",
    "plt.show()"
   ]
  },
  {
   "attachments": {},
   "cell_type": "markdown",
   "metadata": {},
   "source": [
    "**Rating vs Food preparation time**"
   ]
  },
  {
   "cell_type": "code",
   "execution_count": null,
   "metadata": {},
   "outputs": [],
   "source": [
    "# Relationship between rating and food preparation time\n",
    "plt.figure(figsize=(15, 7))\n",
    "sns.pointplot(x=\"rating\", y=\"food_preparation_time\", data=df)\n",
    "plt.show()"
   ]
  },
  {
   "attachments": {},
   "cell_type": "markdown",
   "metadata": {},
   "source": [
    "**Rating vs Cost of the order**"
   ]
  },
  {
   "cell_type": "code",
   "execution_count": null,
   "metadata": {},
   "outputs": [],
   "source": [
    "# Relationship between rating and cost of the order\n",
    "sns.pointplot(x='rating', y='cost_of_the_order', data=df)\n",
    "plt.title('Relationship between Rating and Cost of the Order')\n",
    "plt.xlabel('Rating')\n",
    "plt.ylabel('Cost of the Order')\n",
    "plt.show()"
   ]
  },
  {
   "attachments": {},
   "cell_type": "markdown",
   "metadata": {},
   "source": [
    "**Correlation Among Variables**"
   ]
  },
  {
   "cell_type": "code",
   "execution_count": null,
   "metadata": {},
   "outputs": [],
   "source": [
    "# Plot the heatmap \n",
    "col_list = ['cost_of_the_order', 'food_preparation_time', 'delivery_time']\n",
    "plt.figure(figsize=(15, 7))\n",
    "sns.heatmap(df[col_list].corr(), annot=True, vmin=-1, vmax=1, fmt=\".2f\", cmap=\"Spectral\")\n",
    "plt.show()"
   ]
  },
  {
   "cell_type": "code",
   "execution_count": null,
   "metadata": {
    "id": "3qt4MCNTJY_V"
   },
   "outputs": [],
   "source": [
    "# Write the code here\n",
    "\n",
    "# Create a new column 'total_time' as the sum of 'delivery_time' and 'food_preparation_time'\n",
    "df['total_time'] = df['delivery_time'] + df['food_preparation_time']\n",
    "\n",
    "# Select the columns to compute correlation for\n",
    "cols = ['cost_of_the_order', 'rating', 'food_preparation_time', 'delivery_time', 'total_time']\n",
    "\n",
    "# Compute the correlation matrix\n",
    "corr_matrix = df[cols].corr()\n",
    "\n",
    "# Visualize the correlation matrix as a heatmap\n",
    "sns.heatmap(corr_matrix, annot=True)"
   ]
  },
  {
   "cell_type": "code",
   "execution_count": null,
   "metadata": {},
   "outputs": [],
   "source": [
    "# Select the columns to compute correlation for\n",
    "cols = ['cost_of_the_order', 'rating', 'food_preparation_time', 'delivery_time', 'total_time']\n",
    "\n",
    "# Create a pairplot of the selected columns\n",
    "sns.pairplot(df[cols])"
   ]
  },
  {
   "cell_type": "markdown",
   "metadata": {
    "id": "YLkMf09YJY_V"
   },
   "source": [
    "### **Question 13:** The company wants to provide a promotional offer in the advertisement of the restaurants. The condition to get the offer is that the restaurants must have a rating count of more than 50 and the average rating should be greater than 4. Find the restaurants fulfilling the criteria to get the promotional offer. [3 marks]"
   ]
  },
  {
   "cell_type": "code",
   "execution_count": null,
   "metadata": {
    "id": "0M_QDvbYJY_V"
   },
   "outputs": [],
   "source": [
    "# Group the data by restaurant_name and get the count and mean of rating\n",
    "restaurant_ratings = df.groupby('restaurant_name')['rating'].agg(['count', 'mean'])\n",
    "\n",
    "# Filter the restaurants based on the given conditions\n",
    "popular_restaurants = restaurant_ratings[(restaurant_ratings['count'] > 50) & (restaurant_ratings['mean'] > 4)]\n",
    "\n",
    "# Print the popular restaurants\n",
    "print(popular_restaurants)"
   ]
  },
  {
   "cell_type": "markdown",
   "metadata": {
    "id": "10uryUMhJY_V"
   },
   "source": [
    "#### Observations:\n"
   ]
  },
  {
   "cell_type": "markdown",
   "metadata": {
    "id": "1gvWBkRUJY_V"
   },
   "source": [
    "### **Question 14:** The company charges the restaurant 25% on the orders having cost greater than 20 dollars and 15% on the orders having cost greater than 5 dollars. Find the net revenue generated by the company across all orders. [3 marks]"
   ]
  },
  {
   "cell_type": "code",
   "execution_count": null,
   "metadata": {
    "id": "rEjbnTNEJY_W"
   },
   "outputs": [],
   "source": [
    "# Calculate the revenue generated by the company for each order\n",
    "# Create a new column 'revenue' for each row and initialize it to 0, then fill assign value based on cost_of the order\n",
    "df['revenue'] = 0\n",
    "df.loc[df['cost_of_the_order'] > 20, 'revenue'] = 0.25 * df['cost_of_the_order']\n",
    "df.loc[(df['cost_of_the_order'] > 5) & (df['cost_of_the_order'] <= 20), 'revenue'] = 0.15 * df['cost_of_the_order']\n",
    "\n",
    "# Calculate the total revenue generated by the company\n",
    "total_revenue = df['revenue'].sum()\n",
    "\n",
    "# Print the total revenue generated by the company\n",
    "print(\"The net revenue generated by the company across all orders is: ${:.2f}\".format(total_revenue))"
   ]
  },
  {
   "attachments": {},
   "cell_type": "markdown",
   "metadata": {
    "id": "XHCEJgH0JY_W"
   },
   "source": [
    "#### Observations:\n",
    "The net revenue generated by the company across all orders is: $6166.30"
   ]
  },
  {
   "cell_type": "markdown",
   "metadata": {
    "id": "pRlVW-oeJY_W"
   },
   "source": [
    "### **Question 15:** The company wants to analyze the total time required to deliver the food. What percentage of orders take more than 60 minutes to get delivered from the time the order is placed? (The food has to be prepared and then delivered.) [2 marks]"
   ]
  },
  {
   "cell_type": "code",
   "execution_count": null,
   "metadata": {
    "id": "zxoTrxfLJY_W"
   },
   "outputs": [],
   "source": [
    "# Filter orders that take more than 60 minutes to deliver\n",
    "late_orders = df[df['total_time'] > 60]\n",
    "\n",
    "# Calculate the percentage of late orders\n",
    "percent_late_orders = (len(late_orders) / len(df)) * 100\n",
    "\n",
    "print(f\"{percent_late_orders:.2f}% of orders take more than 60 minutes to get delivered\")"
   ]
  },
  {
   "cell_type": "markdown",
   "metadata": {
    "id": "iqzBXn2yJY_W"
   },
   "source": [
    "#### Observations:\n"
   ]
  },
  {
   "cell_type": "markdown",
   "metadata": {
    "id": "bUd6cYpPJY_W"
   },
   "source": [
    "### **Question 16:** The company wants to analyze the delivery time of the orders on weekdays and weekends. How does the mean delivery time vary during weekdays and weekends? [2 marks]"
   ]
  },
  {
   "cell_type": "code",
   "execution_count": null,
   "metadata": {
    "id": "pIU5xZZ6JY_W"
   },
   "outputs": [],
   "source": [
    "# Filter orders for weekdays and weekends\n",
    "weekday_orders = df[df['day_of_the_week'] == 'Weekday']\n",
    "weekend_orders = df[df['day_of_the_week'] == 'Weekend']\n",
    "\n",
    "# Calculate mean delivery time for weekdays and weekends\n",
    "weekday_mean_delivery_time = weekday_orders['delivery_time'].mean()\n",
    "weekend_mean_delivery_time = weekend_orders['delivery_time'].mean()\n",
    "\n",
    "print(\"Mean delivery time for weekday orders: {:.2f} minutes\".format(weekday_mean_delivery_time))\n",
    "print(\"Mean delivery time for weekend orders: {:.2f} minutes\".format(weekend_mean_delivery_time))"
   ]
  },
  {
   "cell_type": "markdown",
   "metadata": {
    "id": "8H-ODxbVJY_W"
   },
   "source": [
    "#### Observations:\n"
   ]
  },
  {
   "cell_type": "markdown",
   "metadata": {
    "id": "17roJywaJY_W"
   },
   "source": [
    "### Conclusion and Recommendations"
   ]
  },
  {
   "cell_type": "markdown",
   "metadata": {
    "id": "ZdX2Wz4FJY_W"
   },
   "source": [
    "### **Question 17:** What are your conclusions from the analysis? What recommendations would you like to share to help improve the business? (You can use cuisine type and feedback ratings to drive your business recommendations.) [6 marks]"
   ]
  },
  {
   "cell_type": "markdown",
   "metadata": {
    "id": "VTugVsL4Ddz-"
   },
   "source": [
    "### Conclusions:\n",
    "*  "
   ]
  },
  {
   "cell_type": "markdown",
   "metadata": {
    "id": "PWnsI0i_guWJ"
   },
   "source": [
    "### Recommendations:\n",
    "\n",
    "*  "
   ]
  },
  {
   "cell_type": "markdown",
   "metadata": {
    "id": "tSoucKKbg9Hc"
   },
   "source": [
    "---"
   ]
  }
 ],
 "metadata": {
  "colab": {
   "collapsed_sections": [],
   "name": "PYF_Project_LearnerNotebook_FullCode.ipynb",
   "provenance": []
  },
  "kernelspec": {
   "display_name": "Python 3 (ipykernel)",
   "language": "python",
   "name": "python3"
  },
  "language_info": {
   "codemirror_mode": {
    "name": "ipython",
    "version": 3
   },
   "file_extension": ".py",
   "mimetype": "text/x-python",
   "name": "python",
   "nbconvert_exporter": "python",
   "pygments_lexer": "ipython3",
   "version": "3.10.9"
  }
 },
 "nbformat": 4,
 "nbformat_minor": 1
}
