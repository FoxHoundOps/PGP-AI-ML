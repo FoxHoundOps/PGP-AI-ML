{
  "cells": [
    {
      "cell_type": "markdown",
      "metadata": {},
      "source": [
        "**Learner Name: Damian Najera**"
      ]
    },
    {
      "cell_type": "markdown",
      "metadata": {
        "id": "DRX9f5_6HUNP"
      },
      "source": [
        "# Introduction to Neural Networks: Bank Churn prediction"
      ]
    },
    {
      "cell_type": "markdown",
      "metadata": {
        "id": "NjPy2L-tqoCo"
      },
      "source": [
        "## Problem Statement"
      ]
    },
    {
      "cell_type": "markdown",
      "metadata": {
        "id": "f0ulaip3ctHj"
      },
      "source": [
        "### Context"
      ]
    },
    {
      "cell_type": "markdown",
      "metadata": {
        "id": "AcLJz1kvqoq0"
      },
      "source": [
        "Businesses like banks which provide service have to worry about problem of 'Customer Churn' i.e. customers leaving and joining another service provider. It is important to understand which aspects of the service influence a customer's decision in this regard. Management can concentrate efforts on improvement of service, keeping in mind these priorities."
      ]
    },
    {
      "cell_type": "markdown",
      "metadata": {
        "id": "nfRtSZuqcvNP"
      },
      "source": [
        "### Objective"
      ]
    },
    {
      "cell_type": "markdown",
      "metadata": {
        "id": "TtljX1H-qqoD"
      },
      "source": [
        "You as a Data scientist with the  bank need to  build a neural network based classifier that can determine whether a customer will leave the bank  or not in the next 6 months."
      ]
    },
    {
      "cell_type": "markdown",
      "metadata": {
        "id": "4VS6p3QCczwW"
      },
      "source": [
        "### Data Dictionary"
      ]
    },
    {
      "cell_type": "markdown",
      "metadata": {
        "id": "99T0qx8mq2DK"
      },
      "source": [
        "* CustomerId: Unique ID which is assigned to each customer\n",
        "\n",
        "* Surname: Last name of the customer\n",
        " \n",
        "* CreditScore: It defines the credit history of the customer.\n",
        "  \n",
        "* Geography: A customer’s location \n",
        "   \n",
        "* Gender: It defines the Gender of the customer\n",
        "   \n",
        "* Age: Age of the customer \n",
        "    \n",
        "* Tenure: Number of years for which the customer has been with the bank\n",
        "\n",
        "* NumOfProducts: refers to the number of products that a customer has purchased through the bank.\n",
        "\n",
        "* Balance: Account balance\n",
        "\n",
        "* HasCrCard: It is a categorical variable which decides whether the customer has credit card or not.\n",
        "\n",
        "* EstimatedSalary: Estimated salary \n",
        "\n",
        "* isActiveMember: Is is a categorical variable which decides whether the customer is active member of the bank or not ( Active member in the sense, using bank products regularly, making transactions etc )\n",
        "\n",
        "* Exited : whether or not the customer left the bank within six month. It can take two values \n",
        "** 0=No ( Customer did not leave the bank )\n",
        "** 1=Yes ( Customer left the bank )"
      ]
    },
    {
      "cell_type": "markdown",
      "metadata": {
        "id": "LjqhXJsbdCc5"
      },
      "source": [
        "## **Please read the instructions carefully before starting the project.** \n",
        "\n",
        "This is a commented Python Notebook file in which all the instructions and tasks to be performed are mentioned. \n",
        "\n",
        "* Blanks '_______' are provided in the notebook that need to be filled with an appropriate code to get the correct result\n",
        "\n",
        "* With every '_______' blank, there is a comment that briefly describes what needs to be filled in the blank space\n",
        "\n",
        "* Identify the task to be performed correctly and only then proceed to write the required code\n",
        "\n",
        "* Fill the code wherever asked by the commented lines like \"# write your code here\" or \"# complete the code\"\n",
        "\n",
        "* Running incomplete code may throw an error\n",
        "\n",
        "* Please run the codes in a sequential manner from the beginning to avoid any unnecessary errors\n",
        "\n",
        "* Add the results/observations derived from the analysis in the presentation and submit the same in .pdf format"
      ]
    },
    {
      "cell_type": "markdown",
      "metadata": {
        "id": "-cYmf-q8c726"
      },
      "source": [
        "## Importing necessary libraries"
      ]
    },
    {
      "cell_type": "code",
      "execution_count": 1,
      "metadata": {
        "id": "IfeZclzIHUNs"
      },
      "outputs": [],
      "source": [
        "# Libraries to help with reading and manipulating data\n",
        "import pandas as pd\n",
        "import numpy as np\n",
        "# Library to split data\n",
        "from sklearn.model_selection import train_test_split\n",
        "# Library to encode the variables\n",
        "from sklearn import preprocessing\n",
        "# To plot confusion matrix\n",
        "from sklearn.metrics import confusion_matrix\n",
        "# libaries to help with data visualization\n",
        "import matplotlib.pyplot as plt\n",
        "import seaborn as sns\n",
        "# library to import to standardize the data\n",
        "from sklearn.preprocessing import StandardScaler\n",
        "#To import different metrics \n",
        "from sklearn import metrics\n",
        "from tensorflow.keras import backend\n",
        "# Library to avoid the warnings\n",
        "import warnings\n",
        "warnings.filterwarnings(\"ignore\")\n",
        "# importing different functions to build models\n",
        "from tensorflow.keras.models import Sequential\n",
        "from tensorflow.keras.layers import Dense, Dropout\n",
        "from scikeras.wrappers import KerasClassifier\n",
        "import tensorflow as tf\n",
        "# importing GridSearch CV\n",
        "from sklearn.model_selection import GridSearchCV\n",
        "# importing roc_curve to plot\n",
        "from sklearn.metrics import roc_curve\n",
        "from matplotlib import pyplot\n",
        "# importing SMOTE\n",
        "from imblearn.over_sampling import SMOTE\n",
        "# importing metrics\n",
        "from sklearn import metrics\n",
        "import random\n",
        "#Importing classback API\n",
        "from keras import callbacks"
      ]
    },
    {
      "cell_type": "markdown",
      "metadata": {
        "id": "z7ubXtC8HUOA"
      },
      "source": [
        "## Loading the dataset"
      ]
    },
    {
      "cell_type": "code",
      "execution_count": 2,
      "metadata": {
        "id": "1QJLp3P3HUOC"
      },
      "outputs": [],
      "source": [
        "data = pd.read_csv(\"Churn.csv\")  # Complete the code to read the dataset "
      ]
    },
    {
      "cell_type": "markdown",
      "metadata": {
        "id": "BwaZDbsYf0-N"
      },
      "source": [
        "## Data Overview"
      ]
    },
    {
      "cell_type": "markdown",
      "metadata": {
        "id": "0yBI-Ck4f_Yn"
      },
      "source": [
        "The initial steps to get an overview of any dataset is to: \n",
        "- Observe the first few rows of the dataset, to check whether the dataset has been loaded properly or not\n",
        "- Get information about the number of rows and columns in the dataset\n",
        "- Find out the data types of the columns to ensure that data is stored in the preferred format and the value of each property is as expected.\n",
        "- Check the statistical summary of the dataset to get an overview of the numerical columns of the data"
      ]
    },
    {
      "cell_type": "markdown",
      "metadata": {
        "id": "2TZ5GstYgG1I"
      },
      "source": [
        "### View the first and last 5 rows of the dataset."
      ]
    },
    {
      "cell_type": "code",
      "execution_count": 3,
      "metadata": {
        "id": "nCfASHJ8HUOS"
      },
      "outputs": [
        {
          "data": {
            "text/html": [
              "<div>\n",
              "<style scoped>\n",
              "    .dataframe tbody tr th:only-of-type {\n",
              "        vertical-align: middle;\n",
              "    }\n",
              "\n",
              "    .dataframe tbody tr th {\n",
              "        vertical-align: top;\n",
              "    }\n",
              "\n",
              "    .dataframe thead th {\n",
              "        text-align: right;\n",
              "    }\n",
              "</style>\n",
              "<table border=\"1\" class=\"dataframe\">\n",
              "  <thead>\n",
              "    <tr style=\"text-align: right;\">\n",
              "      <th></th>\n",
              "      <th>RowNumber</th>\n",
              "      <th>CustomerId</th>\n",
              "      <th>Surname</th>\n",
              "      <th>CreditScore</th>\n",
              "      <th>Geography</th>\n",
              "      <th>Gender</th>\n",
              "      <th>Age</th>\n",
              "      <th>Tenure</th>\n",
              "      <th>Balance</th>\n",
              "      <th>NumOfProducts</th>\n",
              "      <th>HasCrCard</th>\n",
              "      <th>IsActiveMember</th>\n",
              "      <th>EstimatedSalary</th>\n",
              "      <th>Exited</th>\n",
              "    </tr>\n",
              "  </thead>\n",
              "  <tbody>\n",
              "    <tr>\n",
              "      <th>0</th>\n",
              "      <td>1</td>\n",
              "      <td>15634602</td>\n",
              "      <td>Hargrave</td>\n",
              "      <td>619</td>\n",
              "      <td>France</td>\n",
              "      <td>Female</td>\n",
              "      <td>42</td>\n",
              "      <td>2</td>\n",
              "      <td>0.00</td>\n",
              "      <td>1</td>\n",
              "      <td>1</td>\n",
              "      <td>1</td>\n",
              "      <td>101348.88</td>\n",
              "      <td>1</td>\n",
              "    </tr>\n",
              "    <tr>\n",
              "      <th>1</th>\n",
              "      <td>2</td>\n",
              "      <td>15647311</td>\n",
              "      <td>Hill</td>\n",
              "      <td>608</td>\n",
              "      <td>Spain</td>\n",
              "      <td>Female</td>\n",
              "      <td>41</td>\n",
              "      <td>1</td>\n",
              "      <td>83807.86</td>\n",
              "      <td>1</td>\n",
              "      <td>0</td>\n",
              "      <td>1</td>\n",
              "      <td>112542.58</td>\n",
              "      <td>0</td>\n",
              "    </tr>\n",
              "    <tr>\n",
              "      <th>2</th>\n",
              "      <td>3</td>\n",
              "      <td>15619304</td>\n",
              "      <td>Onio</td>\n",
              "      <td>502</td>\n",
              "      <td>France</td>\n",
              "      <td>Female</td>\n",
              "      <td>42</td>\n",
              "      <td>8</td>\n",
              "      <td>159660.80</td>\n",
              "      <td>3</td>\n",
              "      <td>1</td>\n",
              "      <td>0</td>\n",
              "      <td>113931.57</td>\n",
              "      <td>1</td>\n",
              "    </tr>\n",
              "    <tr>\n",
              "      <th>3</th>\n",
              "      <td>4</td>\n",
              "      <td>15701354</td>\n",
              "      <td>Boni</td>\n",
              "      <td>699</td>\n",
              "      <td>France</td>\n",
              "      <td>Female</td>\n",
              "      <td>39</td>\n",
              "      <td>1</td>\n",
              "      <td>0.00</td>\n",
              "      <td>2</td>\n",
              "      <td>0</td>\n",
              "      <td>0</td>\n",
              "      <td>93826.63</td>\n",
              "      <td>0</td>\n",
              "    </tr>\n",
              "    <tr>\n",
              "      <th>4</th>\n",
              "      <td>5</td>\n",
              "      <td>15737888</td>\n",
              "      <td>Mitchell</td>\n",
              "      <td>850</td>\n",
              "      <td>Spain</td>\n",
              "      <td>Female</td>\n",
              "      <td>43</td>\n",
              "      <td>2</td>\n",
              "      <td>125510.82</td>\n",
              "      <td>1</td>\n",
              "      <td>1</td>\n",
              "      <td>1</td>\n",
              "      <td>79084.10</td>\n",
              "      <td>0</td>\n",
              "    </tr>\n",
              "  </tbody>\n",
              "</table>\n",
              "</div>"
            ],
            "text/plain": [
              "   RowNumber  CustomerId   Surname  CreditScore Geography  Gender  Age  \\\n",
              "0          1    15634602  Hargrave          619    France  Female   42   \n",
              "1          2    15647311      Hill          608     Spain  Female   41   \n",
              "2          3    15619304      Onio          502    France  Female   42   \n",
              "3          4    15701354      Boni          699    France  Female   39   \n",
              "4          5    15737888  Mitchell          850     Spain  Female   43   \n",
              "\n",
              "   Tenure    Balance  NumOfProducts  HasCrCard  IsActiveMember  \\\n",
              "0       2       0.00              1          1               1   \n",
              "1       1   83807.86              1          0               1   \n",
              "2       8  159660.80              3          1               0   \n",
              "3       1       0.00              2          0               0   \n",
              "4       2  125510.82              1          1               1   \n",
              "\n",
              "   EstimatedSalary  Exited  \n",
              "0        101348.88       1  \n",
              "1        112542.58       0  \n",
              "2        113931.57       1  \n",
              "3         93826.63       0  \n",
              "4         79084.10       0  "
            ]
          },
          "execution_count": 3,
          "metadata": {},
          "output_type": "execute_result"
        }
      ],
      "source": [
        "data.head() ## Complete the code to display the first 5 rows of the dataset"
      ]
    },
    {
      "cell_type": "code",
      "execution_count": 4,
      "metadata": {
        "id": "uGgv1iQKrbKX"
      },
      "outputs": [
        {
          "data": {
            "text/html": [
              "<div>\n",
              "<style scoped>\n",
              "    .dataframe tbody tr th:only-of-type {\n",
              "        vertical-align: middle;\n",
              "    }\n",
              "\n",
              "    .dataframe tbody tr th {\n",
              "        vertical-align: top;\n",
              "    }\n",
              "\n",
              "    .dataframe thead th {\n",
              "        text-align: right;\n",
              "    }\n",
              "</style>\n",
              "<table border=\"1\" class=\"dataframe\">\n",
              "  <thead>\n",
              "    <tr style=\"text-align: right;\">\n",
              "      <th></th>\n",
              "      <th>RowNumber</th>\n",
              "      <th>CustomerId</th>\n",
              "      <th>Surname</th>\n",
              "      <th>CreditScore</th>\n",
              "      <th>Geography</th>\n",
              "      <th>Gender</th>\n",
              "      <th>Age</th>\n",
              "      <th>Tenure</th>\n",
              "      <th>Balance</th>\n",
              "      <th>NumOfProducts</th>\n",
              "      <th>HasCrCard</th>\n",
              "      <th>IsActiveMember</th>\n",
              "      <th>EstimatedSalary</th>\n",
              "      <th>Exited</th>\n",
              "    </tr>\n",
              "  </thead>\n",
              "  <tbody>\n",
              "    <tr>\n",
              "      <th>9995</th>\n",
              "      <td>9996</td>\n",
              "      <td>15606229</td>\n",
              "      <td>Obijiaku</td>\n",
              "      <td>771</td>\n",
              "      <td>France</td>\n",
              "      <td>Male</td>\n",
              "      <td>39</td>\n",
              "      <td>5</td>\n",
              "      <td>0.00</td>\n",
              "      <td>2</td>\n",
              "      <td>1</td>\n",
              "      <td>0</td>\n",
              "      <td>96270.64</td>\n",
              "      <td>0</td>\n",
              "    </tr>\n",
              "    <tr>\n",
              "      <th>9996</th>\n",
              "      <td>9997</td>\n",
              "      <td>15569892</td>\n",
              "      <td>Johnstone</td>\n",
              "      <td>516</td>\n",
              "      <td>France</td>\n",
              "      <td>Male</td>\n",
              "      <td>35</td>\n",
              "      <td>10</td>\n",
              "      <td>57369.61</td>\n",
              "      <td>1</td>\n",
              "      <td>1</td>\n",
              "      <td>1</td>\n",
              "      <td>101699.77</td>\n",
              "      <td>0</td>\n",
              "    </tr>\n",
              "    <tr>\n",
              "      <th>9997</th>\n",
              "      <td>9998</td>\n",
              "      <td>15584532</td>\n",
              "      <td>Liu</td>\n",
              "      <td>709</td>\n",
              "      <td>France</td>\n",
              "      <td>Female</td>\n",
              "      <td>36</td>\n",
              "      <td>7</td>\n",
              "      <td>0.00</td>\n",
              "      <td>1</td>\n",
              "      <td>0</td>\n",
              "      <td>1</td>\n",
              "      <td>42085.58</td>\n",
              "      <td>1</td>\n",
              "    </tr>\n",
              "    <tr>\n",
              "      <th>9998</th>\n",
              "      <td>9999</td>\n",
              "      <td>15682355</td>\n",
              "      <td>Sabbatini</td>\n",
              "      <td>772</td>\n",
              "      <td>Germany</td>\n",
              "      <td>Male</td>\n",
              "      <td>42</td>\n",
              "      <td>3</td>\n",
              "      <td>75075.31</td>\n",
              "      <td>2</td>\n",
              "      <td>1</td>\n",
              "      <td>0</td>\n",
              "      <td>92888.52</td>\n",
              "      <td>1</td>\n",
              "    </tr>\n",
              "    <tr>\n",
              "      <th>9999</th>\n",
              "      <td>10000</td>\n",
              "      <td>15628319</td>\n",
              "      <td>Walker</td>\n",
              "      <td>792</td>\n",
              "      <td>France</td>\n",
              "      <td>Female</td>\n",
              "      <td>28</td>\n",
              "      <td>4</td>\n",
              "      <td>130142.79</td>\n",
              "      <td>1</td>\n",
              "      <td>1</td>\n",
              "      <td>0</td>\n",
              "      <td>38190.78</td>\n",
              "      <td>0</td>\n",
              "    </tr>\n",
              "  </tbody>\n",
              "</table>\n",
              "</div>"
            ],
            "text/plain": [
              "      RowNumber  CustomerId    Surname  CreditScore Geography  Gender  Age  \\\n",
              "9995       9996    15606229   Obijiaku          771    France    Male   39   \n",
              "9996       9997    15569892  Johnstone          516    France    Male   35   \n",
              "9997       9998    15584532        Liu          709    France  Female   36   \n",
              "9998       9999    15682355  Sabbatini          772   Germany    Male   42   \n",
              "9999      10000    15628319     Walker          792    France  Female   28   \n",
              "\n",
              "      Tenure    Balance  NumOfProducts  HasCrCard  IsActiveMember  \\\n",
              "9995       5       0.00              2          1               0   \n",
              "9996      10   57369.61              1          1               1   \n",
              "9997       7       0.00              1          0               1   \n",
              "9998       3   75075.31              2          1               0   \n",
              "9999       4  130142.79              1          1               0   \n",
              "\n",
              "      EstimatedSalary  Exited  \n",
              "9995         96270.64       0  \n",
              "9996        101699.77       0  \n",
              "9997         42085.58       1  \n",
              "9998         92888.52       1  \n",
              "9999         38190.78       0  "
            ]
          },
          "execution_count": 4,
          "metadata": {},
          "output_type": "execute_result"
        }
      ],
      "source": [
        "data.tail() ## Complete the code to display the last 5 rows of the dataset"
      ]
    },
    {
      "cell_type": "markdown",
      "metadata": {
        "id": "k-Dl42UCgLdV"
      },
      "source": [
        "### Understand the shape of the dataset"
      ]
    },
    {
      "cell_type": "code",
      "execution_count": 5,
      "metadata": {
        "id": "JsyeCM0XgOJT"
      },
      "outputs": [
        {
          "name": "stdout",
          "output_type": "stream",
          "text": [
            "There are 10000 rows and 14 columns.\n"
          ]
        }
      ],
      "source": [
        "# checking shape of the data\n",
        "print(f\"There are {data.shape[0]} rows and {data.shape[1]} columns.\")"
      ]
    },
    {
      "cell_type": "markdown",
      "metadata": {
        "id": "WP6rrI-kgaxW"
      },
      "source": [
        "### Check the data types of the columns for the dataset"
      ]
    },
    {
      "cell_type": "code",
      "execution_count": 6,
      "metadata": {
        "id": "gEdvRgtKgc-M"
      },
      "outputs": [
        {
          "name": "stdout",
          "output_type": "stream",
          "text": [
            "<class 'pandas.core.frame.DataFrame'>\n",
            "RangeIndex: 10000 entries, 0 to 9999\n",
            "Data columns (total 14 columns):\n",
            " #   Column           Non-Null Count  Dtype  \n",
            "---  ------           --------------  -----  \n",
            " 0   RowNumber        10000 non-null  int64  \n",
            " 1   CustomerId       10000 non-null  int64  \n",
            " 2   Surname          10000 non-null  object \n",
            " 3   CreditScore      10000 non-null  int64  \n",
            " 4   Geography        10000 non-null  object \n",
            " 5   Gender           10000 non-null  object \n",
            " 6   Age              10000 non-null  int64  \n",
            " 7   Tenure           10000 non-null  int64  \n",
            " 8   Balance          10000 non-null  float64\n",
            " 9   NumOfProducts    10000 non-null  int64  \n",
            " 10  HasCrCard        10000 non-null  int64  \n",
            " 11  IsActiveMember   10000 non-null  int64  \n",
            " 12  EstimatedSalary  10000 non-null  float64\n",
            " 13  Exited           10000 non-null  int64  \n",
            "dtypes: float64(2), int64(9), object(3)\n",
            "memory usage: 1.1+ MB\n"
          ]
        }
      ],
      "source": [
        "data.info()"
      ]
    },
    {
      "cell_type": "markdown",
      "metadata": {},
      "source": [
        "### Creating a copy of original data"
      ]
    },
    {
      "cell_type": "code",
      "execution_count": 7,
      "metadata": {},
      "outputs": [],
      "source": [
        "# copying the data to another variable to avoid any changes to original data\n",
        "df = data.copy()"
      ]
    },
    {
      "cell_type": "markdown",
      "metadata": {
        "id": "tGhe9qVhgoY1"
      },
      "source": [
        "### Checking the Statistical Summary"
      ]
    },
    {
      "cell_type": "code",
      "execution_count": 8,
      "metadata": {
        "id": "YR9XpHgzgrEt"
      },
      "outputs": [
        {
          "data": {
            "text/html": [
              "<div>\n",
              "<style scoped>\n",
              "    .dataframe tbody tr th:only-of-type {\n",
              "        vertical-align: middle;\n",
              "    }\n",
              "\n",
              "    .dataframe tbody tr th {\n",
              "        vertical-align: top;\n",
              "    }\n",
              "\n",
              "    .dataframe thead th {\n",
              "        text-align: right;\n",
              "    }\n",
              "</style>\n",
              "<table border=\"1\" class=\"dataframe\">\n",
              "  <thead>\n",
              "    <tr style=\"text-align: right;\">\n",
              "      <th></th>\n",
              "      <th>count</th>\n",
              "      <th>mean</th>\n",
              "      <th>std</th>\n",
              "      <th>min</th>\n",
              "      <th>25%</th>\n",
              "      <th>50%</th>\n",
              "      <th>75%</th>\n",
              "      <th>max</th>\n",
              "    </tr>\n",
              "  </thead>\n",
              "  <tbody>\n",
              "    <tr>\n",
              "      <th>RowNumber</th>\n",
              "      <td>10000.0</td>\n",
              "      <td>5.000500e+03</td>\n",
              "      <td>2886.895680</td>\n",
              "      <td>1.00</td>\n",
              "      <td>2500.75</td>\n",
              "      <td>5.000500e+03</td>\n",
              "      <td>7.500250e+03</td>\n",
              "      <td>10000.00</td>\n",
              "    </tr>\n",
              "    <tr>\n",
              "      <th>CustomerId</th>\n",
              "      <td>10000.0</td>\n",
              "      <td>1.569094e+07</td>\n",
              "      <td>71936.186123</td>\n",
              "      <td>15565701.00</td>\n",
              "      <td>15628528.25</td>\n",
              "      <td>1.569074e+07</td>\n",
              "      <td>1.575323e+07</td>\n",
              "      <td>15815690.00</td>\n",
              "    </tr>\n",
              "    <tr>\n",
              "      <th>CreditScore</th>\n",
              "      <td>10000.0</td>\n",
              "      <td>6.505288e+02</td>\n",
              "      <td>96.653299</td>\n",
              "      <td>350.00</td>\n",
              "      <td>584.00</td>\n",
              "      <td>6.520000e+02</td>\n",
              "      <td>7.180000e+02</td>\n",
              "      <td>850.00</td>\n",
              "    </tr>\n",
              "    <tr>\n",
              "      <th>Age</th>\n",
              "      <td>10000.0</td>\n",
              "      <td>3.892180e+01</td>\n",
              "      <td>10.487806</td>\n",
              "      <td>18.00</td>\n",
              "      <td>32.00</td>\n",
              "      <td>3.700000e+01</td>\n",
              "      <td>4.400000e+01</td>\n",
              "      <td>92.00</td>\n",
              "    </tr>\n",
              "    <tr>\n",
              "      <th>Tenure</th>\n",
              "      <td>10000.0</td>\n",
              "      <td>5.012800e+00</td>\n",
              "      <td>2.892174</td>\n",
              "      <td>0.00</td>\n",
              "      <td>3.00</td>\n",
              "      <td>5.000000e+00</td>\n",
              "      <td>7.000000e+00</td>\n",
              "      <td>10.00</td>\n",
              "    </tr>\n",
              "    <tr>\n",
              "      <th>Balance</th>\n",
              "      <td>10000.0</td>\n",
              "      <td>7.648589e+04</td>\n",
              "      <td>62397.405202</td>\n",
              "      <td>0.00</td>\n",
              "      <td>0.00</td>\n",
              "      <td>9.719854e+04</td>\n",
              "      <td>1.276442e+05</td>\n",
              "      <td>250898.09</td>\n",
              "    </tr>\n",
              "    <tr>\n",
              "      <th>NumOfProducts</th>\n",
              "      <td>10000.0</td>\n",
              "      <td>1.530200e+00</td>\n",
              "      <td>0.581654</td>\n",
              "      <td>1.00</td>\n",
              "      <td>1.00</td>\n",
              "      <td>1.000000e+00</td>\n",
              "      <td>2.000000e+00</td>\n",
              "      <td>4.00</td>\n",
              "    </tr>\n",
              "    <tr>\n",
              "      <th>HasCrCard</th>\n",
              "      <td>10000.0</td>\n",
              "      <td>7.055000e-01</td>\n",
              "      <td>0.455840</td>\n",
              "      <td>0.00</td>\n",
              "      <td>0.00</td>\n",
              "      <td>1.000000e+00</td>\n",
              "      <td>1.000000e+00</td>\n",
              "      <td>1.00</td>\n",
              "    </tr>\n",
              "    <tr>\n",
              "      <th>IsActiveMember</th>\n",
              "      <td>10000.0</td>\n",
              "      <td>5.151000e-01</td>\n",
              "      <td>0.499797</td>\n",
              "      <td>0.00</td>\n",
              "      <td>0.00</td>\n",
              "      <td>1.000000e+00</td>\n",
              "      <td>1.000000e+00</td>\n",
              "      <td>1.00</td>\n",
              "    </tr>\n",
              "    <tr>\n",
              "      <th>EstimatedSalary</th>\n",
              "      <td>10000.0</td>\n",
              "      <td>1.000902e+05</td>\n",
              "      <td>57510.492818</td>\n",
              "      <td>11.58</td>\n",
              "      <td>51002.11</td>\n",
              "      <td>1.001939e+05</td>\n",
              "      <td>1.493882e+05</td>\n",
              "      <td>199992.48</td>\n",
              "    </tr>\n",
              "    <tr>\n",
              "      <th>Exited</th>\n",
              "      <td>10000.0</td>\n",
              "      <td>2.037000e-01</td>\n",
              "      <td>0.402769</td>\n",
              "      <td>0.00</td>\n",
              "      <td>0.00</td>\n",
              "      <td>0.000000e+00</td>\n",
              "      <td>0.000000e+00</td>\n",
              "      <td>1.00</td>\n",
              "    </tr>\n",
              "  </tbody>\n",
              "</table>\n",
              "</div>"
            ],
            "text/plain": [
              "                   count          mean           std          min  \\\n",
              "RowNumber        10000.0  5.000500e+03   2886.895680         1.00   \n",
              "CustomerId       10000.0  1.569094e+07  71936.186123  15565701.00   \n",
              "CreditScore      10000.0  6.505288e+02     96.653299       350.00   \n",
              "Age              10000.0  3.892180e+01     10.487806        18.00   \n",
              "Tenure           10000.0  5.012800e+00      2.892174         0.00   \n",
              "Balance          10000.0  7.648589e+04  62397.405202         0.00   \n",
              "NumOfProducts    10000.0  1.530200e+00      0.581654         1.00   \n",
              "HasCrCard        10000.0  7.055000e-01      0.455840         0.00   \n",
              "IsActiveMember   10000.0  5.151000e-01      0.499797         0.00   \n",
              "EstimatedSalary  10000.0  1.000902e+05  57510.492818        11.58   \n",
              "Exited           10000.0  2.037000e-01      0.402769         0.00   \n",
              "\n",
              "                         25%           50%           75%          max  \n",
              "RowNumber            2500.75  5.000500e+03  7.500250e+03     10000.00  \n",
              "CustomerId       15628528.25  1.569074e+07  1.575323e+07  15815690.00  \n",
              "CreditScore           584.00  6.520000e+02  7.180000e+02       850.00  \n",
              "Age                    32.00  3.700000e+01  4.400000e+01        92.00  \n",
              "Tenure                  3.00  5.000000e+00  7.000000e+00        10.00  \n",
              "Balance                 0.00  9.719854e+04  1.276442e+05    250898.09  \n",
              "NumOfProducts           1.00  1.000000e+00  2.000000e+00         4.00  \n",
              "HasCrCard               0.00  1.000000e+00  1.000000e+00         1.00  \n",
              "IsActiveMember          0.00  1.000000e+00  1.000000e+00         1.00  \n",
              "EstimatedSalary     51002.11  1.001939e+05  1.493882e+05    199992.48  \n",
              "Exited                  0.00  0.000000e+00  0.000000e+00         1.00  "
            ]
          },
          "execution_count": 8,
          "metadata": {},
          "output_type": "execute_result"
        }
      ],
      "source": [
        "# Let's look at the statistical summary of the data\n",
        "df.describe().T"
      ]
    },
    {
      "cell_type": "markdown",
      "metadata": {},
      "source": [
        "#### Observations:\n",
        "- The credit scores range from 350 to 850.\n",
        "- Customers' ages vary from 18 to 92.\n",
        "- Tenure with the bank spans from 0 to 10 years.\n",
        "- The balance column has a minimum value of 0, indicating some customers have no balance.\n",
        "- The number of products customers have ranges from 1 to 4.\n",
        "- About 70.5% of customers have a credit card.\n",
        "- Approximately 51.5% are active members."
      ]
    },
    {
      "cell_type": "markdown",
      "metadata": {
        "id": "0TTT9Escruwg"
      },
      "source": [
        "### Checking for unique values for each of the column"
      ]
    },
    {
      "cell_type": "code",
      "execution_count": 9,
      "metadata": {
        "id": "8SPdThJArvcG"
      },
      "outputs": [
        {
          "data": {
            "text/plain": [
              "RowNumber          10000\n",
              "CustomerId         10000\n",
              "Surname             2932\n",
              "CreditScore          460\n",
              "Geography              3\n",
              "Gender                 2\n",
              "Age                   70\n",
              "Tenure                11\n",
              "Balance             6382\n",
              "NumOfProducts          4\n",
              "HasCrCard              2\n",
              "IsActiveMember         2\n",
              "EstimatedSalary     9999\n",
              "Exited                 2\n",
              "dtype: int64"
            ]
          },
          "execution_count": 9,
          "metadata": {},
          "output_type": "execute_result"
        }
      ],
      "source": [
        "# checking the number of unique values in each column\n",
        "df.nunique()"
      ]
    },
    {
      "cell_type": "markdown",
      "metadata": {
        "id": "0M_y7Y33g2nP"
      },
      "source": [
        "### Checking for Missing Values"
      ]
    },
    {
      "cell_type": "code",
      "execution_count": 10,
      "metadata": {},
      "outputs": [
        {
          "data": {
            "text/plain": [
              "RowNumber          0\n",
              "CustomerId         0\n",
              "Surname            0\n",
              "CreditScore        0\n",
              "Geography          0\n",
              "Gender             0\n",
              "Age                0\n",
              "Tenure             0\n",
              "Balance            0\n",
              "NumOfProducts      0\n",
              "HasCrCard          0\n",
              "IsActiveMember     0\n",
              "EstimatedSalary    0\n",
              "Exited             0\n",
              "dtype: int64"
            ]
          },
          "execution_count": 10,
          "metadata": {},
          "output_type": "execute_result"
        }
      ],
      "source": [
        "# checking for missing values\n",
        "df.isnull().sum()"
      ]
    },
    {
      "cell_type": "markdown",
      "metadata": {},
      "source": [
        "#### Observations:\n",
        "There are no missing values in the dataset. "
      ]
    },
    {
      "cell_type": "markdown",
      "metadata": {
        "id": "BsBwLHcmHUOg"
      },
      "source": [
        "### Drop the columns which are unique for all users like IDs, surnames, and rownumbers"
      ]
    },
    {
      "cell_type": "code",
      "execution_count": 11,
      "metadata": {
        "id": "ivF2RMo6HUOr"
      },
      "outputs": [],
      "source": [
        "# RowNumber , CustomerId and Surname are unique hence drop them\n",
        "df = df.drop(['RowNumber', 'CustomerId', 'Surname'], axis=1) "
      ]
    },
    {
      "cell_type": "markdown",
      "metadata": {
        "id": "W036jsgwRdVN"
      },
      "source": [
        "## Exploratory Data Analysis"
      ]
    },
    {
      "cell_type": "markdown",
      "metadata": {
        "id": "tQlhG1x0iREg"
      },
      "source": [
        "### Univariate Analysis"
      ]
    },
    {
      "cell_type": "code",
      "execution_count": 12,
      "metadata": {
        "id": "3TCm_e-TiTra"
      },
      "outputs": [],
      "source": [
        "# function to plot a boxplot and a histogram along the same scale.\n",
        "\n",
        "\n",
        "def histogram_boxplot(data, feature, figsize=(12, 7), kde=False, bins=None):\n",
        "    \"\"\"\n",
        "    Boxplot and histogram combined\n",
        "\n",
        "    data: dataframe\n",
        "    feature: dataframe column\n",
        "    figsize: size of figure (default (12,7))\n",
        "    kde: whether to show the density curve (default False)\n",
        "    bins: number of bins for histogram (default None)\n",
        "    \"\"\"\n",
        "    f2, (ax_box2, ax_hist2) = plt.subplots(\n",
        "        nrows=2,  # Number of rows of the subplot grid= 2\n",
        "        sharex=True,  # x-axis will be shared among all subplots\n",
        "        gridspec_kw={\"height_ratios\": (0.25, 0.75)},\n",
        "        figsize=figsize,\n",
        "    )  # creating the 2 subplots\n",
        "    sns.boxplot(\n",
        "        data=data, x=feature, ax=ax_box2, showmeans=True, color=\"violet\"\n",
        "    )  # boxplot will be created and a star will indicate the mean value of the column\n",
        "    sns.histplot(\n",
        "        data=data, x=feature, kde=kde, ax=ax_hist2, bins=bins, palette=\"winter\"\n",
        "    ) if bins else sns.histplot(\n",
        "        data=data, x=feature, kde=kde, ax=ax_hist2\n",
        "    )  # For histogram\n",
        "    ax_hist2.axvline(\n",
        "        data[feature].mean(), color=\"green\", linestyle=\"--\"\n",
        "    )  # Add mean to the histogram\n",
        "    ax_hist2.axvline(\n",
        "        data[feature].median(), color=\"black\", linestyle=\"-\"\n",
        "    )  # Add median to the histogram"
      ]
    },
    {
      "cell_type": "code",
      "execution_count": 13,
      "metadata": {
        "id": "o_dQi6vriVs2"
      },
      "outputs": [],
      "source": [
        "# function to create labeled barplots\n",
        "\n",
        "\n",
        "def labeled_barplot(data, feature, perc=False, n=None):\n",
        "    \"\"\"\n",
        "    Barplot with percentage at the top\n",
        "\n",
        "    data: dataframe\n",
        "    feature: dataframe column\n",
        "    perc: whether to display percentages instead of count (default is False)\n",
        "    n: displays the top n category levels (default is None, i.e., display all levels)\n",
        "    \"\"\"\n",
        "\n",
        "    total = len(data[feature])  # length of the column\n",
        "    count = data[feature].nunique()\n",
        "    if n is None:\n",
        "        plt.figure(figsize=(count + 1, 5))\n",
        "    else:\n",
        "        plt.figure(figsize=(n + 1, 5))\n",
        "\n",
        "    plt.xticks(rotation=90, fontsize=15)\n",
        "    ax = sns.countplot(\n",
        "        data=data,\n",
        "        x=feature,\n",
        "        palette=\"Paired\",\n",
        "        order=data[feature].value_counts().index[:n].sort_values(),\n",
        "    )\n",
        "\n",
        "    for p in ax.patches:\n",
        "        if perc == True:\n",
        "            label = \"{:.1f}%\".format(\n",
        "                100 * p.get_height() / total\n",
        "            )  # percentage of each class of the category\n",
        "        else:\n",
        "            label = p.get_height()  # count of each level of the category\n",
        "\n",
        "        x = p.get_x() + p.get_width() / 2  # width of the plot\n",
        "        y = p.get_height()  # height of the plot\n",
        "\n",
        "        ax.annotate(\n",
        "            label,\n",
        "            (x, y),\n",
        "            ha=\"center\",\n",
        "            va=\"center\",\n",
        "            size=12,\n",
        "            xytext=(0, 5),\n",
        "            textcoords=\"offset points\",\n",
        "        )  # annotate the percentage\n",
        "\n",
        "    plt.show()  # show the plot"
      ]
    },
    {
      "cell_type": "markdown",
      "metadata": {
        "id": "O1WgW83rjza0"
      },
      "source": [
        "#### Observations on CreditScore"
      ]
    },
    {
      "cell_type": "code",
      "execution_count": 14,
      "metadata": {
        "id": "UOEYFUenjyNu"
      },
      "outputs": [
        {
          "data": {
            "image/png": "[encoded data removed]",
            "text/plain": [
              "<Figure size 864x504 with 2 Axes>"
            ]
          },
          "metadata": {
            "needs_background": "light"
          },
          "output_type": "display_data"
        }
      ],
      "source": [
        "histogram_boxplot(df,'CreditScore')"
      ]
    },
    {
      "cell_type": "markdown",
      "metadata": {},
      "source": [
        "#### Observations:\n",
        "- The histogram suggests that the distribution of credit scores is roughly normal with a slight left-skew.\n",
        "- The boxplot above the histogram shows the presence of a few lower outliers (below the lower whisker). This indicates that there are some customers with exceptionally low credit scores compared to the majority.\n",
        "- Most of the credit scores lie between approximately 400 and 850, with the highest concentration of scores around the 650 mark."
      ]
    },
    {
      "cell_type": "markdown",
      "metadata": {
        "id": "MUk3Aj_Bj3cl"
      },
      "source": [
        "#### Observations on Age"
      ]
    },
    {
      "cell_type": "code",
      "execution_count": 15,
      "metadata": {
        "id": "o5uykb4ZjyLI"
      },
      "outputs": [
        {
          "data": {
            "image/png": "[encoded data removed]",
            "text/plain": [
              "<Figure size 864x504 with 2 Axes>"
            ]
          },
          "metadata": {
            "needs_background": "light"
          },
          "output_type": "display_data"
        }
      ],
      "source": [
        "histogram_boxplot(df, 'Age') "
      ]
    },
    {
      "cell_type": "markdown",
      "metadata": {},
      "source": [
        "#### Observations:\n",
        "- The distribution of ages is right-skewed, indicating that there are more younger customers compared to older ones.\n",
        "- The boxplot above the histogram shows the presence of some upper outliers (above the upper whisker). This suggests that there are a few customers who are significantly older compared to the majority of the bank's clientele.\n",
        "- The majority of customers are aged between roughly 20 and 60 years.\n",
        "- There's a high concentration of customers in the age range of 30 to 40 years."
      ]
    },
    {
      "cell_type": "markdown",
      "metadata": {
        "id": "9ceasiVRkcjS"
      },
      "source": [
        "#### Observations on Balance"
      ]
    },
    {
      "cell_type": "code",
      "execution_count": 16,
      "metadata": {
        "id": "19oK6z4kjyGd"
      },
      "outputs": [
        {
          "data": {
            "image/png": "[encoded data removed]",
            "text/plain": [
              "<Figure size 864x504 with 2 Axes>"
            ]
          },
          "metadata": {
            "needs_background": "light"
          },
          "output_type": "display_data"
        }
      ],
      "source": [
        "histogram_boxplot(df, 'Balance')"
      ]
    },
    {
      "cell_type": "markdown",
      "metadata": {},
      "source": [
        "#### Observations:\n",
        "-  There are two prominent peaks in the distribution of balances. One peak is near zero, and the other is around the middle of the range, approximately at 100,000. This could suggest there are two distinct groups of customers - those who maintain a low or zero balance and those who maintain a moderate balance around the 100,000 mark.\n",
        "- A significant number of customers have a balance close to zero. This might indicate that many customers either have emptied their accounts or haven't used them actively.\n",
        "- There don't appear to be any significant outliers on either end of the distribution.\n",
        "- Most customers have balances ranging from 0 to approximately 250,000."
      ]
    },
    {
      "cell_type": "markdown",
      "metadata": {
        "id": "6rZ-1bs_ksSe"
      },
      "source": [
        "#### Observations on Estimated Salary"
      ]
    },
    {
      "cell_type": "code",
      "execution_count": 17,
      "metadata": {
        "id": "QgsC0cimjyDk"
      },
      "outputs": [
        {
          "data": {
            "image/png": "[encoded data removed]",
            "text/plain": [
              "<Figure size 864x504 with 2 Axes>"
            ]
          },
          "metadata": {
            "needs_background": "light"
          },
          "output_type": "display_data"
        }
      ],
      "source": [
        "histogram_boxplot(df, 'EstimatedSalary')         "
      ]
    },
    {
      "cell_type": "markdown",
      "metadata": {},
      "source": [
        "#### Observations:\n",
        "- The distribution of estimated salaries is fairly uniform. This means that customers are spread out evenly across different salary levels.\n",
        "- There don't appear to be any significant outliers on either end of the distribution, which aligns with the uniform distribution.\n",
        "- Customers have estimated salaries ranging from almost 0 to just above 200,000, with an even distribution across this range."
      ]
    },
    {
      "cell_type": "markdown",
      "metadata": {
        "id": "XWM5q0wQkvws"
      },
      "source": [
        "#### Observations on Exited"
      ]
    },
    {
      "cell_type": "code",
      "execution_count": 18,
      "metadata": {
        "id": "YD9p3sPvjyA-"
      },
      "outputs": [
        {
          "data": {
            "image/png": "[encoded data removed]",
            "text/plain": [
              "<Figure size 216x360 with 1 Axes>"
            ]
          },
          "metadata": {
            "needs_background": "light"
          },
          "output_type": "display_data"
        }
      ],
      "source": [
        "labeled_barplot(df, \"Exited\", perc=True)"
      ]
    },
    {
      "cell_type": "markdown",
      "metadata": {},
      "source": [
        "#### Observations:\n",
        "- Approximately 79.6% of customers (labeled as \"0\") did not leave the bank.\n",
        "- Around 20.4% of customers (labeled as \"1\") exited the bank."
      ]
    },
    {
      "cell_type": "markdown",
      "metadata": {
        "id": "mGnQfFu2kzZe"
      },
      "source": [
        "#### Observations on Geography"
      ]
    },
    {
      "cell_type": "code",
      "execution_count": 19,
      "metadata": {
        "id": "GBcn9Xejjx9-"
      },
      "outputs": [
        {
          "data": {
            "image/png": "[encoded data removed]",
            "text/plain": [
              "<Figure size 288x360 with 1 Axes>"
            ]
          },
          "metadata": {
            "needs_background": "light"
          },
          "output_type": "display_data"
        }
      ],
      "source": [
        "labeled_barplot(df, 'Geography', perc=True)"
      ]
    },
    {
      "cell_type": "markdown",
      "metadata": {},
      "source": [
        "#### Observations:\n",
        "- The majority of customers, approximately 50.1%, are from France.\n",
        "- Around 25.1% of customers are from Germany.\n",
        "- About 24.8% of customers are from Spain."
      ]
    },
    {
      "cell_type": "markdown",
      "metadata": {
        "id": "xSu6H4hLlBld"
      },
      "source": [
        "#### Observations on Gender"
      ]
    },
    {
      "cell_type": "code",
      "execution_count": 20,
      "metadata": {
        "id": "41FBLuDojx7E"
      },
      "outputs": [
        {
          "data": {
            "image/png": "[encoded data removed]",
            "text/plain": [
              "<Figure size 216x360 with 1 Axes>"
            ]
          },
          "metadata": {
            "needs_background": "light"
          },
          "output_type": "display_data"
        }
      ],
      "source": [
        "labeled_barplot(df, 'Gender', perc=True)"
      ]
    },
    {
      "cell_type": "markdown",
      "metadata": {},
      "source": [
        "#### Observations:\n",
        "- Approximately 54.6% of the bank's customers are male. \n",
        "- Around 45.4% of customers are female.\n",
        "\n",
        "This indicates a fairly balanced distribution between male and female customers, with a slightly higher proportion of males. "
      ]
    },
    {
      "cell_type": "markdown",
      "metadata": {
        "id": "xbDEgCfYlNsi"
      },
      "source": [
        "#### Observations on Tenure"
      ]
    },
    {
      "cell_type": "code",
      "execution_count": 21,
      "metadata": {
        "id": "1zEQbiJ_jx36"
      },
      "outputs": [
        {
          "data": {
            "image/png": "[encoded data removed]",
            "text/plain": [
              "<Figure size 864x360 with 1 Axes>"
            ]
          },
          "metadata": {
            "needs_background": "light"
          },
          "output_type": "display_data"
        }
      ],
      "source": [
        "labeled_barplot(df, 'Tenure', perc=True)"
      ]
    },
    {
      "cell_type": "markdown",
      "metadata": {},
      "source": [
        "#### Observations:\n",
        "- The distribution of tenures is fairly even across different durations.\n",
        "- Tenures of 1, 2, 7, 8, and 10 years have slightly higher proportions of customers, each with roughly 10% of the total customer base.\n",
        "- Tenures of 0 (just joined) and 9 years have a slightly smaller percentage of customers, both just below 10%.\n",
        "\n",
        "The relatively even distribution indicates that there isn't a specific time period where a large number of customers typically join or leave. This suggests that the bank has maintained a steady acquisition of customers over the years."
      ]
    },
    {
      "cell_type": "markdown",
      "metadata": {
        "id": "W6PGNDMflTqt"
      },
      "source": [
        "#### Observations on Number of Products"
      ]
    },
    {
      "cell_type": "code",
      "execution_count": 22,
      "metadata": {
        "id": "vWONo8wJjx0K"
      },
      "outputs": [
        {
          "data": {
            "image/png": "[encoded data removed]",
            "text/plain": [
              "<Figure size 360x360 with 1 Axes>"
            ]
          },
          "metadata": {
            "needs_background": "light"
          },
          "output_type": "display_data"
        }
      ],
      "source": [
        "labeled_barplot(df, 'NumOfProducts', perc=True)              "
      ]
    },
    {
      "cell_type": "markdown",
      "metadata": {},
      "source": [
        "#### Observations:\n",
        "- The majority of customers, approximately 50.8%, have purchased just one product from the bank.\n",
        "- Around 45.9% of customers have two products.\n",
        "- Only about 2.7% of customers have three products.\n",
        "- An even smaller proportion, roughly 0.6%, have four products.\n",
        "\n",
        "These insights indicate that most customers have either one or two bank products. Very few customers have three or four products. "
      ]
    },
    {
      "cell_type": "markdown",
      "metadata": {
        "id": "_WcPAd3sldqS"
      },
      "source": [
        "#### Observations on Has Credit Card"
      ]
    },
    {
      "cell_type": "code",
      "execution_count": 23,
      "metadata": {
        "id": "SxS2uhRYlbyV"
      },
      "outputs": [
        {
          "data": {
            "image/png": "[encoded data removed]",
            "text/plain": [
              "<Figure size 216x360 with 1 Axes>"
            ]
          },
          "metadata": {
            "needs_background": "light"
          },
          "output_type": "display_data"
        }
      ],
      "source": [
        "labeled_barplot(df, 'HasCrCard', perc=True)"
      ]
    },
    {
      "cell_type": "markdown",
      "metadata": {},
      "source": [
        "#### Observations\n",
        "-  A significant majority, approximately 70.5% of customers, have a credit card with the bank.\n",
        "- About 29.5% of customers do not have a credit card."
      ]
    },
    {
      "cell_type": "markdown",
      "metadata": {
        "id": "9XFvZ8iZlkeN"
      },
      "source": [
        "#### Observations on Is Active Member"
      ]
    },
    {
      "cell_type": "code",
      "execution_count": 24,
      "metadata": {
        "id": "JuwtR_2Plbvu"
      },
      "outputs": [
        {
          "data": {
            "image/png": "[encoded data removed]",
            "text/plain": [
              "<Figure size 216x360 with 1 Axes>"
            ]
          },
          "metadata": {
            "needs_background": "light"
          },
          "output_type": "display_data"
        }
      ],
      "source": [
        "labeled_barplot(df, 'IsActiveMember', perc=True)"
      ]
    },
    {
      "cell_type": "markdown",
      "metadata": {},
      "source": [
        "#### Observations:\n",
        "-  Approximately 51.5% of customers are active members. These are customers who regularly use the bank's products and services.\n",
        "- Around 48.5% of customers are not active members."
      ]
    },
    {
      "cell_type": "markdown",
      "metadata": {
        "id": "d3hg240IlpqV"
      },
      "source": [
        "### Bivariate Analysis"
      ]
    },
    {
      "cell_type": "code",
      "execution_count": 25,
      "metadata": {
        "id": "vBot6IVnlbtH"
      },
      "outputs": [],
      "source": [
        "# function to plot stacked bar chart\n",
        "\n",
        "\n",
        "def stacked_barplot(data, predictor, target):\n",
        "    \"\"\"\n",
        "    Print the category counts and plot a stacked bar chart\n",
        "\n",
        "    data: dataframe\n",
        "    predictor: independent variable\n",
        "    target: target variable\n",
        "    \"\"\"\n",
        "    count = data[predictor].nunique()\n",
        "    sorter = data[target].value_counts().index[-1]\n",
        "    tab1 = pd.crosstab(data[predictor], data[target], margins=True).sort_values(\n",
        "        by=sorter, ascending=False\n",
        "    )\n",
        "    print(tab1)\n",
        "    print(\"-\" * 120)\n",
        "    tab = pd.crosstab(data[predictor], data[target], normalize=\"index\").sort_values(\n",
        "        by=sorter, ascending=False\n",
        "    )\n",
        "    tab.plot(kind=\"bar\", stacked=True, figsize=(count + 1, 5))\n",
        "    plt.legend(\n",
        "        loc=\"lower left\",\n",
        "        frameon=False,\n",
        "    )\n",
        "    plt.legend(loc=\"upper left\", bbox_to_anchor=(1, 1))\n",
        "    plt.show()"
      ]
    },
    {
      "cell_type": "markdown",
      "metadata": {
        "id": "sw4xLDlemo3C"
      },
      "source": [
        "#### Correlation plot"
      ]
    },
    {
      "cell_type": "code",
      "execution_count": 26,
      "metadata": {
        "id": "Qr0qxNDTlbqD"
      },
      "outputs": [
        {
          "data": {
            "image/png": "[encoded data removed]",
            "text/plain": [
              "<Figure size 1080x504 with 2 Axes>"
            ]
          },
          "metadata": {
            "needs_background": "light"
          },
          "output_type": "display_data"
        }
      ],
      "source": [
        "# Plot the heatmap for the data's correlation matrix\n",
        "plt.figure(figsize=(15, 7))\n",
        "sns.heatmap(df.corr(), annot=True, vmin=-1, vmax=1, fmt=\".2f\", cmap=\"Spectral\")          # Complete the code to get the heatmap of the data\n",
        "plt.show()"
      ]
    },
    {
      "cell_type": "markdown",
      "metadata": {},
      "source": [
        "#### Observations:\n",
        "- There's a positive correlation between Age and Exited, suggesting that older customers are more likely to churn.\n",
        "- IsActiveMember has a negative correlation with Exited, indicating that active members are less likely to leave the bank.\n",
        "- NumOfProducts also has a negative correlation with Exited, suggesting that customers with more products are less likely to churn.\n",
        "- Age and NumOfProducts show a slight negative correlation, which means that as customers age, they tend to have fewer products with the bank.\n",
        "- CreditScore and Age have a very weak negative correlation.\n",
        "- HasCrCard and IsActiveMember have a weak negative correlation."
      ]
    },
    {
      "cell_type": "markdown",
      "metadata": {
        "id": "PslMUrhhnFdl"
      },
      "source": [
        "#### Exited Vs Geography"
      ]
    },
    {
      "cell_type": "code",
      "execution_count": 27,
      "metadata": {
        "id": "aMe3Vw9RnDQX"
      },
      "outputs": [
        {
          "name": "stdout",
          "output_type": "stream",
          "text": [
            "Exited        0     1    All\n",
            "Geography                   \n",
            "All        7963  2037  10000\n",
            "Germany    1695   814   2509\n",
            "France     4204   810   5014\n",
            "Spain      2064   413   2477\n",
            "------------------------------------------------------------------------------------------------------------------------\n"
          ]
        },
        {
          "data": {
            "image/png": "[encoded data removed]",
            "text/plain": [
              "<Figure size 288x360 with 1 Axes>"
            ]
          },
          "metadata": {
            "needs_background": "light"
          },
          "output_type": "display_data"
        }
      ],
      "source": [
        "stacked_barplot(df, \"Geography\", \"Exited\")           "
      ]
    },
    {
      "cell_type": "markdown",
      "metadata": {},
      "source": [
        "#### Observations:\n",
        "- Out of 10,000 customers, 2,037 exited the bank, which is a 20.37% churn rate.\n",
        "- Out of 5,014 customers from France, 810 exited, resulting in a churn rate of about 16.16%.\n",
        "- Germany, with 2,509 customers, saw 814 of them exiting, leading to a significantly higher churn rate of about 32.44%.\n",
        "- Out of 2,477 customers from Spain, 413 exited, which is a churn rate of about 16.67%.\n",
        "\n",
        "These insights suggest that customers from Germany are more likely to leave the bank compared to those from France or Spain. "
      ]
    },
    {
      "cell_type": "markdown",
      "metadata": {
        "id": "Ggqz7d4JnPul"
      },
      "source": [
        "#### Exited Vs Gender"
      ]
    },
    {
      "cell_type": "code",
      "execution_count": 28,
      "metadata": {
        "id": "eckxpn9nnDM9"
      },
      "outputs": [
        {
          "name": "stdout",
          "output_type": "stream",
          "text": [
            "Exited     0     1    All\n",
            "Gender                   \n",
            "All     7963  2037  10000\n",
            "Female  3404  1139   4543\n",
            "Male    4559   898   5457\n",
            "------------------------------------------------------------------------------------------------------------------------\n"
          ]
        },
        {
          "data": {
            "image/png": "[encoded data removed]",
            "text/plain": [
              "<Figure size 216x360 with 1 Axes>"
            ]
          },
          "metadata": {
            "needs_background": "light"
          },
          "output_type": "display_data"
        }
      ],
      "source": [
        "stacked_barplot(df, 'Gender', 'Exited') "
      ]
    },
    {
      "cell_type": "markdown",
      "metadata": {},
      "source": [
        "#### Observations:\n",
        "- Out of 5,457 male customers, 898 exited, resulting in a churn rate of about 16.45%.\n",
        "- Out of 4,543 female customers, 1,139 exited, leading to a higher churn rate of about 25.07%.\n",
        "\n",
        " This indicates that female customers are more likely to leave the bank than male customers."
      ]
    },
    {
      "cell_type": "markdown",
      "metadata": {
        "id": "U6ch7akdnc9J"
      },
      "source": [
        "#### Exited Vs Has Credit Card"
      ]
    },
    {
      "cell_type": "code",
      "execution_count": 29,
      "metadata": {
        "id": "vb0C_D9rlbnL"
      },
      "outputs": [
        {
          "name": "stdout",
          "output_type": "stream",
          "text": [
            "Exited        0     1    All\n",
            "HasCrCard                   \n",
            "All        7963  2037  10000\n",
            "1          5631  1424   7055\n",
            "0          2332   613   2945\n",
            "------------------------------------------------------------------------------------------------------------------------\n"
          ]
        },
        {
          "data": {
            "image/png": "[encoded data removed]",
            "text/plain": [
              "<Figure size 216x360 with 1 Axes>"
            ]
          },
          "metadata": {
            "needs_background": "light"
          },
          "output_type": "display_data"
        }
      ],
      "source": [
        "stacked_barplot(df, 'HasCrCard', 'Exited')  "
      ]
    },
    {
      "cell_type": "markdown",
      "metadata": {},
      "source": [
        "#### Observations:\n",
        "- Out of the 7,055 customers who possess a credit card, 1,424 exited. This results in a churn rate of about 20.18%. \n",
        "- Out of the 2,945 customers without a credit card, 613 exited. This results in a churn rate of about 20.81%. \n",
        "\n",
        "The similar churn rates among customers with and without credit cards suggest that the possession of a credit card isn't a significant factor influencing a customer's decision to leave the bank."
      ]
    },
    {
      "cell_type": "markdown",
      "metadata": {
        "id": "qEJVhlwCnj95"
      },
      "source": [
        "#### Exited Vs Is active member"
      ]
    },
    {
      "cell_type": "code",
      "execution_count": 30,
      "metadata": {
        "id": "xZfHpaIblbkR"
      },
      "outputs": [
        {
          "name": "stdout",
          "output_type": "stream",
          "text": [
            "Exited             0     1    All\n",
            "IsActiveMember                   \n",
            "All             7963  2037  10000\n",
            "0               3547  1302   4849\n",
            "1               4416   735   5151\n",
            "------------------------------------------------------------------------------------------------------------------------\n"
          ]
        },
        {
          "data": {
            "image/png": "[encoded data removed]",
            "text/plain": [
              "<Figure size 216x360 with 1 Axes>"
            ]
          },
          "metadata": {
            "needs_background": "light"
          },
          "output_type": "display_data"
        }
      ],
      "source": [
        "stacked_barplot(df, 'IsActiveMember', 'Exited')"
      ]
    },
    {
      "cell_type": "markdown",
      "metadata": {},
      "source": [
        "#### Observations:\n",
        "- Out of the 5,151 active customers, 735 exited. This results in a churn rate of about 14.27%.\n",
        "- Out of the 4,849 inactive customers, 1,302 exited, giving a significantly higher churn rate of about 26.84%. \n",
        "\n",
        "These insights suggest that customer activity plays a crucial role in their decision to stay with or leave the bank. Active members are significantly less likely to churn compared to inactive members. "
      ]
    },
    {
      "cell_type": "markdown",
      "metadata": {
        "id": "tz4mcNb_npGW"
      },
      "source": [
        "#### Exited Vs Credit Score"
      ]
    },
    {
      "cell_type": "code",
      "execution_count": 31,
      "metadata": {
        "id": "9pZBaR7Nlbhd"
      },
      "outputs": [
        {
          "data": {
            "image/png": "[encoded data removed]",
            "text/plain": [
              "<Figure size 360x360 with 1 Axes>"
            ]
          },
          "metadata": {
            "needs_background": "light"
          },
          "output_type": "display_data"
        }
      ],
      "source": [
        "plt.figure(figsize=(5,5))\n",
        "sns.boxplot(y='CreditScore',x='Exited',data=df)\n",
        "plt.show()"
      ]
    },
    {
      "cell_type": "markdown",
      "metadata": {},
      "source": [
        "#### Observations:\n",
        "- For both groups (those who exited and those who didn't), the median credit score is nearly the same.\n",
        "- The interquartile range - the range between the 25th percentile and the 75th percentile is also quite similar for both groups.\n",
        "- Both groups have some lower outliers, indicating customers with particularly low credit scores. However, the number of outliers doesn't significantly differ between the two groups.\n",
        "- The overall distribution of credit scores is quite similar for customers who exited and those who stayed.\n",
        "\n",
        "From this visualization, it seems that CreditScore alone may not be a significant predictor of churn. The credit scores of customers who exited the bank are broadly in line with those who stayed. "
      ]
    },
    {
      "cell_type": "markdown",
      "metadata": {
        "id": "MX_anKu1oK9L"
      },
      "source": [
        "#### Exited Vs Age"
      ]
    },
    {
      "cell_type": "code",
      "execution_count": 32,
      "metadata": {
        "id": "5YFYCNpeoJDF"
      },
      "outputs": [
        {
          "data": {
            "image/png": "[encoded data removed]",
            "text/plain": [
              "<Figure size 360x360 with 1 Axes>"
            ]
          },
          "metadata": {
            "needs_background": "light"
          },
          "output_type": "display_data"
        }
      ],
      "source": [
        "plt.figure(figsize=(5,5))\n",
        "sns.boxplot(y='Age',x='Exited',data=df)               ## Complete the code to plot the boxplot for Exited and Age\n",
        "plt.show()"
      ]
    },
    {
      "cell_type": "markdown",
      "metadata": {},
      "source": [
        "#### Observations:\n",
        "- The median age is lower for customers who stayed with the bank.\n",
        "- The interquartile range (IQR) is relatively tighter, indicating that a significant portion of these customers are younger.\n",
        "- The median age is notably higher for customers who exited the bank.\n",
        "- The IQR is broader, suggesting a wider age distribution among customers who churned.\n",
        "- Older customers seem more likely to churn compared to younger customers.\n",
        "- The age range of churned customers is also broader, suggesting that the decision to leave the bank isn't confined to a specific age group among older customers.\n",
        "\n",
        "This visualization indicates that Age might be a significant predictor of churn. Older customers seem to be more prone to leaving the bank than younger ones. "
      ]
    },
    {
      "cell_type": "markdown",
      "metadata": {
        "id": "Wdrge12TouUX"
      },
      "source": [
        "#### Exited Vs Tenure"
      ]
    },
    {
      "cell_type": "code",
      "execution_count": 33,
      "metadata": {
        "id": "npBbMwsRoJAO"
      },
      "outputs": [
        {
          "data": {
            "image/png": "[encoded data removed]",
            "text/plain": [
              "<Figure size 360x360 with 1 Axes>"
            ]
          },
          "metadata": {
            "needs_background": "light"
          },
          "output_type": "display_data"
        }
      ],
      "source": [
        "plt.figure(figsize=(5,5))\n",
        "sns.boxplot(y='Tenure',x='Exited',data=df)\n",
        "plt.show()"
      ]
    },
    {
      "cell_type": "markdown",
      "metadata": {},
      "source": [
        "#### Observations:\n",
        "- The median tenure is around 5 years for customers who stayed with the bank.\n",
        "- The interquartile range (IQR) is from approximately 3 to 7 years, indicating that a significant portion of these customers have been with the bank for a moderate duration.\n",
        "- The median tenure is also around 5 years for customers who exited the bank.\n",
        "- The IQR is similar to the non-churned group, spanning from about 2 to 8 years.\n",
        "- The tenure distribution is quite similar for both customers who churned and those who did not.\n",
        "- There doesn't seem to be a specific tenure duration where customers are more likely to churn.\n",
        "\n",
        "From this visualization, it appears that Tenure alone might not be a strong predictor of churn. Customers who leave the bank come from various tenure durations, similar to those who stay. "
      ]
    },
    {
      "cell_type": "markdown",
      "metadata": {
        "id": "LMvo8Ioco7kd"
      },
      "source": [
        "#### Exited Vs Balance"
      ]
    },
    {
      "cell_type": "code",
      "execution_count": 34,
      "metadata": {
        "id": "BtkGjKq6oI9V"
      },
      "outputs": [
        {
          "data": {
            "image/png": "[encoded data removed]",
            "text/plain": [
              "<Figure size 360x360 with 1 Axes>"
            ]
          },
          "metadata": {
            "needs_background": "light"
          },
          "output_type": "display_data"
        }
      ],
      "source": [
        "plt.figure(figsize=(5,5))\n",
        "sns.boxplot(y='Balance',x='Exited',data=df)\n",
        "plt.show()"
      ]
    },
    {
      "cell_type": "markdown",
      "metadata": {},
      "source": [
        "#### Observations:\n",
        "- Many customers who did not exit the bank have a balance near 0, which is evident from the lower whisker touching the bottom.\n",
        "- The median balance for this group is notably lower than that of customers who exited.\n",
        "- The upper quartile (top edge of the box) shows that a significant portion of these customers have a balance in the mid-range.\n",
        "- The median balance is higher for customers who exited the bank, indicating that many churned customers had a substantial balance.\n",
        "- The IQR is wider, suggesting a broad distribution of balances among customers who churned.\n",
        "- Customers with higher balances seem more likely to churn compared to those with lower or zero balances.\n",
        "\n",
        "This visualization suggests that Balance might be a significant predictor of churn. Customers with higher account balances seem more prone to leaving the bank."
      ]
    },
    {
      "cell_type": "markdown",
      "metadata": {
        "id": "9va9WeGco-Iz"
      },
      "source": [
        "#### Exited Vs Number of Products"
      ]
    },
    {
      "cell_type": "code",
      "execution_count": 35,
      "metadata": {
        "id": "s1XJrS_snCdE"
      },
      "outputs": [
        {
          "data": {
            "text/plain": [
              "<AxesSubplot:xlabel='Exited', ylabel='NumOfProducts'>"
            ]
          },
          "execution_count": 35,
          "metadata": {},
          "output_type": "execute_result"
        },
        {
          "data": {
            "image/png": "[encoded data removed]",
            "text/plain": [
              "<Figure size 360x360 with 1 Axes>"
            ]
          },
          "metadata": {
            "needs_background": "light"
          },
          "output_type": "display_data"
        }
      ],
      "source": [
        "plt.figure(figsize=(5,5))\n",
        "sns.boxplot(y='NumOfProducts',x='Exited',data=df)       "
      ]
    },
    {
      "cell_type": "markdown",
      "metadata": {},
      "source": [
        "#### Observations:\n",
        "- The majority of customers who did not exit the bank have either 1 or 2 products, as indicated by the box's range.\n",
        "- The median number of products for this group is 1.\n",
        "- The majority of customers who exited the bank also have either 1 or 2 products.\n",
        "- The median number of products for this group is 1, similar to the non-churned group.\n",
        "- However, there's a notable presence of customers with 3 products, and a few with 4 products, among those who exited.\n",
        "- While the distribution for customers with 1 or 2 products is similar between those who stayed and those who exited, it seems that customers with 3 or more products are more likely to churn.\n",
        "\n",
        "This visualization suggests that while having 1 or 2 products doesn't strongly differentiate between churners and non-churners, having more than 2 products might be a predictor of churn."
      ]
    },
    {
      "cell_type": "markdown",
      "metadata": {
        "id": "7Cdem_NJpar1"
      },
      "source": [
        "#### Exited Vs Estimated Salary"
      ]
    },
    {
      "cell_type": "code",
      "execution_count": 36,
      "metadata": {
        "id": "GCI-CwJppYVv"
      },
      "outputs": [
        {
          "data": {
            "image/png": "[encoded data removed]",
            "text/plain": [
              "<Figure size 360x360 with 1 Axes>"
            ]
          },
          "metadata": {
            "needs_background": "light"
          },
          "output_type": "display_data"
        }
      ],
      "source": [
        "plt.figure(figsize=(5,5))\n",
        "sns.boxplot(y='EstimatedSalary',x='Exited',data=df)            \n",
        "plt.show()"
      ]
    },
    {
      "cell_type": "markdown",
      "metadata": {},
      "source": [
        "#### Observations:\n",
        "- The distribution of estimated salaries for customers who did not exit the bank is fairly uniform, spanning from low to high values.\n",
        "- The median estimated salary is roughly in the middle of the range, suggesting an even distribution of salaries.\n",
        "- Similarly, the distribution of estimated salaries for customers who exited the bank is quite uniform, covering the entire range of values.\n",
        "- The median estimated salary for this group is also approximately in the middle of the range.\n",
        "- The estimated salary distributions are very similar for both customers who churned and those who did not.\n",
        "- There doesn't seem to be a specific salary range that is more prone to churn.\n",
        "\n",
        "From this visualization, it appears that EstimatedSalary alone might not be a significant predictor of churn. Customers from various salary brackets seem equally likely to stay or leave the bank. "
      ]
    },
    {
      "cell_type": "markdown",
      "metadata": {
        "id": "7eWct2L10DUm"
      },
      "source": [
        "## Data Preprocessing"
      ]
    },
    {
      "cell_type": "markdown",
      "metadata": {
        "id": "_ByhREUF0Hf3"
      },
      "source": [
        "- We want to predict the churn.\n",
        "- Before we proceed to build a model, We'll split the data into train and test to be able to evaluate the model that we build on the train data\n",
        "-  we'll have to encode categorical features.\n",
        "- We will build a model using the train data and then check it's performance"
      ]
    },
    {
      "cell_type": "markdown",
      "metadata": {
        "id": "CUXPaUwZHUO8"
      },
      "source": [
        "### Data Preparation for Modeling"
      ]
    },
    {
      "cell_type": "code",
      "execution_count": 37,
      "metadata": {
        "id": "VTb3JwlaHUO-"
      },
      "outputs": [],
      "source": [
        "X = df.drop(['Exited'],axis=1)    ## Complete the code to obtain the independent features into variable X\n",
        "y = df[['Exited']]                ## Complete the code to obtain the dependent features into variable y"
      ]
    },
    {
      "cell_type": "code",
      "execution_count": 38,
      "metadata": {
        "id": "0YvyE1kXHUPl"
      },
      "outputs": [],
      "source": [
        "# Splitting the dataset into the Training and Testing set.\n",
        "\n",
        "X_large, X_test, y_large, y_test = train_test_split(X, y, test_size = 0.2, random_state = 42,stratify=y,shuffle = True) ## Complete the code to Split the X and y and obtain test set"
      ]
    },
    {
      "cell_type": "code",
      "execution_count": 39,
      "metadata": {
        "id": "GyMqPCOWc73G"
      },
      "outputs": [],
      "source": [
        "# Splitting the dataset into the Training and Testing set.\n",
        "\n",
        "X_train, X_val, y_train, y_val = train_test_split(X_large, y_large, test_size = 0.2, random_state = 42,stratify=y_large, shuffle = True) ## complete the code to Split X_large and y_large to obtain train and validation sets"
      ]
    },
    {
      "cell_type": "markdown",
      "metadata": {
        "id": "1nEEjgwleiMv"
      },
      "source": [
        "**Create dummy variables for string type variables**"
      ]
    },
    {
      "cell_type": "code",
      "execution_count": 40,
      "metadata": {
        "id": "_dsMyKhTc73H"
      },
      "outputs": [],
      "source": [
        "# Encoding Geography variable\n",
        "X_train = pd.get_dummies(X_train, columns=[\"Geography\",\"Gender\"],drop_first=True) ## Complete the code to encode Geography and Gender in train set\n",
        "X_test = pd.get_dummies(X_test, columns=[\"Geography\",\"Gender\"],drop_first=True)   ## Complete the code to encode Geography and Gender in test set\n",
        "X_val = pd.get_dummies(X_val, columns=[\"Geography\",\"Gender\"],drop_first=True)     ## Complete the code to encode Geography and Gender in validation set"
      ]
    },
    {
      "cell_type": "markdown",
      "metadata": {
        "id": "qlSyq5fNHUPp"
      },
      "source": [
        "**Normalize the numerical data**"
      ]
    },
    {
      "cell_type": "code",
      "execution_count": 41,
      "metadata": {
        "id": "CVx8TYI4c73H"
      },
      "outputs": [
        {
          "data": {
            "text/html": [
              "<div>\n",
              "<style scoped>\n",
              "    .dataframe tbody tr th:only-of-type {\n",
              "        vertical-align: middle;\n",
              "    }\n",
              "\n",
              "    .dataframe tbody tr th {\n",
              "        vertical-align: top;\n",
              "    }\n",
              "\n",
              "    .dataframe thead th {\n",
              "        text-align: right;\n",
              "    }\n",
              "</style>\n",
              "<table border=\"1\" class=\"dataframe\">\n",
              "  <thead>\n",
              "    <tr style=\"text-align: right;\">\n",
              "      <th></th>\n",
              "      <th>CreditScore</th>\n",
              "      <th>Age</th>\n",
              "      <th>Tenure</th>\n",
              "      <th>Balance</th>\n",
              "      <th>NumOfProducts</th>\n",
              "      <th>HasCrCard</th>\n",
              "      <th>IsActiveMember</th>\n",
              "      <th>EstimatedSalary</th>\n",
              "      <th>Geography_Germany</th>\n",
              "      <th>Geography_Spain</th>\n",
              "      <th>Gender_Male</th>\n",
              "    </tr>\n",
              "  </thead>\n",
              "  <tbody>\n",
              "    <tr>\n",
              "      <th>3006</th>\n",
              "      <td>0.988678</td>\n",
              "      <td>0.572685</td>\n",
              "      <td>-1.384980</td>\n",
              "      <td>0.610704</td>\n",
              "      <td>1</td>\n",
              "      <td>1</td>\n",
              "      <td>0</td>\n",
              "      <td>1.566070</td>\n",
              "      <td>0</td>\n",
              "      <td>0</td>\n",
              "      <td>0</td>\n",
              "    </tr>\n",
              "    <tr>\n",
              "      <th>5735</th>\n",
              "      <td>-0.683985</td>\n",
              "      <td>0.477619</td>\n",
              "      <td>-0.355056</td>\n",
              "      <td>-1.237347</td>\n",
              "      <td>2</td>\n",
              "      <td>0</td>\n",
              "      <td>1</td>\n",
              "      <td>0.036348</td>\n",
              "      <td>0</td>\n",
              "      <td>1</td>\n",
              "      <td>0</td>\n",
              "    </tr>\n",
              "    <tr>\n",
              "      <th>5652</th>\n",
              "      <td>0.410474</td>\n",
              "      <td>-0.948376</td>\n",
              "      <td>1.361485</td>\n",
              "      <td>-1.237347</td>\n",
              "      <td>2</td>\n",
              "      <td>0</td>\n",
              "      <td>0</td>\n",
              "      <td>1.745403</td>\n",
              "      <td>0</td>\n",
              "      <td>0</td>\n",
              "      <td>0</td>\n",
              "    </tr>\n",
              "    <tr>\n",
              "      <th>26</th>\n",
              "      <td>1.081604</td>\n",
              "      <td>-0.282911</td>\n",
              "      <td>-1.041672</td>\n",
              "      <td>0.962063</td>\n",
              "      <td>1</td>\n",
              "      <td>1</td>\n",
              "      <td>1</td>\n",
              "      <td>1.228816</td>\n",
              "      <td>1</td>\n",
              "      <td>0</td>\n",
              "      <td>1</td>\n",
              "    </tr>\n",
              "    <tr>\n",
              "      <th>3596</th>\n",
              "      <td>-0.085130</td>\n",
              "      <td>-0.282911</td>\n",
              "      <td>-1.728288</td>\n",
              "      <td>1.144427</td>\n",
              "      <td>1</td>\n",
              "      <td>0</td>\n",
              "      <td>0</td>\n",
              "      <td>-0.764748</td>\n",
              "      <td>0</td>\n",
              "      <td>0</td>\n",
              "      <td>1</td>\n",
              "    </tr>\n",
              "  </tbody>\n",
              "</table>\n",
              "</div>"
            ],
            "text/plain": [
              "      CreditScore       Age    Tenure   Balance  NumOfProducts  HasCrCard  \\\n",
              "3006     0.988678  0.572685 -1.384980  0.610704              1          1   \n",
              "5735    -0.683985  0.477619 -0.355056 -1.237347              2          0   \n",
              "5652     0.410474 -0.948376  1.361485 -1.237347              2          0   \n",
              "26       1.081604 -0.282911 -1.041672  0.962063              1          1   \n",
              "3596    -0.085130 -0.282911 -1.728288  1.144427              1          0   \n",
              "\n",
              "      IsActiveMember  EstimatedSalary  Geography_Germany  Geography_Spain  \\\n",
              "3006               0         1.566070                  0                0   \n",
              "5735               1         0.036348                  0                1   \n",
              "5652               0         1.745403                  0                0   \n",
              "26                 1         1.228816                  1                0   \n",
              "3596               0        -0.764748                  0                0   \n",
              "\n",
              "      Gender_Male  \n",
              "3006            0  \n",
              "5735            0  \n",
              "5652            0  \n",
              "26              1  \n",
              "3596            1  "
            ]
          },
          "execution_count": 41,
          "metadata": {},
          "output_type": "execute_result"
        }
      ],
      "source": [
        "# Initializing the StandardScaler\n",
        "sc = StandardScaler()\n",
        "\n",
        "# Fitting and transforming the relevant columns\n",
        "temp = sc.fit(X_train[[\"CreditScore\", \"Age\", \"Tenure\", \"Balance\", \"EstimatedSalary\"]])\n",
        "X_train[[\"CreditScore\", \"Age\", \"Tenure\", \"Balance\", \"EstimatedSalary\"]] = temp.transform(X_train[[\"CreditScore\", \"Age\", \"Tenure\", \"Balance\", \"EstimatedSalary\"]])\n",
        "X_test[[\"CreditScore\", \"Age\", \"Tenure\", \"Balance\", \"EstimatedSalary\"]] = temp.transform(X_test[[\"CreditScore\", \"Age\", \"Tenure\", \"Balance\", \"EstimatedSalary\"]])\n",
        "X_val[[\"CreditScore\", \"Age\", \"Tenure\", \"Balance\", \"EstimatedSalary\"]] = temp.transform(X_val[[\"CreditScore\", \"Age\", \"Tenure\", \"Balance\", \"EstimatedSalary\"]])\n",
        "\n",
        "X_train.head()"
      ]
    },
    {
      "cell_type": "markdown",
      "metadata": {
        "id": "W7_uSvumqSMK"
      },
      "source": [
        "## Model Building"
      ]
    },
    {
      "cell_type": "markdown",
      "metadata": {
        "id": "FayG94iciXVS"
      },
      "source": [
        "### Model Evaluation Criterion"
      ]
    },
    {
      "cell_type": "markdown",
      "metadata": {
        "id": "YJ3ZNT7IqXJD"
      },
      "source": [
        "**Model can make wrong predictions as:**\n",
        "* Predicting a customer is exiting  and the customer  is not exiting\n",
        "* Predicting a customer is not exiting and  customer is  exiting\n",
        "\n",
        "**Which case is more important?**\n",
        "* Predicting that customer is not exiting but he/she is exiting. It might cause loss to the banks because due to wrong identification bank will not be able to take any initiative for those sensitive customers. \n",
        "\n",
        "**How to reduce this loss i.e need to reduce False Negative?**\n",
        "* Bank would want `Recall` to be maximized, greater the Recall higher the chances of minimizing false Negative. Hence, the focus should be on increasing Recall or minimizing the false Negative or in other words identifying the True Positive(i.e. Class 1) so that the bank can retain their customers."
      ]
    },
    {
      "cell_type": "markdown",
      "metadata": {
        "id": "vZRg_PVAqoFq"
      },
      "source": [
        "**Create a function for plotting the confusion matrix**\n",
        "\n"
      ]
    },
    {
      "cell_type": "code",
      "execution_count": 42,
      "metadata": {
        "id": "MgvtLmPJqklJ"
      },
      "outputs": [],
      "source": [
        "def make_confusion_matrix(cf,\n",
        "                          group_names=None,\n",
        "                          categories='auto',\n",
        "                          count=True,\n",
        "                          percent=True,\n",
        "                          cbar=True,\n",
        "                          xyticks=True,\n",
        "                          xyplotlabels=True,\n",
        "                          sum_stats=True,\n",
        "                          figsize=None,\n",
        "                          cmap='Blues',\n",
        "                          title=None):\n",
        "    '''\n",
        "    This function will make a pretty plot of an sklearn Confusion Matrix cm using a Seaborn heatmap visualization.\n",
        "    Arguments\n",
        "    '''\n",
        "\n",
        "\n",
        "    # CODE TO GENERATE TEXT INSIDE EACH SQUARE\n",
        "    blanks = ['' for i in range(cf.size)]\n",
        "\n",
        "    if group_names and len(group_names)==cf.size:\n",
        "        group_labels = [\"{}\\n\".format(value) for value in group_names]\n",
        "    else:\n",
        "        group_labels = blanks\n",
        "\n",
        "    if count:\n",
        "        group_counts = [\"{0:0.0f}\\n\".format(value) for value in cf.flatten()]\n",
        "    else:\n",
        "        group_counts = blanks\n",
        "\n",
        "    if percent:\n",
        "        group_percentages = [\"{0:.2%}\".format(value) for value in cf.flatten()/np.sum(cf)]\n",
        "    else:\n",
        "        group_percentages = blanks\n",
        "\n",
        "    box_labels = [f\"{v1}{v2}{v3}\".strip() for v1, v2, v3 in zip(group_labels,group_counts,group_percentages)]\n",
        "    box_labels = np.asarray(box_labels).reshape(cf.shape[0],cf.shape[1])\n",
        "\n",
        "\n",
        "    # CODE TO GENERATE SUMMARY STATISTICS & TEXT FOR SUMMARY STATS\n",
        "    if sum_stats:\n",
        "        #Accuracy is sum of diagonal divided by total observations\n",
        "        accuracy  = np.trace(cf) / float(np.sum(cf))\n",
        "\n",
        "        #if it is a binary confusion matrix, show some more stats\n",
        "        if len(cf)==2:\n",
        "            #Metrics for Binary Confusion Matrices\n",
        "            precision = cf[1,1] / sum(cf[:,1])\n",
        "            recall    = cf[1,1] / sum(cf[1,:])\n",
        "            f1_score  = 2*precision*recall / (precision + recall)\n",
        "            stats_text = \"\\n\\nAccuracy={:0.3f}\\nPrecision={:0.3f}\\nRecall={:0.3f}\\nF1 Score={:0.3f}\".format(\n",
        "                accuracy,precision,recall,f1_score)\n",
        "        else:\n",
        "            stats_text = \"\\n\\nAccuracy={:0.3f}\".format(accuracy)\n",
        "    else:\n",
        "        stats_text = \"\"\n",
        "\n",
        "\n",
        "    # SET FIGURE PARAMETERS ACCORDING TO OTHER ARGUMENTS\n",
        "    if figsize==None:\n",
        "        #Get default figure size if not set\n",
        "        figsize = plt.rcParams.get('figure.figsize')\n",
        "\n",
        "    if xyticks==False:\n",
        "        #Do not show categories if xyticks is False\n",
        "        categories=False\n",
        "\n",
        "\n",
        "    # MAKE THE HEATMAP VISUALIZATION\n",
        "    plt.figure(figsize=figsize)\n",
        "    sns.heatmap(cf,annot=box_labels,fmt=\"\",cmap=cmap,cbar=cbar,xticklabels=categories,yticklabels=categories)\n",
        "\n",
        "    if xyplotlabels:\n",
        "        plt.ylabel('True label')\n",
        "        plt.xlabel('Predicted label' + stats_text)\n",
        "    else:\n",
        "        plt.xlabel(stats_text)\n",
        "    \n",
        "    if title:\n",
        "        plt.title(title)"
      ]
    },
    {
      "cell_type": "markdown",
      "metadata": {
        "id": "KwOyQwUh4Mo9"
      },
      "source": [
        "### Model Building: Neural Network"
      ]
    },
    {
      "cell_type": "code",
      "execution_count": 43,
      "metadata": {
        "id": "nOVzAE0sc73H"
      },
      "outputs": [],
      "source": [
        "backend.clear_session()\n",
        "#Fixing the seed for random number generators so that we can ensure we receive the same output everytime\n",
        "np.random.seed(42)\n",
        "random.seed(42)\n",
        "tf.random.set_seed(42)"
      ]
    },
    {
      "cell_type": "code",
      "execution_count": 44,
      "metadata": {
        "id": "aexcSjTuHUPx"
      },
      "outputs": [
        {
          "ename": "NameError",
          "evalue": "name '_____' is not defined",
          "output_type": "error",
          "traceback": [
            "\u001b[1;31m---------------------------------------------------------------------------\u001b[0m",
            "\u001b[1;31mNameError\u001b[0m                                 Traceback (most recent call last)",
            "\u001b[1;32mc:\\Users\\BD\\Documents\\PGP - AI & ML\\PGP-AI-ML\\project5\\INN_Learner_Notebook_Full_code_version.ipynb Cell 125\u001b[0m in \u001b[0;36m<cell line: 4>\u001b[1;34m()\u001b[0m\n\u001b[0;32m      <a href='vscode-notebook-cell:/c%3A/Users/BD/Documents/PGP%20-%20AI%20%26%20ML/PGP-AI-ML/project5/INN_Learner_Notebook_Full_code_version.ipynb#Y200sZmlsZQ%3D%3D?line=1'>2</a>\u001b[0m classifier \u001b[39m=\u001b[39m Sequential()\n\u001b[0;32m      <a href='vscode-notebook-cell:/c%3A/Users/BD/Documents/PGP%20-%20AI%20%26%20ML/PGP-AI-ML/project5/INN_Learner_Notebook_Full_code_version.ipynb#Y200sZmlsZQ%3D%3D?line=2'>3</a>\u001b[0m \u001b[39m# Complete the code to Add the input layer with 64 neurons with relu as activation function with input of 11 variables\u001b[39;00m\n\u001b[1;32m----> <a href='vscode-notebook-cell:/c%3A/Users/BD/Documents/PGP%20-%20AI%20%26%20ML/PGP-AI-ML/project5/INN_Learner_Notebook_Full_code_version.ipynb#Y200sZmlsZQ%3D%3D?line=3'>4</a>\u001b[0m classifier\u001b[39m.\u001b[39madd(Dense(activation \u001b[39m=\u001b[39m \u001b[39m'\u001b[39m\u001b[39m_____\u001b[39m\u001b[39m'\u001b[39m, input_dim \u001b[39m=\u001b[39m \u001b[39m11\u001b[39m, units\u001b[39m=\u001b[39m_____))\n\u001b[0;32m      <a href='vscode-notebook-cell:/c%3A/Users/BD/Documents/PGP%20-%20AI%20%26%20ML/PGP-AI-ML/project5/INN_Learner_Notebook_Full_code_version.ipynb#Y200sZmlsZQ%3D%3D?line=5'>6</a>\u001b[0m \u001b[39m# Complete the code to add the 1st hidden layer with 32 neurons\u001b[39;00m\n\u001b[0;32m      <a href='vscode-notebook-cell:/c%3A/Users/BD/Documents/PGP%20-%20AI%20%26%20ML/PGP-AI-ML/project5/INN_Learner_Notebook_Full_code_version.ipynb#Y200sZmlsZQ%3D%3D?line=6'>7</a>\u001b[0m classifier\u001b[39m.\u001b[39madd(Dense(_____, activation\u001b[39m=\u001b[39m\u001b[39m'\u001b[39m\u001b[39mrelu\u001b[39m\u001b[39m'\u001b[39m))\n",
            "\u001b[1;31mNameError\u001b[0m: name '_____' is not defined"
          ]
        }
      ],
      "source": [
        "# Initializing the ANN\n",
        "classifier = Sequential()\n",
        "# Complete the code to Add the input layer with 64 neurons with relu as activation function with input of 11 variables\n",
        "classifier.add(Dense(activation = '_____', input_dim = 11, units=_____))\n",
        "\n",
        "# Complete the code to add the 1st hidden layer with 32 neurons\n",
        "classifier.add(Dense(_____, activation='relu'))\n",
        "\n",
        "# Add the output layer with one node and sigmoid activation function\n",
        "# we have an output of 1 node, which is the the desired dimensions of our output (stay with the bank or not)\n",
        "# We use the sigmoid because we want probability outcomes\n",
        "classifier.add(Dense(1, activation = '_____')) "
      ]
    },
    {
      "cell_type": "code",
      "execution_count": null,
      "metadata": {
        "id": "bsCe9B-QHUP9"
      },
      "outputs": [],
      "source": [
        "## Complete the code to Compile the model with SGD optimizer and binary cross entropy as loss with accuracy as metrics\n",
        "classifier.compile(optimizer='_____', loss='_____', metrics=['_____'])"
      ]
    },
    {
      "cell_type": "code",
      "execution_count": null,
      "metadata": {
        "id": "U1ZM6oGVHUQX"
      },
      "outputs": [],
      "source": [
        "## Complete the code to obtain the summary of the model\n",
        "_____.summary()"
      ]
    },
    {
      "cell_type": "code",
      "execution_count": null,
      "metadata": {
        "id": "H5q62XKSHUQc",
        "scrolled": true
      },
      "outputs": [],
      "source": [
        "## Complete the code to fit the model on train data for 100 epochs \n",
        "history=classifier.fit(_____, _____,           \n",
        "          validation_data=(X_val,y_val),\n",
        "          epochs=_____,\n",
        "          batch_size=32)"
      ]
    },
    {
      "cell_type": "markdown",
      "metadata": {
        "id": "M55NkPWl6GN1"
      },
      "source": [
        "**Loss function**"
      ]
    },
    {
      "cell_type": "code",
      "execution_count": null,
      "metadata": {
        "id": "-nEKVK07gBlG"
      },
      "outputs": [],
      "source": [
        "# Capturing learning history per epoch\n",
        "hist  = pd.DataFrame(history.history)\n",
        "hist['epoch'] = history.epoch\n",
        "\n",
        "# Plotting accuracy at different epochs\n",
        "plt.plot(hist['loss'])\n",
        "plt.plot(hist['val_loss'])\n",
        "plt.legend((\"train\" , \"valid\") , loc =0)\n",
        "\n",
        "## Complete the code to evaluate the model on X_test and y_test\n",
        "results = classifier.evaluate(_____, _____)"
      ]
    },
    {
      "cell_type": "markdown",
      "metadata": {
        "id": "2r_0g1NHSGhr"
      },
      "source": [
        "**Confusion matrix** "
      ]
    },
    {
      "cell_type": "code",
      "execution_count": null,
      "metadata": {
        "id": "y3aDaCPDRm9T"
      },
      "outputs": [],
      "source": [
        "## Complete the code to obtain the prediction on X_val and obtain the confusion matrix \n",
        "y_pred1=classifier.predict(_____)\n",
        "\n",
        "#Let's predict using default threshold\n",
        "y_pred1 = (y_pred1 > 0.5)\n",
        "cm2=confusion_matrix(y_val, y_pred1)\n",
        "labels = ['True Negative','False Positive','False Negative','True Positive']\n",
        "categories = [ 'Not_Exited','Exited']\n",
        "make_confusion_matrix(cm2, \n",
        "                      group_names=labels,\n",
        "                      categories=categories, \n",
        "                      cmap='Blues')"
      ]
    },
    {
      "cell_type": "markdown",
      "metadata": {
        "id": "IciEK79v7GCm"
      },
      "source": [
        "### Model Building: Neural Network model with Adam Optimizer"
      ]
    },
    {
      "cell_type": "code",
      "execution_count": null,
      "metadata": {
        "id": "CkzWYhkOc73J"
      },
      "outputs": [],
      "source": [
        "backend.clear_session()\n",
        "#Fixing the seed for random number generators so that we can ensure we receive the same output everytime\n",
        "np.random.seed(2)\n",
        "random.seed(2)\n",
        "tf.random.set_seed(2)"
      ]
    },
    {
      "cell_type": "code",
      "execution_count": null,
      "metadata": {
        "id": "36b7peUubI1q"
      },
      "outputs": [],
      "source": [
        "def create_model():\n",
        "      ## Initializing the neural network\n",
        "      model = Sequential()\n",
        "\n",
        "      ##Complete the code to add the input layer with 64 neurons and relu as activation function\n",
        "      model.add(Dense(_____,activation='_____',input_dim = X_train.shape[1]))\n",
        "\n",
        "      ## Complete the code to add the first hidden layer with 32 neurons with relu as activation functions\n",
        "      model.add(Dense(_____,activation='relu'))\n",
        "\n",
        "      ## Complete the code to add the output layer with Sigmoid Activation\n",
        "      model.add(Dense(1, activation = '_____'))\n",
        "      \n",
        "      ## Complete the code to initialize the model with Adam Optimer\n",
        "      optimizer = tf.keras.optimizers._____(0.001)                                        \n",
        "\n",
        "      ## Complete the code to compile the model with binary cross entropy as loss function and accuracy as metrics\n",
        "      model.compile(loss='_____',optimizer=optimizer,metrics=['accuracy'])\n",
        "      return model"
      ]
    },
    {
      "cell_type": "code",
      "execution_count": null,
      "metadata": {
        "id": "xVs_I0EubWk-"
      },
      "outputs": [],
      "source": [
        "model=create_model()\n",
        "model.summary()"
      ]
    },
    {
      "cell_type": "code",
      "execution_count": null,
      "metadata": {
        "id": "8j4im_XibZs2",
        "scrolled": true
      },
      "outputs": [],
      "source": [
        "## Complete the code to fit the model on train data  \n",
        "history = model.fit(_____,_____,batch_size=32,validation_data=(X_val,y_val),epochs=100,verbose=1)"
      ]
    },
    {
      "cell_type": "markdown",
      "metadata": {
        "id": "aMWKudMhrFnb"
      },
      "source": [
        "**Loss function**"
      ]
    },
    {
      "cell_type": "code",
      "execution_count": null,
      "metadata": {
        "id": "IZcVD0PdbjFJ",
        "scrolled": true
      },
      "outputs": [],
      "source": [
        "#Plotting Train Loss vs Validation Loss\n",
        "plt.plot(history.history['loss'])\n",
        "plt.plot(history.history['val_loss'])\n",
        "plt.title('model loss')\n",
        "plt.ylabel('Loss')\n",
        "plt.xlabel('Epoch')\n",
        "plt.legend(['train', 'validation'], loc='upper left')\n",
        "plt.show()"
      ]
    },
    {
      "cell_type": "markdown",
      "metadata": {
        "id": "0WEaSCfMrYV-"
      },
      "source": [
        "As you can see from the above image, this model is severely overfitting. Deep learning models are very sensitive to overfitting due to a large number of parameters. We need to find the optimal point where the training should be stopped.\n",
        "\n",
        "The best solution for the above problem is **Early stopping**.\n",
        "\n",
        "**Early stopping:** \n",
        "\n",
        "During training, the model is evaluated on a holdout validation dataset after each epoch. If the performance of the model on the validation dataset starts to degrade or no improvement (e.g. loss begins to increase or accuracy begins to decrease), then the training process is stopped after certain iterations. The model at the time that training is stopped is then used and is known to have good generalization performance.\n",
        "\n",
        "This procedure is called “early stopping” and is perhaps one of the oldest and most widely used forms of neural network regularization."
      ]
    },
    {
      "cell_type": "code",
      "execution_count": null,
      "metadata": {
        "id": "SHUqpfOAnYyt",
        "scrolled": true
      },
      "outputs": [],
      "source": [
        "#Importing classback API \n",
        "# Defining Early stopping\n",
        "es_cb = callbacks.EarlyStopping(monitor='val_loss', min_delta=0.001, patience=5)\n",
        "\n",
        "## Complete the code to call the create_model() function\n",
        "model_e=______()\n",
        "\n",
        "## Complete the code to train the model on X_train and y_train for 100 epochs and also use X_val and y_val as validation_data\n",
        "history_e = model_e.fit(_____,_____,batch_size=32,epochs=_____,verbose=1,validation_data=(_____,_____),callbacks=[es_cb])"
      ]
    },
    {
      "cell_type": "markdown",
      "metadata": {
        "id": "YHY5AVeCbzJg"
      },
      "source": [
        "**Loss function**"
      ]
    },
    {
      "cell_type": "code",
      "execution_count": null,
      "metadata": {
        "id": "Rw9wplWKoDlt"
      },
      "outputs": [],
      "source": [
        "# Plotting Train Loss vs Validation Loss\n",
        "plt.plot(history_e.history['loss'])\n",
        "plt.plot(history_e.history['val_loss'])\n",
        "plt.title('model loss')\n",
        "plt.ylabel('Loss')\n",
        "plt.xlabel('Epoch')\n",
        "plt.legend(['train', 'validation'], loc='upper left')\n",
        "plt.show()"
      ]
    },
    {
      "cell_type": "markdown",
      "metadata": {
        "id": "lryFo2_jrjx7"
      },
      "source": [
        "**Let's tune the threshold using ROC-AUC**\n",
        "\n",
        "\n",
        "There are many ways we could locate the threshold with the optimal balance between false positive and true positive rates.\n",
        "\n",
        "Firstly, the true positive rate is called the Sensitivity. The inverse of the false-positive rate is called the Specificity.\n",
        "\n",
        "Sensitivity = TruePositive / (TruePositive + FalseNegative)\n",
        "\n",
        "\n",
        "Specificity = TrueNegative / (FalsePositive + TrueNegative)\n",
        "\n",
        "Where:\n",
        "\n",
        "Sensitivity = True Positive Rate\n",
        "\n",
        "Specificity = 1 – False Positive Rate\n",
        "\n",
        "The Geometric Mean or G-Mean is a metric for imbalanced classification that, if optimized, will seek a balance between the sensitivity and the specificity.\n",
        "\n",
        "G-Mean = sqrt(Sensitivity * Specificity)\n",
        "\n",
        "One approach would be to test the model with each threshold returned from the call roc_auc_score() and select the threshold with the largest G-Mean value."
      ]
    },
    {
      "cell_type": "code",
      "execution_count": null,
      "metadata": {
        "id": "2wg5jjr8N68h"
      },
      "outputs": [],
      "source": [
        "# predict probabilities\n",
        "yhat = model_e.predict(X_train)\n",
        "# keep probabilities for the positive outcome only\n",
        "yhat = yhat[:, 0]\n",
        "# calculate roc curves\n",
        "fpr, tpr, thresholds = roc_curve(y_train, yhat)\n",
        "# calculate the g-mean for each threshold\n",
        "gmeans = np.sqrt(tpr * (1-fpr))\n",
        "# locate the index of the largest g-mean\n",
        "ix = np.argmax(gmeans)\n",
        "print('Best Threshold=%f, G-Mean=%.3f' % (thresholds[ix], gmeans[ix]))\n",
        "# plot the roc curve for the model\n",
        "pyplot.plot([0,1], [0,1], linestyle='--', label='No Skill')\n",
        "pyplot.plot(fpr, tpr, marker='.', label='Logistic')\n",
        "pyplot.scatter(fpr[ix], tpr[ix], marker='o', color='black', label='Best')\n",
        "# axis labels\n",
        "pyplot.xlabel('False Positive Rate')\n",
        "pyplot.ylabel('True Positive Rate')\n",
        "pyplot.legend()\n",
        "# show the plot\n",
        "pyplot.show()"
      ]
    },
    {
      "cell_type": "markdown",
      "metadata": {
        "id": "YnLfZ6SXu98p"
      },
      "source": [
        "**Predict the results using  the best  threshold**"
      ]
    },
    {
      "cell_type": "code",
      "execution_count": null,
      "metadata": {
        "id": "gX3SgBYSbzWv"
      },
      "outputs": [],
      "source": [
        "#Predicting the results using best as a threshold\n",
        "y_pred_e=model_e.predict(X_val)\n",
        "y_pred_e = (y_pred_e > thresholds[ix])\n",
        "y_pred_e"
      ]
    },
    {
      "cell_type": "markdown",
      "metadata": {
        "id": "fO_RDZZnb9IV"
      },
      "source": [
        "**Classification report**"
      ]
    },
    {
      "cell_type": "code",
      "execution_count": null,
      "metadata": {
        "id": "6ncSz0EIb3Ni"
      },
      "outputs": [],
      "source": [
        "## Complete the code to obtain the classification report Hint: use y_val\n",
        "cr=metrics.classification_report(_____,y_pred_e)\n",
        "print(cr)"
      ]
    },
    {
      "cell_type": "markdown",
      "metadata": {
        "id": "YEYayn_Mb_fM"
      },
      "source": [
        "**Confusion matrix**"
      ]
    },
    {
      "cell_type": "code",
      "execution_count": null,
      "metadata": {
        "id": "Md-l0_EEcEHY"
      },
      "outputs": [],
      "source": [
        "## Complete the code with y_val and y_pred_e to plot the confusion matrix \n",
        "\n",
        "cm1=confusion_matrix(_____, _____)\n",
        "labels = ['True Negative','False Positive','False Negative','True Positive']\n",
        "categories = [ 'Not_Exited','Exited']\n",
        "make_confusion_matrix(cm1, \n",
        "                      group_names=labels,\n",
        "                      categories=categories, \n",
        "                      cmap='Blues')"
      ]
    },
    {
      "cell_type": "markdown",
      "metadata": {
        "id": "g2TsEYy_pstz"
      },
      "source": [
        "### Model Improvement: Neural Network model with Dropout"
      ]
    },
    {
      "cell_type": "code",
      "execution_count": null,
      "metadata": {
        "id": "5C3Eh9w5c73L"
      },
      "outputs": [],
      "source": [
        "backend.clear_session()\n",
        "#Fixing the seed for random number generators so that we can ensure we receive the same output everytime\n",
        "np.random.seed(2)\n",
        "random.seed(2)\n",
        "tf.random.set_seed(2)"
      ]
    },
    {
      "cell_type": "code",
      "execution_count": null,
      "metadata": {
        "id": "Pm7DGrWQc73L"
      },
      "outputs": [],
      "source": [
        "#Initializing the neural network\n",
        "model_3 = Sequential()\n",
        "\n",
        "#Adding the input layer with 32 neurons and relu as activation function\n",
        "model_3.add(Dense(32,activation='relu',input_dim = X_train.shape[1]))\n",
        "\n",
        "# Complete the code to add dropout with dropout_rate= 0.2\n",
        "model_3.add(Dropout(_____))\n",
        "\n",
        "# Adding the first hidden layer with 16 neurons with relu as activation functions\n",
        "model_3.add(Dense(16,activation='relu'))\n",
        "\n",
        "# Complete the code to add dropout with dropout_rate= 0.1\n",
        "model_3.add(Dropout(_____))\n",
        "# Adding the second hidden layer with 8 neurons with relu as activation functions\n",
        "model_3.add(Dense(8,activation='relu'))\n",
        "\n",
        "# Adding the output layer\n",
        "model_3.add(Dense(1, activation = 'sigmoid'))"
      ]
    },
    {
      "cell_type": "code",
      "execution_count": null,
      "metadata": {
        "id": "neubbFpzc73L"
      },
      "outputs": [],
      "source": [
        "# Summary of the model\n",
        "model_3.summary()"
      ]
    },
    {
      "cell_type": "code",
      "execution_count": null,
      "metadata": {
        "id": "NAxRYgc4c73L"
      },
      "outputs": [],
      "source": [
        "# Initialize the ANN with Adam optimizer \n",
        "optimizer = tf.keras.optimizers.Adam(0.001)\n",
        "\n",
        "# Complete the code to compile the model with binary cross entropy as loss function and accuracy as metrics\n",
        "model_3.compile(loss='binary_crossentropy',optimizer=optimizer,metrics=['______'])"
      ]
    },
    {
      "cell_type": "code",
      "execution_count": null,
      "metadata": {
        "id": "NkMynB-Uc73L"
      },
      "outputs": [],
      "source": [
        "#Fitting the ANN with batch_size = 32 and 100 epochs \n",
        "history_3 = model_3.fit(X_train,y_train,batch_size=32,epochs=100,verbose=1,validation_data=(X_val,y_val),callbacks=[es_cb])"
      ]
    },
    {
      "cell_type": "markdown",
      "metadata": {
        "id": "Wyo42PPxrtOx"
      },
      "source": [
        "**Loss function**"
      ]
    },
    {
      "cell_type": "code",
      "execution_count": null,
      "metadata": {
        "id": "EN6vsVZbc73L"
      },
      "outputs": [],
      "source": [
        "# Complete the code to plot the Train Loss and Validation Loss\n",
        "plt.plot(history_3.history['_____'])\n",
        "plt.plot(history_3.history['_____'])\n",
        "plt.title('model loss')\n",
        "plt.ylabel('Loss')\n",
        "plt.xlabel('Epoch')\n",
        "plt.legend(['train', 'validation'], loc='upper left')\n",
        "plt.show()"
      ]
    },
    {
      "cell_type": "code",
      "execution_count": null,
      "metadata": {
        "id": "6kadKNWIc73M"
      },
      "outputs": [],
      "source": [
        "# predict probabilities\n",
        "yhat = model_3.predict(X_train)\n",
        "# keep probabilities for the positive outcome only\n",
        "yhat = yhat[:, 0]\n",
        "# calculate roc curves\n",
        "fpr, tpr, thresholds = roc_curve(y_train, yhat)\n",
        "# calculate the g-mean for each threshold\n",
        "gmeans = np.sqrt(tpr * (1-fpr))\n",
        "# locate the index of the largest g-mean\n",
        "ix = np.argmax(gmeans)\n",
        "print('Best Threshold=%f, G-Mean=%.3f' % (thresholds[ix], gmeans[ix]))\n",
        "# plot the roc curve for the model\n",
        "pyplot.plot([0,1], [0,1], linestyle='--', label='No Skill')\n",
        "pyplot.plot(fpr, tpr, marker='.', label='Logistic')\n",
        "pyplot.scatter(fpr[ix], tpr[ix], marker='o', color='black', label='Best')\n",
        "# axis labels\n",
        "pyplot.xlabel('False Positive Rate')\n",
        "pyplot.ylabel('True Positive Rate')\n",
        "pyplot.legend()\n",
        "# show the plot\n",
        "pyplot.show()"
      ]
    },
    {
      "cell_type": "markdown",
      "metadata": {
        "id": "iicHziQDuyPK"
      },
      "source": [
        "**Predict the results using  the best  threshold**"
      ]
    },
    {
      "cell_type": "code",
      "execution_count": null,
      "metadata": {
        "id": "cJA4CYVtc73M"
      },
      "outputs": [],
      "source": [
        "#Predicting the results using best as a threshold\n",
        "y_pred_e=model_3.predict(X_val)\n",
        "y_pred_3 = (y_pred_e > thresholds[ix])\n",
        "y_pred_3"
      ]
    },
    {
      "cell_type": "markdown",
      "metadata": {
        "id": "grkQ6kS0rxUx"
      },
      "source": [
        "**Classification report**"
      ]
    },
    {
      "cell_type": "code",
      "execution_count": null,
      "metadata": {
        "id": "OwjMvjfvc73M"
      },
      "outputs": [],
      "source": [
        "# Complete the code to obtain the classification report\n",
        "cr=metrics.classification_report(_____,y_pred_3)\n",
        "print(cr)"
      ]
    },
    {
      "cell_type": "markdown",
      "metadata": {
        "id": "Izx7Q2mErz_b"
      },
      "source": [
        "**Confusion report**"
      ]
    },
    {
      "cell_type": "code",
      "execution_count": null,
      "metadata": {
        "id": "DPw40biRc73M"
      },
      "outputs": [],
      "source": [
        "# Complete the code to obtain the confusion matrix\n",
        "\n",
        "cm1=_____(y_val, y_pred_3)\n",
        "labels = ['True Negative','False Positive','False Negative','True Positive']\n",
        "categories = [ 'Not_Exited','Exited']\n",
        "make_confusion_matrix(cm1, \n",
        "                      group_names=labels,\n",
        "                      categories=categories, \n",
        "                      cmap='Blues')"
      ]
    },
    {
      "cell_type": "markdown",
      "metadata": {
        "id": "K90YO0mzOwX8"
      },
      "source": [
        "### Model Improvement: Neural Network model with Hyperparameter tuning"
      ]
    },
    {
      "cell_type": "code",
      "execution_count": null,
      "metadata": {
        "id": "R2NzU00ac73M"
      },
      "outputs": [],
      "source": [
        "backend.clear_session()\n",
        "#Fixing the seed for random number generators so that we can ensure we receive the same output everytime\n",
        "np.random.seed(2)\n",
        "random.seed(2)\n",
        "tf.random.set_seed(2)"
      ]
    },
    {
      "cell_type": "code",
      "execution_count": null,
      "metadata": {
        "id": "35OEX3bNyeT3"
      },
      "outputs": [],
      "source": [
        "def create_model_v2(dropout_rate=0.1,lr=0.001,layer_1=64,layer_2=32):  \n",
        "    np.random.seed(1337)\n",
        "\n",
        "    #Initializing the neural network\n",
        "    model = Sequential()\n",
        "\n",
        "    # This adds the input layer (by specifying input dimension)\n",
        "    model.add(Dense(layer_1,activation='relu',input_dim = X_train.shape[1]))\n",
        "\n",
        "    ## Complete the code by adding dropout with dropout rate=0.5\n",
        "    model.add(Dropout(0.5))\n",
        "\n",
        "    # # Adding the hidden layer\n",
        "    # Notice that we do not need to specify input dim. \n",
        "    model.add(Dense(layer_2,activation='relu'))\n",
        "\n",
        "    # # Adding the output layer\n",
        "    # Notice that we do not need to specify input dim. \n",
        "    # we have an output of 1 node, which is the the desired dimensions of our output (stay with the bank or not)\n",
        "    # We use the sigmoid because we want probability outcomes\n",
        "    model.add(Dense(1, activation='sigmoid'))\n",
        "\n",
        "    # Adding Adam initializer\n",
        "    optimizer = tf.keras.optimizers.Adam(learning_rate=lr)\n",
        "\n",
        "    ## Complete the code to compile the model using binary_crossentropy as loss\n",
        "    model.compile(optimizer = optimizer,loss = '_____', metrics = ['accuracy'])\n",
        "    return model"
      ]
    },
    {
      "cell_type": "markdown",
      "metadata": {
        "id": "fcBG9ypKyeT3"
      },
      "source": [
        "**Using Grid search**\n",
        "\n",
        "We are using grid search to optimize two hyperparameters called **batch size, epochs** due to the limited time. But you can optimize the other hyperparameters as mentioned above"
      ]
    },
    {
      "cell_type": "code",
      "execution_count": null,
      "metadata": {
        "id": "0S0ezhBqyeT3"
      },
      "outputs": [],
      "source": [
        "## Complete the code by calling the creat_model_v2 function in KerasClassifier\n",
        "keras_estimator = KerasClassifier(build_fn=_____, verbose=1)"
      ]
    },
    {
      "cell_type": "code",
      "execution_count": null,
      "metadata": {
        "id": "r1IiggQryeT4"
      },
      "outputs": [],
      "source": [
        "# define the grid search parameters\n",
        "param_grid = {\n",
        "    'batch_size':[40, 64, 128],\n",
        "    \"lr\":[0.01,0.001,0.1]}\n",
        "\n",
        "\n",
        "kfold_splits = 3\n",
        "# Complete the code by using the the defined keras_estimator as estimator.\n",
        "grid = GridSearchCV(estimator=_____,  \n",
        "                    verbose=1,\n",
        "                    cv=kfold_splits,  \n",
        "                    param_grid=param_grid,n_jobs=-1)"
      ]
    },
    {
      "cell_type": "code",
      "execution_count": null,
      "metadata": {
        "id": "Wli7_fU3yeT4"
      },
      "outputs": [],
      "source": [
        "## Complete the code to fit the model on train data and use x_val and y_val as validation data\n",
        "grid_result = grid.fit(_____, _____,validation_data = (_____,_____),verbose=1) \n",
        "\n",
        "# Summarize results\n",
        "print(\"Best: %f using %s\" % (grid_result.best_score_, grid_result.best_params_))\n",
        "# Printing mean \n",
        "means = grid_result.cv_results_['mean_test_score']\n",
        "# Printing standard deviation\n",
        "stds = grid_result.cv_results_['std_test_score']\n",
        "# Printing best parameters\n",
        "params = grid_result.cv_results_['params']"
      ]
    },
    {
      "cell_type": "markdown",
      "metadata": {
        "id": "RWqBmVNdyeT5"
      },
      "source": [
        "**Let's create the final model with the obtained configuration after hyperparameter tuning**"
      ]
    },
    {
      "cell_type": "code",
      "execution_count": null,
      "metadata": {
        "id": "skxGXsQfyeT5"
      },
      "outputs": [],
      "source": [
        "# Creating the model\n",
        "estimator_v2=create_model_v2(lr=grid_result.best_params_['lr'])\n",
        "# Printing model summary\n",
        "estimator_v2.summary()"
      ]
    },
    {
      "cell_type": "code",
      "execution_count": null,
      "metadata": {
        "id": "rkc1h61OyeT5",
        "scrolled": true
      },
      "outputs": [],
      "source": [
        "## Complete the code to fit the model on train data abd train the model with best batch_size obtained from hyperparameter tuning\n",
        "history_h=estimator_v2.fit(_____, _____, epochs=100, batch_size = grid_result.best_params_['_____'], verbose=1,validation_data=(X_val,y_val))"
      ]
    },
    {
      "cell_type": "markdown",
      "metadata": {
        "id": "0c4KjK_nyeT6"
      },
      "source": [
        "**Loss function**"
      ]
    },
    {
      "cell_type": "code",
      "execution_count": null,
      "metadata": {
        "id": "mbATbYWfyeT6"
      },
      "outputs": [],
      "source": [
        "N =100\n",
        "plt.figure(figsize=(8,6))\n",
        "plt.plot(np.arange(0, N), history_h.history[\"loss\"], label=\"train_loss\")\n",
        "plt.plot(np.arange(0, N), history_h.history[\"val_loss\"], label=\"val_loss\")\n",
        "\n",
        "plt.title(\"Training Loss and Validation loss on the dataset\")\n",
        "plt.xlabel(\"Epoch #\")\n",
        "plt.ylabel(\"train_Loss/val_loss\")\n",
        "plt.legend(loc=\"center\")\n",
        "plt.show()"
      ]
    },
    {
      "cell_type": "markdown",
      "metadata": {
        "id": "sorrVB0nsTGS"
      },
      "source": [
        "**Threshold**"
      ]
    },
    {
      "cell_type": "code",
      "execution_count": null,
      "metadata": {
        "id": "ihxKDdtg4e5U"
      },
      "outputs": [],
      "source": [
        "# predict probabilities\n",
        "yhat = estimator_v2.predict(X_train)\n",
        "# keep probabilities for the positive outcome only\n",
        "yhat = yhat[:, 0]\n",
        "# calculate roc curves\n",
        "fpr, tpr, thresholds = roc_curve(y_train, yhat)\n",
        "# calculate the g-mean for each threshold\n",
        "gmeans = np.sqrt(tpr * (1-fpr))\n",
        "# locate the index of the largest g-mean\n",
        "ix = np.argmax(gmeans)\n",
        "print('Best Threshold=%f, G-Mean=%.3f' % (thresholds[ix], gmeans[ix]))\n",
        "# plot the roc curve for the model\n",
        "pyplot.plot([0,1], [0,1], linestyle='--', label='No Skill')\n",
        "pyplot.plot(fpr, tpr, marker='.', label='Logistic')\n",
        "pyplot.scatter(fpr[ix], tpr[ix], marker='o', color='black', label='Best')\n",
        "# axis labels\n",
        "pyplot.xlabel('False Positive Rate')\n",
        "pyplot.ylabel('True Positive Rate')\n",
        "pyplot.legend()\n",
        "# show the plot\n",
        "pyplot.show()"
      ]
    },
    {
      "cell_type": "markdown",
      "metadata": {
        "id": "xbn6CItqyeT6"
      },
      "source": [
        "**Predict the results using  the best  threshold**"
      ]
    },
    {
      "cell_type": "code",
      "execution_count": null,
      "metadata": {
        "id": "wQJF8Q33yeT6"
      },
      "outputs": [],
      "source": [
        "# Complete the code to obtain the predictions on X_val\n",
        "y_pred_h = estimator_v2.predict(_____)\n",
        "print(y_pred_h)"
      ]
    },
    {
      "cell_type": "code",
      "execution_count": null,
      "metadata": {
        "id": "sM2YrILvyeT7"
      },
      "outputs": [],
      "source": [
        "# To use the confusion Matrix, we need to convert the probabilities that a customer will leave the bank into the form true or false. \n",
        "# So we will use the best cutoff value  to indicate whether they are likely to exit or not.\n",
        "y_pred_h = (y_pred_h > thresholds[ix])\n",
        "print(y_pred_h)"
      ]
    },
    {
      "cell_type": "markdown",
      "metadata": {
        "id": "7Yk1bcrasf4r"
      },
      "source": [
        "**Classification report**"
      ]
    },
    {
      "cell_type": "code",
      "execution_count": null,
      "metadata": {
        "id": "05TQdDtvyeT8"
      },
      "outputs": [],
      "source": [
        "# Complete the code to obtain the classification report\n",
        "cr=metrics._____(y_val,y_pred_h)\n",
        "print(cr)"
      ]
    },
    {
      "cell_type": "markdown",
      "metadata": {
        "id": "zsuLKdS3yeT7"
      },
      "source": [
        "**Confusion matrix**"
      ]
    },
    {
      "cell_type": "code",
      "execution_count": null,
      "metadata": {
        "id": "F0j7ImQXyeT7"
      },
      "outputs": [],
      "source": [
        "## Complete the code to obtain the confusion matrix\n",
        "cm_h=_____(y_val, y_pred_h)\n",
        "\n",
        "labels = ['True Negative','False Positive','False Negative','True Positive']\n",
        "categories = [ 'Not_Exited','Exited']\n",
        "make_confusion_matrix(cm_h, \n",
        "                      group_names=labels,\n",
        "                      categories=categories, \n",
        "                      cmap='Blues')"
      ]
    },
    {
      "cell_type": "markdown",
      "metadata": {
        "id": "TU-l_ltNst3g"
      },
      "source": [
        "### Model Improvement: Neural Network model with balanced data"
      ]
    },
    {
      "cell_type": "markdown",
      "metadata": {
        "id": "76LzW0xQODsm"
      },
      "source": [
        "**Now try to apply SMOTE to balance this dataset and then again apply hyperparamter tuning accordingly.**"
      ]
    },
    {
      "cell_type": "code",
      "execution_count": null,
      "metadata": {
        "id": "UaCHzSGvqQNY"
      },
      "outputs": [],
      "source": [
        "## Complete the code to apply SMOTE on train data\n",
        "sm  = _____(random_state=42)\n",
        "X_train, y_train = sm.fit_resample(_____, _____) \n",
        "print('After UpSampling, the shape of train_X: {}'.format(X_train.shape)) \n",
        "print('After UpSampling, the shape of train_y: {} \\n'.format(y_train.shape))"
      ]
    },
    {
      "cell_type": "code",
      "execution_count": null,
      "metadata": {
        "id": "wtZ8-Ujyq71c"
      },
      "outputs": [],
      "source": [
        "sns.countplot(y_train['Exited'])"
      ]
    },
    {
      "cell_type": "markdown",
      "metadata": {
        "id": "WVS6_7yms1Rt"
      },
      "source": [
        "**Build a model with the balanced dataset**"
      ]
    },
    {
      "cell_type": "code",
      "execution_count": null,
      "metadata": {
        "id": "o0BI30ioc73P"
      },
      "outputs": [],
      "source": [
        "backend.clear_session()\n",
        "#Fixing the seed for random number generators so that we can ensure we receive the same output everytime\n",
        "np.random.seed(2)\n",
        "random.seed(2)\n",
        "tf.random.set_seed(2)"
      ]
    },
    {
      "cell_type": "code",
      "execution_count": null,
      "metadata": {
        "id": "QCBmYTJ6rmoL",
        "scrolled": true
      },
      "outputs": [],
      "source": [
        "## Complete the code to initilaize a sequential model\n",
        "model_4 = _____()\n",
        "\n",
        "# Complete the code to add a input layer of 32 neurons with relu as activation function \n",
        "model_4.add(Dense(_____,activation='____',input_dim = X_train.shape[1]))\n",
        "\n",
        "# Complete the code to add dropout with dropout rate=0.2\n",
        "model_4.add(_____(0.2))\n",
        "# Adding hidden layer with 16 neurons with relu as activation function\n",
        "model_4.add(Dense(16,activation='relu'))\n",
        "\n",
        "# Adding the dropout\n",
        "model_4.add(Dropout(0.1))\n",
        "\n",
        "## Complete the code to add dense layers with 8 neurons\n",
        "model_4.add(Dense(_____,activation='relu'))\n",
        "\n",
        "# Complete the code to add suitable activation function in the final layer\n",
        "model_4.add(Dense(1, activation = '_____'))"
      ]
    },
    {
      "cell_type": "code",
      "execution_count": null,
      "metadata": {
        "id": "RBIIXn76c73P"
      },
      "outputs": [],
      "source": [
        "## Complete the code to obtain the summary of the model\n",
        "model_4._____()"
      ]
    },
    {
      "cell_type": "code",
      "execution_count": null,
      "metadata": {
        "id": "G2Zl40pIc73P",
        "scrolled": true
      },
      "outputs": [],
      "source": [
        "# Complete the code to define earlystopping as callback\n",
        "es_cb = callbacks._____(monitor='val_loss', min_delta=0.001, patience=5)\n",
        "\n",
        "# Initializing Adam optimizer\n",
        "optimizer = tf.keras.optimizers.Adam(0.001)\n",
        "\n",
        "# Complining the model with binary cross entropy as loss and accuracy as metrics\n",
        "model_4.compile(optimizer = optimizer,loss = 'binary_crossentropy', metrics = ['accuracy'])\n",
        "\n",
        "# Complete the code to fit the model on train with batch_size of 64, epochs of 100 and callbacks as earlystopping\n",
        "history_4 = model_4.fit(_____,_____,batch_size=___,epochs=100,verbose=1,validation_data = (X_val,y_val),callbacks=[_____])"
      ]
    },
    {
      "cell_type": "markdown",
      "metadata": {
        "id": "7dKyLjt_s6RF"
      },
      "source": [
        "**Loss function**"
      ]
    },
    {
      "cell_type": "code",
      "execution_count": null,
      "metadata": {
        "id": "IXyLsusWjgJi"
      },
      "outputs": [],
      "source": [
        "# Capturing learning history per epoch\n",
        "hist  = pd.DataFrame(history_4.history)\n",
        "hist['epoch'] = history_4.epoch\n",
        "\n",
        "# Plotting accuracy at different epochs\n",
        "plt.plot(hist['loss'])\n",
        "plt.plot(hist['val_loss'])\n",
        "plt.legend((\"train\" , \"valid\") , loc =0)"
      ]
    },
    {
      "cell_type": "markdown",
      "metadata": {
        "id": "WtvD0AYog9jJ"
      },
      "source": [
        "**Finding the optimal  threshold**"
      ]
    },
    {
      "cell_type": "code",
      "execution_count": null,
      "metadata": {
        "id": "onVWpe2BrCX8"
      },
      "outputs": [],
      "source": [
        "## Complete the code to find the optimal threshold using X_train\n",
        "yhat = model_4.predict(_____)\n",
        "\n",
        "# keep probabilities for the positive outcome only\n",
        "yhat = yhat[:, 0]\n",
        "# calculate roc curves\n",
        "fpr, tpr, thresholds = roc_curve(y_train, yhat)\n",
        "# calculate the g-mean for each threshold\n",
        "gmeans = np.sqrt(tpr * (1-fpr))\n",
        "# locate the index of the largest g-mean\n",
        "ix = np.argmax(gmeans)\n",
        "print('Best Threshold=%f, G-Mean=%.3f' % (thresholds[ix], gmeans[ix]))\n",
        "# plot the roc curve for the model\n",
        "pyplot.plot([0,1], [0,1], linestyle='--', label='No Skill')\n",
        "pyplot.plot(fpr, tpr, marker='.', label='Logistic')\n",
        "pyplot.scatter(fpr[ix], tpr[ix], marker='o', color='black', label='Best')\n",
        "# axis labels\n",
        "pyplot.xlabel('False Positive Rate')\n",
        "pyplot.ylabel('True Positive Rate')\n",
        "pyplot.legend()\n",
        "# show the plot\n",
        "pyplot.show()"
      ]
    },
    {
      "cell_type": "code",
      "execution_count": null,
      "metadata": {
        "id": "09NXOv5usSVj"
      },
      "outputs": [],
      "source": [
        "## Complete the code to obtain the predictions on X_val\n",
        "y_pred_s = model_4.predict(_____)\n",
        "#Predicting the results using tuned threshold\n",
        "y_pred_s = (y_pred_s >thresholds[ix])\n",
        "y_pred_s"
      ]
    },
    {
      "cell_type": "markdown",
      "metadata": {
        "id": "QpyMtq6_tFzR"
      },
      "source": [
        "**Classification report**"
      ]
    },
    {
      "cell_type": "code",
      "execution_count": null,
      "metadata": {
        "id": "UX3pGtousY5l"
      },
      "outputs": [],
      "source": [
        "cr=metrics.classification_report(y_val,y_pred_s)\n",
        "print(cr)"
      ]
    },
    {
      "cell_type": "markdown",
      "metadata": {
        "id": "mAzCIUzDtId7"
      },
      "source": [
        "**Confusion matrix**"
      ]
    },
    {
      "cell_type": "code",
      "execution_count": null,
      "metadata": {
        "id": "MJemotBEsdUs"
      },
      "outputs": [],
      "source": [
        "#Calculating the confusion matrix \n",
        "cm_s=confusion_matrix(y_val, y_pred_s)\n",
        "labels = ['True Negative','False Positive','False Negative','True Positive']\n",
        "categories = [ 'Not_Exited','Exited']\n",
        "make_confusion_matrix(cm_s, \n",
        "                      group_names=labels,\n",
        "                      categories=categories, \n",
        "                      cmap='Blues')"
      ]
    },
    {
      "cell_type": "markdown",
      "metadata": {
        "id": "cpKLOKZdqaQ9"
      },
      "source": [
        "## Final Model\n",
        "\n",
        "\n"
      ]
    },
    {
      "cell_type": "code",
      "execution_count": null,
      "metadata": {
        "id": "6oOsU5BYqaQ9"
      },
      "outputs": [],
      "source": [
        "# predict probabilities using the best model\n",
        "yhat = ___________.predict(X_train)\n",
        "# keep probabilities for the positive outcome only\n",
        "yhat = yhat[:, 0]\n",
        "# calculate roc curves\n",
        "fpr, tpr, thresholds = roc_curve(y_train, yhat)\n",
        "# calculate the g-mean for each threshold\n",
        "gmeans = np.sqrt(tpr * (1-fpr))\n",
        "# locate the index of the largest g-mean\n",
        "ix = np.argmax(gmeans)\n",
        "print('Best Threshold=%f, G-Mean=%.3f' % (thresholds[ix], gmeans[ix]))\n",
        "# plot the roc curve for the model\n",
        "pyplot.plot([0,1], [0,1], linestyle='--', label='No Skill')\n",
        "pyplot.plot(fpr, tpr, marker='.', label='Logistic')\n",
        "pyplot.scatter(fpr[ix], tpr[ix], marker='o', color='black', label='Best')\n",
        "# axis labels\n",
        "pyplot.xlabel('False Positive Rate')\n",
        "pyplot.ylabel('True Positive Rate')\n",
        "pyplot.legend()\n",
        "# show the plot\n",
        "pyplot.show()"
      ]
    },
    {
      "cell_type": "code",
      "execution_count": null,
      "metadata": {
        "id": "TN_4kWupqaQ-"
      },
      "outputs": [],
      "source": [
        "# Complete the code to Predict the X_test data using the best model\n",
        "y_pred_test = ____________.predict(X_test)\n",
        "y_pred_test = (y_pred_test > thresholds[ix])\n",
        "print(y_pred_test)"
      ]
    },
    {
      "cell_type": "markdown",
      "metadata": {
        "id": "Lgrb5OMRt4nv"
      },
      "source": [
        "**Classification report**"
      ]
    },
    {
      "cell_type": "code",
      "execution_count": null,
      "metadata": {
        "id": "BHjfWylLqaQ-"
      },
      "outputs": [],
      "source": [
        "## Complete the code to obtain the classification report on y_test and the predicted values\n",
        "cr=metrics.classification_report(_____,_____)\n",
        "print(cr)"
      ]
    },
    {
      "cell_type": "markdown",
      "metadata": {
        "id": "jR8IyY6Nt9HS"
      },
      "source": [
        "**Confusion report**"
      ]
    },
    {
      "cell_type": "code",
      "execution_count": null,
      "metadata": {
        "id": "MJGMduR6qaQ-"
      },
      "outputs": [],
      "source": [
        "# Complete the code to obtain the confusion matrix \n",
        "cm_h=confusion_matrix(_____, _____)\n",
        "labels = ['True Negative','False Positive','False Negative','True Positive']\n",
        "categories = [ 'Not_Exited','Exited']\n",
        "make_confusion_matrix(cm_h, \n",
        "                      group_names=labels,\n",
        "                      categories=categories, \n",
        "                      cmap='Blues')"
      ]
    },
    {
      "cell_type": "markdown",
      "metadata": {
        "id": "XE1iHOqqOEmV"
      },
      "source": [
        "## Actionable Insights and Business Recommendations"
      ]
    },
    {
      "cell_type": "markdown",
      "metadata": {
        "id": "4AHtuEZPvQg9"
      },
      "source": [
        "*"
      ]
    },
    {
      "cell_type": "markdown",
      "metadata": {
        "id": "4n5sePPMuEec"
      },
      "source": [
        "_____"
      ]
    }
  ],
  "metadata": {
    "colab": {
      "collapsed_sections": [
        "NjPy2L-tqoCo",
        "-cYmf-q8c726",
        "z7ubXtC8HUOA",
        "BwaZDbsYf0-N",
        "2TZ5GstYgG1I",
        "k-Dl42UCgLdV",
        "WP6rrI-kgaxW",
        "tGhe9qVhgoY1",
        "0TTT9Escruwg",
        "0M_y7Y33g2nP",
        "BsBwLHcmHUOg",
        "W036jsgwRdVN",
        "tQlhG1x0iREg",
        "O1WgW83rjza0",
        "MUk3Aj_Bj3cl",
        "9ceasiVRkcjS",
        "6rZ-1bs_ksSe",
        "XWM5q0wQkvws",
        "mGnQfFu2kzZe",
        "xSu6H4hLlBld",
        "xbDEgCfYlNsi",
        "W6PGNDMflTqt",
        "_WcPAd3sldqS",
        "9XFvZ8iZlkeN",
        "d3hg240IlpqV",
        "sw4xLDlemo3C",
        "PslMUrhhnFdl",
        "Ggqz7d4JnPul",
        "U6ch7akdnc9J",
        "qEJVhlwCnj95",
        "tz4mcNb_npGW",
        "MX_anKu1oK9L",
        "Wdrge12TouUX",
        "LMvo8Ioco7kd",
        "9va9WeGco-Iz",
        "7Cdem_NJpar1",
        "7eWct2L10DUm",
        "CUXPaUwZHUO8",
        "W7_uSvumqSMK",
        "FayG94iciXVS",
        "KwOyQwUh4Mo9",
        "IciEK79v7GCm",
        "g2TsEYy_pstz",
        "K90YO0mzOwX8",
        "fcBG9ypKyeT3",
        "TU-l_ltNst3g",
        "G9v-YCu-t6eD",
        "cpKLOKZdqaQ9",
        "XE1iHOqqOEmV"
      ],
      "provenance": []
    },
    "kernelspec": {
      "display_name": "Python 3",
      "language": "python",
      "name": "python3"
    },
    "language_info": {
      "codemirror_mode": {
        "name": "ipython",
        "version": 3
      },
      "file_extension": ".py",
      "mimetype": "text/x-python",
      "name": "python",
      "nbconvert_exporter": "python",
      "pygments_lexer": "ipython3",
      "version": "3.9.12"
    }
  },
  "nbformat": 4,
  "nbformat_minor": 0
}
