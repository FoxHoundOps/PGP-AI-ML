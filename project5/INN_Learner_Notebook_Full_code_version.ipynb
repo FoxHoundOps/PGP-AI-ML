{
  "cells": [
    {
      "cell_type": "markdown",
      "metadata": {},
      "source": [
        "**Learner Name: Damian Najera**"
      ]
    },
    {
      "cell_type": "markdown",
      "metadata": {
        "id": "DRX9f5_6HUNP"
      },
      "source": [
        "# Introduction to Neural Networks: Bank Churn prediction"
      ]
    },
    {
      "cell_type": "markdown",
      "metadata": {
        "id": "NjPy2L-tqoCo"
      },
      "source": [
        "## Problem Statement"
      ]
    },
    {
      "cell_type": "markdown",
      "metadata": {
        "id": "f0ulaip3ctHj"
      },
      "source": [
        "### Context"
      ]
    },
    {
      "cell_type": "markdown",
      "metadata": {
        "id": "AcLJz1kvqoq0"
      },
      "source": [
        "Businesses like banks which provide service have to worry about problem of 'Customer Churn' i.e. customers leaving and joining another service provider. It is important to understand which aspects of the service influence a customer's decision in this regard. Management can concentrate efforts on improvement of service, keeping in mind these priorities."
      ]
    },
    {
      "cell_type": "markdown",
      "metadata": {
        "id": "nfRtSZuqcvNP"
      },
      "source": [
        "### Objective"
      ]
    },
    {
      "cell_type": "markdown",
      "metadata": {
        "id": "TtljX1H-qqoD"
      },
      "source": [
        "You as a Data scientist with the  bank need to  build a neural network based classifier that can determine whether a customer will leave the bank  or not in the next 6 months."
      ]
    },
    {
      "cell_type": "markdown",
      "metadata": {
        "id": "4VS6p3QCczwW"
      },
      "source": [
        "### Data Dictionary"
      ]
    },
    {
      "cell_type": "markdown",
      "metadata": {
        "id": "99T0qx8mq2DK"
      },
      "source": [
        "* CustomerId: Unique ID which is assigned to each customer\n",
        "\n",
        "* Surname: Last name of the customer\n",
        " \n",
        "* CreditScore: It defines the credit history of the customer.\n",
        "  \n",
        "* Geography: A customer’s location \n",
        "   \n",
        "* Gender: It defines the Gender of the customer\n",
        "   \n",
        "* Age: Age of the customer \n",
        "    \n",
        "* Tenure: Number of years for which the customer has been with the bank\n",
        "\n",
        "* NumOfProducts: refers to the number of products that a customer has purchased through the bank.\n",
        "\n",
        "* Balance: Account balance\n",
        "\n",
        "* HasCrCard: It is a categorical variable which decides whether the customer has credit card or not.\n",
        "\n",
        "* EstimatedSalary: Estimated salary \n",
        "\n",
        "* isActiveMember: Is is a categorical variable which decides whether the customer is active member of the bank or not ( Active member in the sense, using bank products regularly, making transactions etc )\n",
        "\n",
        "* Exited : whether or not the customer left the bank within six month. It can take two values \n",
        "** 0=No ( Customer did not leave the bank )\n",
        "** 1=Yes ( Customer left the bank )"
      ]
    },
    {
      "cell_type": "markdown",
      "metadata": {
        "id": "LjqhXJsbdCc5"
      },
      "source": [
        "## **Please read the instructions carefully before starting the project.** \n",
        "\n",
        "This is a commented Python Notebook file in which all the instructions and tasks to be performed are mentioned. \n",
        "\n",
        "* Blanks '_______' are provided in the notebook that need to be filled with an appropriate code to get the correct result\n",
        "\n",
        "* With every '_______' blank, there is a comment that briefly describes what needs to be filled in the blank space\n",
        "\n",
        "* Identify the task to be performed correctly and only then proceed to write the required code\n",
        "\n",
        "* Fill the code wherever asked by the commented lines like \"# write your code here\" or \"# complete the code\"\n",
        "\n",
        "* Running incomplete code may throw an error\n",
        "\n",
        "* Please run the codes in a sequential manner from the beginning to avoid any unnecessary errors\n",
        "\n",
        "* Add the results/observations derived from the analysis in the presentation and submit the same in .pdf format"
      ]
    },
    {
      "cell_type": "markdown",
      "metadata": {
        "id": "-cYmf-q8c726"
      },
      "source": [
        "## Importing necessary libraries"
      ]
    },
    {
      "cell_type": "code",
      "execution_count": 1,
      "metadata": {
        "id": "IfeZclzIHUNs"
      },
      "outputs": [],
      "source": [
        "# Libraries to help with reading and manipulating data\n",
        "import pandas as pd\n",
        "import numpy as np\n",
        "# Library to split data\n",
        "from sklearn.model_selection import train_test_split\n",
        "# Library to encode the variables\n",
        "from sklearn import preprocessing\n",
        "# To plot confusion matrix\n",
        "from sklearn.metrics import confusion_matrix\n",
        "# libaries to help with data visualization\n",
        "import matplotlib.pyplot as plt\n",
        "import seaborn as sns\n",
        "# library to import to standardize the data\n",
        "from sklearn.preprocessing import StandardScaler\n",
        "#To import different metrics \n",
        "from sklearn import metrics\n",
        "from tensorflow.keras import backend\n",
        "# Library to avoid the warnings\n",
        "import warnings\n",
        "warnings.filterwarnings(\"ignore\")\n",
        "# importing different functions to build models\n",
        "from tensorflow.keras.models import Sequential\n",
        "from tensorflow.keras.layers import Dense, Dropout\n",
        "from scikeras.wrappers import KerasClassifier\n",
        "import tensorflow as tf\n",
        "# importing GridSearch CV\n",
        "from sklearn.model_selection import GridSearchCV\n",
        "# importing roc_curve to plot\n",
        "from sklearn.metrics import roc_curve\n",
        "from matplotlib import pyplot\n",
        "# importing SMOTE\n",
        "from imblearn.over_sampling import SMOTE\n",
        "# importing metrics\n",
        "from sklearn import metrics\n",
        "import random\n",
        "#Importing classback API\n",
        "from keras import callbacks"
      ]
    },
    {
      "cell_type": "markdown",
      "metadata": {
        "id": "z7ubXtC8HUOA"
      },
      "source": [
        "## Loading the dataset"
      ]
    },
    {
      "cell_type": "code",
      "execution_count": 2,
      "metadata": {
        "id": "1QJLp3P3HUOC"
      },
      "outputs": [],
      "source": [
        "data = pd.read_csv(\"Churn.csv\")  # Complete the code to read the dataset "
      ]
    },
    {
      "cell_type": "markdown",
      "metadata": {
        "id": "BwaZDbsYf0-N"
      },
      "source": [
        "## Data Overview"
      ]
    },
    {
      "cell_type": "markdown",
      "metadata": {
        "id": "0yBI-Ck4f_Yn"
      },
      "source": [
        "The initial steps to get an overview of any dataset is to: \n",
        "- Observe the first few rows of the dataset, to check whether the dataset has been loaded properly or not\n",
        "- Get information about the number of rows and columns in the dataset\n",
        "- Find out the data types of the columns to ensure that data is stored in the preferred format and the value of each property is as expected.\n",
        "- Check the statistical summary of the dataset to get an overview of the numerical columns of the data"
      ]
    },
    {
      "cell_type": "markdown",
      "metadata": {
        "id": "2TZ5GstYgG1I"
      },
      "source": [
        "### View the first and last 5 rows of the dataset."
      ]
    },
    {
      "cell_type": "code",
      "execution_count": 3,
      "metadata": {
        "id": "nCfASHJ8HUOS"
      },
      "outputs": [
        {
          "data": {
            "text/html": [
              "<div>\n",
              "<style scoped>\n",
              "    .dataframe tbody tr th:only-of-type {\n",
              "        vertical-align: middle;\n",
              "    }\n",
              "\n",
              "    .dataframe tbody tr th {\n",
              "        vertical-align: top;\n",
              "    }\n",
              "\n",
              "    .dataframe thead th {\n",
              "        text-align: right;\n",
              "    }\n",
              "</style>\n",
              "<table border=\"1\" class=\"dataframe\">\n",
              "  <thead>\n",
              "    <tr style=\"text-align: right;\">\n",
              "      <th></th>\n",
              "      <th>RowNumber</th>\n",
              "      <th>CustomerId</th>\n",
              "      <th>Surname</th>\n",
              "      <th>CreditScore</th>\n",
              "      <th>Geography</th>\n",
              "      <th>Gender</th>\n",
              "      <th>Age</th>\n",
              "      <th>Tenure</th>\n",
              "      <th>Balance</th>\n",
              "      <th>NumOfProducts</th>\n",
              "      <th>HasCrCard</th>\n",
              "      <th>IsActiveMember</th>\n",
              "      <th>EstimatedSalary</th>\n",
              "      <th>Exited</th>\n",
              "    </tr>\n",
              "  </thead>\n",
              "  <tbody>\n",
              "    <tr>\n",
              "      <th>0</th>\n",
              "      <td>1</td>\n",
              "      <td>15634602</td>\n",
              "      <td>Hargrave</td>\n",
              "      <td>619</td>\n",
              "      <td>France</td>\n",
              "      <td>Female</td>\n",
              "      <td>42</td>\n",
              "      <td>2</td>\n",
              "      <td>0.00</td>\n",
              "      <td>1</td>\n",
              "      <td>1</td>\n",
              "      <td>1</td>\n",
              "      <td>101348.88</td>\n",
              "      <td>1</td>\n",
              "    </tr>\n",
              "    <tr>\n",
              "      <th>1</th>\n",
              "      <td>2</td>\n",
              "      <td>15647311</td>\n",
              "      <td>Hill</td>\n",
              "      <td>608</td>\n",
              "      <td>Spain</td>\n",
              "      <td>Female</td>\n",
              "      <td>41</td>\n",
              "      <td>1</td>\n",
              "      <td>83807.86</td>\n",
              "      <td>1</td>\n",
              "      <td>0</td>\n",
              "      <td>1</td>\n",
              "      <td>112542.58</td>\n",
              "      <td>0</td>\n",
              "    </tr>\n",
              "    <tr>\n",
              "      <th>2</th>\n",
              "      <td>3</td>\n",
              "      <td>15619304</td>\n",
              "      <td>Onio</td>\n",
              "      <td>502</td>\n",
              "      <td>France</td>\n",
              "      <td>Female</td>\n",
              "      <td>42</td>\n",
              "      <td>8</td>\n",
              "      <td>159660.80</td>\n",
              "      <td>3</td>\n",
              "      <td>1</td>\n",
              "      <td>0</td>\n",
              "      <td>113931.57</td>\n",
              "      <td>1</td>\n",
              "    </tr>\n",
              "    <tr>\n",
              "      <th>3</th>\n",
              "      <td>4</td>\n",
              "      <td>15701354</td>\n",
              "      <td>Boni</td>\n",
              "      <td>699</td>\n",
              "      <td>France</td>\n",
              "      <td>Female</td>\n",
              "      <td>39</td>\n",
              "      <td>1</td>\n",
              "      <td>0.00</td>\n",
              "      <td>2</td>\n",
              "      <td>0</td>\n",
              "      <td>0</td>\n",
              "      <td>93826.63</td>\n",
              "      <td>0</td>\n",
              "    </tr>\n",
              "    <tr>\n",
              "      <th>4</th>\n",
              "      <td>5</td>\n",
              "      <td>15737888</td>\n",
              "      <td>Mitchell</td>\n",
              "      <td>850</td>\n",
              "      <td>Spain</td>\n",
              "      <td>Female</td>\n",
              "      <td>43</td>\n",
              "      <td>2</td>\n",
              "      <td>125510.82</td>\n",
              "      <td>1</td>\n",
              "      <td>1</td>\n",
              "      <td>1</td>\n",
              "      <td>79084.10</td>\n",
              "      <td>0</td>\n",
              "    </tr>\n",
              "  </tbody>\n",
              "</table>\n",
              "</div>"
            ],
            "text/plain": [
              "   RowNumber  CustomerId   Surname  CreditScore Geography  Gender  Age  \\\n",
              "0          1    15634602  Hargrave          619    France  Female   42   \n",
              "1          2    15647311      Hill          608     Spain  Female   41   \n",
              "2          3    15619304      Onio          502    France  Female   42   \n",
              "3          4    15701354      Boni          699    France  Female   39   \n",
              "4          5    15737888  Mitchell          850     Spain  Female   43   \n",
              "\n",
              "   Tenure    Balance  NumOfProducts  HasCrCard  IsActiveMember  \\\n",
              "0       2       0.00              1          1               1   \n",
              "1       1   83807.86              1          0               1   \n",
              "2       8  159660.80              3          1               0   \n",
              "3       1       0.00              2          0               0   \n",
              "4       2  125510.82              1          1               1   \n",
              "\n",
              "   EstimatedSalary  Exited  \n",
              "0        101348.88       1  \n",
              "1        112542.58       0  \n",
              "2        113931.57       1  \n",
              "3         93826.63       0  \n",
              "4         79084.10       0  "
            ]
          },
          "execution_count": 3,
          "metadata": {},
          "output_type": "execute_result"
        }
      ],
      "source": [
        "data.head() ## Complete the code to display the first 5 rows of the dataset"
      ]
    },
    {
      "cell_type": "code",
      "execution_count": 4,
      "metadata": {
        "id": "uGgv1iQKrbKX"
      },
      "outputs": [
        {
          "data": {
            "text/html": [
              "<div>\n",
              "<style scoped>\n",
              "    .dataframe tbody tr th:only-of-type {\n",
              "        vertical-align: middle;\n",
              "    }\n",
              "\n",
              "    .dataframe tbody tr th {\n",
              "        vertical-align: top;\n",
              "    }\n",
              "\n",
              "    .dataframe thead th {\n",
              "        text-align: right;\n",
              "    }\n",
              "</style>\n",
              "<table border=\"1\" class=\"dataframe\">\n",
              "  <thead>\n",
              "    <tr style=\"text-align: right;\">\n",
              "      <th></th>\n",
              "      <th>RowNumber</th>\n",
              "      <th>CustomerId</th>\n",
              "      <th>Surname</th>\n",
              "      <th>CreditScore</th>\n",
              "      <th>Geography</th>\n",
              "      <th>Gender</th>\n",
              "      <th>Age</th>\n",
              "      <th>Tenure</th>\n",
              "      <th>Balance</th>\n",
              "      <th>NumOfProducts</th>\n",
              "      <th>HasCrCard</th>\n",
              "      <th>IsActiveMember</th>\n",
              "      <th>EstimatedSalary</th>\n",
              "      <th>Exited</th>\n",
              "    </tr>\n",
              "  </thead>\n",
              "  <tbody>\n",
              "    <tr>\n",
              "      <th>9995</th>\n",
              "      <td>9996</td>\n",
              "      <td>15606229</td>\n",
              "      <td>Obijiaku</td>\n",
              "      <td>771</td>\n",
              "      <td>France</td>\n",
              "      <td>Male</td>\n",
              "      <td>39</td>\n",
              "      <td>5</td>\n",
              "      <td>0.00</td>\n",
              "      <td>2</td>\n",
              "      <td>1</td>\n",
              "      <td>0</td>\n",
              "      <td>96270.64</td>\n",
              "      <td>0</td>\n",
              "    </tr>\n",
              "    <tr>\n",
              "      <th>9996</th>\n",
              "      <td>9997</td>\n",
              "      <td>15569892</td>\n",
              "      <td>Johnstone</td>\n",
              "      <td>516</td>\n",
              "      <td>France</td>\n",
              "      <td>Male</td>\n",
              "      <td>35</td>\n",
              "      <td>10</td>\n",
              "      <td>57369.61</td>\n",
              "      <td>1</td>\n",
              "      <td>1</td>\n",
              "      <td>1</td>\n",
              "      <td>101699.77</td>\n",
              "      <td>0</td>\n",
              "    </tr>\n",
              "    <tr>\n",
              "      <th>9997</th>\n",
              "      <td>9998</td>\n",
              "      <td>15584532</td>\n",
              "      <td>Liu</td>\n",
              "      <td>709</td>\n",
              "      <td>France</td>\n",
              "      <td>Female</td>\n",
              "      <td>36</td>\n",
              "      <td>7</td>\n",
              "      <td>0.00</td>\n",
              "      <td>1</td>\n",
              "      <td>0</td>\n",
              "      <td>1</td>\n",
              "      <td>42085.58</td>\n",
              "      <td>1</td>\n",
              "    </tr>\n",
              "    <tr>\n",
              "      <th>9998</th>\n",
              "      <td>9999</td>\n",
              "      <td>15682355</td>\n",
              "      <td>Sabbatini</td>\n",
              "      <td>772</td>\n",
              "      <td>Germany</td>\n",
              "      <td>Male</td>\n",
              "      <td>42</td>\n",
              "      <td>3</td>\n",
              "      <td>75075.31</td>\n",
              "      <td>2</td>\n",
              "      <td>1</td>\n",
              "      <td>0</td>\n",
              "      <td>92888.52</td>\n",
              "      <td>1</td>\n",
              "    </tr>\n",
              "    <tr>\n",
              "      <th>9999</th>\n",
              "      <td>10000</td>\n",
              "      <td>15628319</td>\n",
              "      <td>Walker</td>\n",
              "      <td>792</td>\n",
              "      <td>France</td>\n",
              "      <td>Female</td>\n",
              "      <td>28</td>\n",
              "      <td>4</td>\n",
              "      <td>130142.79</td>\n",
              "      <td>1</td>\n",
              "      <td>1</td>\n",
              "      <td>0</td>\n",
              "      <td>38190.78</td>\n",
              "      <td>0</td>\n",
              "    </tr>\n",
              "  </tbody>\n",
              "</table>\n",
              "</div>"
            ],
            "text/plain": [
              "      RowNumber  CustomerId    Surname  CreditScore Geography  Gender  Age  \\\n",
              "9995       9996    15606229   Obijiaku          771    France    Male   39   \n",
              "9996       9997    15569892  Johnstone          516    France    Male   35   \n",
              "9997       9998    15584532        Liu          709    France  Female   36   \n",
              "9998       9999    15682355  Sabbatini          772   Germany    Male   42   \n",
              "9999      10000    15628319     Walker          792    France  Female   28   \n",
              "\n",
              "      Tenure    Balance  NumOfProducts  HasCrCard  IsActiveMember  \\\n",
              "9995       5       0.00              2          1               0   \n",
              "9996      10   57369.61              1          1               1   \n",
              "9997       7       0.00              1          0               1   \n",
              "9998       3   75075.31              2          1               0   \n",
              "9999       4  130142.79              1          1               0   \n",
              "\n",
              "      EstimatedSalary  Exited  \n",
              "9995         96270.64       0  \n",
              "9996        101699.77       0  \n",
              "9997         42085.58       1  \n",
              "9998         92888.52       1  \n",
              "9999         38190.78       0  "
            ]
          },
          "execution_count": 4,
          "metadata": {},
          "output_type": "execute_result"
        }
      ],
      "source": [
        "data.tail() ## Complete the code to display the last 5 rows of the dataset"
      ]
    },
    {
      "cell_type": "markdown",
      "metadata": {
        "id": "k-Dl42UCgLdV"
      },
      "source": [
        "### Understand the shape of the dataset"
      ]
    },
    {
      "cell_type": "code",
      "execution_count": 5,
      "metadata": {
        "id": "JsyeCM0XgOJT"
      },
      "outputs": [
        {
          "name": "stdout",
          "output_type": "stream",
          "text": [
            "There are 10000 rows and 14 columns.\n"
          ]
        }
      ],
      "source": [
        "# checking shape of the data\n",
        "print(f\"There are {data.shape[0]} rows and {data.shape[1]} columns.\")"
      ]
    },
    {
      "cell_type": "markdown",
      "metadata": {
        "id": "WP6rrI-kgaxW"
      },
      "source": [
        "### Check the data types of the columns for the dataset"
      ]
    },
    {
      "cell_type": "code",
      "execution_count": 6,
      "metadata": {
        "id": "gEdvRgtKgc-M"
      },
      "outputs": [
        {
          "name": "stdout",
          "output_type": "stream",
          "text": [
            "<class 'pandas.core.frame.DataFrame'>\n",
            "RangeIndex: 10000 entries, 0 to 9999\n",
            "Data columns (total 14 columns):\n",
            " #   Column           Non-Null Count  Dtype  \n",
            "---  ------           --------------  -----  \n",
            " 0   RowNumber        10000 non-null  int64  \n",
            " 1   CustomerId       10000 non-null  int64  \n",
            " 2   Surname          10000 non-null  object \n",
            " 3   CreditScore      10000 non-null  int64  \n",
            " 4   Geography        10000 non-null  object \n",
            " 5   Gender           10000 non-null  object \n",
            " 6   Age              10000 non-null  int64  \n",
            " 7   Tenure           10000 non-null  int64  \n",
            " 8   Balance          10000 non-null  float64\n",
            " 9   NumOfProducts    10000 non-null  int64  \n",
            " 10  HasCrCard        10000 non-null  int64  \n",
            " 11  IsActiveMember   10000 non-null  int64  \n",
            " 12  EstimatedSalary  10000 non-null  float64\n",
            " 13  Exited           10000 non-null  int64  \n",
            "dtypes: float64(2), int64(9), object(3)\n",
            "memory usage: 1.1+ MB\n"
          ]
        }
      ],
      "source": [
        "data.info()"
      ]
    },
    {
      "cell_type": "markdown",
      "metadata": {},
      "source": [
        "### Creating a copy of original data"
      ]
    },
    {
      "cell_type": "code",
      "execution_count": 7,
      "metadata": {},
      "outputs": [],
      "source": [
        "# copying the data to another variable to avoid any changes to original data\n",
        "df = data.copy()"
      ]
    },
    {
      "cell_type": "markdown",
      "metadata": {
        "id": "tGhe9qVhgoY1"
      },
      "source": [
        "### Checking the Statistical Summary"
      ]
    },
    {
      "cell_type": "code",
      "execution_count": 8,
      "metadata": {
        "id": "YR9XpHgzgrEt"
      },
      "outputs": [
        {
          "data": {
            "text/html": [
              "<div>\n",
              "<style scoped>\n",
              "    .dataframe tbody tr th:only-of-type {\n",
              "        vertical-align: middle;\n",
              "    }\n",
              "\n",
              "    .dataframe tbody tr th {\n",
              "        vertical-align: top;\n",
              "    }\n",
              "\n",
              "    .dataframe thead th {\n",
              "        text-align: right;\n",
              "    }\n",
              "</style>\n",
              "<table border=\"1\" class=\"dataframe\">\n",
              "  <thead>\n",
              "    <tr style=\"text-align: right;\">\n",
              "      <th></th>\n",
              "      <th>count</th>\n",
              "      <th>mean</th>\n",
              "      <th>std</th>\n",
              "      <th>min</th>\n",
              "      <th>25%</th>\n",
              "      <th>50%</th>\n",
              "      <th>75%</th>\n",
              "      <th>max</th>\n",
              "    </tr>\n",
              "  </thead>\n",
              "  <tbody>\n",
              "    <tr>\n",
              "      <th>RowNumber</th>\n",
              "      <td>10000.0</td>\n",
              "      <td>5.000500e+03</td>\n",
              "      <td>2886.895680</td>\n",
              "      <td>1.00</td>\n",
              "      <td>2500.75</td>\n",
              "      <td>5.000500e+03</td>\n",
              "      <td>7.500250e+03</td>\n",
              "      <td>10000.00</td>\n",
              "    </tr>\n",
              "    <tr>\n",
              "      <th>CustomerId</th>\n",
              "      <td>10000.0</td>\n",
              "      <td>1.569094e+07</td>\n",
              "      <td>71936.186123</td>\n",
              "      <td>15565701.00</td>\n",
              "      <td>15628528.25</td>\n",
              "      <td>1.569074e+07</td>\n",
              "      <td>1.575323e+07</td>\n",
              "      <td>15815690.00</td>\n",
              "    </tr>\n",
              "    <tr>\n",
              "      <th>CreditScore</th>\n",
              "      <td>10000.0</td>\n",
              "      <td>6.505288e+02</td>\n",
              "      <td>96.653299</td>\n",
              "      <td>350.00</td>\n",
              "      <td>584.00</td>\n",
              "      <td>6.520000e+02</td>\n",
              "      <td>7.180000e+02</td>\n",
              "      <td>850.00</td>\n",
              "    </tr>\n",
              "    <tr>\n",
              "      <th>Age</th>\n",
              "      <td>10000.0</td>\n",
              "      <td>3.892180e+01</td>\n",
              "      <td>10.487806</td>\n",
              "      <td>18.00</td>\n",
              "      <td>32.00</td>\n",
              "      <td>3.700000e+01</td>\n",
              "      <td>4.400000e+01</td>\n",
              "      <td>92.00</td>\n",
              "    </tr>\n",
              "    <tr>\n",
              "      <th>Tenure</th>\n",
              "      <td>10000.0</td>\n",
              "      <td>5.012800e+00</td>\n",
              "      <td>2.892174</td>\n",
              "      <td>0.00</td>\n",
              "      <td>3.00</td>\n",
              "      <td>5.000000e+00</td>\n",
              "      <td>7.000000e+00</td>\n",
              "      <td>10.00</td>\n",
              "    </tr>\n",
              "    <tr>\n",
              "      <th>Balance</th>\n",
              "      <td>10000.0</td>\n",
              "      <td>7.648589e+04</td>\n",
              "      <td>62397.405202</td>\n",
              "      <td>0.00</td>\n",
              "      <td>0.00</td>\n",
              "      <td>9.719854e+04</td>\n",
              "      <td>1.276442e+05</td>\n",
              "      <td>250898.09</td>\n",
              "    </tr>\n",
              "    <tr>\n",
              "      <th>NumOfProducts</th>\n",
              "      <td>10000.0</td>\n",
              "      <td>1.530200e+00</td>\n",
              "      <td>0.581654</td>\n",
              "      <td>1.00</td>\n",
              "      <td>1.00</td>\n",
              "      <td>1.000000e+00</td>\n",
              "      <td>2.000000e+00</td>\n",
              "      <td>4.00</td>\n",
              "    </tr>\n",
              "    <tr>\n",
              "      <th>HasCrCard</th>\n",
              "      <td>10000.0</td>\n",
              "      <td>7.055000e-01</td>\n",
              "      <td>0.455840</td>\n",
              "      <td>0.00</td>\n",
              "      <td>0.00</td>\n",
              "      <td>1.000000e+00</td>\n",
              "      <td>1.000000e+00</td>\n",
              "      <td>1.00</td>\n",
              "    </tr>\n",
              "    <tr>\n",
              "      <th>IsActiveMember</th>\n",
              "      <td>10000.0</td>\n",
              "      <td>5.151000e-01</td>\n",
              "      <td>0.499797</td>\n",
              "      <td>0.00</td>\n",
              "      <td>0.00</td>\n",
              "      <td>1.000000e+00</td>\n",
              "      <td>1.000000e+00</td>\n",
              "      <td>1.00</td>\n",
              "    </tr>\n",
              "    <tr>\n",
              "      <th>EstimatedSalary</th>\n",
              "      <td>10000.0</td>\n",
              "      <td>1.000902e+05</td>\n",
              "      <td>57510.492818</td>\n",
              "      <td>11.58</td>\n",
              "      <td>51002.11</td>\n",
              "      <td>1.001939e+05</td>\n",
              "      <td>1.493882e+05</td>\n",
              "      <td>199992.48</td>\n",
              "    </tr>\n",
              "    <tr>\n",
              "      <th>Exited</th>\n",
              "      <td>10000.0</td>\n",
              "      <td>2.037000e-01</td>\n",
              "      <td>0.402769</td>\n",
              "      <td>0.00</td>\n",
              "      <td>0.00</td>\n",
              "      <td>0.000000e+00</td>\n",
              "      <td>0.000000e+00</td>\n",
              "      <td>1.00</td>\n",
              "    </tr>\n",
              "  </tbody>\n",
              "</table>\n",
              "</div>"
            ],
            "text/plain": [
              "                   count          mean           std          min  \\\n",
              "RowNumber        10000.0  5.000500e+03   2886.895680         1.00   \n",
              "CustomerId       10000.0  1.569094e+07  71936.186123  15565701.00   \n",
              "CreditScore      10000.0  6.505288e+02     96.653299       350.00   \n",
              "Age              10000.0  3.892180e+01     10.487806        18.00   \n",
              "Tenure           10000.0  5.012800e+00      2.892174         0.00   \n",
              "Balance          10000.0  7.648589e+04  62397.405202         0.00   \n",
              "NumOfProducts    10000.0  1.530200e+00      0.581654         1.00   \n",
              "HasCrCard        10000.0  7.055000e-01      0.455840         0.00   \n",
              "IsActiveMember   10000.0  5.151000e-01      0.499797         0.00   \n",
              "EstimatedSalary  10000.0  1.000902e+05  57510.492818        11.58   \n",
              "Exited           10000.0  2.037000e-01      0.402769         0.00   \n",
              "\n",
              "                         25%           50%           75%          max  \n",
              "RowNumber            2500.75  5.000500e+03  7.500250e+03     10000.00  \n",
              "CustomerId       15628528.25  1.569074e+07  1.575323e+07  15815690.00  \n",
              "CreditScore           584.00  6.520000e+02  7.180000e+02       850.00  \n",
              "Age                    32.00  3.700000e+01  4.400000e+01        92.00  \n",
              "Tenure                  3.00  5.000000e+00  7.000000e+00        10.00  \n",
              "Balance                 0.00  9.719854e+04  1.276442e+05    250898.09  \n",
              "NumOfProducts           1.00  1.000000e+00  2.000000e+00         4.00  \n",
              "HasCrCard               0.00  1.000000e+00  1.000000e+00         1.00  \n",
              "IsActiveMember          0.00  1.000000e+00  1.000000e+00         1.00  \n",
              "EstimatedSalary     51002.11  1.001939e+05  1.493882e+05    199992.48  \n",
              "Exited                  0.00  0.000000e+00  0.000000e+00         1.00  "
            ]
          },
          "execution_count": 8,
          "metadata": {},
          "output_type": "execute_result"
        }
      ],
      "source": [
        "# Let's look at the statistical summary of the data\n",
        "df.describe().T"
      ]
    },
    {
      "cell_type": "markdown",
      "metadata": {},
      "source": [
        "#### Observations:\n",
        "- The credit scores range from 350 to 850.\n",
        "- Customers' ages vary from 18 to 92.\n",
        "- Tenure with the bank spans from 0 to 10 years.\n",
        "- The balance column has a minimum value of 0, indicating some customers have no balance.\n",
        "- The number of products customers have ranges from 1 to 4.\n",
        "- About 70.5% of customers have a credit card.\n",
        "- Approximately 51.5% are active members."
      ]
    },
    {
      "cell_type": "markdown",
      "metadata": {
        "id": "0TTT9Escruwg"
      },
      "source": [
        "### Checking for unique values for each of the column"
      ]
    },
    {
      "cell_type": "code",
      "execution_count": 9,
      "metadata": {
        "id": "8SPdThJArvcG"
      },
      "outputs": [
        {
          "data": {
            "text/plain": [
              "RowNumber          10000\n",
              "CustomerId         10000\n",
              "Surname             2932\n",
              "CreditScore          460\n",
              "Geography              3\n",
              "Gender                 2\n",
              "Age                   70\n",
              "Tenure                11\n",
              "Balance             6382\n",
              "NumOfProducts          4\n",
              "HasCrCard              2\n",
              "IsActiveMember         2\n",
              "EstimatedSalary     9999\n",
              "Exited                 2\n",
              "dtype: int64"
            ]
          },
          "execution_count": 9,
          "metadata": {},
          "output_type": "execute_result"
        }
      ],
      "source": [
        "# checking the number of unique values in each column\n",
        "df.nunique()"
      ]
    },
    {
      "cell_type": "markdown",
      "metadata": {
        "id": "0M_y7Y33g2nP"
      },
      "source": [
        "### Checking for Missing Values"
      ]
    },
    {
      "cell_type": "code",
      "execution_count": 10,
      "metadata": {},
      "outputs": [
        {
          "data": {
            "text/plain": [
              "RowNumber          0\n",
              "CustomerId         0\n",
              "Surname            0\n",
              "CreditScore        0\n",
              "Geography          0\n",
              "Gender             0\n",
              "Age                0\n",
              "Tenure             0\n",
              "Balance            0\n",
              "NumOfProducts      0\n",
              "HasCrCard          0\n",
              "IsActiveMember     0\n",
              "EstimatedSalary    0\n",
              "Exited             0\n",
              "dtype: int64"
            ]
          },
          "execution_count": 10,
          "metadata": {},
          "output_type": "execute_result"
        }
      ],
      "source": [
        "# checking for missing values\n",
        "df.isnull().sum()"
      ]
    },
    {
      "cell_type": "markdown",
      "metadata": {},
      "source": [
        "#### Observations:\n",
        "There are no missing values in the dataset. "
      ]
    },
    {
      "cell_type": "markdown",
      "metadata": {
        "id": "BsBwLHcmHUOg"
      },
      "source": [
        "### Drop the columns which are unique for all users like IDs, surnames, and rownumbers"
      ]
    },
    {
      "cell_type": "code",
      "execution_count": 11,
      "metadata": {
        "id": "ivF2RMo6HUOr"
      },
      "outputs": [],
      "source": [
        "# RowNumber , CustomerId and Surname are unique hence drop them\n",
        "df = df.drop(['RowNumber', 'CustomerId', 'Surname'], axis=1) "
      ]
    },
    {
      "cell_type": "markdown",
      "metadata": {
        "id": "W036jsgwRdVN"
      },
      "source": [
        "## Exploratory Data Analysis"
      ]
    },
    {
      "cell_type": "markdown",
      "metadata": {
        "id": "tQlhG1x0iREg"
      },
      "source": [
        "### Univariate Analysis"
      ]
    },
    {
      "cell_type": "code",
      "execution_count": 12,
      "metadata": {
        "id": "3TCm_e-TiTra"
      },
      "outputs": [],
      "source": [
        "# function to plot a boxplot and a histogram along the same scale.\n",
        "\n",
        "\n",
        "def histogram_boxplot(data, feature, figsize=(12, 7), kde=False, bins=None):\n",
        "    \"\"\"\n",
        "    Boxplot and histogram combined\n",
        "\n",
        "    data: dataframe\n",
        "    feature: dataframe column\n",
        "    figsize: size of figure (default (12,7))\n",
        "    kde: whether to show the density curve (default False)\n",
        "    bins: number of bins for histogram (default None)\n",
        "    \"\"\"\n",
        "    f2, (ax_box2, ax_hist2) = plt.subplots(\n",
        "        nrows=2,  # Number of rows of the subplot grid= 2\n",
        "        sharex=True,  # x-axis will be shared among all subplots\n",
        "        gridspec_kw={\"height_ratios\": (0.25, 0.75)},\n",
        "        figsize=figsize,\n",
        "    )  # creating the 2 subplots\n",
        "    sns.boxplot(\n",
        "        data=data, x=feature, ax=ax_box2, showmeans=True, color=\"violet\"\n",
        "    )  # boxplot will be created and a star will indicate the mean value of the column\n",
        "    sns.histplot(\n",
        "        data=data, x=feature, kde=kde, ax=ax_hist2, bins=bins, palette=\"winter\"\n",
        "    ) if bins else sns.histplot(\n",
        "        data=data, x=feature, kde=kde, ax=ax_hist2\n",
        "    )  # For histogram\n",
        "    ax_hist2.axvline(\n",
        "        data[feature].mean(), color=\"green\", linestyle=\"--\"\n",
        "    )  # Add mean to the histogram\n",
        "    ax_hist2.axvline(\n",
        "        data[feature].median(), color=\"black\", linestyle=\"-\"\n",
        "    )  # Add median to the histogram"
      ]
    },
    {
      "cell_type": "code",
      "execution_count": 13,
      "metadata": {
        "id": "o_dQi6vriVs2"
      },
      "outputs": [],
      "source": [
        "# function to create labeled barplots\n",
        "\n",
        "\n",
        "def labeled_barplot(data, feature, perc=False, n=None):\n",
        "    \"\"\"\n",
        "    Barplot with percentage at the top\n",
        "\n",
        "    data: dataframe\n",
        "    feature: dataframe column\n",
        "    perc: whether to display percentages instead of count (default is False)\n",
        "    n: displays the top n category levels (default is None, i.e., display all levels)\n",
        "    \"\"\"\n",
        "\n",
        "    total = len(data[feature])  # length of the column\n",
        "    count = data[feature].nunique()\n",
        "    if n is None:\n",
        "        plt.figure(figsize=(count + 1, 5))\n",
        "    else:\n",
        "        plt.figure(figsize=(n + 1, 5))\n",
        "\n",
        "    plt.xticks(rotation=90, fontsize=15)\n",
        "    ax = sns.countplot(\n",
        "        data=data,\n",
        "        x=feature,\n",
        "        palette=\"Paired\",\n",
        "        order=data[feature].value_counts().index[:n].sort_values(),\n",
        "    )\n",
        "\n",
        "    for p in ax.patches:\n",
        "        if perc == True:\n",
        "            label = \"{:.1f}%\".format(\n",
        "                100 * p.get_height() / total\n",
        "            )  # percentage of each class of the category\n",
        "        else:\n",
        "            label = p.get_height()  # count of each level of the category\n",
        "\n",
        "        x = p.get_x() + p.get_width() / 2  # width of the plot\n",
        "        y = p.get_height()  # height of the plot\n",
        "\n",
        "        ax.annotate(\n",
        "            label,\n",
        "            (x, y),\n",
        "            ha=\"center\",\n",
        "            va=\"center\",\n",
        "            size=12,\n",
        "            xytext=(0, 5),\n",
        "            textcoords=\"offset points\",\n",
        "        )  # annotate the percentage\n",
        "\n",
        "    plt.show()  # show the plot"
      ]
    },
    {
      "cell_type": "markdown",
      "metadata": {
        "id": "O1WgW83rjza0"
      },
      "source": [
        "#### Observations on CreditScore"
      ]
    },
    {
      "cell_type": "code",
      "execution_count": 14,
      "metadata": {
        "id": "UOEYFUenjyNu"
      },
      "outputs": [
        {
          "data": {
            "image/png": "[encoded data removed]",
            "text/plain": [
              "<Figure size 864x504 with 2 Axes>"
            ]
          },
          "metadata": {
            "needs_background": "light"
          },
          "output_type": "display_data"
        }
      ],
      "source": [
        "histogram_boxplot(df,'CreditScore')"
      ]
    },
    {
      "cell_type": "markdown",
      "metadata": {},
      "source": [
        "#### Observations:\n",
        "- The histogram suggests that the distribution of credit scores is roughly normal with a slight left-skew.\n",
        "- The boxplot above the histogram shows the presence of a few lower outliers (below the lower whisker). This indicates that there are some customers with exceptionally low credit scores compared to the majority.\n",
        "- Most of the credit scores lie between approximately 400 and 850, with the highest concentration of scores around the 650 mark."
      ]
    },
    {
      "cell_type": "markdown",
      "metadata": {
        "id": "MUk3Aj_Bj3cl"
      },
      "source": [
        "#### Observations on Age"
      ]
    },
    {
      "cell_type": "code",
      "execution_count": 15,
      "metadata": {
        "id": "o5uykb4ZjyLI"
      },
      "outputs": [
        {
          "data": {
            "image/png": "[encoded data removed]",
            "text/plain": [
              "<Figure size 864x504 with 2 Axes>"
            ]
          },
          "metadata": {
            "needs_background": "light"
          },
          "output_type": "display_data"
        }
      ],
      "source": [
        "histogram_boxplot(df, 'Age') "
      ]
    },
    {
      "cell_type": "markdown",
      "metadata": {},
      "source": [
        "#### Observations:\n",
        "- The distribution of ages is right-skewed, indicating that there are more younger customers compared to older ones.\n",
        "- The boxplot above the histogram shows the presence of some upper outliers (above the upper whisker). This suggests that there are a few customers who are significantly older compared to the majority of the bank's clientele.\n",
        "- The majority of customers are aged between roughly 20 and 60 years.\n",
        "- There's a high concentration of customers in the age range of 30 to 40 years."
      ]
    },
    {
      "cell_type": "markdown",
      "metadata": {
        "id": "9ceasiVRkcjS"
      },
      "source": [
        "#### Observations on Balance"
      ]
    },
    {
      "cell_type": "code",
      "execution_count": 16,
      "metadata": {
        "id": "19oK6z4kjyGd"
      },
      "outputs": [
        {
          "data": {
            "image/png": "[encoded data removed]",
            "text/plain": [
              "<Figure size 864x504 with 2 Axes>"
            ]
          },
          "metadata": {
            "needs_background": "light"
          },
          "output_type": "display_data"
        }
      ],
      "source": [
        "histogram_boxplot(df, 'Balance')"
      ]
    },
    {
      "cell_type": "markdown",
      "metadata": {},
      "source": [
        "#### Observations:\n",
        "-  There are two prominent peaks in the distribution of balances. One peak is near zero, and the other is around the middle of the range, approximately at 100,000. This could suggest there are two distinct groups of customers - those who maintain a low or zero balance and those who maintain a moderate balance around the 100,000 mark.\n",
        "- A significant number of customers have a balance close to zero. This might indicate that many customers either have emptied their accounts or haven't used them actively.\n",
        "- There don't appear to be any significant outliers on either end of the distribution.\n",
        "- Most customers have balances ranging from 0 to approximately 250,000."
      ]
    },
    {
      "cell_type": "markdown",
      "metadata": {
        "id": "6rZ-1bs_ksSe"
      },
      "source": [
        "#### Observations on Estimated Salary"
      ]
    },
    {
      "cell_type": "code",
      "execution_count": 17,
      "metadata": {
        "id": "QgsC0cimjyDk"
      },
      "outputs": [
        {
          "data": {
            "image/png": "[encoded data removed]",
            "text/plain": [
              "<Figure size 864x504 with 2 Axes>"
            ]
          },
          "metadata": {
            "needs_background": "light"
          },
          "output_type": "display_data"
        }
      ],
      "source": [
        "histogram_boxplot(df, 'EstimatedSalary')         "
      ]
    },
    {
      "cell_type": "markdown",
      "metadata": {},
      "source": [
        "#### Observations:\n",
        "- The distribution of estimated salaries is fairly uniform. This means that customers are spread out evenly across different salary levels.\n",
        "- There don't appear to be any significant outliers on either end of the distribution, which aligns with the uniform distribution.\n",
        "- Customers have estimated salaries ranging from almost 0 to just above 200,000, with an even distribution across this range."
      ]
    },
    {
      "cell_type": "markdown",
      "metadata": {
        "id": "XWM5q0wQkvws"
      },
      "source": [
        "#### Observations on Exited"
      ]
    },
    {
      "cell_type": "code",
      "execution_count": 18,
      "metadata": {
        "id": "YD9p3sPvjyA-"
      },
      "outputs": [
        {
          "data": {
            "image/png": "[encoded data removed]",
            "text/plain": [
              "<Figure size 216x360 with 1 Axes>"
            ]
          },
          "metadata": {
            "needs_background": "light"
          },
          "output_type": "display_data"
        }
      ],
      "source": [
        "labeled_barplot(df, \"Exited\", perc=True)"
      ]
    },
    {
      "cell_type": "markdown",
      "metadata": {},
      "source": [
        "#### Observations:\n",
        "- Approximately 79.6% of customers (labeled as \"0\") did not leave the bank.\n",
        "- Around 20.4% of customers (labeled as \"1\") exited the bank."
      ]
    },
    {
      "cell_type": "markdown",
      "metadata": {
        "id": "mGnQfFu2kzZe"
      },
      "source": [
        "#### Observations on Geography"
      ]
    },
    {
      "cell_type": "code",
      "execution_count": 19,
      "metadata": {
        "id": "GBcn9Xejjx9-"
      },
      "outputs": [
        {
          "data": {
            "image/png": "[encoded data removed]",
            "text/plain": [
              "<Figure size 288x360 with 1 Axes>"
            ]
          },
          "metadata": {
            "needs_background": "light"
          },
          "output_type": "display_data"
        }
      ],
      "source": [
        "labeled_barplot(df, 'Geography', perc=True)"
      ]
    },
    {
      "cell_type": "markdown",
      "metadata": {},
      "source": [
        "#### Observations:\n",
        "- The majority of customers, approximately 50.1%, are from France.\n",
        "- Around 25.1% of customers are from Germany.\n",
        "- About 24.8% of customers are from Spain."
      ]
    },
    {
      "cell_type": "markdown",
      "metadata": {
        "id": "xSu6H4hLlBld"
      },
      "source": [
        "#### Observations on Gender"
      ]
    },
    {
      "cell_type": "code",
      "execution_count": 20,
      "metadata": {
        "id": "41FBLuDojx7E"
      },
      "outputs": [
        {
          "data": {
            "image/png": "[encoded data removed]",
            "text/plain": [
              "<Figure size 216x360 with 1 Axes>"
            ]
          },
          "metadata": {
            "needs_background": "light"
          },
          "output_type": "display_data"
        }
      ],
      "source": [
        "labeled_barplot(df, 'Gender', perc=True)"
      ]
    },
    {
      "cell_type": "markdown",
      "metadata": {},
      "source": [
        "#### Observations:\n",
        "- Approximately 54.6% of the bank's customers are male. \n",
        "- Around 45.4% of customers are female.\n",
        "\n",
        "This indicates a fairly balanced distribution between male and female customers, with a slightly higher proportion of males. "
      ]
    },
    {
      "cell_type": "markdown",
      "metadata": {
        "id": "xbDEgCfYlNsi"
      },
      "source": [
        "#### Observations on Tenure"
      ]
    },
    {
      "cell_type": "code",
      "execution_count": 21,
      "metadata": {
        "id": "1zEQbiJ_jx36"
      },
      "outputs": [
        {
          "data": {
            "image/png": "[encoded data removed]",
            "text/plain": [
              "<Figure size 864x360 with 1 Axes>"
            ]
          },
          "metadata": {
            "needs_background": "light"
          },
          "output_type": "display_data"
        }
      ],
      "source": [
        "labeled_barplot(df, 'Tenure', perc=True)"
      ]
    },
    {
      "cell_type": "markdown",
      "metadata": {},
      "source": [
        "#### Observations:\n",
        "- The distribution of tenures is fairly even across different durations.\n",
        "- Tenures of 1, 2, 7, 8, and 10 years have slightly higher proportions of customers, each with roughly 10% of the total customer base.\n",
        "- Tenures of 0 (just joined) and 9 years have a slightly smaller percentage of customers, both just below 10%.\n",
        "\n",
        "The relatively even distribution indicates that there isn't a specific time period where a large number of customers typically join or leave. This suggests that the bank has maintained a steady acquisition of customers over the years."
      ]
    },
    {
      "cell_type": "markdown",
      "metadata": {
        "id": "W6PGNDMflTqt"
      },
      "source": [
        "#### Observations on Number of Products"
      ]
    },
    {
      "cell_type": "code",
      "execution_count": 22,
      "metadata": {
        "id": "vWONo8wJjx0K"
      },
      "outputs": [
        {
          "data": {
            "image/png": "[encoded data removed]",
            "text/plain": [
              "<Figure size 360x360 with 1 Axes>"
            ]
          },
          "metadata": {
            "needs_background": "light"
          },
          "output_type": "display_data"
        }
      ],
      "source": [
        "labeled_barplot(df, 'NumOfProducts', perc=True)              "
      ]
    },
    {
      "cell_type": "markdown",
      "metadata": {},
      "source": [
        "#### Observations:\n",
        "- The majority of customers, approximately 50.8%, have purchased just one product from the bank.\n",
        "- Around 45.9% of customers have two products.\n",
        "- Only about 2.7% of customers have three products.\n",
        "- An even smaller proportion, roughly 0.6%, have four products.\n",
        "\n",
        "These insights indicate that most customers have either one or two bank products. Very few customers have three or four products. "
      ]
    },
    {
      "cell_type": "markdown",
      "metadata": {
        "id": "_WcPAd3sldqS"
      },
      "source": [
        "#### Observations on Has Credit Card"
      ]
    },
    {
      "cell_type": "code",
      "execution_count": 23,
      "metadata": {
        "id": "SxS2uhRYlbyV"
      },
      "outputs": [
        {
          "data": {
            "image/png": "[encoded data removed]",
            "text/plain": [
              "<Figure size 216x360 with 1 Axes>"
            ]
          },
          "metadata": {
            "needs_background": "light"
          },
          "output_type": "display_data"
        }
      ],
      "source": [
        "labeled_barplot(df, 'HasCrCard', perc=True)"
      ]
    },
    {
      "cell_type": "markdown",
      "metadata": {},
      "source": [
        "#### Observations\n",
        "-  A significant majority, approximately 70.5% of customers, have a credit card with the bank.\n",
        "- About 29.5% of customers do not have a credit card."
      ]
    },
    {
      "cell_type": "markdown",
      "metadata": {
        "id": "9XFvZ8iZlkeN"
      },
      "source": [
        "#### Observations on Is Active Member"
      ]
    },
    {
      "cell_type": "code",
      "execution_count": 24,
      "metadata": {
        "id": "JuwtR_2Plbvu"
      },
      "outputs": [
        {
          "data": {
            "image/png": "[encoded data removed]",
            "text/plain": [
              "<Figure size 216x360 with 1 Axes>"
            ]
          },
          "metadata": {
            "needs_background": "light"
          },
          "output_type": "display_data"
        }
      ],
      "source": [
        "labeled_barplot(df, 'IsActiveMember', perc=True)"
      ]
    },
    {
      "cell_type": "markdown",
      "metadata": {},
      "source": [
        "#### Observations:\n",
        "-  Approximately 51.5% of customers are active members. These are customers who regularly use the bank's products and services.\n",
        "- Around 48.5% of customers are not active members."
      ]
    },
    {
      "cell_type": "markdown",
      "metadata": {
        "id": "d3hg240IlpqV"
      },
      "source": [
        "### Bivariate Analysis"
      ]
    },
    {
      "cell_type": "code",
      "execution_count": 25,
      "metadata": {
        "id": "vBot6IVnlbtH"
      },
      "outputs": [],
      "source": [
        "# function to plot stacked bar chart\n",
        "\n",
        "\n",
        "def stacked_barplot(data, predictor, target):\n",
        "    \"\"\"\n",
        "    Print the category counts and plot a stacked bar chart\n",
        "\n",
        "    data: dataframe\n",
        "    predictor: independent variable\n",
        "    target: target variable\n",
        "    \"\"\"\n",
        "    count = data[predictor].nunique()\n",
        "    sorter = data[target].value_counts().index[-1]\n",
        "    tab1 = pd.crosstab(data[predictor], data[target], margins=True).sort_values(\n",
        "        by=sorter, ascending=False\n",
        "    )\n",
        "    print(tab1)\n",
        "    print(\"-\" * 120)\n",
        "    tab = pd.crosstab(data[predictor], data[target], normalize=\"index\").sort_values(\n",
        "        by=sorter, ascending=False\n",
        "    )\n",
        "    tab.plot(kind=\"bar\", stacked=True, figsize=(count + 1, 5))\n",
        "    plt.legend(\n",
        "        loc=\"lower left\",\n",
        "        frameon=False,\n",
        "    )\n",
        "    plt.legend(loc=\"upper left\", bbox_to_anchor=(1, 1))\n",
        "    plt.show()"
      ]
    },
    {
      "cell_type": "markdown",
      "metadata": {
        "id": "sw4xLDlemo3C"
      },
      "source": [
        "#### Correlation plot"
      ]
    },
    {
      "cell_type": "code",
      "execution_count": 26,
      "metadata": {
        "id": "Qr0qxNDTlbqD"
      },
      "outputs": [
        {
          "data": {
            "image/png": "[encoded data removed]",
            "text/plain": [
              "<Figure size 1080x504 with 2 Axes>"
            ]
          },
          "metadata": {
            "needs_background": "light"
          },
          "output_type": "display_data"
        }
      ],
      "source": [
        "# Plot the heatmap for the data's correlation matrix\n",
        "plt.figure(figsize=(15, 7))\n",
        "sns.heatmap(df.corr(), annot=True, vmin=-1, vmax=1, fmt=\".2f\", cmap=\"Spectral\")          # Complete the code to get the heatmap of the data\n",
        "plt.show()"
      ]
    },
    {
      "cell_type": "markdown",
      "metadata": {},
      "source": [
        "#### Observations:\n",
        "- There's a positive correlation between Age and Exited, suggesting that older customers are more likely to churn.\n",
        "- IsActiveMember has a negative correlation with Exited, indicating that active members are less likely to leave the bank.\n",
        "- NumOfProducts also has a negative correlation with Exited, suggesting that customers with more products are less likely to churn.\n",
        "- Age and NumOfProducts show a slight negative correlation, which means that as customers age, they tend to have fewer products with the bank.\n",
        "- CreditScore and Age have a very weak negative correlation.\n",
        "- HasCrCard and IsActiveMember have a weak negative correlation."
      ]
    },
    {
      "cell_type": "markdown",
      "metadata": {
        "id": "PslMUrhhnFdl"
      },
      "source": [
        "#### Exited Vs Geography"
      ]
    },
    {
      "cell_type": "code",
      "execution_count": 27,
      "metadata": {
        "id": "aMe3Vw9RnDQX"
      },
      "outputs": [
        {
          "name": "stdout",
          "output_type": "stream",
          "text": [
            "Exited        0     1    All\n",
            "Geography                   \n",
            "All        7963  2037  10000\n",
            "Germany    1695   814   2509\n",
            "France     4204   810   5014\n",
            "Spain      2064   413   2477\n",
            "------------------------------------------------------------------------------------------------------------------------\n"
          ]
        },
        {
          "data": {
            "image/png": "[encoded data removed]",
            "text/plain": [
              "<Figure size 288x360 with 1 Axes>"
            ]
          },
          "metadata": {
            "needs_background": "light"
          },
          "output_type": "display_data"
        }
      ],
      "source": [
        "stacked_barplot(df, \"Geography\", \"Exited\")           "
      ]
    },
    {
      "cell_type": "markdown",
      "metadata": {},
      "source": [
        "#### Observations:\n",
        "- Out of 10,000 customers, 2,037 exited the bank, which is a 20.37% churn rate.\n",
        "- Out of 5,014 customers from France, 810 exited, resulting in a churn rate of about 16.16%.\n",
        "- Germany, with 2,509 customers, saw 814 of them exiting, leading to a significantly higher churn rate of about 32.44%.\n",
        "- Out of 2,477 customers from Spain, 413 exited, which is a churn rate of about 16.67%.\n",
        "\n",
        "These insights suggest that customers from Germany are more likely to leave the bank compared to those from France or Spain. "
      ]
    },
    {
      "cell_type": "markdown",
      "metadata": {
        "id": "Ggqz7d4JnPul"
      },
      "source": [
        "#### Exited Vs Gender"
      ]
    },
    {
      "cell_type": "code",
      "execution_count": 28,
      "metadata": {
        "id": "eckxpn9nnDM9"
      },
      "outputs": [
        {
          "name": "stdout",
          "output_type": "stream",
          "text": [
            "Exited     0     1    All\n",
            "Gender                   \n",
            "All     7963  2037  10000\n",
            "Female  3404  1139   4543\n",
            "Male    4559   898   5457\n",
            "------------------------------------------------------------------------------------------------------------------------\n"
          ]
        },
        {
          "data": {
            "image/png": "[encoded data removed]",
            "text/plain": [
              "<Figure size 216x360 with 1 Axes>"
            ]
          },
          "metadata": {
            "needs_background": "light"
          },
          "output_type": "display_data"
        }
      ],
      "source": [
        "stacked_barplot(df, 'Gender', 'Exited') "
      ]
    },
    {
      "cell_type": "markdown",
      "metadata": {},
      "source": [
        "#### Observations:\n",
        "- Out of 5,457 male customers, 898 exited, resulting in a churn rate of about 16.45%.\n",
        "- Out of 4,543 female customers, 1,139 exited, leading to a higher churn rate of about 25.07%.\n",
        "\n",
        " This indicates that female customers are more likely to leave the bank than male customers."
      ]
    },
    {
      "cell_type": "markdown",
      "metadata": {
        "id": "U6ch7akdnc9J"
      },
      "source": [
        "#### Exited Vs Has Credit Card"
      ]
    },
    {
      "cell_type": "code",
      "execution_count": 29,
      "metadata": {
        "id": "vb0C_D9rlbnL"
      },
      "outputs": [
        {
          "name": "stdout",
          "output_type": "stream",
          "text": [
            "Exited        0     1    All\n",
            "HasCrCard                   \n",
            "All        7963  2037  10000\n",
            "1          5631  1424   7055\n",
            "0          2332   613   2945\n",
            "------------------------------------------------------------------------------------------------------------------------\n"
          ]
        },
        {
          "data": {
            "image/png": "[encoded data removed]",
            "text/plain": [
              "<Figure size 216x360 with 1 Axes>"
            ]
          },
          "metadata": {
            "needs_background": "light"
          },
          "output_type": "display_data"
        }
      ],
      "source": [
        "stacked_barplot(df, 'HasCrCard', 'Exited')  "
      ]
    },
    {
      "cell_type": "markdown",
      "metadata": {},
      "source": [
        "#### Observations:\n",
        "- Out of the 7,055 customers who possess a credit card, 1,424 exited. This results in a churn rate of about 20.18%. \n",
        "- Out of the 2,945 customers without a credit card, 613 exited. This results in a churn rate of about 20.81%. \n",
        "\n",
        "The similar churn rates among customers with and without credit cards suggest that the possession of a credit card isn't a significant factor influencing a customer's decision to leave the bank."
      ]
    },
    {
      "cell_type": "markdown",
      "metadata": {
        "id": "qEJVhlwCnj95"
      },
      "source": [
        "#### Exited Vs Is active member"
      ]
    },
    {
      "cell_type": "code",
      "execution_count": 30,
      "metadata": {
        "id": "xZfHpaIblbkR"
      },
      "outputs": [
        {
          "name": "stdout",
          "output_type": "stream",
          "text": [
            "Exited             0     1    All\n",
            "IsActiveMember                   \n",
            "All             7963  2037  10000\n",
            "0               3547  1302   4849\n",
            "1               4416   735   5151\n",
            "------------------------------------------------------------------------------------------------------------------------\n"
          ]
        },
        {
          "data": {
            "image/png": "[encoded data removed]",
            "text/plain": [
              "<Figure size 216x360 with 1 Axes>"
            ]
          },
          "metadata": {
            "needs_background": "light"
          },
          "output_type": "display_data"
        }
      ],
      "source": [
        "stacked_barplot(df, 'IsActiveMember', 'Exited')"
      ]
    },
    {
      "cell_type": "markdown",
      "metadata": {},
      "source": [
        "#### Observations:\n",
        "- Out of the 5,151 active customers, 735 exited. This results in a churn rate of about 14.27%.\n",
        "- Out of the 4,849 inactive customers, 1,302 exited, giving a significantly higher churn rate of about 26.84%. \n",
        "\n",
        "These insights suggest that customer activity plays a crucial role in their decision to stay with or leave the bank. Active members are significantly less likely to churn compared to inactive members. "
      ]
    },
    {
      "cell_type": "markdown",
      "metadata": {
        "id": "tz4mcNb_npGW"
      },
      "source": [
        "#### Exited Vs Credit Score"
      ]
    },
    {
      "cell_type": "code",
      "execution_count": 31,
      "metadata": {
        "id": "9pZBaR7Nlbhd"
      },
      "outputs": [
        {
          "data": {
            "image/png": "[encoded data removed]",
            "text/plain": [
              "<Figure size 360x360 with 1 Axes>"
            ]
          },
          "metadata": {
            "needs_background": "light"
          },
          "output_type": "display_data"
        }
      ],
      "source": [
        "plt.figure(figsize=(5,5))\n",
        "sns.boxplot(y='CreditScore',x='Exited',data=df)\n",
        "plt.show()"
      ]
    },
    {
      "cell_type": "markdown",
      "metadata": {},
      "source": [
        "#### Observations:\n",
        "- For both groups (those who exited and those who didn't), the median credit score is nearly the same.\n",
        "- The interquartile range - the range between the 25th percentile and the 75th percentile is also quite similar for both groups.\n",
        "- Both groups have some lower outliers, indicating customers with particularly low credit scores. However, the number of outliers doesn't significantly differ between the two groups.\n",
        "- The overall distribution of credit scores is quite similar for customers who exited and those who stayed.\n",
        "\n",
        "From this visualization, it seems that CreditScore alone may not be a significant predictor of churn. The credit scores of customers who exited the bank are broadly in line with those who stayed. "
      ]
    },
    {
      "cell_type": "markdown",
      "metadata": {
        "id": "MX_anKu1oK9L"
      },
      "source": [
        "#### Exited Vs Age"
      ]
    },
    {
      "cell_type": "code",
      "execution_count": 32,
      "metadata": {
        "id": "5YFYCNpeoJDF"
      },
      "outputs": [
        {
          "data": {
            "image/png": "[encoded data removed]",
            "text/plain": [
              "<Figure size 360x360 with 1 Axes>"
            ]
          },
          "metadata": {
            "needs_background": "light"
          },
          "output_type": "display_data"
        }
      ],
      "source": [
        "plt.figure(figsize=(5,5))\n",
        "sns.boxplot(y='Age',x='Exited',data=df)               ## Complete the code to plot the boxplot for Exited and Age\n",
        "plt.show()"
      ]
    },
    {
      "cell_type": "markdown",
      "metadata": {},
      "source": [
        "#### Observations:\n",
        "- The median age is lower for customers who stayed with the bank.\n",
        "- The interquartile range (IQR) is relatively tighter, indicating that a significant portion of these customers are younger.\n",
        "- The median age is notably higher for customers who exited the bank.\n",
        "- The IQR is broader, suggesting a wider age distribution among customers who churned.\n",
        "- Older customers seem more likely to churn compared to younger customers.\n",
        "- The age range of churned customers is also broader, suggesting that the decision to leave the bank isn't confined to a specific age group among older customers.\n",
        "\n",
        "This visualization indicates that Age might be a significant predictor of churn. Older customers seem to be more prone to leaving the bank than younger ones. "
      ]
    },
    {
      "cell_type": "markdown",
      "metadata": {
        "id": "Wdrge12TouUX"
      },
      "source": [
        "#### Exited Vs Tenure"
      ]
    },
    {
      "cell_type": "code",
      "execution_count": 33,
      "metadata": {
        "id": "npBbMwsRoJAO"
      },
      "outputs": [
        {
          "data": {
            "image/png": "[encoded data removed]",
            "text/plain": [
              "<Figure size 360x360 with 1 Axes>"
            ]
          },
          "metadata": {
            "needs_background": "light"
          },
          "output_type": "display_data"
        }
      ],
      "source": [
        "plt.figure(figsize=(5,5))\n",
        "sns.boxplot(y='Tenure',x='Exited',data=df)\n",
        "plt.show()"
      ]
    },
    {
      "cell_type": "markdown",
      "metadata": {},
      "source": [
        "#### Observations:\n",
        "- The median tenure is around 5 years for customers who stayed with the bank.\n",
        "- The interquartile range (IQR) is from approximately 3 to 7 years, indicating that a significant portion of these customers have been with the bank for a moderate duration.\n",
        "- The median tenure is also around 5 years for customers who exited the bank.\n",
        "- The IQR is similar to the non-churned group, spanning from about 2 to 8 years.\n",
        "- The tenure distribution is quite similar for both customers who churned and those who did not.\n",
        "- There doesn't seem to be a specific tenure duration where customers are more likely to churn.\n",
        "\n",
        "From this visualization, it appears that Tenure alone might not be a strong predictor of churn. Customers who leave the bank come from various tenure durations, similar to those who stay. "
      ]
    },
    {
      "cell_type": "markdown",
      "metadata": {
        "id": "LMvo8Ioco7kd"
      },
      "source": [
        "#### Exited Vs Balance"
      ]
    },
    {
      "cell_type": "code",
      "execution_count": 34,
      "metadata": {
        "id": "BtkGjKq6oI9V"
      },
      "outputs": [
        {
          "data": {
            "image/png": "[encoded data removed]",
            "text/plain": [
              "<Figure size 360x360 with 1 Axes>"
            ]
          },
          "metadata": {
            "needs_background": "light"
          },
          "output_type": "display_data"
        }
      ],
      "source": [
        "plt.figure(figsize=(5,5))\n",
        "sns.boxplot(y='Balance',x='Exited',data=df)\n",
        "plt.show()"
      ]
    },
    {
      "cell_type": "markdown",
      "metadata": {},
      "source": [
        "#### Observations:\n",
        "- Many customers who did not exit the bank have a balance near 0, which is evident from the lower whisker touching the bottom.\n",
        "- The median balance for this group is notably lower than that of customers who exited.\n",
        "- The upper quartile (top edge of the box) shows that a significant portion of these customers have a balance in the mid-range.\n",
        "- The median balance is higher for customers who exited the bank, indicating that many churned customers had a substantial balance.\n",
        "- The IQR is wider, suggesting a broad distribution of balances among customers who churned.\n",
        "- Customers with higher balances seem more likely to churn compared to those with lower or zero balances.\n",
        "\n",
        "This visualization suggests that Balance might be a significant predictor of churn. Customers with higher account balances seem more prone to leaving the bank."
      ]
    },
    {
      "cell_type": "markdown",
      "metadata": {
        "id": "9va9WeGco-Iz"
      },
      "source": [
        "#### Exited Vs Number of Products"
      ]
    },
    {
      "cell_type": "code",
      "execution_count": 35,
      "metadata": {
        "id": "s1XJrS_snCdE"
      },
      "outputs": [
        {
          "data": {
            "text/plain": [
              "<AxesSubplot:xlabel='Exited', ylabel='NumOfProducts'>"
            ]
          },
          "execution_count": 35,
          "metadata": {},
          "output_type": "execute_result"
        },
        {
          "data": {
            "image/png": "[encoded data removed]",
            "text/plain": [
              "<Figure size 360x360 with 1 Axes>"
            ]
          },
          "metadata": {
            "needs_background": "light"
          },
          "output_type": "display_data"
        }
      ],
      "source": [
        "plt.figure(figsize=(5,5))\n",
        "sns.boxplot(y='NumOfProducts',x='Exited',data=df)       "
      ]
    },
    {
      "cell_type": "markdown",
      "metadata": {},
      "source": [
        "#### Observations:\n",
        "- The majority of customers who did not exit the bank have either 1 or 2 products, as indicated by the box's range.\n",
        "- The median number of products for this group is 1.\n",
        "- The majority of customers who exited the bank also have either 1 or 2 products.\n",
        "- The median number of products for this group is 1, similar to the non-churned group.\n",
        "- However, there's a notable presence of customers with 3 products, and a few with 4 products, among those who exited.\n",
        "- While the distribution for customers with 1 or 2 products is similar between those who stayed and those who exited, it seems that customers with 3 or more products are more likely to churn.\n",
        "\n",
        "This visualization suggests that while having 1 or 2 products doesn't strongly differentiate between churners and non-churners, having more than 2 products might be a predictor of churn."
      ]
    },
    {
      "cell_type": "markdown",
      "metadata": {
        "id": "7Cdem_NJpar1"
      },
      "source": [
        "#### Exited Vs Estimated Salary"
      ]
    },
    {
      "cell_type": "code",
      "execution_count": 36,
      "metadata": {
        "id": "GCI-CwJppYVv"
      },
      "outputs": [
        {
          "data": {
            "image/png": "[encoded data removed]",
            "text/plain": [
              "<Figure size 360x360 with 1 Axes>"
            ]
          },
          "metadata": {
            "needs_background": "light"
          },
          "output_type": "display_data"
        }
      ],
      "source": [
        "plt.figure(figsize=(5,5))\n",
        "sns.boxplot(y='EstimatedSalary',x='Exited',data=df)            \n",
        "plt.show()"
      ]
    },
    {
      "cell_type": "markdown",
      "metadata": {},
      "source": [
        "#### Observations:\n",
        "- The distribution of estimated salaries for customers who did not exit the bank is fairly uniform, spanning from low to high values.\n",
        "- The median estimated salary is roughly in the middle of the range, suggesting an even distribution of salaries.\n",
        "- Similarly, the distribution of estimated salaries for customers who exited the bank is quite uniform, covering the entire range of values.\n",
        "- The median estimated salary for this group is also approximately in the middle of the range.\n",
        "- The estimated salary distributions are very similar for both customers who churned and those who did not.\n",
        "- There doesn't seem to be a specific salary range that is more prone to churn.\n",
        "\n",
        "From this visualization, it appears that EstimatedSalary alone might not be a significant predictor of churn. Customers from various salary brackets seem equally likely to stay or leave the bank. "
      ]
    },
    {
      "cell_type": "markdown",
      "metadata": {
        "id": "7eWct2L10DUm"
      },
      "source": [
        "## Data Preprocessing"
      ]
    },
    {
      "cell_type": "markdown",
      "metadata": {
        "id": "_ByhREUF0Hf3"
      },
      "source": [
        "- We want to predict the churn.\n",
        "- Before we proceed to build a model, We'll split the data into train and test to be able to evaluate the model that we build on the train data\n",
        "-  we'll have to encode categorical features.\n",
        "- We will build a model using the train data and then check it's performance"
      ]
    },
    {
      "cell_type": "markdown",
      "metadata": {
        "id": "CUXPaUwZHUO8"
      },
      "source": [
        "### Data Preparation for Modeling"
      ]
    },
    {
      "cell_type": "code",
      "execution_count": 37,
      "metadata": {
        "id": "VTb3JwlaHUO-"
      },
      "outputs": [],
      "source": [
        "X = df.drop(['Exited'],axis=1)    ## Complete the code to obtain the independent features into variable X\n",
        "y = df[['Exited']]                ## Complete the code to obtain the dependent features into variable y"
      ]
    },
    {
      "cell_type": "code",
      "execution_count": 38,
      "metadata": {
        "id": "0YvyE1kXHUPl"
      },
      "outputs": [],
      "source": [
        "# Splitting the dataset into the Training and Testing set.\n",
        "\n",
        "X_large, X_test, y_large, y_test = train_test_split(X, y, test_size = 0.2, random_state = 42,stratify=y,shuffle = True) ## Complete the code to Split the X and y and obtain test set"
      ]
    },
    {
      "cell_type": "code",
      "execution_count": 39,
      "metadata": {
        "id": "GyMqPCOWc73G"
      },
      "outputs": [],
      "source": [
        "# Splitting the dataset into the Training and Testing set.\n",
        "\n",
        "X_train, X_val, y_train, y_val = train_test_split(X_large, y_large, test_size = 0.2, random_state = 42,stratify=y_large, shuffle = True) ## complete the code to Split X_large and y_large to obtain train and validation sets"
      ]
    },
    {
      "cell_type": "markdown",
      "metadata": {
        "id": "1nEEjgwleiMv"
      },
      "source": [
        "**Create dummy variables for string type variables**"
      ]
    },
    {
      "cell_type": "code",
      "execution_count": 40,
      "metadata": {
        "id": "_dsMyKhTc73H"
      },
      "outputs": [],
      "source": [
        "# Encoding Geography variable\n",
        "X_train = pd.get_dummies(X_train, columns=[\"Geography\",\"Gender\"],drop_first=True) ## Complete the code to encode Geography and Gender in train set\n",
        "X_test = pd.get_dummies(X_test, columns=[\"Geography\",\"Gender\"],drop_first=True)   ## Complete the code to encode Geography and Gender in test set\n",
        "X_val = pd.get_dummies(X_val, columns=[\"Geography\",\"Gender\"],drop_first=True)     ## Complete the code to encode Geography and Gender in validation set"
      ]
    },
    {
      "cell_type": "markdown",
      "metadata": {
        "id": "qlSyq5fNHUPp"
      },
      "source": [
        "**Normalize the numerical data**"
      ]
    },
    {
      "cell_type": "code",
      "execution_count": 41,
      "metadata": {
        "id": "CVx8TYI4c73H"
      },
      "outputs": [
        {
          "data": {
            "text/html": [
              "<div>\n",
              "<style scoped>\n",
              "    .dataframe tbody tr th:only-of-type {\n",
              "        vertical-align: middle;\n",
              "    }\n",
              "\n",
              "    .dataframe tbody tr th {\n",
              "        vertical-align: top;\n",
              "    }\n",
              "\n",
              "    .dataframe thead th {\n",
              "        text-align: right;\n",
              "    }\n",
              "</style>\n",
              "<table border=\"1\" class=\"dataframe\">\n",
              "  <thead>\n",
              "    <tr style=\"text-align: right;\">\n",
              "      <th></th>\n",
              "      <th>CreditScore</th>\n",
              "      <th>Age</th>\n",
              "      <th>Tenure</th>\n",
              "      <th>Balance</th>\n",
              "      <th>NumOfProducts</th>\n",
              "      <th>HasCrCard</th>\n",
              "      <th>IsActiveMember</th>\n",
              "      <th>EstimatedSalary</th>\n",
              "      <th>Geography_Germany</th>\n",
              "      <th>Geography_Spain</th>\n",
              "      <th>Gender_Male</th>\n",
              "    </tr>\n",
              "  </thead>\n",
              "  <tbody>\n",
              "    <tr>\n",
              "      <th>3006</th>\n",
              "      <td>0.988678</td>\n",
              "      <td>0.572685</td>\n",
              "      <td>-1.384980</td>\n",
              "      <td>0.610704</td>\n",
              "      <td>1</td>\n",
              "      <td>1</td>\n",
              "      <td>0</td>\n",
              "      <td>1.566070</td>\n",
              "      <td>0</td>\n",
              "      <td>0</td>\n",
              "      <td>0</td>\n",
              "    </tr>\n",
              "    <tr>\n",
              "      <th>5735</th>\n",
              "      <td>-0.683985</td>\n",
              "      <td>0.477619</td>\n",
              "      <td>-0.355056</td>\n",
              "      <td>-1.237347</td>\n",
              "      <td>2</td>\n",
              "      <td>0</td>\n",
              "      <td>1</td>\n",
              "      <td>0.036348</td>\n",
              "      <td>0</td>\n",
              "      <td>1</td>\n",
              "      <td>0</td>\n",
              "    </tr>\n",
              "    <tr>\n",
              "      <th>5652</th>\n",
              "      <td>0.410474</td>\n",
              "      <td>-0.948376</td>\n",
              "      <td>1.361485</td>\n",
              "      <td>-1.237347</td>\n",
              "      <td>2</td>\n",
              "      <td>0</td>\n",
              "      <td>0</td>\n",
              "      <td>1.745403</td>\n",
              "      <td>0</td>\n",
              "      <td>0</td>\n",
              "      <td>0</td>\n",
              "    </tr>\n",
              "    <tr>\n",
              "      <th>26</th>\n",
              "      <td>1.081604</td>\n",
              "      <td>-0.282911</td>\n",
              "      <td>-1.041672</td>\n",
              "      <td>0.962063</td>\n",
              "      <td>1</td>\n",
              "      <td>1</td>\n",
              "      <td>1</td>\n",
              "      <td>1.228816</td>\n",
              "      <td>1</td>\n",
              "      <td>0</td>\n",
              "      <td>1</td>\n",
              "    </tr>\n",
              "    <tr>\n",
              "      <th>3596</th>\n",
              "      <td>-0.085130</td>\n",
              "      <td>-0.282911</td>\n",
              "      <td>-1.728288</td>\n",
              "      <td>1.144427</td>\n",
              "      <td>1</td>\n",
              "      <td>0</td>\n",
              "      <td>0</td>\n",
              "      <td>-0.764748</td>\n",
              "      <td>0</td>\n",
              "      <td>0</td>\n",
              "      <td>1</td>\n",
              "    </tr>\n",
              "  </tbody>\n",
              "</table>\n",
              "</div>"
            ],
            "text/plain": [
              "      CreditScore       Age    Tenure   Balance  NumOfProducts  HasCrCard  \\\n",
              "3006     0.988678  0.572685 -1.384980  0.610704              1          1   \n",
              "5735    -0.683985  0.477619 -0.355056 -1.237347              2          0   \n",
              "5652     0.410474 -0.948376  1.361485 -1.237347              2          0   \n",
              "26       1.081604 -0.282911 -1.041672  0.962063              1          1   \n",
              "3596    -0.085130 -0.282911 -1.728288  1.144427              1          0   \n",
              "\n",
              "      IsActiveMember  EstimatedSalary  Geography_Germany  Geography_Spain  \\\n",
              "3006               0         1.566070                  0                0   \n",
              "5735               1         0.036348                  0                1   \n",
              "5652               0         1.745403                  0                0   \n",
              "26                 1         1.228816                  1                0   \n",
              "3596               0        -0.764748                  0                0   \n",
              "\n",
              "      Gender_Male  \n",
              "3006            0  \n",
              "5735            0  \n",
              "5652            0  \n",
              "26              1  \n",
              "3596            1  "
            ]
          },
          "execution_count": 41,
          "metadata": {},
          "output_type": "execute_result"
        }
      ],
      "source": [
        "# Initializing the StandardScaler\n",
        "sc = StandardScaler()\n",
        "\n",
        "# Fitting and transforming the relevant columns\n",
        "temp = sc.fit(X_train[[\"CreditScore\", \"Age\", \"Tenure\", \"Balance\", \"EstimatedSalary\"]])\n",
        "X_train[[\"CreditScore\", \"Age\", \"Tenure\", \"Balance\", \"EstimatedSalary\"]] = temp.transform(X_train[[\"CreditScore\", \"Age\", \"Tenure\", \"Balance\", \"EstimatedSalary\"]])\n",
        "X_test[[\"CreditScore\", \"Age\", \"Tenure\", \"Balance\", \"EstimatedSalary\"]] = temp.transform(X_test[[\"CreditScore\", \"Age\", \"Tenure\", \"Balance\", \"EstimatedSalary\"]])\n",
        "X_val[[\"CreditScore\", \"Age\", \"Tenure\", \"Balance\", \"EstimatedSalary\"]] = temp.transform(X_val[[\"CreditScore\", \"Age\", \"Tenure\", \"Balance\", \"EstimatedSalary\"]])\n",
        "\n",
        "X_train.head()"
      ]
    },
    {
      "cell_type": "markdown",
      "metadata": {
        "id": "W7_uSvumqSMK"
      },
      "source": [
        "## Model Building"
      ]
    },
    {
      "cell_type": "markdown",
      "metadata": {
        "id": "FayG94iciXVS"
      },
      "source": [
        "### Model Evaluation Criterion"
      ]
    },
    {
      "cell_type": "markdown",
      "metadata": {
        "id": "YJ3ZNT7IqXJD"
      },
      "source": [
        "**Model can make wrong predictions as:**\n",
        "* Predicting a customer is exiting  and the customer  is not exiting\n",
        "* Predicting a customer is not exiting and  customer is  exiting\n",
        "\n",
        "**Which case is more important?**\n",
        "* Predicting that customer is not exiting but he/she is exiting. It might cause loss to the banks because due to wrong identification bank will not be able to take any initiative for those sensitive customers. \n",
        "\n",
        "**How to reduce this loss i.e need to reduce False Negative?**\n",
        "* Bank would want `Recall` to be maximized, greater the Recall higher the chances of minimizing false Negative. Hence, the focus should be on increasing Recall or minimizing the false Negative or in other words identifying the True Positive(i.e. Class 1) so that the bank can retain their customers."
      ]
    },
    {
      "cell_type": "markdown",
      "metadata": {
        "id": "vZRg_PVAqoFq"
      },
      "source": [
        "**Create a function for plotting the confusion matrix**\n",
        "\n"
      ]
    },
    {
      "cell_type": "code",
      "execution_count": 42,
      "metadata": {
        "id": "MgvtLmPJqklJ"
      },
      "outputs": [],
      "source": [
        "def make_confusion_matrix(cf,\n",
        "                          group_names=None,\n",
        "                          categories='auto',\n",
        "                          count=True,\n",
        "                          percent=True,\n",
        "                          cbar=True,\n",
        "                          xyticks=True,\n",
        "                          xyplotlabels=True,\n",
        "                          sum_stats=True,\n",
        "                          figsize=None,\n",
        "                          cmap='Blues',\n",
        "                          title=None):\n",
        "    '''\n",
        "    This function will make a pretty plot of an sklearn Confusion Matrix cm using a Seaborn heatmap visualization.\n",
        "    Arguments\n",
        "    '''\n",
        "\n",
        "\n",
        "    # CODE TO GENERATE TEXT INSIDE EACH SQUARE\n",
        "    blanks = ['' for i in range(cf.size)]\n",
        "\n",
        "    if group_names and len(group_names)==cf.size:\n",
        "        group_labels = [\"{}\\n\".format(value) for value in group_names]\n",
        "    else:\n",
        "        group_labels = blanks\n",
        "\n",
        "    if count:\n",
        "        group_counts = [\"{0:0.0f}\\n\".format(value) for value in cf.flatten()]\n",
        "    else:\n",
        "        group_counts = blanks\n",
        "\n",
        "    if percent:\n",
        "        group_percentages = [\"{0:.2%}\".format(value) for value in cf.flatten()/np.sum(cf)]\n",
        "    else:\n",
        "        group_percentages = blanks\n",
        "\n",
        "    box_labels = [f\"{v1}{v2}{v3}\".strip() for v1, v2, v3 in zip(group_labels,group_counts,group_percentages)]\n",
        "    box_labels = np.asarray(box_labels).reshape(cf.shape[0],cf.shape[1])\n",
        "\n",
        "\n",
        "    # CODE TO GENERATE SUMMARY STATISTICS & TEXT FOR SUMMARY STATS\n",
        "    if sum_stats:\n",
        "        #Accuracy is sum of diagonal divided by total observations\n",
        "        accuracy  = np.trace(cf) / float(np.sum(cf))\n",
        "\n",
        "        #if it is a binary confusion matrix, show some more stats\n",
        "        if len(cf)==2:\n",
        "            #Metrics for Binary Confusion Matrices\n",
        "            precision = cf[1,1] / sum(cf[:,1])\n",
        "            recall    = cf[1,1] / sum(cf[1,:])\n",
        "            f1_score  = 2*precision*recall / (precision + recall)\n",
        "            stats_text = \"\\n\\nAccuracy={:0.3f}\\nPrecision={:0.3f}\\nRecall={:0.3f}\\nF1 Score={:0.3f}\".format(\n",
        "                accuracy,precision,recall,f1_score)\n",
        "        else:\n",
        "            stats_text = \"\\n\\nAccuracy={:0.3f}\".format(accuracy)\n",
        "    else:\n",
        "        stats_text = \"\"\n",
        "\n",
        "\n",
        "    # SET FIGURE PARAMETERS ACCORDING TO OTHER ARGUMENTS\n",
        "    if figsize==None:\n",
        "        #Get default figure size if not set\n",
        "        figsize = plt.rcParams.get('figure.figsize')\n",
        "\n",
        "    if xyticks==False:\n",
        "        #Do not show categories if xyticks is False\n",
        "        categories=False\n",
        "\n",
        "\n",
        "    # MAKE THE HEATMAP VISUALIZATION\n",
        "    plt.figure(figsize=figsize)\n",
        "    sns.heatmap(cf,annot=box_labels,fmt=\"\",cmap=cmap,cbar=cbar,xticklabels=categories,yticklabels=categories)\n",
        "\n",
        "    if xyplotlabels:\n",
        "        plt.ylabel('True label')\n",
        "        plt.xlabel('Predicted label' + stats_text)\n",
        "    else:\n",
        "        plt.xlabel(stats_text)\n",
        "    \n",
        "    if title:\n",
        "        plt.title(title)"
      ]
    },
    {
      "cell_type": "markdown",
      "metadata": {
        "id": "KwOyQwUh4Mo9"
      },
      "source": [
        "### Model Building: Neural Network"
      ]
    },
    {
      "cell_type": "code",
      "execution_count": 43,
      "metadata": {
        "id": "nOVzAE0sc73H"
      },
      "outputs": [],
      "source": [
        "backend.clear_session()\n",
        "#Fixing the seed for random number generators so that we can ensure we receive the same output everytime\n",
        "np.random.seed(42)\n",
        "random.seed(42)\n",
        "tf.random.set_seed(42)"
      ]
    },
    {
      "cell_type": "code",
      "execution_count": 44,
      "metadata": {
        "id": "aexcSjTuHUPx"
      },
      "outputs": [],
      "source": [
        "# Initializing the ANN\n",
        "classifier = Sequential()\n",
        "\n",
        "# Add the input layer with 64 neurons, relu activation, and 11 input variables\n",
        "classifier.add(Dense(activation='relu', input_dim=11, units=64))\n",
        "\n",
        "# Add the 1st hidden layer with 32 neurons and relu activation\n",
        "classifier.add(Dense(32, activation='relu'))\n",
        "\n",
        "# Add the output layer with one node and sigmoid activation (for binary classification)\n",
        "classifier.add(Dense(1, activation='sigmoid'))\n"
      ]
    },
    {
      "cell_type": "code",
      "execution_count": 45,
      "metadata": {
        "id": "bsCe9B-QHUP9"
      },
      "outputs": [],
      "source": [
        "# Compile the model with SGD (Stochastic Gradient Descent) optimizer, binary cross-entropy as the loss function, and accuracy as the metric\n",
        "classifier.compile(optimizer='sgd', loss='binary_crossentropy', metrics=['accuracy'])"
      ]
    },
    {
      "cell_type": "code",
      "execution_count": 46,
      "metadata": {
        "id": "U1ZM6oGVHUQX"
      },
      "outputs": [
        {
          "name": "stdout",
          "output_type": "stream",
          "text": [
            "Model: \"sequential\"\n",
            "_________________________________________________________________\n",
            " Layer (type)                Output Shape              Param #   \n",
            "=================================================================\n",
            " dense (Dense)               (None, 64)                768       \n",
            "                                                                 \n",
            " dense_1 (Dense)             (None, 32)                2080      \n",
            "                                                                 \n",
            " dense_2 (Dense)             (None, 1)                 33        \n",
            "                                                                 \n",
            "=================================================================\n",
            "Total params: 2881 (11.25 KB)\n",
            "Trainable params: 2881 (11.25 KB)\n",
            "Non-trainable params: 0 (0.00 Byte)\n",
            "_________________________________________________________________\n"
          ]
        }
      ],
      "source": [
        "# Obtain the summary of the model\n",
        "classifier.summary()"
      ]
    },
    {
      "cell_type": "code",
      "execution_count": 47,
      "metadata": {
        "id": "H5q62XKSHUQc",
        "scrolled": true
      },
      "outputs": [
        {
          "name": "stdout",
          "output_type": "stream",
          "text": [
            "Epoch 1/100\n",
            "200/200 [==============================] - 1s 2ms/step - loss: 0.5214 - accuracy: 0.7875 - val_loss: 0.4830 - val_accuracy: 0.7962\n",
            "Epoch 2/100\n",
            "177/200 [=========================>....] - ETA: 0s - loss: 0.4769 - accuracy: 0.7948"
          ]
        },
        {
          "name": "stdout",
          "output_type": "stream",
          "text": [
            "200/200 [==============================] - 0s 769us/step - loss: 0.4739 - accuracy: 0.7964 - val_loss: 0.4583 - val_accuracy: 0.7969\n",
            "Epoch 3/100\n",
            "200/200 [==============================] - 0s 753us/step - loss: 0.4546 - accuracy: 0.7969 - val_loss: 0.4439 - val_accuracy: 0.8019\n",
            "Epoch 4/100\n",
            "200/200 [==============================] - 0s 765us/step - loss: 0.4424 - accuracy: 0.8005 - val_loss: 0.4357 - val_accuracy: 0.8075\n",
            "Epoch 5/100\n",
            "200/200 [==============================] - 0s 739us/step - loss: 0.4346 - accuracy: 0.8034 - val_loss: 0.4306 - val_accuracy: 0.8112\n",
            "Epoch 6/100\n",
            "200/200 [==============================] - 0s 744us/step - loss: 0.4295 - accuracy: 0.8080 - val_loss: 0.4276 - val_accuracy: 0.8150\n",
            "Epoch 7/100\n",
            "200/200 [==============================] - 0s 749us/step - loss: 0.4257 - accuracy: 0.8112 - val_loss: 0.4254 - val_accuracy: 0.8144\n",
            "Epoch 8/100\n",
            "200/200 [==============================] - 0s 733us/step - loss: 0.4222 - accuracy: 0.8156 - val_loss: 0.4253 - val_accuracy: 0.8163\n",
            "Epoch 9/100\n",
            "200/200 [==============================] - 0s 744us/step - loss: 0.4204 - accuracy: 0.8173 - val_loss: 0.4227 - val_accuracy: 0.8188\n",
            "Epoch 10/100\n",
            "200/200 [==============================] - 0s 742us/step - loss: 0.4185 - accuracy: 0.8189 - val_loss: 0.4220 - val_accuracy: 0.8188\n",
            "Epoch 11/100\n",
            "200/200 [==============================] - 0s 749us/step - loss: 0.4168 - accuracy: 0.8203 - val_loss: 0.4215 - val_accuracy: 0.8188\n",
            "Epoch 12/100\n",
            "200/200 [==============================] - 0s 739us/step - loss: 0.4154 - accuracy: 0.8208 - val_loss: 0.4204 - val_accuracy: 0.8200\n",
            "Epoch 13/100\n",
            "200/200 [==============================] - 0s 739us/step - loss: 0.4142 - accuracy: 0.8205 - val_loss: 0.4198 - val_accuracy: 0.8200\n",
            "Epoch 14/100\n",
            "200/200 [==============================] - 0s 749us/step - loss: 0.4130 - accuracy: 0.8234 - val_loss: 0.4193 - val_accuracy: 0.8206\n",
            "Epoch 15/100\n",
            "200/200 [==============================] - 0s 741us/step - loss: 0.4119 - accuracy: 0.8241 - val_loss: 0.4188 - val_accuracy: 0.8163\n",
            "Epoch 16/100\n",
            "200/200 [==============================] - 0s 770us/step - loss: 0.4106 - accuracy: 0.8241 - val_loss: 0.4182 - val_accuracy: 0.8181\n",
            "Epoch 17/100\n",
            "200/200 [==============================] - 0s 739us/step - loss: 0.4098 - accuracy: 0.8238 - val_loss: 0.4173 - val_accuracy: 0.8194\n",
            "Epoch 18/100\n",
            "200/200 [==============================] - 0s 739us/step - loss: 0.4090 - accuracy: 0.8261 - val_loss: 0.4167 - val_accuracy: 0.8194\n",
            "Epoch 19/100\n",
            "200/200 [==============================] - 0s 734us/step - loss: 0.4080 - accuracy: 0.8258 - val_loss: 0.4165 - val_accuracy: 0.8206\n",
            "Epoch 20/100\n",
            "200/200 [==============================] - 0s 734us/step - loss: 0.4070 - accuracy: 0.8258 - val_loss: 0.4157 - val_accuracy: 0.8194\n",
            "Epoch 21/100\n",
            "200/200 [==============================] - 0s 739us/step - loss: 0.4061 - accuracy: 0.8266 - val_loss: 0.4150 - val_accuracy: 0.8213\n",
            "Epoch 22/100\n",
            "200/200 [==============================] - 0s 739us/step - loss: 0.4050 - accuracy: 0.8272 - val_loss: 0.4151 - val_accuracy: 0.8213\n",
            "Epoch 23/100\n",
            "200/200 [==============================] - 0s 744us/step - loss: 0.4043 - accuracy: 0.8277 - val_loss: 0.4142 - val_accuracy: 0.8194\n",
            "Epoch 24/100\n",
            "200/200 [==============================] - 0s 744us/step - loss: 0.4031 - accuracy: 0.8270 - val_loss: 0.4129 - val_accuracy: 0.8238\n",
            "Epoch 25/100\n",
            "200/200 [==============================] - 0s 744us/step - loss: 0.4023 - accuracy: 0.8275 - val_loss: 0.4123 - val_accuracy: 0.8238\n",
            "Epoch 26/100\n",
            "200/200 [==============================] - 0s 749us/step - loss: 0.4014 - accuracy: 0.8280 - val_loss: 0.4123 - val_accuracy: 0.8238\n",
            "Epoch 27/100\n",
            "200/200 [==============================] - 0s 729us/step - loss: 0.4003 - accuracy: 0.8295 - val_loss: 0.4120 - val_accuracy: 0.8213\n",
            "Epoch 28/100\n",
            "200/200 [==============================] - 0s 739us/step - loss: 0.3998 - accuracy: 0.8297 - val_loss: 0.4112 - val_accuracy: 0.8244\n",
            "Epoch 29/100\n",
            "200/200 [==============================] - 0s 741us/step - loss: 0.3987 - accuracy: 0.8291 - val_loss: 0.4110 - val_accuracy: 0.8263\n",
            "Epoch 30/100\n",
            "200/200 [==============================] - 0s 742us/step - loss: 0.3979 - accuracy: 0.8313 - val_loss: 0.4097 - val_accuracy: 0.8225\n",
            "Epoch 31/100\n",
            "200/200 [==============================] - 0s 739us/step - loss: 0.3970 - accuracy: 0.8288 - val_loss: 0.4091 - val_accuracy: 0.8225\n",
            "Epoch 32/100\n",
            "200/200 [==============================] - 0s 744us/step - loss: 0.3962 - accuracy: 0.8317 - val_loss: 0.4088 - val_accuracy: 0.8231\n",
            "Epoch 33/100\n",
            "200/200 [==============================] - 0s 729us/step - loss: 0.3952 - accuracy: 0.8316 - val_loss: 0.4078 - val_accuracy: 0.8256\n",
            "Epoch 34/100\n",
            "200/200 [==============================] - 0s 744us/step - loss: 0.3943 - accuracy: 0.8317 - val_loss: 0.4073 - val_accuracy: 0.8250\n",
            "Epoch 35/100\n",
            "200/200 [==============================] - 0s 734us/step - loss: 0.3933 - accuracy: 0.8311 - val_loss: 0.4069 - val_accuracy: 0.8244\n",
            "Epoch 36/100\n",
            "200/200 [==============================] - 0s 744us/step - loss: 0.3923 - accuracy: 0.8344 - val_loss: 0.4061 - val_accuracy: 0.8281\n",
            "Epoch 37/100\n",
            "200/200 [==============================] - 0s 739us/step - loss: 0.3913 - accuracy: 0.8323 - val_loss: 0.4056 - val_accuracy: 0.8256\n",
            "Epoch 38/100\n",
            "200/200 [==============================] - 0s 739us/step - loss: 0.3904 - accuracy: 0.8347 - val_loss: 0.4054 - val_accuracy: 0.8263\n",
            "Epoch 39/100\n",
            "200/200 [==============================] - 0s 744us/step - loss: 0.3895 - accuracy: 0.8363 - val_loss: 0.4040 - val_accuracy: 0.8306\n",
            "Epoch 40/100\n",
            "200/200 [==============================] - 0s 759us/step - loss: 0.3886 - accuracy: 0.8356 - val_loss: 0.4037 - val_accuracy: 0.8294\n",
            "Epoch 41/100\n",
            "200/200 [==============================] - 0s 759us/step - loss: 0.3874 - accuracy: 0.8367 - val_loss: 0.4033 - val_accuracy: 0.8288\n",
            "Epoch 42/100\n",
            "200/200 [==============================] - 0s 744us/step - loss: 0.3865 - accuracy: 0.8383 - val_loss: 0.4031 - val_accuracy: 0.8288\n",
            "Epoch 43/100\n",
            "200/200 [==============================] - 0s 739us/step - loss: 0.3858 - accuracy: 0.8388 - val_loss: 0.4022 - val_accuracy: 0.8331\n",
            "Epoch 44/100\n",
            "200/200 [==============================] - 0s 737us/step - loss: 0.3845 - accuracy: 0.8378 - val_loss: 0.4019 - val_accuracy: 0.8344\n",
            "Epoch 45/100\n",
            "200/200 [==============================] - 0s 744us/step - loss: 0.3836 - accuracy: 0.8408 - val_loss: 0.4014 - val_accuracy: 0.8313\n",
            "Epoch 46/100\n",
            "200/200 [==============================] - 0s 744us/step - loss: 0.3828 - accuracy: 0.8416 - val_loss: 0.4000 - val_accuracy: 0.8338\n",
            "Epoch 47/100\n",
            "200/200 [==============================] - 0s 744us/step - loss: 0.3816 - accuracy: 0.8406 - val_loss: 0.3996 - val_accuracy: 0.8369\n",
            "Epoch 48/100\n",
            "200/200 [==============================] - 0s 734us/step - loss: 0.3809 - accuracy: 0.8408 - val_loss: 0.3989 - val_accuracy: 0.8356\n",
            "Epoch 49/100\n",
            "200/200 [==============================] - 0s 734us/step - loss: 0.3800 - accuracy: 0.8430 - val_loss: 0.3979 - val_accuracy: 0.8375\n",
            "Epoch 50/100\n",
            "200/200 [==============================] - 0s 739us/step - loss: 0.3785 - accuracy: 0.8433 - val_loss: 0.4006 - val_accuracy: 0.8319\n",
            "Epoch 51/100\n",
            "200/200 [==============================] - 0s 739us/step - loss: 0.3781 - accuracy: 0.8417 - val_loss: 0.3964 - val_accuracy: 0.8375\n",
            "Epoch 52/100\n",
            "200/200 [==============================] - 0s 739us/step - loss: 0.3769 - accuracy: 0.8433 - val_loss: 0.3960 - val_accuracy: 0.8381\n",
            "Epoch 53/100\n",
            "200/200 [==============================] - 0s 739us/step - loss: 0.3762 - accuracy: 0.8456 - val_loss: 0.3965 - val_accuracy: 0.8369\n",
            "Epoch 54/100\n",
            "200/200 [==============================] - 0s 739us/step - loss: 0.3751 - accuracy: 0.8455 - val_loss: 0.3946 - val_accuracy: 0.8375\n",
            "Epoch 55/100\n",
            "200/200 [==============================] - 0s 749us/step - loss: 0.3740 - accuracy: 0.8452 - val_loss: 0.3936 - val_accuracy: 0.8394\n",
            "Epoch 56/100\n",
            "200/200 [==============================] - 0s 744us/step - loss: 0.3732 - accuracy: 0.8448 - val_loss: 0.3927 - val_accuracy: 0.8406\n",
            "Epoch 57/100\n",
            "200/200 [==============================] - 0s 780us/step - loss: 0.3723 - accuracy: 0.8455 - val_loss: 0.3914 - val_accuracy: 0.8369\n",
            "Epoch 58/100\n",
            "200/200 [==============================] - 0s 744us/step - loss: 0.3710 - accuracy: 0.8461 - val_loss: 0.3908 - val_accuracy: 0.8431\n",
            "Epoch 59/100\n",
            "200/200 [==============================] - 0s 729us/step - loss: 0.3698 - accuracy: 0.8461 - val_loss: 0.3907 - val_accuracy: 0.8388\n",
            "Epoch 60/100\n",
            "200/200 [==============================] - 0s 734us/step - loss: 0.3693 - accuracy: 0.8472 - val_loss: 0.3891 - val_accuracy: 0.8425\n",
            "Epoch 61/100\n",
            "200/200 [==============================] - 0s 744us/step - loss: 0.3680 - accuracy: 0.8461 - val_loss: 0.3880 - val_accuracy: 0.8425\n",
            "Epoch 62/100\n",
            "200/200 [==============================] - 0s 734us/step - loss: 0.3672 - accuracy: 0.8487 - val_loss: 0.3867 - val_accuracy: 0.8475\n",
            "Epoch 63/100\n",
            "200/200 [==============================] - 0s 739us/step - loss: 0.3666 - accuracy: 0.8467 - val_loss: 0.3870 - val_accuracy: 0.8394\n",
            "Epoch 64/100\n",
            "200/200 [==============================] - 0s 739us/step - loss: 0.3656 - accuracy: 0.8475 - val_loss: 0.3859 - val_accuracy: 0.8469\n",
            "Epoch 65/100\n",
            "200/200 [==============================] - 0s 739us/step - loss: 0.3643 - accuracy: 0.8481 - val_loss: 0.3864 - val_accuracy: 0.8425\n",
            "Epoch 66/100\n",
            "200/200 [==============================] - 0s 744us/step - loss: 0.3632 - accuracy: 0.8481 - val_loss: 0.3836 - val_accuracy: 0.8425\n",
            "Epoch 67/100\n",
            "200/200 [==============================] - 0s 744us/step - loss: 0.3624 - accuracy: 0.8489 - val_loss: 0.3821 - val_accuracy: 0.8456\n",
            "Epoch 68/100\n",
            "200/200 [==============================] - 0s 744us/step - loss: 0.3612 - accuracy: 0.8497 - val_loss: 0.3815 - val_accuracy: 0.8444\n",
            "Epoch 69/100\n",
            "200/200 [==============================] - 0s 736us/step - loss: 0.3601 - accuracy: 0.8494 - val_loss: 0.3813 - val_accuracy: 0.8519\n",
            "Epoch 70/100\n",
            "200/200 [==============================] - 0s 739us/step - loss: 0.3591 - accuracy: 0.8508 - val_loss: 0.3804 - val_accuracy: 0.8456\n",
            "Epoch 71/100\n",
            "200/200 [==============================] - 0s 729us/step - loss: 0.3585 - accuracy: 0.8495 - val_loss: 0.3773 - val_accuracy: 0.8531\n",
            "Epoch 72/100\n",
            "200/200 [==============================] - 0s 749us/step - loss: 0.3573 - accuracy: 0.8505 - val_loss: 0.3771 - val_accuracy: 0.8512\n",
            "Epoch 73/100\n",
            "200/200 [==============================] - 0s 734us/step - loss: 0.3562 - accuracy: 0.8516 - val_loss: 0.3773 - val_accuracy: 0.8487\n",
            "Epoch 74/100\n",
            "200/200 [==============================] - 0s 780us/step - loss: 0.3551 - accuracy: 0.8514 - val_loss: 0.3774 - val_accuracy: 0.8469\n",
            "Epoch 75/100\n",
            "200/200 [==============================] - 0s 734us/step - loss: 0.3543 - accuracy: 0.8517 - val_loss: 0.3742 - val_accuracy: 0.8494\n",
            "Epoch 76/100\n",
            "200/200 [==============================] - 0s 734us/step - loss: 0.3533 - accuracy: 0.8522 - val_loss: 0.3727 - val_accuracy: 0.8512\n",
            "Epoch 77/100\n",
            "200/200 [==============================] - 0s 742us/step - loss: 0.3516 - accuracy: 0.8522 - val_loss: 0.3739 - val_accuracy: 0.8519\n",
            "Epoch 78/100\n",
            "200/200 [==============================] - 0s 754us/step - loss: 0.3517 - accuracy: 0.8531 - val_loss: 0.3717 - val_accuracy: 0.8544\n",
            "Epoch 79/100\n",
            "200/200 [==============================] - 0s 744us/step - loss: 0.3504 - accuracy: 0.8547 - val_loss: 0.3709 - val_accuracy: 0.8544\n",
            "Epoch 80/100\n",
            "200/200 [==============================] - 0s 749us/step - loss: 0.3493 - accuracy: 0.8537 - val_loss: 0.3709 - val_accuracy: 0.8531\n",
            "Epoch 81/100\n",
            "200/200 [==============================] - 0s 744us/step - loss: 0.3481 - accuracy: 0.8566 - val_loss: 0.3720 - val_accuracy: 0.8556\n",
            "Epoch 82/100\n",
            "200/200 [==============================] - 0s 756us/step - loss: 0.3474 - accuracy: 0.8570 - val_loss: 0.3688 - val_accuracy: 0.8531\n",
            "Epoch 83/100\n",
            "200/200 [==============================] - 0s 759us/step - loss: 0.3466 - accuracy: 0.8561 - val_loss: 0.3704 - val_accuracy: 0.8525\n",
            "Epoch 84/100\n",
            "200/200 [==============================] - 0s 754us/step - loss: 0.3455 - accuracy: 0.8567 - val_loss: 0.3700 - val_accuracy: 0.8531\n",
            "Epoch 85/100\n",
            "200/200 [==============================] - 0s 749us/step - loss: 0.3453 - accuracy: 0.8573 - val_loss: 0.3672 - val_accuracy: 0.8537\n",
            "Epoch 86/100\n",
            "200/200 [==============================] - 0s 754us/step - loss: 0.3441 - accuracy: 0.8581 - val_loss: 0.3665 - val_accuracy: 0.8525\n",
            "Epoch 87/100\n",
            "200/200 [==============================] - 0s 749us/step - loss: 0.3431 - accuracy: 0.8569 - val_loss: 0.3654 - val_accuracy: 0.8544\n",
            "Epoch 88/100\n",
            "200/200 [==============================] - 0s 739us/step - loss: 0.3421 - accuracy: 0.8594 - val_loss: 0.3657 - val_accuracy: 0.8512\n",
            "Epoch 89/100\n",
            "200/200 [==============================] - 0s 744us/step - loss: 0.3411 - accuracy: 0.8603 - val_loss: 0.3640 - val_accuracy: 0.8500\n",
            "Epoch 90/100\n",
            "200/200 [==============================] - 0s 754us/step - loss: 0.3402 - accuracy: 0.8577 - val_loss: 0.3658 - val_accuracy: 0.8494\n",
            "Epoch 91/100\n",
            "200/200 [==============================] - 0s 754us/step - loss: 0.3391 - accuracy: 0.8597 - val_loss: 0.3634 - val_accuracy: 0.8519\n",
            "Epoch 92/100\n",
            "200/200 [==============================] - 0s 729us/step - loss: 0.3382 - accuracy: 0.8614 - val_loss: 0.3648 - val_accuracy: 0.8506\n",
            "Epoch 93/100\n",
            "200/200 [==============================] - 0s 744us/step - loss: 0.3375 - accuracy: 0.8605 - val_loss: 0.3626 - val_accuracy: 0.8531\n",
            "Epoch 94/100\n",
            "200/200 [==============================] - 0s 739us/step - loss: 0.3368 - accuracy: 0.8602 - val_loss: 0.3610 - val_accuracy: 0.8494\n",
            "Epoch 95/100\n",
            "200/200 [==============================] - 0s 741us/step - loss: 0.3357 - accuracy: 0.8587 - val_loss: 0.3646 - val_accuracy: 0.8500\n",
            "Epoch 96/100\n",
            "200/200 [==============================] - 0s 744us/step - loss: 0.3345 - accuracy: 0.8608 - val_loss: 0.3607 - val_accuracy: 0.8487\n",
            "Epoch 97/100\n",
            "200/200 [==============================] - 0s 744us/step - loss: 0.3340 - accuracy: 0.8606 - val_loss: 0.3608 - val_accuracy: 0.8512\n",
            "Epoch 98/100\n",
            "200/200 [==============================] - 0s 749us/step - loss: 0.3329 - accuracy: 0.8631 - val_loss: 0.3667 - val_accuracy: 0.8469\n",
            "Epoch 99/100\n",
            "200/200 [==============================] - 0s 744us/step - loss: 0.3326 - accuracy: 0.8625 - val_loss: 0.3595 - val_accuracy: 0.8519\n",
            "Epoch 100/100\n",
            "200/200 [==============================] - 0s 749us/step - loss: 0.3312 - accuracy: 0.8630 - val_loss: 0.3599 - val_accuracy: 0.8494\n"
          ]
        }
      ],
      "source": [
        "# Fit the model on training data for 100 epochs\n",
        "history = classifier.fit(X_train, y_train,           \n",
        "          validation_data=(X_val, y_val),\n",
        "          epochs=100,\n",
        "          batch_size=32)"
      ]
    },
    {
      "cell_type": "markdown",
      "metadata": {
        "id": "M55NkPWl6GN1"
      },
      "source": [
        "**Loss function**"
      ]
    },
    {
      "cell_type": "code",
      "execution_count": 48,
      "metadata": {
        "id": "-nEKVK07gBlG"
      },
      "outputs": [
        {
          "name": "stdout",
          "output_type": "stream",
          "text": [
            "63/63 [==============================] - 0s 575us/step - loss: 0.3466 - accuracy: 0.8570\n"
          ]
        },
        {
          "data": {
            "image/png": "[encoded data removed]",
            "text/plain": [
              "<Figure size 432x288 with 1 Axes>"
            ]
          },
          "metadata": {
            "needs_background": "light"
          },
          "output_type": "display_data"
        }
      ],
      "source": [
        "# Capturing learning history per epoch\n",
        "hist  = pd.DataFrame(history.history)\n",
        "hist['epoch'] = history.epoch\n",
        "\n",
        "# Plotting accuracy at different epochs\n",
        "plt.plot(hist['loss'])\n",
        "plt.plot(hist['val_loss'])\n",
        "plt.legend((\"train\" , \"valid\") , loc =0)\n",
        "\n",
        "# Evaluate the model on X_test and y_test\n",
        "results = classifier.evaluate(X_test, y_test)"
      ]
    },
    {
      "cell_type": "code",
      "execution_count": 49,
      "metadata": {},
      "outputs": [
        {
          "data": {
            "text/plain": [
              "[0.3466017544269562, 0.8569999933242798]"
            ]
          },
          "execution_count": 49,
          "metadata": {},
          "output_type": "execute_result"
        }
      ],
      "source": [
        "results"
      ]
    },
    {
      "cell_type": "markdown",
      "metadata": {},
      "source": [
        "#### Observations:\n",
        "- The model performs relatively well with an accuracy of approximately 85.70% on unseen data (test set). This suggests that the model generalizes well to new data.\n",
        "The loss value is reasonably low, indicating that the model's predictions are, on average, fairly close to the actual outcomes."
      ]
    },
    {
      "cell_type": "markdown",
      "metadata": {
        "id": "2r_0g1NHSGhr"
      },
      "source": [
        "**Confusion matrix** "
      ]
    },
    {
      "cell_type": "code",
      "execution_count": 50,
      "metadata": {
        "id": "y3aDaCPDRm9T"
      },
      "outputs": [
        {
          "name": "stdout",
          "output_type": "stream",
          "text": [
            "50/50 [==============================] - 0s 490us/step\n"
          ]
        },
        {
          "data": {
            "image/png": "[encoded data removed]",
            "text/plain": [
              "<Figure size 432x288 with 2 Axes>"
            ]
          },
          "metadata": {
            "needs_background": "light"
          },
          "output_type": "display_data"
        }
      ],
      "source": [
        "# Predicting on the validation set \n",
        "y_pred1=classifier.predict(X_val)\n",
        "\n",
        "#Let's predict using default threshold\n",
        "y_pred1 = (y_pred1 > 0.5)\n",
        "cm2=confusion_matrix(y_val, y_pred1)\n",
        "labels = ['True Negative','False Positive','False Negative','True Positive']\n",
        "categories = [ 'Not_Exited','Exited']\n",
        "make_confusion_matrix(cm2, \n",
        "                      group_names=labels,\n",
        "                      categories=categories, \n",
        "                      cmap='Blues')"
      ]
    },
    {
      "cell_type": "markdown",
      "metadata": {},
      "source": [
        "#### Observations:\n",
        "- The model's accuracy is quite high at 84.9%, suggesting that it performs well overall.\n",
        "- The model's precision is also relatively high at 76.7%, indicating that when the model predicts a customer will exit, it's right about 76.7% of the time.\n",
        "- However, the recall is low at 37.4%, which is a concern. It means the model is missing out on a significant number of customers who are exiting. As you mentioned earlier, it's essential for the bank to identify as many exiting customers as possible to take preventive measures.\n",
        "- The F1 score, which is a balance of precision and recall, is at 50.3%. This suggests there's room for improvement, particularly in increasing recall without sacrificing too much precision."
      ]
    },
    {
      "cell_type": "markdown",
      "metadata": {
        "id": "IciEK79v7GCm"
      },
      "source": [
        "### Model Building: Neural Network model with Adam Optimizer"
      ]
    },
    {
      "cell_type": "code",
      "execution_count": 51,
      "metadata": {
        "id": "CkzWYhkOc73J"
      },
      "outputs": [],
      "source": [
        "backend.clear_session()\n",
        "#Fixing the seed for random number generators so that we can ensure we receive the same output everytime\n",
        "np.random.seed(2)\n",
        "random.seed(2)\n",
        "tf.random.set_seed(2)"
      ]
    },
    {
      "cell_type": "code",
      "execution_count": 52,
      "metadata": {
        "id": "36b7peUubI1q"
      },
      "outputs": [],
      "source": [
        "def create_model():\n",
        "    # Initializing the neural network\n",
        "    model = Sequential()\n",
        "    \n",
        "    # Adding the input layer with 64 neurons and 'relu' as the activation function\n",
        "    model.add(Dense(64, activation='relu', input_dim=X_train.shape[1]))\n",
        "    \n",
        "    # Adding the first hidden layer with 32 neurons and 'relu' as the activation function\n",
        "    model.add(Dense(32, activation='relu'))\n",
        "    \n",
        "    # Adding the output layer with 1 neuron (binary classification) and 'sigmoid' as the activation function\n",
        "    model.add(Dense(1, activation='sigmoid'))\n",
        "    \n",
        "    # Initializing the Adam optimizer with a learning rate of 0.001\n",
        "    optimizer = tf.keras.optimizers.Adam(0.001)\n",
        "    \n",
        "    # Compiling the model with 'binary_crossentropy' as the loss function and 'accuracy' as the metric\n",
        "    model.compile(loss='binary_crossentropy', optimizer=optimizer, metrics=['accuracy'])\n",
        "    \n",
        "    return model"
      ]
    },
    {
      "cell_type": "code",
      "execution_count": 53,
      "metadata": {
        "id": "xVs_I0EubWk-"
      },
      "outputs": [
        {
          "name": "stdout",
          "output_type": "stream",
          "text": [
            "Model: \"sequential\"\n",
            "_________________________________________________________________\n",
            " Layer (type)                Output Shape              Param #   \n",
            "=================================================================\n",
            " dense (Dense)               (None, 64)                768       \n",
            "                                                                 \n",
            " dense_1 (Dense)             (None, 32)                2080      \n",
            "                                                                 \n",
            " dense_2 (Dense)             (None, 1)                 33        \n",
            "                                                                 \n",
            "=================================================================\n",
            "Total params: 2881 (11.25 KB)\n",
            "Trainable params: 2881 (11.25 KB)\n",
            "Non-trainable params: 0 (0.00 Byte)\n",
            "_________________________________________________________________\n"
          ]
        }
      ],
      "source": [
        "model=create_model()\n",
        "model.summary()"
      ]
    },
    {
      "cell_type": "code",
      "execution_count": 54,
      "metadata": {
        "id": "8j4im_XibZs2",
        "scrolled": true
      },
      "outputs": [
        {
          "name": "stdout",
          "output_type": "stream",
          "text": [
            "Epoch 1/100\n"
          ]
        },
        {
          "name": "stdout",
          "output_type": "stream",
          "text": [
            "200/200 [==============================] - 1s 1ms/step - loss: 0.4512 - accuracy: 0.7998 - val_loss: 0.4334 - val_accuracy: 0.8106\n",
            "Epoch 2/100\n",
            "200/200 [==============================] - 0s 761us/step - loss: 0.4101 - accuracy: 0.8283 - val_loss: 0.4177 - val_accuracy: 0.8263\n",
            "Epoch 3/100\n",
            "200/200 [==============================] - 0s 779us/step - loss: 0.3970 - accuracy: 0.8327 - val_loss: 0.4077 - val_accuracy: 0.8344\n",
            "Epoch 4/100\n",
            "200/200 [==============================] - 0s 767us/step - loss: 0.3865 - accuracy: 0.8356 - val_loss: 0.4027 - val_accuracy: 0.8331\n",
            "Epoch 5/100\n",
            "200/200 [==============================] - 0s 770us/step - loss: 0.3752 - accuracy: 0.8403 - val_loss: 0.3967 - val_accuracy: 0.8350\n",
            "Epoch 6/100\n",
            "200/200 [==============================] - 0s 765us/step - loss: 0.3660 - accuracy: 0.8473 - val_loss: 0.3878 - val_accuracy: 0.8425\n",
            "Epoch 7/100\n",
            "200/200 [==============================] - 0s 765us/step - loss: 0.3592 - accuracy: 0.8481 - val_loss: 0.3799 - val_accuracy: 0.8469\n",
            "Epoch 8/100\n",
            "200/200 [==============================] - 0s 754us/step - loss: 0.3522 - accuracy: 0.8491 - val_loss: 0.3749 - val_accuracy: 0.8494\n",
            "Epoch 9/100\n",
            "200/200 [==============================] - 0s 750us/step - loss: 0.3461 - accuracy: 0.8556 - val_loss: 0.3731 - val_accuracy: 0.8481\n",
            "Epoch 10/100\n",
            "200/200 [==============================] - 0s 754us/step - loss: 0.3403 - accuracy: 0.8584 - val_loss: 0.3635 - val_accuracy: 0.8475\n",
            "Epoch 11/100\n",
            "200/200 [==============================] - 0s 753us/step - loss: 0.3348 - accuracy: 0.8614 - val_loss: 0.3719 - val_accuracy: 0.8456\n",
            "Epoch 12/100\n",
            "200/200 [==============================] - 0s 759us/step - loss: 0.3318 - accuracy: 0.8614 - val_loss: 0.3636 - val_accuracy: 0.8512\n",
            "Epoch 13/100\n",
            "200/200 [==============================] - 0s 754us/step - loss: 0.3281 - accuracy: 0.8647 - val_loss: 0.3607 - val_accuracy: 0.8581\n",
            "Epoch 14/100\n",
            "200/200 [==============================] - 0s 740us/step - loss: 0.3249 - accuracy: 0.8637 - val_loss: 0.3611 - val_accuracy: 0.8531\n",
            "Epoch 15/100\n",
            "200/200 [==============================] - 0s 751us/step - loss: 0.3222 - accuracy: 0.8616 - val_loss: 0.3610 - val_accuracy: 0.8531\n",
            "Epoch 16/100\n",
            "200/200 [==============================] - 0s 749us/step - loss: 0.3207 - accuracy: 0.8661 - val_loss: 0.3569 - val_accuracy: 0.8494\n",
            "Epoch 17/100\n",
            "200/200 [==============================] - 0s 770us/step - loss: 0.3163 - accuracy: 0.8706 - val_loss: 0.3541 - val_accuracy: 0.8569\n",
            "Epoch 18/100\n",
            "200/200 [==============================] - 0s 765us/step - loss: 0.3135 - accuracy: 0.8702 - val_loss: 0.3595 - val_accuracy: 0.8550\n",
            "Epoch 19/100\n",
            "200/200 [==============================] - 0s 770us/step - loss: 0.3125 - accuracy: 0.8723 - val_loss: 0.3706 - val_accuracy: 0.8506\n",
            "Epoch 20/100\n",
            "200/200 [==============================] - 0s 750us/step - loss: 0.3107 - accuracy: 0.8689 - val_loss: 0.3552 - val_accuracy: 0.8531\n",
            "Epoch 21/100\n",
            "200/200 [==============================] - 0s 765us/step - loss: 0.3093 - accuracy: 0.8705 - val_loss: 0.3554 - val_accuracy: 0.8537\n",
            "Epoch 22/100\n",
            "200/200 [==============================] - 0s 785us/step - loss: 0.3089 - accuracy: 0.8709 - val_loss: 0.3563 - val_accuracy: 0.8556\n",
            "Epoch 23/100\n",
            "200/200 [==============================] - 0s 765us/step - loss: 0.3062 - accuracy: 0.8720 - val_loss: 0.3581 - val_accuracy: 0.8531\n",
            "Epoch 24/100\n",
            "200/200 [==============================] - 0s 770us/step - loss: 0.3049 - accuracy: 0.8722 - val_loss: 0.3567 - val_accuracy: 0.8575\n",
            "Epoch 25/100\n",
            "200/200 [==============================] - 0s 770us/step - loss: 0.3038 - accuracy: 0.8727 - val_loss: 0.3676 - val_accuracy: 0.8556\n",
            "Epoch 26/100\n",
            "200/200 [==============================] - 0s 765us/step - loss: 0.3027 - accuracy: 0.8734 - val_loss: 0.3602 - val_accuracy: 0.8531\n",
            "Epoch 27/100\n",
            "200/200 [==============================] - 0s 775us/step - loss: 0.3018 - accuracy: 0.8739 - val_loss: 0.3618 - val_accuracy: 0.8506\n",
            "Epoch 28/100\n",
            "200/200 [==============================] - 0s 764us/step - loss: 0.3009 - accuracy: 0.8748 - val_loss: 0.3617 - val_accuracy: 0.8519\n",
            "Epoch 29/100\n",
            "200/200 [==============================] - 0s 765us/step - loss: 0.3012 - accuracy: 0.8723 - val_loss: 0.3641 - val_accuracy: 0.8500\n",
            "Epoch 30/100\n",
            "200/200 [==============================] - 0s 749us/step - loss: 0.2967 - accuracy: 0.8736 - val_loss: 0.3602 - val_accuracy: 0.8575\n",
            "Epoch 31/100\n",
            "200/200 [==============================] - 0s 780us/step - loss: 0.2967 - accuracy: 0.8759 - val_loss: 0.3653 - val_accuracy: 0.8487\n",
            "Epoch 32/100\n",
            "200/200 [==============================] - 0s 775us/step - loss: 0.2961 - accuracy: 0.8761 - val_loss: 0.3640 - val_accuracy: 0.8512\n",
            "Epoch 33/100\n",
            "200/200 [==============================] - 0s 765us/step - loss: 0.2951 - accuracy: 0.8769 - val_loss: 0.3649 - val_accuracy: 0.8550\n",
            "Epoch 34/100\n",
            "200/200 [==============================] - 0s 770us/step - loss: 0.2952 - accuracy: 0.8781 - val_loss: 0.3637 - val_accuracy: 0.8550\n",
            "Epoch 35/100\n",
            "200/200 [==============================] - 0s 759us/step - loss: 0.2921 - accuracy: 0.8780 - val_loss: 0.3611 - val_accuracy: 0.8537\n",
            "Epoch 36/100\n",
            "200/200 [==============================] - 0s 780us/step - loss: 0.2918 - accuracy: 0.8784 - val_loss: 0.3670 - val_accuracy: 0.8512\n",
            "Epoch 37/100\n",
            "200/200 [==============================] - 0s 765us/step - loss: 0.2908 - accuracy: 0.8795 - val_loss: 0.3645 - val_accuracy: 0.8537\n",
            "Epoch 38/100\n",
            "200/200 [==============================] - 0s 759us/step - loss: 0.2888 - accuracy: 0.8786 - val_loss: 0.3670 - val_accuracy: 0.8450\n",
            "Epoch 39/100\n",
            "200/200 [==============================] - 0s 759us/step - loss: 0.2888 - accuracy: 0.8800 - val_loss: 0.3696 - val_accuracy: 0.8475\n",
            "Epoch 40/100\n",
            "200/200 [==============================] - 0s 770us/step - loss: 0.2885 - accuracy: 0.8808 - val_loss: 0.3751 - val_accuracy: 0.8419\n",
            "Epoch 41/100\n",
            "200/200 [==============================] - 0s 788us/step - loss: 0.2876 - accuracy: 0.8803 - val_loss: 0.3743 - val_accuracy: 0.8481\n",
            "Epoch 42/100\n",
            "200/200 [==============================] - 0s 759us/step - loss: 0.2858 - accuracy: 0.8825 - val_loss: 0.3663 - val_accuracy: 0.8475\n",
            "Epoch 43/100\n",
            "200/200 [==============================] - 0s 749us/step - loss: 0.2854 - accuracy: 0.8816 - val_loss: 0.3721 - val_accuracy: 0.8456\n",
            "Epoch 44/100\n",
            "200/200 [==============================] - 0s 749us/step - loss: 0.2845 - accuracy: 0.8783 - val_loss: 0.3743 - val_accuracy: 0.8369\n",
            "Epoch 45/100\n",
            "200/200 [==============================] - 0s 749us/step - loss: 0.2839 - accuracy: 0.8819 - val_loss: 0.3730 - val_accuracy: 0.8450\n",
            "Epoch 46/100\n",
            "200/200 [==============================] - 0s 765us/step - loss: 0.2810 - accuracy: 0.8800 - val_loss: 0.3720 - val_accuracy: 0.8456\n",
            "Epoch 47/100\n",
            "200/200 [==============================] - 0s 749us/step - loss: 0.2801 - accuracy: 0.8831 - val_loss: 0.3804 - val_accuracy: 0.8575\n",
            "Epoch 48/100\n",
            "200/200 [==============================] - 0s 749us/step - loss: 0.2821 - accuracy: 0.8830 - val_loss: 0.3716 - val_accuracy: 0.8475\n",
            "Epoch 49/100\n",
            "200/200 [==============================] - 0s 744us/step - loss: 0.2786 - accuracy: 0.8836 - val_loss: 0.3787 - val_accuracy: 0.8512\n",
            "Epoch 50/100\n",
            "200/200 [==============================] - 0s 765us/step - loss: 0.2793 - accuracy: 0.8827 - val_loss: 0.3703 - val_accuracy: 0.8469\n",
            "Epoch 51/100\n",
            "200/200 [==============================] - 0s 765us/step - loss: 0.2754 - accuracy: 0.8897 - val_loss: 0.3708 - val_accuracy: 0.8494\n",
            "Epoch 52/100\n",
            "200/200 [==============================] - 0s 765us/step - loss: 0.2742 - accuracy: 0.8850 - val_loss: 0.3755 - val_accuracy: 0.8544\n",
            "Epoch 53/100\n",
            "200/200 [==============================] - 0s 749us/step - loss: 0.2730 - accuracy: 0.8897 - val_loss: 0.3721 - val_accuracy: 0.8469\n",
            "Epoch 54/100\n",
            "200/200 [==============================] - 0s 756us/step - loss: 0.2730 - accuracy: 0.8859 - val_loss: 0.3828 - val_accuracy: 0.8531\n",
            "Epoch 55/100\n",
            "200/200 [==============================] - 0s 747us/step - loss: 0.2745 - accuracy: 0.8850 - val_loss: 0.3757 - val_accuracy: 0.8475\n",
            "Epoch 56/100\n",
            "200/200 [==============================] - 0s 749us/step - loss: 0.2733 - accuracy: 0.8856 - val_loss: 0.3753 - val_accuracy: 0.8450\n",
            "Epoch 57/100\n",
            "200/200 [==============================] - 0s 754us/step - loss: 0.2724 - accuracy: 0.8855 - val_loss: 0.3762 - val_accuracy: 0.8462\n",
            "Epoch 58/100\n",
            "200/200 [==============================] - 0s 754us/step - loss: 0.2695 - accuracy: 0.8884 - val_loss: 0.3818 - val_accuracy: 0.8475\n",
            "Epoch 59/100\n",
            "200/200 [==============================] - 0s 749us/step - loss: 0.2682 - accuracy: 0.8892 - val_loss: 0.3790 - val_accuracy: 0.8481\n",
            "Epoch 60/100\n",
            "200/200 [==============================] - 0s 752us/step - loss: 0.2674 - accuracy: 0.8903 - val_loss: 0.3918 - val_accuracy: 0.8531\n",
            "Epoch 61/100\n",
            "200/200 [==============================] - 0s 775us/step - loss: 0.2680 - accuracy: 0.8897 - val_loss: 0.3832 - val_accuracy: 0.8519\n",
            "Epoch 62/100\n",
            "200/200 [==============================] - 0s 770us/step - loss: 0.2666 - accuracy: 0.8881 - val_loss: 0.3770 - val_accuracy: 0.8506\n",
            "Epoch 63/100\n",
            "200/200 [==============================] - 0s 782us/step - loss: 0.2658 - accuracy: 0.8905 - val_loss: 0.3809 - val_accuracy: 0.8394\n",
            "Epoch 64/100\n",
            "200/200 [==============================] - 0s 775us/step - loss: 0.2651 - accuracy: 0.8889 - val_loss: 0.3898 - val_accuracy: 0.8388\n",
            "Epoch 65/100\n",
            "200/200 [==============================] - 0s 744us/step - loss: 0.2633 - accuracy: 0.8911 - val_loss: 0.3943 - val_accuracy: 0.8494\n",
            "Epoch 66/100\n",
            "200/200 [==============================] - 0s 749us/step - loss: 0.2638 - accuracy: 0.8900 - val_loss: 0.3873 - val_accuracy: 0.8506\n",
            "Epoch 67/100\n",
            "200/200 [==============================] - 0s 744us/step - loss: 0.2603 - accuracy: 0.8920 - val_loss: 0.3880 - val_accuracy: 0.8494\n",
            "Epoch 68/100\n",
            "200/200 [==============================] - 0s 813us/step - loss: 0.2602 - accuracy: 0.8925 - val_loss: 0.3828 - val_accuracy: 0.8494\n",
            "Epoch 69/100\n",
            "200/200 [==============================] - 0s 757us/step - loss: 0.2603 - accuracy: 0.8923 - val_loss: 0.3853 - val_accuracy: 0.8544\n",
            "Epoch 70/100\n",
            "200/200 [==============================] - 0s 766us/step - loss: 0.2603 - accuracy: 0.8916 - val_loss: 0.3937 - val_accuracy: 0.8531\n",
            "Epoch 71/100\n",
            "200/200 [==============================] - 0s 760us/step - loss: 0.2609 - accuracy: 0.8913 - val_loss: 0.3861 - val_accuracy: 0.8438\n",
            "Epoch 72/100\n",
            "200/200 [==============================] - 0s 785us/step - loss: 0.2573 - accuracy: 0.8920 - val_loss: 0.3862 - val_accuracy: 0.8425\n",
            "Epoch 73/100\n",
            "200/200 [==============================] - 0s 777us/step - loss: 0.2526 - accuracy: 0.8933 - val_loss: 0.3926 - val_accuracy: 0.8406\n",
            "Epoch 74/100\n",
            "200/200 [==============================] - 0s 780us/step - loss: 0.2543 - accuracy: 0.8958 - val_loss: 0.3827 - val_accuracy: 0.8494\n",
            "Epoch 75/100\n",
            "200/200 [==============================] - 0s 795us/step - loss: 0.2536 - accuracy: 0.8969 - val_loss: 0.3923 - val_accuracy: 0.8419\n",
            "Epoch 76/100\n",
            "200/200 [==============================] - 0s 770us/step - loss: 0.2556 - accuracy: 0.8958 - val_loss: 0.3853 - val_accuracy: 0.8469\n",
            "Epoch 77/100\n",
            "200/200 [==============================] - 0s 790us/step - loss: 0.2540 - accuracy: 0.8970 - val_loss: 0.3860 - val_accuracy: 0.8537\n",
            "Epoch 78/100\n",
            "200/200 [==============================] - 0s 780us/step - loss: 0.2528 - accuracy: 0.8977 - val_loss: 0.3910 - val_accuracy: 0.8444\n",
            "Epoch 79/100\n",
            "200/200 [==============================] - 0s 775us/step - loss: 0.2525 - accuracy: 0.8973 - val_loss: 0.4022 - val_accuracy: 0.8319\n",
            "Epoch 80/100\n",
            "200/200 [==============================] - 0s 793us/step - loss: 0.2524 - accuracy: 0.8939 - val_loss: 0.3903 - val_accuracy: 0.8462\n",
            "Epoch 81/100\n",
            "200/200 [==============================] - 0s 780us/step - loss: 0.2503 - accuracy: 0.8977 - val_loss: 0.3982 - val_accuracy: 0.8375\n",
            "Epoch 82/100\n",
            "200/200 [==============================] - 0s 780us/step - loss: 0.2492 - accuracy: 0.8983 - val_loss: 0.3891 - val_accuracy: 0.8419\n",
            "Epoch 83/100\n",
            "200/200 [==============================] - 0s 780us/step - loss: 0.2462 - accuracy: 0.8986 - val_loss: 0.3858 - val_accuracy: 0.8481\n",
            "Epoch 84/100\n",
            "200/200 [==============================] - 0s 790us/step - loss: 0.2468 - accuracy: 0.8964 - val_loss: 0.4021 - val_accuracy: 0.8325\n",
            "Epoch 85/100\n",
            "200/200 [==============================] - 0s 759us/step - loss: 0.2478 - accuracy: 0.8973 - val_loss: 0.3950 - val_accuracy: 0.8419\n",
            "Epoch 86/100\n",
            "200/200 [==============================] - 0s 754us/step - loss: 0.2452 - accuracy: 0.8998 - val_loss: 0.4025 - val_accuracy: 0.8400\n",
            "Epoch 87/100\n",
            "200/200 [==============================] - 0s 749us/step - loss: 0.2465 - accuracy: 0.8992 - val_loss: 0.4004 - val_accuracy: 0.8388\n",
            "Epoch 88/100\n",
            "200/200 [==============================] - 0s 759us/step - loss: 0.2421 - accuracy: 0.9025 - val_loss: 0.4005 - val_accuracy: 0.8406\n",
            "Epoch 89/100\n",
            "200/200 [==============================] - 0s 780us/step - loss: 0.2434 - accuracy: 0.8988 - val_loss: 0.4008 - val_accuracy: 0.8400\n",
            "Epoch 90/100\n",
            "200/200 [==============================] - 0s 775us/step - loss: 0.2416 - accuracy: 0.9031 - val_loss: 0.3987 - val_accuracy: 0.8469\n",
            "Epoch 91/100\n",
            "200/200 [==============================] - 0s 785us/step - loss: 0.2435 - accuracy: 0.9006 - val_loss: 0.4223 - val_accuracy: 0.8506\n",
            "Epoch 92/100\n",
            "200/200 [==============================] - 0s 780us/step - loss: 0.2418 - accuracy: 0.9014 - val_loss: 0.3998 - val_accuracy: 0.8419\n",
            "Epoch 93/100\n",
            "200/200 [==============================] - 0s 775us/step - loss: 0.2417 - accuracy: 0.9022 - val_loss: 0.4049 - val_accuracy: 0.8363\n",
            "Epoch 94/100\n",
            "200/200 [==============================] - 0s 785us/step - loss: 0.2435 - accuracy: 0.8995 - val_loss: 0.4016 - val_accuracy: 0.8369\n",
            "Epoch 95/100\n",
            "200/200 [==============================] - 0s 780us/step - loss: 0.2416 - accuracy: 0.8973 - val_loss: 0.4089 - val_accuracy: 0.8325\n",
            "Epoch 96/100\n",
            "200/200 [==============================] - 0s 757us/step - loss: 0.2412 - accuracy: 0.8994 - val_loss: 0.4152 - val_accuracy: 0.8413\n",
            "Epoch 97/100\n",
            "200/200 [==============================] - 0s 754us/step - loss: 0.2411 - accuracy: 0.8998 - val_loss: 0.4016 - val_accuracy: 0.8450\n",
            "Epoch 98/100\n",
            "200/200 [==============================] - 0s 749us/step - loss: 0.2371 - accuracy: 0.9025 - val_loss: 0.4104 - val_accuracy: 0.8375\n",
            "Epoch 99/100\n",
            "200/200 [==============================] - 0s 800us/step - loss: 0.2375 - accuracy: 0.9020 - val_loss: 0.4074 - val_accuracy: 0.8400\n",
            "Epoch 100/100\n",
            "200/200 [==============================] - 0s 747us/step - loss: 0.2368 - accuracy: 0.9022 - val_loss: 0.4103 - val_accuracy: 0.8381\n"
          ]
        }
      ],
      "source": [
        "# Fit the model on the training data\n",
        "history = model.fit(X_train, y_train, \n",
        "                    batch_size=32, \n",
        "                    validation_data=(X_val, y_val),\n",
        "                    epochs=100, \n",
        "                    verbose=1)"
      ]
    },
    {
      "cell_type": "markdown",
      "metadata": {
        "id": "aMWKudMhrFnb"
      },
      "source": [
        "**Loss function**"
      ]
    },
    {
      "cell_type": "code",
      "execution_count": 55,
      "metadata": {
        "id": "IZcVD0PdbjFJ",
        "scrolled": true
      },
      "outputs": [
        {
          "data": {
            "image/png": "[encoded data removed]",
            "text/plain": [
              "<Figure size 432x288 with 1 Axes>"
            ]
          },
          "metadata": {
            "needs_background": "light"
          },
          "output_type": "display_data"
        }
      ],
      "source": [
        "#Plotting Train Loss vs Validation Loss\n",
        "plt.plot(history.history['loss'])\n",
        "plt.plot(history.history['val_loss'])\n",
        "plt.title('model loss')\n",
        "plt.ylabel('Loss')\n",
        "plt.xlabel('Epoch')\n",
        "plt.legend(['train', 'validation'], loc='upper left')\n",
        "plt.show()"
      ]
    },
    {
      "cell_type": "markdown",
      "metadata": {
        "id": "0WEaSCfMrYV-"
      },
      "source": [
        "As you can see from the above image, this model is severely overfitting. Deep learning models are very sensitive to overfitting due to a large number of parameters. We need to find the optimal point where the training should be stopped.\n",
        "\n",
        "The best solution for the above problem is **Early stopping**.\n",
        "\n",
        "**Early stopping:** \n",
        "\n",
        "During training, the model is evaluated on a holdout validation dataset after each epoch. If the performance of the model on the validation dataset starts to degrade or no improvement (e.g. loss begins to increase or accuracy begins to decrease), then the training process is stopped after certain iterations. The model at the time that training is stopped is then used and is known to have good generalization performance.\n",
        "\n",
        "This procedure is called “early stopping” and is perhaps one of the oldest and most widely used forms of neural network regularization."
      ]
    },
    {
      "cell_type": "code",
      "execution_count": 56,
      "metadata": {
        "id": "SHUqpfOAnYyt",
        "scrolled": true
      },
      "outputs": [
        {
          "name": "stdout",
          "output_type": "stream",
          "text": [
            "Epoch 1/100\n"
          ]
        },
        {
          "name": "stdout",
          "output_type": "stream",
          "text": [
            "200/200 [==============================] - 1s 1ms/step - loss: 0.4674 - accuracy: 0.7867 - val_loss: 0.4273 - val_accuracy: 0.8169\n",
            "Epoch 2/100\n",
            "200/200 [==============================] - 0s 784us/step - loss: 0.4124 - accuracy: 0.8238 - val_loss: 0.4140 - val_accuracy: 0.8238\n",
            "Epoch 3/100\n",
            "200/200 [==============================] - 0s 765us/step - loss: 0.3972 - accuracy: 0.8342 - val_loss: 0.4032 - val_accuracy: 0.8369\n",
            "Epoch 4/100\n",
            "200/200 [==============================] - 0s 775us/step - loss: 0.3846 - accuracy: 0.8386 - val_loss: 0.3953 - val_accuracy: 0.8369\n",
            "Epoch 5/100\n",
            "200/200 [==============================] - 0s 770us/step - loss: 0.3731 - accuracy: 0.8413 - val_loss: 0.3870 - val_accuracy: 0.8394\n",
            "Epoch 6/100\n",
            "200/200 [==============================] - 0s 765us/step - loss: 0.3638 - accuracy: 0.8462 - val_loss: 0.3741 - val_accuracy: 0.8481\n",
            "Epoch 7/100\n",
            "200/200 [==============================] - 0s 749us/step - loss: 0.3557 - accuracy: 0.8520 - val_loss: 0.3685 - val_accuracy: 0.8444\n",
            "Epoch 8/100\n",
            "200/200 [==============================] - 0s 764us/step - loss: 0.3491 - accuracy: 0.8527 - val_loss: 0.3617 - val_accuracy: 0.8500\n",
            "Epoch 9/100\n",
            "200/200 [==============================] - 0s 769us/step - loss: 0.3438 - accuracy: 0.8566 - val_loss: 0.3630 - val_accuracy: 0.8500\n",
            "Epoch 10/100\n",
            "200/200 [==============================] - 0s 799us/step - loss: 0.3392 - accuracy: 0.8591 - val_loss: 0.3523 - val_accuracy: 0.8544\n",
            "Epoch 11/100\n",
            "200/200 [==============================] - 0s 764us/step - loss: 0.3335 - accuracy: 0.8602 - val_loss: 0.3596 - val_accuracy: 0.8625\n",
            "Epoch 12/100\n",
            "200/200 [==============================] - 0s 778us/step - loss: 0.3315 - accuracy: 0.8653 - val_loss: 0.3563 - val_accuracy: 0.8612\n",
            "Epoch 13/100\n",
            "200/200 [==============================] - 0s 780us/step - loss: 0.3284 - accuracy: 0.8622 - val_loss: 0.3519 - val_accuracy: 0.8569\n",
            "Epoch 14/100\n",
            "200/200 [==============================] - 0s 779us/step - loss: 0.3252 - accuracy: 0.8645 - val_loss: 0.3530 - val_accuracy: 0.8587\n",
            "Epoch 15/100\n",
            "200/200 [==============================] - 0s 785us/step - loss: 0.3234 - accuracy: 0.8636 - val_loss: 0.3556 - val_accuracy: 0.8594\n"
          ]
        }
      ],
      "source": [
        "#Importing classback API \n",
        "# Defining Early stopping\n",
        "es_cb = callbacks.EarlyStopping(monitor='val_loss', min_delta=0.001, patience=5)\n",
        "\n",
        "# Creating the model again\n",
        "model_e = create_model()\n",
        "\n",
        "## Complete the code to train the model on X_train and y_train for 100 epochs and also use X_val and y_val as validation_data\n",
        "history_e = model_e.fit(X_train, y_train, batch_size=32,epochs=100,verbose=1,validation_data=(X_val, y_val),callbacks=[es_cb])"
      ]
    },
    {
      "cell_type": "markdown",
      "metadata": {
        "id": "YHY5AVeCbzJg"
      },
      "source": [
        "**Loss function**"
      ]
    },
    {
      "cell_type": "code",
      "execution_count": 57,
      "metadata": {
        "id": "Rw9wplWKoDlt"
      },
      "outputs": [
        {
          "data": {
            "image/png": "[encoded data removed]",
            "text/plain": [
              "<Figure size 432x288 with 1 Axes>"
            ]
          },
          "metadata": {
            "needs_background": "light"
          },
          "output_type": "display_data"
        }
      ],
      "source": [
        "# Plotting Train Loss vs Validation Loss\n",
        "plt.plot(history_e.history['loss'])\n",
        "plt.plot(history_e.history['val_loss'])\n",
        "plt.title('model loss')\n",
        "plt.ylabel('Loss')\n",
        "plt.xlabel('Epoch')\n",
        "plt.legend(['train', 'validation'], loc='upper left')\n",
        "plt.show()"
      ]
    },
    {
      "cell_type": "markdown",
      "metadata": {
        "id": "lryFo2_jrjx7"
      },
      "source": [
        "**Let's tune the threshold using ROC-AUC**\n",
        "\n",
        "\n",
        "There are many ways we could locate the threshold with the optimal balance between false positive and true positive rates.\n",
        "\n",
        "Firstly, the true positive rate is called the Sensitivity. The inverse of the false-positive rate is called the Specificity.\n",
        "\n",
        "Sensitivity = TruePositive / (TruePositive + FalseNegative)\n",
        "\n",
        "\n",
        "Specificity = TrueNegative / (FalsePositive + TrueNegative)\n",
        "\n",
        "Where:\n",
        "\n",
        "Sensitivity = True Positive Rate\n",
        "\n",
        "Specificity = 1 – False Positive Rate\n",
        "\n",
        "The Geometric Mean or G-Mean is a metric for imbalanced classification that, if optimized, will seek a balance between the sensitivity and the specificity.\n",
        "\n",
        "G-Mean = sqrt(Sensitivity * Specificity)\n",
        "\n",
        "One approach would be to test the model with each threshold returned from the call roc_auc_score() and select the threshold with the largest G-Mean value."
      ]
    },
    {
      "cell_type": "code",
      "execution_count": 58,
      "metadata": {
        "id": "2wg5jjr8N68h"
      },
      "outputs": [
        {
          "name": "stdout",
          "output_type": "stream",
          "text": [
            "  1/200 [..............................] - ETA: 5s"
          ]
        },
        {
          "name": "stdout",
          "output_type": "stream",
          "text": [
            "200/200 [==============================] - 0s 438us/step\n",
            "Best Threshold=0.167119, G-Mean=0.802\n"
          ]
        },
        {
          "data": {
            "image/png": "[encoded data removed]",
            "text/plain": [
              "<Figure size 432x288 with 1 Axes>"
            ]
          },
          "metadata": {
            "needs_background": "light"
          },
          "output_type": "display_data"
        }
      ],
      "source": [
        "# predict probabilities\n",
        "yhat = model_e.predict(X_train)\n",
        "# keep probabilities for the positive outcome only\n",
        "yhat = yhat[:, 0]\n",
        "# calculate roc curves\n",
        "fpr, tpr, thresholds = roc_curve(y_train, yhat)\n",
        "# calculate the g-mean for each threshold\n",
        "gmeans = np.sqrt(tpr * (1-fpr))\n",
        "# locate the index of the largest g-mean\n",
        "ix = np.argmax(gmeans)\n",
        "print('Best Threshold=%f, G-Mean=%.3f' % (thresholds[ix], gmeans[ix]))\n",
        "# plot the roc curve for the model\n",
        "pyplot.plot([0,1], [0,1], linestyle='--', label='No Skill')\n",
        "pyplot.plot(fpr, tpr, marker='.', label='Logistic')\n",
        "pyplot.scatter(fpr[ix], tpr[ix], marker='o', color='black', label='Best')\n",
        "# axis labels\n",
        "pyplot.xlabel('False Positive Rate')\n",
        "pyplot.ylabel('True Positive Rate')\n",
        "pyplot.legend()\n",
        "# show the plot\n",
        "pyplot.show()"
      ]
    },
    {
      "cell_type": "markdown",
      "metadata": {
        "id": "YnLfZ6SXu98p"
      },
      "source": [
        "**Predict the results using  the best  threshold**"
      ]
    },
    {
      "cell_type": "code",
      "execution_count": 59,
      "metadata": {
        "id": "gX3SgBYSbzWv"
      },
      "outputs": [
        {
          "name": "stdout",
          "output_type": "stream",
          "text": [
            "50/50 [==============================] - 0s 470us/step\n"
          ]
        },
        {
          "data": {
            "text/plain": [
              "array([[ True],\n",
              "       [False],\n",
              "       [False],\n",
              "       ...,\n",
              "       [False],\n",
              "       [ True],\n",
              "       [ True]])"
            ]
          },
          "execution_count": 59,
          "metadata": {},
          "output_type": "execute_result"
        }
      ],
      "source": [
        "#Predicting the results using best as a threshold\n",
        "y_pred_e=model_e.predict(X_val)\n",
        "y_pred_e = (y_pred_e > thresholds[ix])\n",
        "y_pred_e"
      ]
    },
    {
      "cell_type": "markdown",
      "metadata": {
        "id": "fO_RDZZnb9IV"
      },
      "source": [
        "**Classification report**"
      ]
    },
    {
      "cell_type": "code",
      "execution_count": 60,
      "metadata": {
        "id": "6ncSz0EIb3Ni"
      },
      "outputs": [
        {
          "name": "stdout",
          "output_type": "stream",
          "text": [
            "              precision    recall  f1-score   support\n",
            "\n",
            "           0       0.93      0.78      0.85      1274\n",
            "           1       0.48      0.77      0.59       326\n",
            "\n",
            "    accuracy                           0.78      1600\n",
            "   macro avg       0.70      0.78      0.72      1600\n",
            "weighted avg       0.84      0.78      0.80      1600\n",
            "\n"
          ]
        }
      ],
      "source": [
        "# Getting the classification report\n",
        "cr = metrics.classification_report(y_val, y_pred_e)\n",
        "print(cr)"
      ]
    },
    {
      "cell_type": "markdown",
      "metadata": {},
      "source": [
        "#### Observations:\n",
        "- The model is fairly good at predicting the customers who will not exit. This is evident from the high precision for non-exits (class 0).\n",
        "- The model's strength is in its recall for predicting exits (class 1), suggesting it is capturing a good proportion of the customers who are actually exiting.\n",
        "- However, the model's precision for exits is relatively low, indicating a higher rate of false positives for exits.\n",
        "- The overall accuracy of 78% suggests the model is making correct predictions for a majority of the samples."
      ]
    },
    {
      "cell_type": "markdown",
      "metadata": {
        "id": "YEYayn_Mb_fM"
      },
      "source": [
        "**Confusion matrix**"
      ]
    },
    {
      "cell_type": "code",
      "execution_count": 61,
      "metadata": {
        "id": "Md-l0_EEcEHY"
      },
      "outputs": [
        {
          "data": {
            "image/png": "[encoded data removed]",
            "text/plain": [
              "<Figure size 432x288 with 2 Axes>"
            ]
          },
          "metadata": {
            "needs_background": "light"
          },
          "output_type": "display_data"
        }
      ],
      "source": [
        "cm1 = confusion_matrix(y_val, y_pred_e)\n",
        "labels = ['True Negative','False Positive','False Negative','True Positive']\n",
        "categories = [ 'Not_Exited','Exited']\n",
        "make_confusion_matrix(cm1, \n",
        "                      group_names=labels,\n",
        "                      categories=categories, \n",
        "                      cmap='Blues')"
      ]
    },
    {
      "cell_type": "markdown",
      "metadata": {},
      "source": [
        "#### Observations:\n",
        "- The model is good at identifying customers who won't exit the bank, as evident from the high True Negative rate.\n",
        "- While the model has a high recall, indicating its ability to capture a significant portion of exiting customers, its precision is relatively low. This means that it often predicts a customer will exit when they won't.\n",
        "- The false positive rate is relatively high. This could lead the bank to spend unnecessary resources trying to retain customers who weren't planning to leave in the first place.\n",
        "- The false negative rate, though lower than the false positive rate, is still a concern. These are the customers the bank will miss out on without any prior indication."
      ]
    },
    {
      "cell_type": "markdown",
      "metadata": {
        "id": "g2TsEYy_pstz"
      },
      "source": [
        "### Model Improvement: Neural Network model with Dropout"
      ]
    },
    {
      "cell_type": "code",
      "execution_count": 62,
      "metadata": {
        "id": "5C3Eh9w5c73L"
      },
      "outputs": [],
      "source": [
        "backend.clear_session()\n",
        "#Fixing the seed for random number generators so that we can ensure we receive the same output everytime\n",
        "np.random.seed(2)\n",
        "random.seed(2)\n",
        "tf.random.set_seed(2)"
      ]
    },
    {
      "cell_type": "code",
      "execution_count": 63,
      "metadata": {
        "id": "Pm7DGrWQc73L"
      },
      "outputs": [],
      "source": [
        "#Initializing the neural network\n",
        "model_3 = Sequential()\n",
        "\n",
        "#Adding the input layer with 32 neurons and relu as activation function\n",
        "model_3.add(Dense(32,activation='relu',input_dim = X_train.shape[1]))\n",
        "\n",
        "# Adding dropout with dropout_rate= 0.2\n",
        "model_3.add(Dropout(0.2))\n",
        "\n",
        "# Adding the first hidden layer with 16 neurons with relu as activation functions\n",
        "model_3.add(Dense(16,activation='relu'))\n",
        "\n",
        "# Adding dropout with dropout_rate= 0.1\n",
        "model_3.add(Dropout(0.1))\n",
        "\n",
        "# Adding the second hidden layer with 8 neurons with relu as activation functions\n",
        "model_3.add(Dense(8,activation='relu'))\n",
        "\n",
        "# Adding the output layer\n",
        "model_3.add(Dense(1, activation = 'sigmoid'))"
      ]
    },
    {
      "cell_type": "code",
      "execution_count": 64,
      "metadata": {
        "id": "neubbFpzc73L"
      },
      "outputs": [
        {
          "name": "stdout",
          "output_type": "stream",
          "text": [
            "Model: \"sequential\"\n",
            "_________________________________________________________________\n",
            " Layer (type)                Output Shape              Param #   \n",
            "=================================================================\n",
            " dense (Dense)               (None, 32)                384       \n",
            "                                                                 \n",
            " dropout (Dropout)           (None, 32)                0         \n",
            "                                                                 \n",
            " dense_1 (Dense)             (None, 16)                528       \n",
            "                                                                 \n",
            " dropout_1 (Dropout)         (None, 16)                0         \n",
            "                                                                 \n",
            " dense_2 (Dense)             (None, 8)                 136       \n",
            "                                                                 \n",
            " dense_3 (Dense)             (None, 1)                 9         \n",
            "                                                                 \n",
            "=================================================================\n",
            "Total params: 1057 (4.13 KB)\n",
            "Trainable params: 1057 (4.13 KB)\n",
            "Non-trainable params: 0 (0.00 Byte)\n",
            "_________________________________________________________________\n"
          ]
        }
      ],
      "source": [
        "# Summary of the model\n",
        "model_3.summary()"
      ]
    },
    {
      "cell_type": "code",
      "execution_count": 65,
      "metadata": {
        "id": "NAxRYgc4c73L"
      },
      "outputs": [],
      "source": [
        "# Initialize the ANN with Adam optimizer \n",
        "optimizer = tf.keras.optimizers.Adam(0.001)\n",
        "\n",
        "# Compile the model with binary cross entropy as loss function and accuracy as metrics\n",
        "model_3.compile(loss='binary_crossentropy', optimizer=optimizer, metrics=['accuracy'])\n"
      ]
    },
    {
      "cell_type": "code",
      "execution_count": 66,
      "metadata": {
        "id": "NkMynB-Uc73L"
      },
      "outputs": [
        {
          "name": "stdout",
          "output_type": "stream",
          "text": [
            "Epoch 1/100\n"
          ]
        },
        {
          "name": "stdout",
          "output_type": "stream",
          "text": [
            "200/200 [==============================] - 1s 1ms/step - loss: 0.5123 - accuracy: 0.7588 - val_loss: 0.4538 - val_accuracy: 0.7962\n",
            "Epoch 2/100\n",
            "200/200 [==============================] - 0s 820us/step - loss: 0.4515 - accuracy: 0.7967 - val_loss: 0.4376 - val_accuracy: 0.7981\n",
            "Epoch 3/100\n",
            "200/200 [==============================] - 0s 830us/step - loss: 0.4369 - accuracy: 0.8025 - val_loss: 0.4335 - val_accuracy: 0.8031\n",
            "Epoch 4/100\n",
            "200/200 [==============================] - 0s 822us/step - loss: 0.4310 - accuracy: 0.8073 - val_loss: 0.4329 - val_accuracy: 0.8087\n",
            "Epoch 5/100\n",
            "200/200 [==============================] - 0s 820us/step - loss: 0.4323 - accuracy: 0.8066 - val_loss: 0.4276 - val_accuracy: 0.8131\n",
            "Epoch 6/100\n",
            "200/200 [==============================] - 0s 823us/step - loss: 0.4300 - accuracy: 0.8119 - val_loss: 0.4229 - val_accuracy: 0.8200\n",
            "Epoch 7/100\n",
            "200/200 [==============================] - 0s 810us/step - loss: 0.4240 - accuracy: 0.8197 - val_loss: 0.4189 - val_accuracy: 0.8200\n",
            "Epoch 8/100\n",
            "200/200 [==============================] - 0s 815us/step - loss: 0.4185 - accuracy: 0.8216 - val_loss: 0.4136 - val_accuracy: 0.8244\n",
            "Epoch 9/100\n",
            "200/200 [==============================] - 0s 820us/step - loss: 0.4145 - accuracy: 0.8247 - val_loss: 0.4113 - val_accuracy: 0.8213\n",
            "Epoch 10/100\n",
            "200/200 [==============================] - 0s 800us/step - loss: 0.4090 - accuracy: 0.8261 - val_loss: 0.4084 - val_accuracy: 0.8356\n",
            "Epoch 11/100\n",
            "200/200 [==============================] - 0s 815us/step - loss: 0.4005 - accuracy: 0.8323 - val_loss: 0.4000 - val_accuracy: 0.8356\n",
            "Epoch 12/100\n",
            "200/200 [==============================] - 0s 820us/step - loss: 0.4011 - accuracy: 0.8370 - val_loss: 0.4024 - val_accuracy: 0.8319\n",
            "Epoch 13/100\n",
            "200/200 [==============================] - 0s 810us/step - loss: 0.3971 - accuracy: 0.8355 - val_loss: 0.3928 - val_accuracy: 0.8400\n",
            "Epoch 14/100\n",
            "200/200 [==============================] - 0s 805us/step - loss: 0.3916 - accuracy: 0.8380 - val_loss: 0.3939 - val_accuracy: 0.8369\n",
            "Epoch 15/100\n",
            "200/200 [==============================] - 0s 810us/step - loss: 0.3865 - accuracy: 0.8384 - val_loss: 0.3841 - val_accuracy: 0.8456\n",
            "Epoch 16/100\n",
            "200/200 [==============================] - 0s 850us/step - loss: 0.3831 - accuracy: 0.8422 - val_loss: 0.3822 - val_accuracy: 0.8431\n",
            "Epoch 17/100\n",
            "200/200 [==============================] - 0s 835us/step - loss: 0.3817 - accuracy: 0.8453 - val_loss: 0.3768 - val_accuracy: 0.8450\n",
            "Epoch 18/100\n",
            "200/200 [==============================] - 0s 840us/step - loss: 0.3792 - accuracy: 0.8438 - val_loss: 0.3752 - val_accuracy: 0.8438\n",
            "Epoch 19/100\n",
            "200/200 [==============================] - 0s 830us/step - loss: 0.3770 - accuracy: 0.8444 - val_loss: 0.3749 - val_accuracy: 0.8475\n",
            "Epoch 20/100\n",
            "200/200 [==============================] - 0s 810us/step - loss: 0.3757 - accuracy: 0.8430 - val_loss: 0.3704 - val_accuracy: 0.8469\n",
            "Epoch 21/100\n",
            "200/200 [==============================] - 0s 815us/step - loss: 0.3691 - accuracy: 0.8486 - val_loss: 0.3688 - val_accuracy: 0.8487\n",
            "Epoch 22/100\n",
            "200/200 [==============================] - 0s 810us/step - loss: 0.3672 - accuracy: 0.8486 - val_loss: 0.3638 - val_accuracy: 0.8475\n",
            "Epoch 23/100\n",
            "200/200 [==============================] - 0s 825us/step - loss: 0.3648 - accuracy: 0.8523 - val_loss: 0.3603 - val_accuracy: 0.8512\n",
            "Epoch 24/100\n",
            "200/200 [==============================] - 0s 815us/step - loss: 0.3618 - accuracy: 0.8534 - val_loss: 0.3589 - val_accuracy: 0.8519\n",
            "Epoch 25/100\n",
            "200/200 [==============================] - 0s 805us/step - loss: 0.3569 - accuracy: 0.8539 - val_loss: 0.3583 - val_accuracy: 0.8512\n",
            "Epoch 26/100\n",
            "200/200 [==============================] - 0s 820us/step - loss: 0.3579 - accuracy: 0.8530 - val_loss: 0.3555 - val_accuracy: 0.8525\n",
            "Epoch 27/100\n",
            "200/200 [==============================] - 0s 815us/step - loss: 0.3572 - accuracy: 0.8536 - val_loss: 0.3562 - val_accuracy: 0.8544\n",
            "Epoch 28/100\n",
            "200/200 [==============================] - 0s 807us/step - loss: 0.3465 - accuracy: 0.8620 - val_loss: 0.3552 - val_accuracy: 0.8506\n",
            "Epoch 29/100\n",
            "200/200 [==============================] - 0s 825us/step - loss: 0.3575 - accuracy: 0.8541 - val_loss: 0.3494 - val_accuracy: 0.8550\n",
            "Epoch 30/100\n",
            "200/200 [==============================] - 0s 815us/step - loss: 0.3554 - accuracy: 0.8530 - val_loss: 0.3510 - val_accuracy: 0.8556\n",
            "Epoch 31/100\n",
            "200/200 [==============================] - 0s 810us/step - loss: 0.3479 - accuracy: 0.8587 - val_loss: 0.3499 - val_accuracy: 0.8550\n",
            "Epoch 32/100\n",
            "200/200 [==============================] - 0s 810us/step - loss: 0.3476 - accuracy: 0.8602 - val_loss: 0.3499 - val_accuracy: 0.8531\n",
            "Epoch 33/100\n",
            "200/200 [==============================] - 0s 805us/step - loss: 0.3515 - accuracy: 0.8539 - val_loss: 0.3487 - val_accuracy: 0.8525\n",
            "Epoch 34/100\n",
            "200/200 [==============================] - 0s 815us/step - loss: 0.3473 - accuracy: 0.8589 - val_loss: 0.3487 - val_accuracy: 0.8531\n"
          ]
        }
      ],
      "source": [
        "#Fitting the ANN with batch_size = 32 and 100 epochs \n",
        "history_3 = model_3.fit(X_train,y_train,batch_size=32,epochs=100,verbose=1,validation_data=(X_val,y_val),callbacks=[es_cb])"
      ]
    },
    {
      "cell_type": "markdown",
      "metadata": {
        "id": "Wyo42PPxrtOx"
      },
      "source": [
        "**Loss function**"
      ]
    },
    {
      "cell_type": "code",
      "execution_count": 67,
      "metadata": {
        "id": "EN6vsVZbc73L"
      },
      "outputs": [
        {
          "data": {
            "image/png": "[encoded data removed]",
            "text/plain": [
              "<Figure size 432x288 with 1 Axes>"
            ]
          },
          "metadata": {
            "needs_background": "light"
          },
          "output_type": "display_data"
        }
      ],
      "source": [
        "# Plotting Train Loss vs Validation Loss\n",
        "plt.plot(history_3.history['loss'])\n",
        "plt.plot(history_3.history['val_loss'])\n",
        "plt.title('model loss')\n",
        "plt.ylabel('Loss')\n",
        "plt.xlabel('Epoch')\n",
        "plt.legend(['train', 'validation'], loc='upper left')\n",
        "plt.show()"
      ]
    },
    {
      "cell_type": "code",
      "execution_count": 68,
      "metadata": {
        "id": "6kadKNWIc73M"
      },
      "outputs": [
        {
          "name": "stdout",
          "output_type": "stream",
          "text": [
            "  1/200 [..............................] - ETA: 6s"
          ]
        },
        {
          "name": "stdout",
          "output_type": "stream",
          "text": [
            "200/200 [==============================] - 0s 486us/step\n",
            "Best Threshold=0.220600, G-Mean=0.793\n"
          ]
        },
        {
          "data": {
            "image/png": "[encoded data removed]",
            "text/plain": [
              "<Figure size 432x288 with 1 Axes>"
            ]
          },
          "metadata": {
            "needs_background": "light"
          },
          "output_type": "display_data"
        }
      ],
      "source": [
        "# predict probabilities\n",
        "yhat = model_3.predict(X_train)\n",
        "# keep probabilities for the positive outcome only\n",
        "yhat = yhat[:, 0]\n",
        "# calculate roc curves\n",
        "fpr, tpr, thresholds = roc_curve(y_train, yhat)\n",
        "# calculate the g-mean for each threshold\n",
        "gmeans = np.sqrt(tpr * (1-fpr))\n",
        "# locate the index of the largest g-mean\n",
        "ix = np.argmax(gmeans)\n",
        "print('Best Threshold=%f, G-Mean=%.3f' % (thresholds[ix], gmeans[ix]))\n",
        "# plot the roc curve for the model\n",
        "pyplot.plot([0,1], [0,1], linestyle='--', label='No Skill')\n",
        "pyplot.plot(fpr, tpr, marker='.', label='Logistic')\n",
        "pyplot.scatter(fpr[ix], tpr[ix], marker='o', color='black', label='Best')\n",
        "# axis labels\n",
        "pyplot.xlabel('False Positive Rate')\n",
        "pyplot.ylabel('True Positive Rate')\n",
        "pyplot.legend()\n",
        "# show the plot\n",
        "pyplot.show()"
      ]
    },
    {
      "cell_type": "markdown",
      "metadata": {
        "id": "iicHziQDuyPK"
      },
      "source": [
        "**Predict the results using  the best  threshold**"
      ]
    },
    {
      "cell_type": "code",
      "execution_count": 69,
      "metadata": {
        "id": "cJA4CYVtc73M"
      },
      "outputs": [
        {
          "name": "stdout",
          "output_type": "stream",
          "text": [
            "50/50 [==============================] - 0s 490us/step\n"
          ]
        },
        {
          "data": {
            "text/plain": [
              "array([[False],\n",
              "       [False],\n",
              "       [False],\n",
              "       ...,\n",
              "       [False],\n",
              "       [ True],\n",
              "       [ True]])"
            ]
          },
          "execution_count": 69,
          "metadata": {},
          "output_type": "execute_result"
        }
      ],
      "source": [
        "#Predicting the results using best as a threshold\n",
        "y_pred_e=model_3.predict(X_val)\n",
        "y_pred_3 = (y_pred_e > thresholds[ix])\n",
        "y_pred_3"
      ]
    },
    {
      "cell_type": "markdown",
      "metadata": {
        "id": "grkQ6kS0rxUx"
      },
      "source": [
        "**Classification report**"
      ]
    },
    {
      "cell_type": "code",
      "execution_count": 70,
      "metadata": {
        "id": "OwjMvjfvc73M"
      },
      "outputs": [
        {
          "name": "stdout",
          "output_type": "stream",
          "text": [
            "              precision    recall  f1-score   support\n",
            "\n",
            "           0       0.93      0.82      0.87      1274\n",
            "           1       0.51      0.75      0.61       326\n",
            "\n",
            "    accuracy                           0.81      1600\n",
            "   macro avg       0.72      0.78      0.74      1600\n",
            "weighted avg       0.84      0.81      0.82      1600\n",
            "\n"
          ]
        }
      ],
      "source": [
        "# Generate the classification report using y_val and y_pred_3\n",
        "cr = metrics.classification_report(y_val, y_pred_3)\n",
        "print(cr)"
      ]
    },
    {
      "cell_type": "markdown",
      "metadata": {},
      "source": [
        "#### Observations:\n",
        "- The model's overall accuracy is 81%, which means it correctly predicts the outcome (either Exited or Not Exited) for 81% of the validation data.\n",
        "- The Macro Average of 0.72 for precision and 0.78 for recall suggests that the model is reasonably good at minimizing false positives and false negatives.\n",
        "- The Weighted Average of 0.84 for precision and 0.81 for accuracy indicates that the model is generally performing well, with a slight tendency to be more precise in predictions for the dominant class (Not Exited).\n",
        "\n",
        "The model performs well in predicting customers who don't exit (Class 0). However, while it has a good recall rate for customers who exited (Class 1), its precision for this class could be improved."
      ]
    },
    {
      "cell_type": "markdown",
      "metadata": {
        "id": "Izx7Q2mErz_b"
      },
      "source": [
        "**Confusion report**"
      ]
    },
    {
      "cell_type": "code",
      "execution_count": 71,
      "metadata": {
        "id": "DPw40biRc73M"
      },
      "outputs": [
        {
          "data": {
            "image/png": "[encoded data removed]",
            "text/plain": [
              "<Figure size 432x288 with 2 Axes>"
            ]
          },
          "metadata": {
            "needs_background": "light"
          },
          "output_type": "display_data"
        }
      ],
      "source": [
        "# Complete the code to obtain the confusion matrix\n",
        "\n",
        "cm1=confusion_matrix(y_val, y_pred_3)\n",
        "labels = ['True Negative','False Positive','False Negative','True Positive']\n",
        "categories = [ 'Not_Exited','Exited']\n",
        "make_confusion_matrix(cm1, \n",
        "                      group_names=labels,\n",
        "                      categories=categories, \n",
        "                      cmap='Blues')"
      ]
    },
    {
      "cell_type": "markdown",
      "metadata": {},
      "source": [
        "#### Observations:\n",
        "- The model achieves an accuracy of 80.5%80.5%. This means that out of every 100 predictions, the model gets about 81 of them right.\n",
        "- The majority of the predictions fall into this category, with 65.25%65.25% of total predictions correctly identifying customers who did not churn. This suggests that the model is quite good at identifying loyal customers.\n",
        "- About 14.37% of the predictions mistakenly predicted customers would churn when they did not. This can be costly for the bank if they offer unnecessary incentives to these customers in an attempt to retain them.\n",
        "- 5.12% of customers were incorrectly identified as staying. This is a critical error, as these are customers who are likely to churn but the bank believes they will stay. Consequently, no retention actions might be taken for these customers, potentially leading to lost business.\n",
        "- The model correctly identified 15.25%15.25% of customers who were going to churn. This allows the bank to potentially intervene and try to retain these customers.\n",
        "- The precision of 51.5%51.5% for the churned customers indicates that out of all the customers the model predicted would churn, only about half of them actually did.\n",
        "- The recall of 74.8%74.8% suggests that the model identified nearly three-quarters of all actual churn cases from the validation set. This is a strong point in favor of the model, especially if the bank's priority is to capture as many churn cases as possible, even at the risk of some false positives.\n",
        "- The F1 score, which is the harmonic mean of precision and recall, is 61.0%61.0%. It gives a single metric that balances both the concerns of precision and recall, and an F1 score closer to 1 is ideal. The obtained score indicates a balance, but there's room for improvement.\n"
      ]
    },
    {
      "cell_type": "markdown",
      "metadata": {
        "id": "K90YO0mzOwX8"
      },
      "source": [
        "### Model Improvement: Neural Network model with Hyperparameter tuning"
      ]
    },
    {
      "cell_type": "code",
      "execution_count": 72,
      "metadata": {
        "id": "R2NzU00ac73M"
      },
      "outputs": [],
      "source": [
        "backend.clear_session()\n",
        "#Fixing the seed for random number generators so that we can ensure we receive the same output everytime\n",
        "np.random.seed(2)\n",
        "random.seed(2)\n",
        "tf.random.set_seed(2)"
      ]
    },
    {
      "cell_type": "code",
      "execution_count": 73,
      "metadata": {
        "id": "35OEX3bNyeT3"
      },
      "outputs": [],
      "source": [
        "def create_model_v2(lr=0.001, dropout_rate=0.1, layer_1=64, layer_2=32):  \n",
        "    np.random.seed(1337)\n",
        "\n",
        "    # Initializing the neural network\n",
        "    model = Sequential()\n",
        "\n",
        "    # This adds the input layer (by specifying input dimension)\n",
        "    model.add(Dense(layer_1, activation='relu', input_dim = X_train.shape[1]))\n",
        "\n",
        "    ## Adding dropout with dropout rate=0.5\n",
        "    model.add(Dropout(0.5))\n",
        "\n",
        "    # Adding the hidden layer\n",
        "    model.add(Dense(layer_2, activation='relu'))\n",
        "\n",
        "    # Adding the output layer\n",
        "    model.add(Dense(1, activation='sigmoid'))\n",
        "\n",
        "    # Adding Adam initializer\n",
        "    optimizer = tf.keras.optimizers.Adam(learning_rate=lr)\n",
        "\n",
        "    ## Compiling the model using binary_crossentropy as loss\n",
        "    model.compile(optimizer = optimizer, loss = 'binary_crossentropy', metrics = ['accuracy'])\n",
        "    return model"
      ]
    },
    {
      "cell_type": "markdown",
      "metadata": {
        "id": "fcBG9ypKyeT3"
      },
      "source": [
        "**Using Grid search**\n",
        "\n",
        "We are using grid search to optimize two hyperparameters called **batch size, epochs** due to the limited time. But you can optimize the other hyperparameters as mentioned above"
      ]
    },
    {
      "cell_type": "code",
      "execution_count": 74,
      "metadata": {
        "id": "0S0ezhBqyeT3"
      },
      "outputs": [],
      "source": [
        "keras_estimator = KerasClassifier(lr=0.001, build_fn=create_model_v2, verbose=1)"
      ]
    },
    {
      "cell_type": "code",
      "execution_count": 75,
      "metadata": {
        "id": "r1IiggQryeT4"
      },
      "outputs": [],
      "source": [
        "# define the grid search parameters\n",
        "param_grid = {\n",
        "    'batch_size':[40, 64, 128],\n",
        "    \"lr\":[0.01,0.001,0.1]}\n",
        "\n",
        "\n",
        "kfold_splits = 3\n",
        "grid = GridSearchCV(estimator=keras_estimator,  \n",
        "                    verbose=1,\n",
        "                    cv=kfold_splits,  \n",
        "                    param_grid=param_grid,n_jobs=-1)"
      ]
    },
    {
      "cell_type": "code",
      "execution_count": 76,
      "metadata": {
        "id": "Wli7_fU3yeT4"
      },
      "outputs": [
        {
          "name": "stdout",
          "output_type": "stream",
          "text": [
            "Fitting 3 folds for each of 9 candidates, totalling 27 fits\n"
          ]
        },
        {
          "name": "stdout",
          "output_type": "stream",
          "text": [
            "160/160 [==============================] - 1s 1ms/step - loss: 0.4548 - accuracy: 0.8034 - val_loss: 0.4318 - val_accuracy: 0.8150\n",
            "Best: 0.817969 using {'batch_size': 40, 'lr': 0.01}\n"
          ]
        }
      ],
      "source": [
        "## Complete the code to fit the model on train data and use x_val and y_val as validation data\n",
        "grid_result = grid.fit(X_train, y_train, validation_data=(X_val, y_val), verbose=1) \n",
        "\n",
        "# Summarize results\n",
        "print(\"Best: %f using %s\" % (grid_result.best_score_, grid_result.best_params_))\n",
        "# Printing mean \n",
        "means = grid_result.cv_results_['mean_test_score']\n",
        "# Printing standard deviation\n",
        "stds = grid_result.cv_results_['std_test_score']\n",
        "# Printing best parameters\n",
        "params = grid_result.cv_results_['params']"
      ]
    },
    {
      "cell_type": "markdown",
      "metadata": {
        "id": "RWqBmVNdyeT5"
      },
      "source": [
        "**Let's create the final model with the obtained configuration after hyperparameter tuning**"
      ]
    },
    {
      "cell_type": "code",
      "execution_count": 77,
      "metadata": {
        "id": "skxGXsQfyeT5"
      },
      "outputs": [
        {
          "name": "stdout",
          "output_type": "stream",
          "text": [
            "Model: \"sequential_1\"\n",
            "_________________________________________________________________\n",
            " Layer (type)                Output Shape              Param #   \n",
            "=================================================================\n",
            " dense_3 (Dense)             (None, 64)                768       \n",
            "                                                                 \n",
            " dropout_1 (Dropout)         (None, 64)                0         \n",
            "                                                                 \n",
            " dense_4 (Dense)             (None, 32)                2080      \n",
            "                                                                 \n",
            " dense_5 (Dense)             (None, 1)                 33        \n",
            "                                                                 \n",
            "=================================================================\n",
            "Total params: 2881 (11.25 KB)\n",
            "Trainable params: 2881 (11.25 KB)\n",
            "Non-trainable params: 0 (0.00 Byte)\n",
            "_________________________________________________________________\n"
          ]
        }
      ],
      "source": [
        "# Creating the model\n",
        "estimator_v2=create_model_v2(lr=grid_result.best_params_['lr'])\n",
        "# Printing model summary\n",
        "estimator_v2.summary()"
      ]
    },
    {
      "cell_type": "code",
      "execution_count": 78,
      "metadata": {
        "id": "rkc1h61OyeT5",
        "scrolled": true
      },
      "outputs": [
        {
          "name": "stdout",
          "output_type": "stream",
          "text": [
            "Epoch 1/100\n"
          ]
        },
        {
          "name": "stdout",
          "output_type": "stream",
          "text": [
            "160/160 [==============================] - 1s 1ms/step - loss: 0.4525 - accuracy: 0.8006 - val_loss: 0.4373 - val_accuracy: 0.8119\n",
            "Epoch 2/100\n",
            "160/160 [==============================] - 0s 825us/step - loss: 0.4271 - accuracy: 0.8203 - val_loss: 0.4170 - val_accuracy: 0.8275\n",
            "Epoch 3/100\n",
            "160/160 [==============================] - 0s 837us/step - loss: 0.4134 - accuracy: 0.8269 - val_loss: 0.4137 - val_accuracy: 0.8213\n",
            "Epoch 4/100\n",
            "160/160 [==============================] - 0s 844us/step - loss: 0.4120 - accuracy: 0.8280 - val_loss: 0.4142 - val_accuracy: 0.8344\n",
            "Epoch 5/100\n",
            "160/160 [==============================] - 0s 837us/step - loss: 0.4006 - accuracy: 0.8313 - val_loss: 0.3877 - val_accuracy: 0.8313\n",
            "Epoch 6/100\n",
            "160/160 [==============================] - 0s 844us/step - loss: 0.3968 - accuracy: 0.8352 - val_loss: 0.3856 - val_accuracy: 0.8388\n",
            "Epoch 7/100\n",
            "160/160 [==============================] - 0s 844us/step - loss: 0.3904 - accuracy: 0.8398 - val_loss: 0.3779 - val_accuracy: 0.8394\n",
            "Epoch 8/100\n",
            "160/160 [==============================] - 0s 825us/step - loss: 0.3760 - accuracy: 0.8472 - val_loss: 0.3645 - val_accuracy: 0.8462\n",
            "Epoch 9/100\n",
            "160/160 [==============================] - 0s 844us/step - loss: 0.3840 - accuracy: 0.8439 - val_loss: 0.3659 - val_accuracy: 0.8413\n",
            "Epoch 10/100\n",
            "160/160 [==============================] - 0s 825us/step - loss: 0.3705 - accuracy: 0.8464 - val_loss: 0.3640 - val_accuracy: 0.8475\n",
            "Epoch 11/100\n",
            "160/160 [==============================] - 0s 827us/step - loss: 0.3756 - accuracy: 0.8492 - val_loss: 0.3682 - val_accuracy: 0.8550\n",
            "Epoch 12/100\n",
            "160/160 [==============================] - 0s 818us/step - loss: 0.3702 - accuracy: 0.8509 - val_loss: 0.3690 - val_accuracy: 0.8581\n",
            "Epoch 13/100\n",
            "160/160 [==============================] - 0s 834us/step - loss: 0.3653 - accuracy: 0.8498 - val_loss: 0.3634 - val_accuracy: 0.8506\n",
            "Epoch 14/100\n",
            "160/160 [==============================] - 0s 831us/step - loss: 0.3664 - accuracy: 0.8492 - val_loss: 0.3666 - val_accuracy: 0.8425\n",
            "Epoch 15/100\n",
            "160/160 [==============================] - 0s 818us/step - loss: 0.3674 - accuracy: 0.8492 - val_loss: 0.3537 - val_accuracy: 0.8506\n",
            "Epoch 16/100\n",
            "160/160 [==============================] - 0s 837us/step - loss: 0.3680 - accuracy: 0.8480 - val_loss: 0.3634 - val_accuracy: 0.8481\n",
            "Epoch 17/100\n",
            "160/160 [==============================] - 0s 831us/step - loss: 0.3624 - accuracy: 0.8498 - val_loss: 0.3547 - val_accuracy: 0.8537\n",
            "Epoch 18/100\n",
            "160/160 [==============================] - 0s 825us/step - loss: 0.3559 - accuracy: 0.8550 - val_loss: 0.3587 - val_accuracy: 0.8487\n",
            "Epoch 19/100\n",
            "160/160 [==============================] - 0s 824us/step - loss: 0.3591 - accuracy: 0.8528 - val_loss: 0.3731 - val_accuracy: 0.8494\n",
            "Epoch 20/100\n",
            "160/160 [==============================] - 0s 818us/step - loss: 0.3587 - accuracy: 0.8553 - val_loss: 0.3571 - val_accuracy: 0.8519\n",
            "Epoch 21/100\n",
            "160/160 [==============================] - 0s 837us/step - loss: 0.3604 - accuracy: 0.8481 - val_loss: 0.3589 - val_accuracy: 0.8550\n",
            "Epoch 22/100\n",
            "160/160 [==============================] - 0s 837us/step - loss: 0.3560 - accuracy: 0.8555 - val_loss: 0.3552 - val_accuracy: 0.8500\n",
            "Epoch 23/100\n",
            "160/160 [==============================] - 0s 829us/step - loss: 0.3524 - accuracy: 0.8570 - val_loss: 0.3594 - val_accuracy: 0.8500\n",
            "Epoch 24/100\n",
            "160/160 [==============================] - 0s 837us/step - loss: 0.3544 - accuracy: 0.8567 - val_loss: 0.3529 - val_accuracy: 0.8594\n",
            "Epoch 25/100\n",
            "160/160 [==============================] - 0s 849us/step - loss: 0.3506 - accuracy: 0.8580 - val_loss: 0.3597 - val_accuracy: 0.8462\n",
            "Epoch 26/100\n",
            "160/160 [==============================] - 0s 830us/step - loss: 0.3541 - accuracy: 0.8561 - val_loss: 0.3545 - val_accuracy: 0.8556\n",
            "Epoch 27/100\n",
            "160/160 [==============================] - 0s 855us/step - loss: 0.3501 - accuracy: 0.8598 - val_loss: 0.3590 - val_accuracy: 0.8544\n",
            "Epoch 28/100\n",
            "160/160 [==============================] - 0s 822us/step - loss: 0.3496 - accuracy: 0.8581 - val_loss: 0.3687 - val_accuracy: 0.8506\n",
            "Epoch 29/100\n",
            "160/160 [==============================] - 0s 850us/step - loss: 0.3566 - accuracy: 0.8552 - val_loss: 0.3595 - val_accuracy: 0.8537\n",
            "Epoch 30/100\n",
            "160/160 [==============================] - 0s 850us/step - loss: 0.3494 - accuracy: 0.8564 - val_loss: 0.3629 - val_accuracy: 0.8550\n",
            "Epoch 31/100\n",
            "160/160 [==============================] - 0s 837us/step - loss: 0.3501 - accuracy: 0.8548 - val_loss: 0.3618 - val_accuracy: 0.8444\n",
            "Epoch 32/100\n",
            "160/160 [==============================] - 0s 837us/step - loss: 0.3493 - accuracy: 0.8597 - val_loss: 0.3597 - val_accuracy: 0.8512\n",
            "Epoch 33/100\n",
            "160/160 [==============================] - 0s 822us/step - loss: 0.3469 - accuracy: 0.8548 - val_loss: 0.3548 - val_accuracy: 0.8525\n",
            "Epoch 34/100\n",
            "160/160 [==============================] - 0s 817us/step - loss: 0.3448 - accuracy: 0.8595 - val_loss: 0.3559 - val_accuracy: 0.8612\n",
            "Epoch 35/100\n",
            "160/160 [==============================] - 0s 844us/step - loss: 0.3504 - accuracy: 0.8569 - val_loss: 0.3522 - val_accuracy: 0.8537\n",
            "Epoch 36/100\n",
            "160/160 [==============================] - 0s 837us/step - loss: 0.3448 - accuracy: 0.8562 - val_loss: 0.3568 - val_accuracy: 0.8481\n",
            "Epoch 37/100\n",
            "160/160 [==============================] - 0s 823us/step - loss: 0.3499 - accuracy: 0.8564 - val_loss: 0.3544 - val_accuracy: 0.8519\n",
            "Epoch 38/100\n",
            "160/160 [==============================] - 0s 831us/step - loss: 0.3486 - accuracy: 0.8566 - val_loss: 0.3539 - val_accuracy: 0.8531\n",
            "Epoch 39/100\n",
            "160/160 [==============================] - 0s 823us/step - loss: 0.3505 - accuracy: 0.8533 - val_loss: 0.3564 - val_accuracy: 0.8544\n",
            "Epoch 40/100\n",
            "160/160 [==============================] - 0s 837us/step - loss: 0.3499 - accuracy: 0.8592 - val_loss: 0.3608 - val_accuracy: 0.8494\n",
            "Epoch 41/100\n",
            "160/160 [==============================] - 0s 826us/step - loss: 0.3493 - accuracy: 0.8528 - val_loss: 0.3520 - val_accuracy: 0.8544\n",
            "Epoch 42/100\n",
            "160/160 [==============================] - 0s 824us/step - loss: 0.3475 - accuracy: 0.8562 - val_loss: 0.3528 - val_accuracy: 0.8550\n",
            "Epoch 43/100\n",
            "160/160 [==============================] - 0s 830us/step - loss: 0.3445 - accuracy: 0.8556 - val_loss: 0.3539 - val_accuracy: 0.8587\n",
            "Epoch 44/100\n",
            "160/160 [==============================] - 0s 824us/step - loss: 0.3478 - accuracy: 0.8592 - val_loss: 0.3494 - val_accuracy: 0.8581\n",
            "Epoch 45/100\n",
            "160/160 [==============================] - 0s 831us/step - loss: 0.3446 - accuracy: 0.8558 - val_loss: 0.3516 - val_accuracy: 0.8506\n",
            "Epoch 46/100\n",
            "160/160 [==============================] - 0s 830us/step - loss: 0.3454 - accuracy: 0.8577 - val_loss: 0.3520 - val_accuracy: 0.8612\n",
            "Epoch 47/100\n",
            "160/160 [==============================] - 0s 824us/step - loss: 0.3428 - accuracy: 0.8603 - val_loss: 0.3589 - val_accuracy: 0.8562\n",
            "Epoch 48/100\n",
            "160/160 [==============================] - 0s 806us/step - loss: 0.3452 - accuracy: 0.8598 - val_loss: 0.3628 - val_accuracy: 0.8519\n",
            "Epoch 49/100\n",
            "160/160 [==============================] - 0s 824us/step - loss: 0.3435 - accuracy: 0.8572 - val_loss: 0.3518 - val_accuracy: 0.8556\n",
            "Epoch 50/100\n",
            "160/160 [==============================] - 0s 812us/step - loss: 0.3481 - accuracy: 0.8625 - val_loss: 0.3552 - val_accuracy: 0.8600\n",
            "Epoch 51/100\n",
            "160/160 [==============================] - 0s 818us/step - loss: 0.3419 - accuracy: 0.8562 - val_loss: 0.3524 - val_accuracy: 0.8619\n",
            "Epoch 52/100\n",
            "160/160 [==============================] - 0s 818us/step - loss: 0.3439 - accuracy: 0.8580 - val_loss: 0.3528 - val_accuracy: 0.8619\n",
            "Epoch 53/100\n",
            "160/160 [==============================] - 0s 818us/step - loss: 0.3426 - accuracy: 0.8625 - val_loss: 0.3557 - val_accuracy: 0.8562\n",
            "Epoch 54/100\n",
            "160/160 [==============================] - 0s 825us/step - loss: 0.3452 - accuracy: 0.8581 - val_loss: 0.3606 - val_accuracy: 0.8494\n",
            "Epoch 55/100\n",
            "160/160 [==============================] - 0s 831us/step - loss: 0.3439 - accuracy: 0.8594 - val_loss: 0.3604 - val_accuracy: 0.8537\n",
            "Epoch 56/100\n",
            "160/160 [==============================] - 0s 824us/step - loss: 0.3446 - accuracy: 0.8609 - val_loss: 0.3516 - val_accuracy: 0.8581\n",
            "Epoch 57/100\n",
            "160/160 [==============================] - 0s 837us/step - loss: 0.3425 - accuracy: 0.8597 - val_loss: 0.3535 - val_accuracy: 0.8556\n",
            "Epoch 58/100\n",
            "160/160 [==============================] - 0s 825us/step - loss: 0.3444 - accuracy: 0.8578 - val_loss: 0.3570 - val_accuracy: 0.8556\n",
            "Epoch 59/100\n",
            "160/160 [==============================] - 0s 825us/step - loss: 0.3412 - accuracy: 0.8597 - val_loss: 0.3632 - val_accuracy: 0.8562\n",
            "Epoch 60/100\n",
            "160/160 [==============================] - 0s 844us/step - loss: 0.3418 - accuracy: 0.8619 - val_loss: 0.3670 - val_accuracy: 0.8519\n",
            "Epoch 61/100\n",
            "160/160 [==============================] - 0s 869us/step - loss: 0.3459 - accuracy: 0.8573 - val_loss: 0.3523 - val_accuracy: 0.8612\n",
            "Epoch 62/100\n",
            "160/160 [==============================] - 0s 850us/step - loss: 0.3379 - accuracy: 0.8605 - val_loss: 0.3547 - val_accuracy: 0.8569\n",
            "Epoch 63/100\n",
            "160/160 [==============================] - 0s 850us/step - loss: 0.3389 - accuracy: 0.8636 - val_loss: 0.3546 - val_accuracy: 0.8581\n",
            "Epoch 64/100\n",
            "160/160 [==============================] - 0s 837us/step - loss: 0.3391 - accuracy: 0.8606 - val_loss: 0.3622 - val_accuracy: 0.8544\n",
            "Epoch 65/100\n",
            "160/160 [==============================] - 0s 831us/step - loss: 0.3428 - accuracy: 0.8575 - val_loss: 0.3542 - val_accuracy: 0.8556\n",
            "Epoch 66/100\n",
            "160/160 [==============================] - 0s 831us/step - loss: 0.3406 - accuracy: 0.8605 - val_loss: 0.3564 - val_accuracy: 0.8587\n",
            "Epoch 67/100\n",
            "160/160 [==============================] - 0s 818us/step - loss: 0.3371 - accuracy: 0.8587 - val_loss: 0.3508 - val_accuracy: 0.8612\n",
            "Epoch 68/100\n",
            "160/160 [==============================] - 0s 837us/step - loss: 0.3398 - accuracy: 0.8630 - val_loss: 0.3549 - val_accuracy: 0.8600\n",
            "Epoch 69/100\n",
            "160/160 [==============================] - 0s 831us/step - loss: 0.3415 - accuracy: 0.8606 - val_loss: 0.3629 - val_accuracy: 0.8544\n",
            "Epoch 70/100\n",
            "160/160 [==============================] - 0s 837us/step - loss: 0.3438 - accuracy: 0.8595 - val_loss: 0.3549 - val_accuracy: 0.8594\n",
            "Epoch 71/100\n",
            "160/160 [==============================] - 0s 836us/step - loss: 0.3398 - accuracy: 0.8562 - val_loss: 0.3532 - val_accuracy: 0.8569\n",
            "Epoch 72/100\n",
            "160/160 [==============================] - 0s 831us/step - loss: 0.3384 - accuracy: 0.8608 - val_loss: 0.3630 - val_accuracy: 0.8625\n",
            "Epoch 73/100\n",
            "160/160 [==============================] - 0s 825us/step - loss: 0.3356 - accuracy: 0.8614 - val_loss: 0.3641 - val_accuracy: 0.8525\n",
            "Epoch 74/100\n",
            "160/160 [==============================] - 0s 812us/step - loss: 0.3369 - accuracy: 0.8591 - val_loss: 0.3557 - val_accuracy: 0.8606\n",
            "Epoch 75/100\n",
            "160/160 [==============================] - 0s 831us/step - loss: 0.3425 - accuracy: 0.8620 - val_loss: 0.3650 - val_accuracy: 0.8594\n",
            "Epoch 76/100\n",
            "160/160 [==============================] - 0s 831us/step - loss: 0.3411 - accuracy: 0.8609 - val_loss: 0.3595 - val_accuracy: 0.8550\n",
            "Epoch 77/100\n",
            "160/160 [==============================] - 0s 818us/step - loss: 0.3399 - accuracy: 0.8598 - val_loss: 0.3573 - val_accuracy: 0.8562\n",
            "Epoch 78/100\n",
            "160/160 [==============================] - 0s 831us/step - loss: 0.3377 - accuracy: 0.8594 - val_loss: 0.3738 - val_accuracy: 0.8500\n",
            "Epoch 79/100\n",
            "160/160 [==============================] - 0s 818us/step - loss: 0.3378 - accuracy: 0.8589 - val_loss: 0.3627 - val_accuracy: 0.8581\n",
            "Epoch 80/100\n",
            "160/160 [==============================] - 0s 812us/step - loss: 0.3372 - accuracy: 0.8581 - val_loss: 0.3604 - val_accuracy: 0.8631\n",
            "Epoch 81/100\n",
            "160/160 [==============================] - 0s 806us/step - loss: 0.3408 - accuracy: 0.8616 - val_loss: 0.3654 - val_accuracy: 0.8487\n",
            "Epoch 82/100\n",
            "160/160 [==============================] - 0s 831us/step - loss: 0.3369 - accuracy: 0.8627 - val_loss: 0.3699 - val_accuracy: 0.8550\n",
            "Epoch 83/100\n",
            "160/160 [==============================] - 0s 850us/step - loss: 0.3456 - accuracy: 0.8575 - val_loss: 0.3531 - val_accuracy: 0.8575\n",
            "Epoch 84/100\n",
            "160/160 [==============================] - 0s 818us/step - loss: 0.3394 - accuracy: 0.8598 - val_loss: 0.3638 - val_accuracy: 0.8612\n",
            "Epoch 85/100\n",
            "160/160 [==============================] - 0s 818us/step - loss: 0.3374 - accuracy: 0.8600 - val_loss: 0.3548 - val_accuracy: 0.8644\n",
            "Epoch 86/100\n",
            "160/160 [==============================] - 0s 830us/step - loss: 0.3392 - accuracy: 0.8637 - val_loss: 0.3619 - val_accuracy: 0.8600\n",
            "Epoch 87/100\n",
            "160/160 [==============================] - 0s 837us/step - loss: 0.3437 - accuracy: 0.8630 - val_loss: 0.3646 - val_accuracy: 0.8550\n",
            "Epoch 88/100\n",
            "160/160 [==============================] - 0s 843us/step - loss: 0.3351 - accuracy: 0.8637 - val_loss: 0.3539 - val_accuracy: 0.8569\n",
            "Epoch 89/100\n",
            "160/160 [==============================] - 0s 844us/step - loss: 0.3371 - accuracy: 0.8627 - val_loss: 0.3573 - val_accuracy: 0.8587\n",
            "Epoch 90/100\n",
            "160/160 [==============================] - 0s 844us/step - loss: 0.3409 - accuracy: 0.8611 - val_loss: 0.3564 - val_accuracy: 0.8619\n",
            "Epoch 91/100\n",
            "160/160 [==============================] - 0s 837us/step - loss: 0.3335 - accuracy: 0.8628 - val_loss: 0.3638 - val_accuracy: 0.8594\n",
            "Epoch 92/100\n",
            "160/160 [==============================] - 0s 837us/step - loss: 0.3383 - accuracy: 0.8589 - val_loss: 0.3587 - val_accuracy: 0.8619\n",
            "Epoch 93/100\n",
            "160/160 [==============================] - 0s 837us/step - loss: 0.3353 - accuracy: 0.8616 - val_loss: 0.3565 - val_accuracy: 0.8581\n",
            "Epoch 94/100\n",
            "160/160 [==============================] - 0s 825us/step - loss: 0.3386 - accuracy: 0.8630 - val_loss: 0.3600 - val_accuracy: 0.8587\n",
            "Epoch 95/100\n",
            "160/160 [==============================] - 0s 837us/step - loss: 0.3329 - accuracy: 0.8648 - val_loss: 0.3597 - val_accuracy: 0.8625\n",
            "Epoch 96/100\n",
            "160/160 [==============================] - 0s 888us/step - loss: 0.3319 - accuracy: 0.8677 - val_loss: 0.3564 - val_accuracy: 0.8587\n",
            "Epoch 97/100\n",
            "160/160 [==============================] - 0s 825us/step - loss: 0.3400 - accuracy: 0.8591 - val_loss: 0.3589 - val_accuracy: 0.8619\n",
            "Epoch 98/100\n",
            "160/160 [==============================] - 0s 825us/step - loss: 0.3385 - accuracy: 0.8620 - val_loss: 0.3555 - val_accuracy: 0.8606\n",
            "Epoch 99/100\n",
            "160/160 [==============================] - 0s 844us/step - loss: 0.3356 - accuracy: 0.8617 - val_loss: 0.3574 - val_accuracy: 0.8575\n",
            "Epoch 100/100\n",
            "160/160 [==============================] - 0s 834us/step - loss: 0.3361 - accuracy: 0.8603 - val_loss: 0.3593 - val_accuracy: 0.8594\n"
          ]
        }
      ],
      "source": [
        "history_h=estimator_v2.fit(X_train, y_train, epochs=100, batch_size = grid_result.best_params_['batch_size'], verbose=1,validation_data=(X_val,y_val))"
      ]
    },
    {
      "cell_type": "markdown",
      "metadata": {
        "id": "0c4KjK_nyeT6"
      },
      "source": [
        "**Loss function**"
      ]
    },
    {
      "cell_type": "code",
      "execution_count": 79,
      "metadata": {
        "id": "mbATbYWfyeT6"
      },
      "outputs": [
        {
          "data": {
            "image/png": "[encoded data removed]",
            "text/plain": [
              "<Figure size 576x432 with 1 Axes>"
            ]
          },
          "metadata": {
            "needs_background": "light"
          },
          "output_type": "display_data"
        }
      ],
      "source": [
        "N =100\n",
        "plt.figure(figsize=(8,6))\n",
        "plt.plot(np.arange(0, N), history_h.history[\"loss\"], label=\"train_loss\")\n",
        "plt.plot(np.arange(0, N), history_h.history[\"val_loss\"], label=\"val_loss\")\n",
        "\n",
        "plt.title(\"Training Loss and Validation loss on the dataset\")\n",
        "plt.xlabel(\"Epoch #\")\n",
        "plt.ylabel(\"train_Loss/val_loss\")\n",
        "plt.legend(loc=\"center\")\n",
        "plt.show()"
      ]
    },
    {
      "cell_type": "markdown",
      "metadata": {
        "id": "sorrVB0nsTGS"
      },
      "source": [
        "**Threshold**"
      ]
    },
    {
      "cell_type": "code",
      "execution_count": 80,
      "metadata": {
        "id": "ihxKDdtg4e5U"
      },
      "outputs": [
        {
          "name": "stdout",
          "output_type": "stream",
          "text": [
            "  1/200 [..............................] - ETA: 6s"
          ]
        },
        {
          "name": "stdout",
          "output_type": "stream",
          "text": [
            "200/200 [==============================] - 0s 461us/step\n",
            "Best Threshold=0.225191, G-Mean=0.811\n"
          ]
        },
        {
          "data": {
            "image/png": "[encoded data removed]",
            "text/plain": [
              "<Figure size 432x288 with 1 Axes>"
            ]
          },
          "metadata": {
            "needs_background": "light"
          },
          "output_type": "display_data"
        }
      ],
      "source": [
        "# predict probabilities\n",
        "yhat = estimator_v2.predict(X_train)\n",
        "# keep probabilities for the positive outcome only\n",
        "yhat = yhat[:, 0]\n",
        "# calculate roc curves\n",
        "fpr, tpr, thresholds = roc_curve(y_train, yhat)\n",
        "# calculate the g-mean for each threshold\n",
        "gmeans = np.sqrt(tpr * (1-fpr))\n",
        "# locate the index of the largest g-mean\n",
        "ix = np.argmax(gmeans)\n",
        "print('Best Threshold=%f, G-Mean=%.3f' % (thresholds[ix], gmeans[ix]))\n",
        "# plot the roc curve for the model\n",
        "pyplot.plot([0,1], [0,1], linestyle='--', label='No Skill')\n",
        "pyplot.plot(fpr, tpr, marker='.', label='Logistic')\n",
        "pyplot.scatter(fpr[ix], tpr[ix], marker='o', color='black', label='Best')\n",
        "# axis labels\n",
        "pyplot.xlabel('False Positive Rate')\n",
        "pyplot.ylabel('True Positive Rate')\n",
        "pyplot.legend()\n",
        "# show the plot\n",
        "pyplot.show()"
      ]
    },
    {
      "cell_type": "markdown",
      "metadata": {
        "id": "xbn6CItqyeT6"
      },
      "source": [
        "**Predict the results using  the best  threshold**"
      ]
    },
    {
      "cell_type": "code",
      "execution_count": 81,
      "metadata": {
        "id": "wQJF8Q33yeT6"
      },
      "outputs": [
        {
          "name": "stdout",
          "output_type": "stream",
          "text": [
            "50/50 [==============================] - 0s 470us/step\n",
            "[[0.16985577]\n",
            " [0.00472375]\n",
            " [0.03019872]\n",
            " ...\n",
            " [0.23357862]\n",
            " [0.5101841 ]\n",
            " [0.56679267]]\n"
          ]
        }
      ],
      "source": [
        "# Complete the code to obtain the predictions on X_val\n",
        "y_pred_h = estimator_v2.predict(X_val)\n",
        "print(y_pred_h)"
      ]
    },
    {
      "cell_type": "code",
      "execution_count": 82,
      "metadata": {
        "id": "sM2YrILvyeT7"
      },
      "outputs": [
        {
          "name": "stdout",
          "output_type": "stream",
          "text": [
            "[[False]\n",
            " [False]\n",
            " [False]\n",
            " ...\n",
            " [ True]\n",
            " [ True]\n",
            " [ True]]\n"
          ]
        }
      ],
      "source": [
        "# To use the confusion Matrix, we need to convert the probabilities that a customer will leave the bank into the form true or false. \n",
        "# So we will use the best cutoff value  to indicate whether they are likely to exit or not.\n",
        "y_pred_h = (y_pred_h > thresholds[ix])\n",
        "print(y_pred_h)"
      ]
    },
    {
      "cell_type": "markdown",
      "metadata": {
        "id": "7Yk1bcrasf4r"
      },
      "source": [
        "**Classification report**"
      ]
    },
    {
      "cell_type": "code",
      "execution_count": 83,
      "metadata": {
        "id": "05TQdDtvyeT8"
      },
      "outputs": [
        {
          "name": "stdout",
          "output_type": "stream",
          "text": [
            "              precision    recall  f1-score   support\n",
            "\n",
            "           0       0.92      0.80      0.85      1274\n",
            "           1       0.47      0.71      0.57       326\n",
            "\n",
            "    accuracy                           0.78      1600\n",
            "   macro avg       0.70      0.76      0.71      1600\n",
            "weighted avg       0.83      0.78      0.80      1600\n",
            "\n"
          ]
        }
      ],
      "source": [
        "# Complete the code to obtain the classification report\n",
        "cr=metrics.classification_report(y_val,y_pred_h)\n",
        "print(cr)"
      ]
    },
    {
      "cell_type": "markdown",
      "metadata": {},
      "source": [
        "#### Observations:\n",
        "- The model performs reasonably well in predicting customers who won't exit (class 0). However, its performance in predicting exits (class 1) leaves room for improvement, particularly in terms of precision.\n",
        "- The discrepancy between precision for exits and non-exits suggests that the model might be making a considerable number of false positives for exits.\n",
        "- The recall for exits is better than the precision, but there's still a potential risk of missing out on 29% of actual exits, which can be significant for the business."
      ]
    },
    {
      "cell_type": "markdown",
      "metadata": {
        "id": "zsuLKdS3yeT7"
      },
      "source": [
        "**Confusion matrix**"
      ]
    },
    {
      "cell_type": "code",
      "execution_count": 84,
      "metadata": {
        "id": "F0j7ImQXyeT7"
      },
      "outputs": [
        {
          "data": {
            "image/png": "[encoded data removed]",
            "text/plain": [
              "<Figure size 432x288 with 2 Axes>"
            ]
          },
          "metadata": {
            "needs_background": "light"
          },
          "output_type": "display_data"
        }
      ],
      "source": [
        "## Complete the code to obtain the confusion matrix\n",
        "cm_h=confusion_matrix(y_val, y_pred_h)\n",
        "\n",
        "labels = ['True Negative','False Positive','False Negative','True Positive']\n",
        "categories = [ 'Not_Exited','Exited']\n",
        "make_confusion_matrix(cm_h, \n",
        "                      group_names=labels,\n",
        "                      categories=categories, \n",
        "                      cmap='Blues')"
      ]
    },
    {
      "cell_type": "markdown",
      "metadata": {},
      "source": [
        "#### Observations:\n",
        "- Of all the predictions, 63.50% were correctly predicted as customers who did not exit. This means that the majority of customers who stayed with the bank were correctly identified by the model.\n",
        "- The model incorrectly predicted 16.12% of the customers as exiting when they actually did not. This means that there could be some potential dissatisfaction or factors leading the model to believe these customers might leave, even though they didn't.\n",
        "- The model missed out on predicting 5.81% of the customers who actually exited. These are the customers the bank would ideally want to identify to potentially retain them. This is a critical metric, as these are the opportunities the bank missed to retain potential churn customers.\n",
        "- Of all the predictions, 14.56% were correctly predicted as customers who exited. This means that the model was able to correctly identify a significant portion of the customers who left.\n",
        "\n",
        "While the model has a decent accuracy and recall, there's significant room for improvement in precision. The bank might want to focus on reducing the number of false positives to avoid unnecessary retention efforts on customers who aren't likely to exit. On the other hand, continuing to improve recall will help in retaining more customers who are on the verge of leaving.\n"
      ]
    },
    {
      "cell_type": "markdown",
      "metadata": {
        "id": "TU-l_ltNst3g"
      },
      "source": [
        "### Model Improvement: Neural Network model with balanced data"
      ]
    },
    {
      "cell_type": "markdown",
      "metadata": {
        "id": "76LzW0xQODsm"
      },
      "source": [
        "**Now try to apply SMOTE to balance this dataset and then again apply hyperparamter tuning accordingly.**"
      ]
    },
    {
      "cell_type": "code",
      "execution_count": 85,
      "metadata": {
        "id": "UaCHzSGvqQNY"
      },
      "outputs": [
        {
          "name": "stdout",
          "output_type": "stream",
          "text": [
            "After UpSampling, the shape of train_X: (10192, 11)\n",
            "After UpSampling, the shape of train_y: (10192, 1) \n",
            "\n"
          ]
        }
      ],
      "source": [
        "# Apply SMOTE on train data\n",
        "sm  = SMOTE(random_state=42)\n",
        "X_train, y_train = sm.fit_resample(X_train, y_train) \n",
        "print('After UpSampling, the shape of train_X: {}'.format(X_train.shape)) \n",
        "print('After UpSampling, the shape of train_y: {} \\n'.format(y_train.shape))"
      ]
    },
    {
      "cell_type": "code",
      "execution_count": 86,
      "metadata": {
        "id": "wtZ8-Ujyq71c"
      },
      "outputs": [
        {
          "data": {
            "text/plain": [
              "<AxesSubplot:xlabel='Exited', ylabel='count'>"
            ]
          },
          "execution_count": 86,
          "metadata": {},
          "output_type": "execute_result"
        },
        {
          "data": {
            "image/png": "[encoded data removed]",
            "text/plain": [
              "<Figure size 432x288 with 1 Axes>"
            ]
          },
          "metadata": {
            "needs_background": "light"
          },
          "output_type": "display_data"
        }
      ],
      "source": [
        "sns.countplot(y_train['Exited'])"
      ]
    },
    {
      "cell_type": "markdown",
      "metadata": {
        "id": "WVS6_7yms1Rt"
      },
      "source": [
        "**Build a model with the balanced dataset**"
      ]
    },
    {
      "cell_type": "code",
      "execution_count": 87,
      "metadata": {
        "id": "o0BI30ioc73P"
      },
      "outputs": [],
      "source": [
        "backend.clear_session()\n",
        "#Fixing the seed for random number generators so that we can ensure we receive the same output everytime\n",
        "np.random.seed(2)\n",
        "random.seed(2)\n",
        "tf.random.set_seed(2)"
      ]
    },
    {
      "cell_type": "code",
      "execution_count": 88,
      "metadata": {
        "id": "QCBmYTJ6rmoL",
        "scrolled": true
      },
      "outputs": [],
      "source": [
        "# Initialize a sequential model\n",
        "model_4 = Sequential()\n",
        "\n",
        "# Add an input layer of 32 neurons with relu as activation function\n",
        "model_4.add(Dense(32, activation='relu', input_dim=X_train.shape[1]))\n",
        "\n",
        "# Add dropout with dropout rate=0.2\n",
        "model_4.add(Dropout(0.2))\n",
        "\n",
        "# Add a hidden layer with 16 neurons with relu as activation function\n",
        "model_4.add(Dense(16, activation='relu'))\n",
        "\n",
        "# Add dropout\n",
        "model_4.add(Dropout(0.1))\n",
        "\n",
        "# Add a dense layer with 8 neurons\n",
        "model_4.add(Dense(8, activation='relu'))\n",
        "\n",
        "# Add the output layer with sigmoid activation function since it's a binary classification\n",
        "model_4.add(Dense(1, activation='sigmoid'))"
      ]
    },
    {
      "cell_type": "code",
      "execution_count": 89,
      "metadata": {
        "id": "RBIIXn76c73P"
      },
      "outputs": [
        {
          "name": "stdout",
          "output_type": "stream",
          "text": [
            "Model: \"sequential\"\n",
            "_________________________________________________________________\n",
            " Layer (type)                Output Shape              Param #   \n",
            "=================================================================\n",
            " dense (Dense)               (None, 32)                384       \n",
            "                                                                 \n",
            " dropout (Dropout)           (None, 32)                0         \n",
            "                                                                 \n",
            " dense_1 (Dense)             (None, 16)                528       \n",
            "                                                                 \n",
            " dropout_1 (Dropout)         (None, 16)                0         \n",
            "                                                                 \n",
            " dense_2 (Dense)             (None, 8)                 136       \n",
            "                                                                 \n",
            " dense_3 (Dense)             (None, 1)                 9         \n",
            "                                                                 \n",
            "=================================================================\n",
            "Total params: 1057 (4.13 KB)\n",
            "Trainable params: 1057 (4.13 KB)\n",
            "Non-trainable params: 0 (0.00 Byte)\n",
            "_________________________________________________________________\n"
          ]
        }
      ],
      "source": [
        "model_4.summary()"
      ]
    },
    {
      "cell_type": "code",
      "execution_count": 90,
      "metadata": {
        "id": "G2Zl40pIc73P",
        "scrolled": true
      },
      "outputs": [
        {
          "name": "stdout",
          "output_type": "stream",
          "text": [
            "Epoch 1/100\n"
          ]
        },
        {
          "name": "stdout",
          "output_type": "stream",
          "text": [
            "160/160 [==============================] - 1s 1ms/step - loss: 0.6432 - accuracy: 0.6333 - val_loss: 0.5592 - val_accuracy: 0.7262\n",
            "Epoch 2/100\n",
            "160/160 [==============================] - 0s 906us/step - loss: 0.5762 - accuracy: 0.7093 - val_loss: 0.5494 - val_accuracy: 0.7312\n",
            "Epoch 3/100\n",
            "160/160 [==============================] - 0s 900us/step - loss: 0.5575 - accuracy: 0.7249 - val_loss: 0.5267 - val_accuracy: 0.7362\n",
            "Epoch 4/100\n",
            "160/160 [==============================] - 0s 906us/step - loss: 0.5484 - accuracy: 0.7318 - val_loss: 0.5455 - val_accuracy: 0.7200\n",
            "Epoch 5/100\n",
            "160/160 [==============================] - 0s 913us/step - loss: 0.5414 - accuracy: 0.7326 - val_loss: 0.5335 - val_accuracy: 0.7256\n",
            "Epoch 6/100\n",
            "160/160 [==============================] - 0s 906us/step - loss: 0.5313 - accuracy: 0.7354 - val_loss: 0.5341 - val_accuracy: 0.7294\n",
            "Epoch 7/100\n",
            "160/160 [==============================] - 0s 906us/step - loss: 0.5199 - accuracy: 0.7437 - val_loss: 0.5129 - val_accuracy: 0.7375\n",
            "Epoch 8/100\n",
            "160/160 [==============================] - 0s 925us/step - loss: 0.5122 - accuracy: 0.7488 - val_loss: 0.4953 - val_accuracy: 0.7569\n",
            "Epoch 9/100\n",
            "160/160 [==============================] - 0s 919us/step - loss: 0.5089 - accuracy: 0.7508 - val_loss: 0.5352 - val_accuracy: 0.7387\n",
            "Epoch 10/100\n",
            "160/160 [==============================] - 0s 919us/step - loss: 0.4975 - accuracy: 0.7608 - val_loss: 0.4831 - val_accuracy: 0.7669\n",
            "Epoch 11/100\n",
            "160/160 [==============================] - 0s 919us/step - loss: 0.4942 - accuracy: 0.7677 - val_loss: 0.5058 - val_accuracy: 0.7531\n",
            "Epoch 12/100\n",
            "160/160 [==============================] - 0s 932us/step - loss: 0.4901 - accuracy: 0.7663 - val_loss: 0.5034 - val_accuracy: 0.7581\n",
            "Epoch 13/100\n",
            "160/160 [==============================] - 0s 932us/step - loss: 0.4820 - accuracy: 0.7695 - val_loss: 0.4760 - val_accuracy: 0.7788\n",
            "Epoch 14/100\n",
            "160/160 [==============================] - 0s 932us/step - loss: 0.4750 - accuracy: 0.7777 - val_loss: 0.5010 - val_accuracy: 0.7606\n",
            "Epoch 15/100\n",
            "160/160 [==============================] - 0s 913us/step - loss: 0.4742 - accuracy: 0.7783 - val_loss: 0.5073 - val_accuracy: 0.7556\n",
            "Epoch 16/100\n",
            "160/160 [==============================] - 0s 921us/step - loss: 0.4710 - accuracy: 0.7817 - val_loss: 0.4827 - val_accuracy: 0.7719\n",
            "Epoch 17/100\n",
            "160/160 [==============================] - 0s 925us/step - loss: 0.4656 - accuracy: 0.7799 - val_loss: 0.5012 - val_accuracy: 0.7563\n",
            "Epoch 18/100\n",
            "160/160 [==============================] - 0s 906us/step - loss: 0.4614 - accuracy: 0.7874 - val_loss: 0.4692 - val_accuracy: 0.7794\n",
            "Epoch 19/100\n",
            "160/160 [==============================] - 0s 906us/step - loss: 0.4624 - accuracy: 0.7874 - val_loss: 0.4721 - val_accuracy: 0.7719\n",
            "Epoch 20/100\n",
            "160/160 [==============================] - 0s 906us/step - loss: 0.4573 - accuracy: 0.7858 - val_loss: 0.4813 - val_accuracy: 0.7700\n",
            "Epoch 21/100\n",
            "160/160 [==============================] - 0s 900us/step - loss: 0.4548 - accuracy: 0.7915 - val_loss: 0.4807 - val_accuracy: 0.7719\n",
            "Epoch 22/100\n",
            "160/160 [==============================] - 0s 900us/step - loss: 0.4528 - accuracy: 0.7910 - val_loss: 0.4596 - val_accuracy: 0.7812\n",
            "Epoch 23/100\n",
            "160/160 [==============================] - 0s 900us/step - loss: 0.4464 - accuracy: 0.7941 - val_loss: 0.4856 - val_accuracy: 0.7613\n",
            "Epoch 24/100\n",
            "160/160 [==============================] - 0s 906us/step - loss: 0.4489 - accuracy: 0.7934 - val_loss: 0.4708 - val_accuracy: 0.7800\n",
            "Epoch 25/100\n",
            "160/160 [==============================] - 0s 904us/step - loss: 0.4424 - accuracy: 0.7976 - val_loss: 0.4657 - val_accuracy: 0.7800\n",
            "Epoch 26/100\n",
            "160/160 [==============================] - 0s 900us/step - loss: 0.4417 - accuracy: 0.8005 - val_loss: 0.4610 - val_accuracy: 0.7806\n",
            "Epoch 27/100\n",
            "160/160 [==============================] - 0s 913us/step - loss: 0.4414 - accuracy: 0.7947 - val_loss: 0.4665 - val_accuracy: 0.7837\n"
          ]
        }
      ],
      "source": [
        "# Define early stopping as a callback\n",
        "es_cb = callbacks.EarlyStopping(monitor='val_loss', min_delta=0.001, patience=5)\n",
        "\n",
        "# Initializing Adam optimizer\n",
        "optimizer = tf.keras.optimizers.Adam(0.001)\n",
        "\n",
        "# Compiling the model with binary cross entropy as loss and accuracy as metrics\n",
        "model_4.compile(optimizer=optimizer, loss='binary_crossentropy', metrics=['accuracy'])\n",
        "\n",
        "# Fit the model on train data with a batch size of 64, 100 epochs, and the early stopping callback\n",
        "history_4 = model_4.fit(X_train, y_train, batch_size=64, epochs=100, verbose=1, validation_data=(X_val, y_val), callbacks=[es_cb])"
      ]
    },
    {
      "cell_type": "markdown",
      "metadata": {
        "id": "7dKyLjt_s6RF"
      },
      "source": [
        "**Loss function**"
      ]
    },
    {
      "cell_type": "code",
      "execution_count": 91,
      "metadata": {
        "id": "IXyLsusWjgJi"
      },
      "outputs": [
        {
          "data": {
            "image/png": "[encoded data removed]",
            "text/plain": [
              "<Figure size 432x288 with 1 Axes>"
            ]
          },
          "metadata": {
            "needs_background": "light"
          },
          "output_type": "display_data"
        }
      ],
      "source": [
        "# Capturing learning history per epoch\n",
        "hist  = pd.DataFrame(history_4.history)\n",
        "hist['epoch'] = history_4.epoch\n",
        "\n",
        "# Plotting accuracy at different epochs\n",
        "plt.plot(hist['loss'])\n",
        "plt.plot(hist['val_loss'])\n",
        "plt.legend((\"train\" , \"valid\") , loc =0)\n",
        "plt.show()"
      ]
    },
    {
      "cell_type": "markdown",
      "metadata": {
        "id": "WtvD0AYog9jJ"
      },
      "source": [
        "**Finding the optimal  threshold**"
      ]
    },
    {
      "cell_type": "code",
      "execution_count": 92,
      "metadata": {
        "id": "onVWpe2BrCX8"
      },
      "outputs": [
        {
          "name": "stdout",
          "output_type": "stream",
          "text": [
            "  1/319 [..............................] - ETA: 11s"
          ]
        },
        {
          "name": "stdout",
          "output_type": "stream",
          "text": [
            "319/319 [==============================] - 0s 478us/step\n",
            "Best Threshold=0.522367, G-Mean=0.820\n"
          ]
        },
        {
          "data": {
            "image/png": "[encoded data removed]",
            "text/plain": [
              "<Figure size 432x288 with 1 Axes>"
            ]
          },
          "metadata": {
            "needs_background": "light"
          },
          "output_type": "display_data"
        }
      ],
      "source": [
        "# Predict on the training data\n",
        "yhat = model_4.predict(X_train)\n",
        "\n",
        "# keep probabilities for the positive outcome only\n",
        "yhat = yhat[:, 0]\n",
        "# calculate roc curves\n",
        "fpr, tpr, thresholds = roc_curve(y_train, yhat)\n",
        "# calculate the g-mean for each threshold\n",
        "gmeans = np.sqrt(tpr * (1-fpr))\n",
        "# locate the index of the largest g-mean\n",
        "ix = np.argmax(gmeans)\n",
        "print('Best Threshold=%f, G-Mean=%.3f' % (thresholds[ix], gmeans[ix]))\n",
        "# plot the roc curve for the model\n",
        "pyplot.plot([0,1], [0,1], linestyle='--', label='No Skill')\n",
        "pyplot.plot(fpr, tpr, marker='.', label='Logistic')\n",
        "pyplot.scatter(fpr[ix], tpr[ix], marker='o', color='black', label='Best')\n",
        "# axis labels\n",
        "pyplot.xlabel('False Positive Rate')\n",
        "pyplot.ylabel('True Positive Rate')\n",
        "pyplot.legend()\n",
        "# show the plot\n",
        "pyplot.show()"
      ]
    },
    {
      "cell_type": "code",
      "execution_count": 93,
      "metadata": {
        "id": "09NXOv5usSVj"
      },
      "outputs": [
        {
          "name": "stdout",
          "output_type": "stream",
          "text": [
            "50/50 [==============================] - 0s 511us/step\n"
          ]
        },
        {
          "data": {
            "text/plain": [
              "array([[False],\n",
              "       [False],\n",
              "       [False],\n",
              "       ...,\n",
              "       [False],\n",
              "       [ True],\n",
              "       [ True]])"
            ]
          },
          "execution_count": 93,
          "metadata": {},
          "output_type": "execute_result"
        }
      ],
      "source": [
        "## Complete the code to obtain the predictions on X_val\n",
        "y_pred_s = model_4.predict(X_val)\n",
        "#Predicting the results using tuned threshold\n",
        "y_pred_s = (y_pred_s >thresholds[ix])\n",
        "y_pred_s"
      ]
    },
    {
      "cell_type": "markdown",
      "metadata": {
        "id": "QpyMtq6_tFzR"
      },
      "source": [
        "**Classification report**"
      ]
    },
    {
      "cell_type": "code",
      "execution_count": 94,
      "metadata": {
        "id": "UX3pGtousY5l"
      },
      "outputs": [
        {
          "name": "stdout",
          "output_type": "stream",
          "text": [
            "              precision    recall  f1-score   support\n",
            "\n",
            "           0       0.91      0.81      0.86      1274\n",
            "           1       0.48      0.68      0.57       326\n",
            "\n",
            "    accuracy                           0.79      1600\n",
            "   macro avg       0.70      0.75      0.71      1600\n",
            "weighted avg       0.82      0.79      0.80      1600\n",
            "\n"
          ]
        }
      ],
      "source": [
        "cr=metrics.classification_report(y_val,y_pred_s)\n",
        "print(cr)"
      ]
    },
    {
      "cell_type": "markdown",
      "metadata": {},
      "source": [
        "#### Observations:\n",
        "- The model has a high precision for predicting customers who will not exit (class 0) but a comparatively lower precision for predicting customers who will exit (class 1).\n",
        "- The recall for predicting exits is decent, suggesting that the model is reasonably good at catching actual exit cases, even if it sometimes wrongly classifies non-exits as exits.\n",
        "- The F1-Score for class 1 (Exited) indicates there's room for improvement, particularly in terms of precision.\n",
        "- Overall, the model has a decent accuracy of 79%, but the precision for predicting exits (class 1) is an area that could benefit from further optimization, especially in a real-world scenario where incorrectly predicting an exit could have financial implications for the bank.\n",
        "- The results after using SMOTE to balance the dataset are promising. Balancing techniques like SMOTE can help improve model performance, especially for the minority class, but they should be used judiciously to avoid overfitting.\n"
      ]
    },
    {
      "cell_type": "markdown",
      "metadata": {
        "id": "mAzCIUzDtId7"
      },
      "source": [
        "**Confusion matrix**"
      ]
    },
    {
      "cell_type": "code",
      "execution_count": 95,
      "metadata": {
        "id": "MJemotBEsdUs"
      },
      "outputs": [
        {
          "data": {
            "image/png": "[encoded data removed]",
            "text/plain": [
              "<Figure size 432x288 with 2 Axes>"
            ]
          },
          "metadata": {
            "needs_background": "light"
          },
          "output_type": "display_data"
        }
      ],
      "source": [
        "#Calculating the confusion matrix \n",
        "cm_s=confusion_matrix(y_val, y_pred_s)\n",
        "labels = ['True Negative','False Positive','False Negative','True Positive']\n",
        "categories = [ 'Not_Exited','Exited']\n",
        "make_confusion_matrix(cm_s, \n",
        "                      group_names=labels,\n",
        "                      categories=categories, \n",
        "                      cmap='Blues')"
      ]
    },
    {
      "cell_type": "markdown",
      "metadata": {},
      "source": [
        "#### Observations:\n",
        "- The model correctly predicted 64.81% of the customers as not exiting. This is a strong result, indicating that the model is good at identifying customers who will remain.\n",
        "- The model incorrectly predicted that 14.81% of the customers would exit when they did not. This means that there might be some characteristics or patterns within the non-exiting group that the model associates with exiting. This type of error could lead to unnecessary retention efforts or offers for customers who were not at risk of leaving.\n",
        "- The model missed 6.44% of the customers who actually exited. These are missed opportunities, where retention efforts could potentially have made a difference.\n",
        "- The model correctly identified 13.94% of the customers who exited. This is a good result given the imbalanced nature of the dataset, but there's room for improvement.\n",
        "- The overall accuracy of the model is 78.7%. This implies that in almost 4 out of 5 instances, the model's predictions are correct.\n",
        "- The precision of 0.485 indicates that when the model predicts a customer will exit, it's correct about 48.5% of the time. Given the potential cost implications of false positives (i.e., offering retention incentives to customers who weren't planning on leaving), this is an area where improvement could be beneficial.\n",
        "- The recall of 0.684 suggests that the model correctly identifies 68.4% of all actual exits. This means the model is capturing a good portion of customers at risk of leaving, but there's still a significant number it's missing.\n",
        "- The F1 score is a balance between precision and recall. An F1 score of 0.567 for exits suggests there's room for improvement in balancing precision and recall.\n",
        "The model, after being trained on balanced data using SMOTE, shows a balanced performance between precision and recall. However, there's room for optimization, especially in terms of precision.\n",
        "- The false positive rate indicates that the model sometimes misclassifies non-exiting customers as potential exits. This could lead to unnecessary retention costs if acted upon.\n",
        "- The true positive rate is decent but suggests there are still missed opportunities for identifying customers at risk of leaving.\n",
        "- In a real-world banking scenario, both false negatives and false positives could have financial implications. False negatives represent missed opportunities for retention, while false positives could lead to unnecessary expenditure on retention efforts for customers not at risk."
      ]
    },
    {
      "cell_type": "markdown",
      "metadata": {
        "id": "cpKLOKZdqaQ9"
      },
      "source": [
        "## Final Model\n",
        "\n",
        "\n"
      ]
    },
    {
      "cell_type": "markdown",
      "metadata": {},
      "source": [
        "#### Selection:\n",
        "Based on our criterion of maximizing recall to reduce false negatives, let's rank the models by their recall:\n",
        "\n",
        "1. Neural network with adam optimizer:\n",
        "    Recall: 0.767\n",
        "2. Neural network with dropout:\n",
        "    Recall: 0.748\n",
        "3. Neural network with hyperparameter tuning:\n",
        "    Recall: 0.715\n",
        "4. Neural network with balanced data:\n",
        "    Recall: 0.684\n",
        "5. Neural Network:\n",
        "    Recall: 0.374\n",
        "\n",
        "Clearly, the model with the highest recall is the \"Neural network with adam optimizer,\" with a recall of 0.767.\n",
        "\n",
        "However, while recall is our primary metric, we shouldn't disregard precision entirely. If the precision is too low, it might mean that the bank would be spending too much effort and resources on customers who aren't actually at risk of churning. \n",
        "\n",
        "In this context:\n",
        "The \"Neural network with adam optimizer\" has a precision of 0.477.\n",
        "The \"Neural network with dropout\" has a precision of 0.515, which is higher, with a slight trade-off in recall.\n",
        "\n",
        "Given the context, if the bank can afford some interventions without much concern about the costs, then the \"Neural network with adam optimizer\" is the best choice due to its highest recall. However, if the bank is concerned about potentially wasting resources on false positives, they might consider the \"Neural network with dropout\" since it offers a balanced trade-off with higher precision and only slightly lower recall.\n",
        "\n",
        "For our purposes, we will select \"Neural network with dropout\" as it provides similar recall but higher precision. "
      ]
    },
    {
      "cell_type": "code",
      "execution_count": 99,
      "metadata": {
        "id": "6oOsU5BYqaQ9"
      },
      "outputs": [
        {
          "name": "stdout",
          "output_type": "stream",
          "text": [
            "  1/319 [..............................] - ETA: 11s"
          ]
        },
        {
          "name": "stdout",
          "output_type": "stream",
          "text": [
            "319/319 [==============================] - 0s 482us/step\n",
            "Best Threshold=0.219160, G-Mean=0.809\n"
          ]
        },
        {
          "data": {
            "image/png": "[encoded data removed]",
            "text/plain": [
              "<Figure size 432x288 with 1 Axes>"
            ]
          },
          "metadata": {
            "needs_background": "light"
          },
          "output_type": "display_data"
        }
      ],
      "source": [
        "# predict probabilities using the best model\n",
        "yhat = model_3.predict(X_train)\n",
        "# keep probabilities for the positive outcome only\n",
        "yhat = yhat[:, 0]\n",
        "# calculate roc curves\n",
        "fpr, tpr, thresholds = roc_curve(y_train, yhat)\n",
        "# calculate the g-mean for each threshold\n",
        "gmeans = np.sqrt(tpr * (1-fpr))\n",
        "# locate the index of the largest g-mean\n",
        "ix = np.argmax(gmeans)\n",
        "print('Best Threshold=%f, G-Mean=%.3f' % (thresholds[ix], gmeans[ix]))\n",
        "# plot the roc curve for the model\n",
        "pyplot.plot([0,1], [0,1], linestyle='--', label='No Skill')\n",
        "pyplot.plot(fpr, tpr, marker='.', label='Logistic')\n",
        "pyplot.scatter(fpr[ix], tpr[ix], marker='o', color='black', label='Best')\n",
        "# axis labels\n",
        "pyplot.xlabel('False Positive Rate')\n",
        "pyplot.ylabel('True Positive Rate')\n",
        "pyplot.legend()\n",
        "# show the plot\n",
        "pyplot.show()"
      ]
    },
    {
      "cell_type": "code",
      "execution_count": 104,
      "metadata": {
        "id": "TN_4kWupqaQ-"
      },
      "outputs": [
        {
          "name": "stdout",
          "output_type": "stream",
          "text": [
            " 1/63 [..............................] - ETA: 1s"
          ]
        },
        {
          "name": "stdout",
          "output_type": "stream",
          "text": [
            "63/63 [==============================] - 0s 533us/step\n",
            "[[False]\n",
            " [False]\n",
            " [False]\n",
            " ...\n",
            " [ True]\n",
            " [False]\n",
            " [False]]\n"
          ]
        }
      ],
      "source": [
        "#Predict the X_test data using the best model (neural network with dropout)\n",
        "y_pred_test = model_e.predict(X_test)\n",
        "y_pred_test = (y_pred_test > thresholds[ix])\n",
        "print(y_pred_test)"
      ]
    },
    {
      "cell_type": "markdown",
      "metadata": {
        "id": "Lgrb5OMRt4nv"
      },
      "source": [
        "**Classification report**"
      ]
    },
    {
      "cell_type": "code",
      "execution_count": 105,
      "metadata": {
        "id": "BHjfWylLqaQ-"
      },
      "outputs": [
        {
          "name": "stdout",
          "output_type": "stream",
          "text": [
            "              precision    recall  f1-score   support\n",
            "\n",
            "           0       0.92      0.84      0.88      1593\n",
            "           1       0.54      0.71      0.61       407\n",
            "\n",
            "    accuracy                           0.82      2000\n",
            "   macro avg       0.73      0.78      0.74      2000\n",
            "weighted avg       0.84      0.82      0.82      2000\n",
            "\n"
          ]
        }
      ],
      "source": [
        "cr=metrics.classification_report(y_test, y_pred_test)\n",
        "print(cr)"
      ]
    },
    {
      "cell_type": "markdown",
      "metadata": {},
      "source": [
        "#### Observations:\n",
        "- The model is performing well in identifying the customers who are exiting, with a good recall rate of 77%. This aligns with our primary objective to minimize false negatives, as a high recall ensures that most of the actual exits are being correctly predicted.\n",
        "- The precision for predicting exits is relatively lower at 50%. This implies that while the model is good at catching potential exits, it also has a tendency to wrongly predict some non-exits as exits.\n",
        "- The macro average F1-score is 73%, and the weighted average F1-score is 81%. This suggests that the model is reasonably balanced in terms of precision and recall across both classes, though there's room for improvement, especially in precision for exits."
      ]
    },
    {
      "cell_type": "markdown",
      "metadata": {
        "id": "jR8IyY6Nt9HS"
      },
      "source": [
        "**Confusion report**"
      ]
    },
    {
      "cell_type": "code",
      "execution_count": 106,
      "metadata": {
        "id": "MJGMduR6qaQ-"
      },
      "outputs": [
        {
          "data": {
            "image/png": "[encoded data removed]",
            "text/plain": [
              "<Figure size 432x288 with 2 Axes>"
            ]
          },
          "metadata": {
            "needs_background": "light"
          },
          "output_type": "display_data"
        }
      ],
      "source": [
        "cm_h=confusion_matrix(y_test, y_pred_test)\n",
        "labels = ['True Negative','False Positive','False Negative','True Positive']\n",
        "categories = [ 'Not_Exited','Exited']\n",
        "make_confusion_matrix(cm_h, \n",
        "                      group_names=labels,\n",
        "                      categories=categories, \n",
        "                      cmap='Blues')"
      ]
    },
    {
      "cell_type": "markdown",
      "metadata": {},
      "source": [
        "#### Observations:\n",
        "- The model correctly predicted 64% of the total instances as non-exits. This indicates that a large proportion of customers who didn't exit were correctly identified by the model.\n",
        "- 15.65% of the total instances were wrongly predicted as exits when they were actually non-exits. This is a consequence of the model trying to catch more of the actual exits, and in the process, incorrectly classifying some non-exits as exits.\n",
        "- Only 4.75% of the total instances were wrongly predicted as non-exits when they actually exited. Minimizing this metric was our primary aim, so it's good to see this value is relatively low.\n",
        "- he model correctly predicted 15.60% of the total instances as exits. This indicates that a significant proportion of customers who exited were correctly identified.\n",
        "\n",
        "The model has a good recall rate, meaning it's able to correctly identify a majority of the customers who are likely to exit. This is in line with our primary objective. However, the model does produce a number of false positives. This means that while it's trying to catch as many exits as possible, it's also flagging some customers as likely to exit when they're not. "
      ]
    },
    {
      "cell_type": "markdown",
      "metadata": {
        "id": "XE1iHOqqOEmV"
      },
      "source": [
        "## Actionable Insights and Business Recommendations"
      ]
    },
    {
      "cell_type": "markdown",
      "metadata": {},
      "source": [
        "### Actionable Insights:\n",
        "- The model (model_3) has a high recall, meaning it has a good ability to catch customers who are genuinely considering leaving. This indicates that the bank can trust the model to identify a significant proportion of customers who are genuinely at risk of leaving.\n",
        "-  The model does have a number of false positives. This means that the bank will be reaching out to some customers who aren't actually considering leaving. This has both an upside (extra engagement) and a downside (potential unnecessary expenditure or annoyance).\n",
        "- The dropout layers in the neural network model significantly improved the model's generalization, suggesting that the model's overfitting was effectively mitigated."
      ]
    },
    {
      "cell_type": "markdown",
      "metadata": {
        "id": "4AHtuEZPvQg9"
      },
      "source": [
        "### Business Recommendations:\n",
        "- Targeted Interventions: Use the model to identify customers predicted to leave and design targeted marketing strategies or personalized offers to retain them. This could include special discounts, loyalty benefits, or personalized services.\n",
        "- Feedback Mechanism: For those identified as potentially leaving, initiate a feedback mechanism. Ask these customers about their grievances or reasons for dissatisfaction. This feedback can be invaluable in understanding underlying issues not captured in the data.\n",
        "- Resource Allocation: Given the false positives, it might be wise to stratify the interventions. High-cost interventions (like significant discounts or offers) can be reserved for customers the model predicts with very high confidence, while low-cost interventions (like a feedback call or personalized email) can be used for others.\n",
        "- Enhance Customer Service: The fact that the model can predict with reasonable accuracy that a customer might leave indicates underlying patterns of dissatisfaction. The bank should look into common grievances, especially in the areas highlighted by feature importance, and address systemic issues.\n",
        "- Training Programs: Consider training customer service representatives to handle high-risk customers specifically. Given them guidelines on addressing common concerns and empowering them to offer certain incentives to retain customers.\n",
        "- Monitor False Positives: While reaching out to customers who aren't genuinely considering leaving can be seen as proactive customer engagement, it's essential to monitor how these customers react to ensure the bank isn't inadvertently pushing them away.\n",
        "- Cost-Benefit Analysis: Continuously evaluate the cost of interventions against the benefit of customer retention. Adjust strategies based on this analysis to ensure profitability.\n"
      ]
    },
    {
      "cell_type": "markdown",
      "metadata": {
        "id": "4n5sePPMuEec"
      },
      "source": [
        "_____"
      ]
    }
  ],
  "metadata": {
    "colab": {
      "collapsed_sections": [
        "NjPy2L-tqoCo",
        "-cYmf-q8c726",
        "z7ubXtC8HUOA",
        "BwaZDbsYf0-N",
        "2TZ5GstYgG1I",
        "k-Dl42UCgLdV",
        "WP6rrI-kgaxW",
        "tGhe9qVhgoY1",
        "0TTT9Escruwg",
        "0M_y7Y33g2nP",
        "BsBwLHcmHUOg",
        "W036jsgwRdVN",
        "tQlhG1x0iREg",
        "O1WgW83rjza0",
        "MUk3Aj_Bj3cl",
        "9ceasiVRkcjS",
        "6rZ-1bs_ksSe",
        "XWM5q0wQkvws",
        "mGnQfFu2kzZe",
        "xSu6H4hLlBld",
        "xbDEgCfYlNsi",
        "W6PGNDMflTqt",
        "_WcPAd3sldqS",
        "9XFvZ8iZlkeN",
        "d3hg240IlpqV",
        "sw4xLDlemo3C",
        "PslMUrhhnFdl",
        "Ggqz7d4JnPul",
        "U6ch7akdnc9J",
        "qEJVhlwCnj95",
        "tz4mcNb_npGW",
        "MX_anKu1oK9L",
        "Wdrge12TouUX",
        "LMvo8Ioco7kd",
        "9va9WeGco-Iz",
        "7Cdem_NJpar1",
        "7eWct2L10DUm",
        "CUXPaUwZHUO8",
        "W7_uSvumqSMK",
        "FayG94iciXVS",
        "KwOyQwUh4Mo9",
        "IciEK79v7GCm",
        "g2TsEYy_pstz",
        "K90YO0mzOwX8",
        "fcBG9ypKyeT3",
        "TU-l_ltNst3g",
        "G9v-YCu-t6eD",
        "cpKLOKZdqaQ9",
        "XE1iHOqqOEmV"
      ],
      "provenance": []
    },
    "kernelspec": {
      "display_name": "Python 3",
      "language": "python",
      "name": "python3"
    },
    "language_info": {
      "codemirror_mode": {
        "name": "ipython",
        "version": 3
      },
      "file_extension": ".py",
      "mimetype": "text/x-python",
      "name": "python",
      "nbconvert_exporter": "python",
      "pygments_lexer": "ipython3",
      "version": "3.9.12"
    }
  },
  "nbformat": 4,
  "nbformat_minor": 0
}
