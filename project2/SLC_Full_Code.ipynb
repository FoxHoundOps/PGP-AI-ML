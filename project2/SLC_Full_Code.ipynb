{
  "cells": [
    {
      "attachments": {},
      "cell_type": "markdown",
      "metadata": {
        "id": "GQ4inoGOw_su"
      },
      "source": [
        "# Supervised Learning Classification Project: AllLife Bank Personal Loan Campaign"
      ]
    },
    {
      "attachments": {},
      "cell_type": "markdown",
      "metadata": {
        "id": "dHp26RRERvXx"
      },
      "source": [
        "## Problem Statement"
      ]
    },
    {
      "attachments": {},
      "cell_type": "markdown",
      "metadata": {
        "id": "m5MpauhvxIh6"
      },
      "source": [
        "### Context\n",
        "\n",
        "AllLife Bank is a US bank that has a growing customer base. The majority of these customers are liability customers (depositors) with varying sizes of deposits. The number of customers who are also borrowers (asset customers) is quite small, and the bank is interested in expanding this base rapidly to bring in more loan business and in the process, earn more through the interest on loans. In particular, the management wants to explore ways of converting its liability customers to personal loan customers (while retaining them as depositors).\n",
        "\n",
        "A campaign that the bank ran last year for liability customers showed a healthy conversion rate of over 9% success. This has encouraged the retail marketing department to devise campaigns with better target marketing to increase the success ratio.\n",
        "\n",
        "You as a Data scientist at AllLife bank have to build a model that will help the marketing department to identify the potential customers who have a higher probability of purchasing the loan."
      ]
    },
    {
      "attachments": {},
      "cell_type": "markdown",
      "metadata": {
        "id": "s4T59mPjxMmc"
      },
      "source": [
        "### Objective\n",
        "\n",
        "To predict whether a liability customer will buy personal loans, to understand which customer attributes are most significant in driving purchases, and identify which segment of customers to target more."
      ]
    },
    {
      "attachments": {},
      "cell_type": "markdown",
      "metadata": {
        "id": "FN8fKs4_xPLS"
      },
      "source": [
        "### Data Dictionary\n",
        "* `ID`: Customer ID\n",
        "* `Age`: Customer’s age in completed years\n",
        "* `Experience`: #years of professional experience\n",
        "* `Income`: Annual income of the customer (in thousand dollars)\n",
        "* `ZIP Code`: Home Address ZIP code.\n",
        "* `Family`: the Family size of the customer\n",
        "* `CCAvg`: Average spending on credit cards per month (in thousand dollars)\n",
        "* `Education`: Education Level. 1: Undergrad; 2: Graduate;3: Advanced/Professional\n",
        "* `Mortgage`: Value of house mortgage if any. (in thousand dollars)\n",
        "* `Personal_Loan`: Did this customer accept the personal loan offered in the last campaign? (0: No, 1: Yes)\n",
        "* `Securities_Account`: Does the customer have securities account with the bank? (0: No, 1: Yes)\n",
        "* `CD_Account`: Does the customer have a certificate of deposit (CD) account with the bank? (0: No, 1: Yes)\n",
        "* `Online`: Do customers use internet banking facilities? (0: No, 1: Yes)\n",
        "* `CreditCard`: Does the customer use a credit card issued by any other Bank (excluding All life Bank)? (0: No, 1: Yes)"
      ]
    },
    {
      "attachments": {},
      "cell_type": "markdown",
      "metadata": {
        "id": "CP-77n_lxyBt"
      },
      "source": [
        "## Importing necessary libraries"
      ]
    },
    {
      "cell_type": "code",
      "execution_count": null,
      "metadata": {
        "id": "O36RnISpw679"
      },
      "outputs": [],
      "source": [
        "%load_ext nb_black\n",
        "\n",
        "import warnings\n",
        "\n",
        "warnings.filterwarnings(\"ignore\")\n",
        "\n",
        "# Libraries to help with reading and manipulating data\n",
        "\n",
        "import pandas as pd\n",
        "import numpy as np\n",
        "\n",
        "# Library to split data\n",
        "from sklearn.model_selection import train_test_split\n",
        "\n",
        "# libaries to help with data visualization\n",
        "import matplotlib.pyplot as plt\n",
        "import seaborn as sns\n",
        "\n",
        "# Removes the limit for the number of displayed columns\n",
        "pd.set_option(\"display.max_columns\", None)\n",
        "# Sets the limit for the number of displayed rows\n",
        "pd.set_option(\"display.max_rows\", 200)\n",
        "\n",
        "\n",
        "# To build model for prediction\n",
        "\n",
        "from sklearn.linear_model import LogisticRegression\n",
        "from sklearn.tree import DecisionTreeClassifier\n",
        "from sklearn import tree\n",
        "\n",
        "# To tune different models\n",
        "from sklearn.model_selection import GridSearchCV\n",
        "\n",
        "# To get diferent metric scores\n",
        "\n",
        "from sklearn.metrics import (\n",
        "    f1_score,\n",
        "    accuracy_score,\n",
        "    recall_score,\n",
        "    precision_score,\n",
        "    confusion_matrix,\n",
        "    roc_auc_score,\n",
        "    confusion_matrix,\n",
        "    precision_recall_curve,\n",
        "    roc_curve,\n",
        "    make_scorer,\n",
        ")"
      ]
    },
    {
      "attachments": {},
      "cell_type": "markdown",
      "metadata": {
        "id": "D0cilOy9yeK7"
      },
      "source": [
        "## Loading the dataset"
      ]
    },
    {
      "cell_type": "code",
      "execution_count": null,
      "metadata": {
        "id": "veW9EM12yd5M"
      },
      "outputs": [],
      "source": [
        "loan_df = pd.read_csv(\"Loan_Modeling.csv\")"
      ]
    },
    {
      "attachments": {},
      "cell_type": "markdown",
      "metadata": {
        "id": "vUbDMkrLQb8U"
      },
      "source": [
        "## Data Overview"
      ]
    },
    {
      "attachments": {},
      "cell_type": "markdown",
      "metadata": {
        "id": "yPQbY4cIQaK4"
      },
      "source": [
        "* Observations\n",
        "* Sanity checks"
      ]
    },
    {
      "attachments": {},
      "cell_type": "markdown",
      "metadata": {},
      "source": [
        "### View the first and last 5 rows of the dataset."
      ]
    },
    {
      "cell_type": "code",
      "execution_count": null,
      "metadata": {
        "id": "EKrLdS4fZmpk"
      },
      "outputs": [],
      "source": [
        "loan_df.head()"
      ]
    },
    {
      "cell_type": "code",
      "execution_count": null,
      "metadata": {},
      "outputs": [],
      "source": [
        "loan_df.tail()"
      ]
    },
    {
      "attachments": {},
      "cell_type": "markdown",
      "metadata": {},
      "source": [
        "### Understand the shape of the dataset."
      ]
    },
    {
      "cell_type": "code",
      "execution_count": null,
      "metadata": {},
      "outputs": [],
      "source": [
        "loan_df.shape"
      ]
    },
    {
      "attachments": {},
      "cell_type": "markdown",
      "metadata": {},
      "source": [
        "### Check the data types of the columns for the dataset."
      ]
    },
    {
      "cell_type": "code",
      "execution_count": null,
      "metadata": {},
      "outputs": [],
      "source": [
        "loan_df.info()"
      ]
    },
    {
      "cell_type": "code",
      "execution_count": null,
      "metadata": {},
      "outputs": [],
      "source": [
        "loan_df.describe().T"
      ]
    },
    {
      "cell_type": "code",
      "execution_count": null,
      "metadata": {},
      "outputs": [],
      "source": [
        "# checking for unique values in ID column\n",
        "loan_df[\"ID\"].nunique()"
      ]
    },
    {
      "attachments": {},
      "cell_type": "markdown",
      "metadata": {},
      "source": [
        "* Since all the values in ID column are unique we can drop it"
      ]
    },
    {
      "cell_type": "code",
      "execution_count": null,
      "metadata": {},
      "outputs": [],
      "source": [
        "loan_df.drop([\"ID\"], axis=1, inplace=True)"
      ]
    },
    {
      "attachments": {},
      "cell_type": "markdown",
      "metadata": {},
      "source": [
        "### Check for missing values"
      ]
    },
    {
      "cell_type": "code",
      "execution_count": null,
      "metadata": {},
      "outputs": [],
      "source": [
        "loan_df.isnull().sum()"
      ]
    },
    {
      "attachments": {},
      "cell_type": "markdown",
      "metadata": {},
      "source": [
        "* There are no missing values in the dataset"
      ]
    },
    {
      "attachments": {},
      "cell_type": "markdown",
      "metadata": {},
      "source": [
        "#### Observations:\n",
        "- Upon looking at the head and tail of the dataset, it appears our data was indeed loaded correctly\n",
        "- Looking at the shape with `loan_df.shape`, we can see we the dataset has 5000 rows and 14 columns\n",
        "- By using `loan_df.info()`, we can see the data has 2 different datatypes:\n",
        "    - 1 columns of type float64, which is a 64-bit floating point number\n",
        "        - CCAvg\n",
        "    - 13 columns of type int64, which is a 64-bit integer\n",
        "        - ID, Age, Experience, Income, ZIPCode, Family, Education, Mortgage, Personal_Loan, Securities_Account, CDAccount, Online, CreditCard\n",
        "- Looking at the statistical summary with `loan_df.describe().T` reveals some interesting things to note, such as Experience having a min value of -3. \n",
        "- Each ID is unique, there are no duplicate entries and there are no missing values in the dataset\n",
        "\n"
      ]
    },
    {
      "attachments": {},
      "cell_type": "markdown",
      "metadata": {
        "id": "ZCM6avoA39FB"
      },
      "source": [
        "## Data Preprocessing"
      ]
    },
    {
      "attachments": {},
      "cell_type": "markdown",
      "metadata": {
        "id": "GxmVZXfCfNnc"
      },
      "source": [
        "* Missing value treatment\n",
        "* Feature engineering (if needed)\n",
        "* Outlier detection and treatment (if needed)\n",
        "* Preparing data for modeling\n",
        "* Any other preprocessing steps (if needed)"
      ]
    },
    {
      "attachments": {},
      "cell_type": "markdown",
      "metadata": {},
      "source": [
        "### Checking for Anomalous Values"
      ]
    },
    {
      "cell_type": "code",
      "execution_count": null,
      "metadata": {},
      "outputs": [],
      "source": [
        "# Map the values to 1: Undergrad; 2: Graduate 3: Advanced/Professional\n",
        "loan_df[\"Education\"].replace(1, \"Undergraduate\", inplace=True)\n",
        "loan_df[\"Education\"].replace(2, \"Graduate\", inplace=True)\n",
        "loan_df[\"Education\"].replace(3, \"Advanced/Professional\", inplace=True)"
      ]
    },
    {
      "attachments": {},
      "cell_type": "markdown",
      "metadata": {},
      "source": [
        "* Treating the negative values of Experience: We assume that these negative signs here are data input errors, so we will replace them with positive signs"
      ]
    },
    {
      "cell_type": "code",
      "execution_count": null,
      "metadata": {},
      "outputs": [],
      "source": [
        "# checking if experience <0\n",
        "loan_df[loan_df[\"Experience\"] < 0][\"Experience\"].unique()"
      ]
    },
    {
      "cell_type": "code",
      "execution_count": null,
      "metadata": {},
      "outputs": [],
      "source": [
        "# Correcting the experience values\n",
        "loan_df[\"Experience\"].replace(-1, 1, inplace=True)\n",
        "loan_df[\"Experience\"].replace(-2, 2, inplace=True)\n",
        "loan_df[\"Experience\"].replace(-3, 3, inplace=True)"
      ]
    },
    {
      "attachments": {},
      "cell_type": "markdown",
      "metadata": {},
      "source": [
        "### Feature Engineering"
      ]
    },
    {
      "cell_type": "code",
      "execution_count": null,
      "metadata": {},
      "outputs": [],
      "source": [
        "# checking the number of uniques in the zip code\n",
        "loan_df[\"ZIPCode\"].nunique()"
      ]
    },
    {
      "cell_type": "code",
      "execution_count": null,
      "metadata": {},
      "outputs": [],
      "source": [
        "loan_df[\"ZIPCode\"] = loan_df[\"ZIPCode\"].astype(str)\n",
        "print(\n",
        "    \"Number of unique values if we take first two digits of ZIPCode: \",\n",
        "    loan_df[\"ZIPCode\"].str[0:2].nunique(),\n",
        ")\n",
        "loan_df[\"ZIPCode\"] = loan_df[\"ZIPCode\"].str[0:2]\n",
        "\n",
        "loan_df[\"ZIPCode\"] = loan_df[\"ZIPCode\"].astype(\"category\")"
      ]
    },
    {
      "cell_type": "code",
      "execution_count": null,
      "metadata": {},
      "outputs": [],
      "source": [
        "## Converting the data type of categorical features to 'category'\n",
        "cat_cols = [\n",
        "    \"Education\",\n",
        "    \"Personal_Loan\",\n",
        "    \"Securities_Account\",\n",
        "    \"CD_Account\",\n",
        "    \"Online\",\n",
        "    \"CreditCard\",\n",
        "    \"ZIPCode\",\n",
        "]\n",
        "loan_df[cat_cols] = loan_df[cat_cols].astype(\"category\")"
      ]
    },
    {
      "attachments": {},
      "cell_type": "markdown",
      "metadata": {
        "id": "9KgxRHBOy6fn"
      },
      "source": [
        "## Exploratory Data Analysis."
      ]
    },
    {
      "attachments": {},
      "cell_type": "markdown",
      "metadata": {
        "id": "5w7PtDMazCRh"
      },
      "source": [
        "- EDA is an important part of any project involving data.\n",
        "- It is important to investigate and understand the data better before building a model with it.\n",
        "- A few questions have been mentioned below which will help you approach the analysis in the right manner and generate insights from the data.\n",
        "- A thorough analysis of the data, in addition to the questions mentioned below, should be done."
      ]
    },
    {
      "attachments": {},
      "cell_type": "markdown",
      "metadata": {},
      "source": [
        "### Univariate Analysis"
      ]
    },
    {
      "cell_type": "code",
      "execution_count": null,
      "metadata": {},
      "outputs": [],
      "source": [
        "def histogram_boxplot(data, feature, figsize=(12, 7), kde=False, bins=None):\n",
        "    \"\"\"\n",
        "    Boxplot and histogram combined\n",
        "\n",
        "    data: dataframe\n",
        "    feature: dataframe column\n",
        "    figsize: size of figure (default (12,7))\n",
        "    kde: whether to show the density curve (default False)\n",
        "    bins: number of bins for histogram (default None)\n",
        "    \"\"\"\n",
        "    f2, (ax_box2, ax_hist2) = plt.subplots(\n",
        "        nrows=2,  # Number of rows of the subplot grid= 2\n",
        "        sharex=True,  # x-axis will be shared among all subplots\n",
        "        gridspec_kw={\"height_ratios\": (0.25, 0.75)},\n",
        "        figsize=figsize,\n",
        "    )  # creating the 2 subplots\n",
        "    sns.boxplot(\n",
        "        data=data, x=feature, ax=ax_box2, showmeans=True, color=\"violet\"\n",
        "    )  # boxplot will be created and a star will indicate the mean value of the column\n",
        "    sns.histplot(\n",
        "        data=data, x=feature, kde=kde, ax=ax_hist2, bins=bins, palette=\"winter\"\n",
        "    ) if bins else sns.histplot(\n",
        "        data=data, x=feature, kde=kde, ax=ax_hist2\n",
        "    )  # For histogram\n",
        "    ax_hist2.axvline(\n",
        "        data[feature].mean(), color=\"green\", linestyle=\"--\"\n",
        "    )  # Add mean to the histogram\n",
        "    ax_hist2.axvline(\n",
        "        data[feature].median(), color=\"black\", linestyle=\"-\"\n",
        "    )  # Add median to the histogram"
      ]
    },
    {
      "cell_type": "code",
      "execution_count": null,
      "metadata": {},
      "outputs": [],
      "source": [
        "# function to create labeled barplots\n",
        "\n",
        "\n",
        "def labeled_barplot(data, feature, perc=False, n=None):\n",
        "    \"\"\"\n",
        "    Barplot with percentage at the top\n",
        "\n",
        "    data: dataframe\n",
        "    feature: dataframe column\n",
        "    perc: whether to display percentages instead of count (default is False)\n",
        "    n: displays the top n category levels (default is None, i.e., display all levels)\n",
        "    \"\"\"\n",
        "\n",
        "    total = len(data[feature])  # length of the column\n",
        "    count = data[feature].nunique()\n",
        "    if n is None:\n",
        "        plt.figure(figsize=(count + 1, 5))\n",
        "    else:\n",
        "        plt.figure(figsize=(n + 1, 5))\n",
        "\n",
        "    plt.xticks(rotation=90, fontsize=15)\n",
        "    ax = sns.countplot(\n",
        "        data=data,\n",
        "        x=feature,\n",
        "        palette=\"Paired\",\n",
        "        order=data[feature].value_counts().index[:n].sort_values(),\n",
        "    )\n",
        "\n",
        "    for p in ax.patches:\n",
        "        if perc == True:\n",
        "            label = \"{:.1f}%\".format(\n",
        "                100 * p.get_height() / total\n",
        "            )  # percentage of each class of the category\n",
        "        else:\n",
        "            label = p.get_height()  # count of each level of the category\n",
        "\n",
        "        x = p.get_x() + p.get_width() / 2  # width of the plot\n",
        "        y = p.get_height()  # height of the plot\n",
        "\n",
        "        ax.annotate(\n",
        "            label,\n",
        "            (x, y),\n",
        "            ha=\"center\",\n",
        "            va=\"center\",\n",
        "            size=12,\n",
        "            xytext=(0, 5),\n",
        "            textcoords=\"offset points\",\n",
        "        )  # annotate the percentage\n",
        "\n",
        "    plt.show()  # show the plot"
      ]
    },
    {
      "attachments": {},
      "cell_type": "markdown",
      "metadata": {},
      "source": [
        "#### Age"
      ]
    },
    {
      "cell_type": "code",
      "execution_count": null,
      "metadata": {},
      "outputs": [],
      "source": [
        "histogram_boxplot(loan_df, \"Age\")"
      ]
    },
    {
      "attachments": {},
      "cell_type": "markdown",
      "metadata": {},
      "source": [
        "##### Observations\n",
        "- Minimum Age: 23\n",
        "- Maximum Age: 67\n",
        "- Average Age: 45\n",
        "- There are no outliers in the data"
      ]
    },
    {
      "attachments": {},
      "cell_type": "markdown",
      "metadata": {},
      "source": [
        "#### Experience"
      ]
    },
    {
      "cell_type": "code",
      "execution_count": null,
      "metadata": {},
      "outputs": [],
      "source": [
        "histogram_boxplot(loan_df, \"Experience\") "
      ]
    },
    {
      "attachments": {},
      "cell_type": "markdown",
      "metadata": {},
      "source": [
        "##### Observations:\n",
        "- Minimum Years of Experience: 0 years\n",
        "- Maximum Years of Experience: 43 years\n",
        "- Average Years of Experience: About 20 years\n",
        "- There are no outliers in the data"
      ]
    },
    {
      "attachments": {},
      "cell_type": "markdown",
      "metadata": {},
      "source": [
        "#### Income"
      ]
    },
    {
      "cell_type": "code",
      "execution_count": null,
      "metadata": {},
      "outputs": [],
      "source": [
        "histogram_boxplot(loan_df, \"Income\") "
      ]
    },
    {
      "attachments": {},
      "cell_type": "markdown",
      "metadata": {},
      "source": [
        "##### Observations:\n",
        "- Minimum Income: $8k\n",
        "- Maximum Income: $224k\n",
        "- Average Income: $64k \n",
        "- Dataset is right skewed\n",
        "- There are outliers in the data, however it appears they are consistent with the rest of the data so no action is required to treat these outliers"
      ]
    },
    {
      "attachments": {},
      "cell_type": "markdown",
      "metadata": {},
      "source": [
        "#### CCAvg"
      ]
    },
    {
      "cell_type": "code",
      "execution_count": null,
      "metadata": {},
      "outputs": [],
      "source": [
        "histogram_boxplot(loan_df, \"CCAvg\") "
      ]
    },
    {
      "attachments": {},
      "cell_type": "markdown",
      "metadata": {},
      "source": [
        "##### Observations:\n",
        "- Minimum: $0k \n",
        "- Maximum: $10k \n",
        "- Average: About $1.9k\n",
        "- Dataset is skewed to the right\n",
        "- There are outliers in the data, however it appears they are consistent with the rest of the data so no action is required to treat these outliers"
      ]
    },
    {
      "attachments": {},
      "cell_type": "markdown",
      "metadata": {},
      "source": [
        "#### Mortgage"
      ]
    },
    {
      "cell_type": "code",
      "execution_count": null,
      "metadata": {},
      "outputs": [],
      "source": [
        "histogram_boxplot(loan_df, \"Mortgage\") "
      ]
    },
    {
      "attachments": {},
      "cell_type": "markdown",
      "metadata": {},
      "source": [
        "Let's get a better view of mortgage > $0k:"
      ]
    },
    {
      "cell_type": "code",
      "execution_count": null,
      "metadata": {},
      "outputs": [],
      "source": [
        "mortgage_gt_zero = loan_df[loan_df['Mortgage'] > 0]\n",
        "histogram_boxplot(mortgage_gt_zero, \"Mortgage\")"
      ]
    },
    {
      "attachments": {},
      "cell_type": "markdown",
      "metadata": {},
      "source": [
        "##### Observations\n",
        "- Minimum: $0k \n",
        "- Maximum: $635k\n",
        "- Average: About $56.5k\n",
        "- Dataset is skewed to the right\n",
        "- There are outliers in the data, however it appears they are consistent with the rest of the data so no action is required to treat these outliers"
      ]
    },
    {
      "attachments": {},
      "cell_type": "markdown",
      "metadata": {},
      "source": [
        "#### Family "
      ]
    },
    {
      "cell_type": "code",
      "execution_count": null,
      "metadata": {},
      "outputs": [],
      "source": [
        "labeled_barplot(loan_df, \"Family\", perc=True) "
      ]
    },
    {
      "attachments": {},
      "cell_type": "markdown",
      "metadata": {},
      "source": [
        "##### Observations:\n",
        "The majority of families are of size 1 (29.4%), followed by families of size 2 (25.9%). Third is families of size 4 (24.4%), and the minority is families of size 3 (20.2%)."
      ]
    },
    {
      "attachments": {},
      "cell_type": "markdown",
      "metadata": {},
      "source": [
        "#### Education"
      ]
    },
    {
      "cell_type": "code",
      "execution_count": null,
      "metadata": {},
      "outputs": [],
      "source": [
        "labeled_barplot(loan_df, \"Education\", perc=True) "
      ]
    },
    {
      "attachments": {},
      "cell_type": "markdown",
      "metadata": {},
      "source": [
        "##### Observations:\n",
        "- 41.9% of customers: Undergraduate \n",
        "- 30.0% of customers: Advanced/Professional\n",
        "- 28.1% of customers: Graduate"
      ]
    },
    {
      "attachments": {},
      "cell_type": "markdown",
      "metadata": {},
      "source": [
        "#### Securities_Account"
      ]
    },
    {
      "cell_type": "code",
      "execution_count": null,
      "metadata": {},
      "outputs": [],
      "source": [
        "labeled_barplot(loan_df, \"Securities_Account\", perc=True) "
      ]
    },
    {
      "attachments": {},
      "cell_type": "markdown",
      "metadata": {},
      "source": [
        "##### Observations:\n",
        "89.6% of customers do not have securities accounts with the bank, and 10.4% of customers do have securities accounts with the bank."
      ]
    },
    {
      "attachments": {},
      "cell_type": "markdown",
      "metadata": {},
      "source": [
        "#### CD_Account"
      ]
    },
    {
      "cell_type": "code",
      "execution_count": null,
      "metadata": {},
      "outputs": [],
      "source": [
        "labeled_barplot(loan_df, \"CD_Account\", perc=True) "
      ]
    },
    {
      "attachments": {},
      "cell_type": "markdown",
      "metadata": {},
      "source": [
        "##### Observations:\n",
        "94.0% of customers do not have a CD account with the bank, while 6% of customers do have a CD account with the bank. "
      ]
    },
    {
      "attachments": {},
      "cell_type": "markdown",
      "metadata": {},
      "source": [
        "#### Online"
      ]
    },
    {
      "cell_type": "code",
      "execution_count": null,
      "metadata": {},
      "outputs": [],
      "source": [
        "labeled_barplot(loan_df, \"Online\", perc=True) "
      ]
    },
    {
      "attachments": {},
      "cell_type": "markdown",
      "metadata": {},
      "source": [
        "##### Observations:\n",
        "59.7% of customers use internet banking facilities, while 40.3% of customers do not. "
      ]
    },
    {
      "attachments": {},
      "cell_type": "markdown",
      "metadata": {},
      "source": [
        "#### CreditCard"
      ]
    },
    {
      "cell_type": "code",
      "execution_count": null,
      "metadata": {},
      "outputs": [],
      "source": [
        "labeled_barplot(loan_df, \"CreditCard\", perc=True) "
      ]
    },
    {
      "attachments": {},
      "cell_type": "markdown",
      "metadata": {},
      "source": [
        "##### Observations:\n",
        "70.6% of customers do not use a credit card issued by another bank, while 29.4% of customers do use a credit issued by another bank. "
      ]
    },
    {
      "attachments": {},
      "cell_type": "markdown",
      "metadata": {},
      "source": [
        "#### ZIPCode"
      ]
    },
    {
      "cell_type": "code",
      "execution_count": null,
      "metadata": {},
      "outputs": [],
      "source": [
        "labeled_barplot(loan_df, \"ZIPCode\", perc=True) "
      ]
    },
    {
      "attachments": {},
      "cell_type": "markdown",
      "metadata": {},
      "source": [
        "##### Observations:\n",
        "- 29.4% of customers reside in the zip code beginning in 94\n",
        "- 19.8% of customers reside in the zip code beginning in 92\n",
        "- 16.3% of customers reside in the zip code beginning in 95\n",
        "- 14.1% of customers reside in the zip code beginning in 90\n",
        "- 11.3% of customers reside in the zip code beginning in 91\n",
        "- 8.3% of customers reside in the zip code beginning in 93\n",
        "- 0.8% of customers reside in the zip code beginning in 96"
      ]
    },
    {
      "attachments": {},
      "cell_type": "markdown",
      "metadata": {},
      "source": [
        "### Bivariate Analysis"
      ]
    },
    {
      "cell_type": "code",
      "execution_count": null,
      "metadata": {},
      "outputs": [],
      "source": [
        "def stacked_barplot(data, predictor, target):\n",
        "    \"\"\"\n",
        "    Print the category counts and plot a stacked bar chart\n",
        "\n",
        "    data: dataframe\n",
        "    predictor: independent variable\n",
        "    target: target variable\n",
        "    \"\"\"\n",
        "    count = data[predictor].nunique()\n",
        "    sorter = data[target].value_counts().index[-1]\n",
        "    tab1 = pd.crosstab(data[predictor], data[target], margins=True).sort_values(\n",
        "        by=sorter, ascending=False\n",
        "    )\n",
        "    print(tab1)\n",
        "    print(\"-\" * 120)\n",
        "    tab = pd.crosstab(data[predictor], data[target], normalize=\"index\").sort_values(\n",
        "        by=sorter, ascending=False\n",
        "    )\n",
        "    tab.plot(kind=\"bar\", stacked=True, figsize=(count + 5, 5))\n",
        "    plt.legend(\n",
        "        loc=\"lower left\", frameon=False,\n",
        "    )\n",
        "    plt.legend(loc=\"upper left\", bbox_to_anchor=(1, 1))\n",
        "    plt.show()"
      ]
    },
    {
      "cell_type": "code",
      "execution_count": null,
      "metadata": {},
      "outputs": [],
      "source": [
        "### function to plot distributions wrt target\n",
        "\n",
        "def distribution_plot_wrt_target(data, predictor, target):\n",
        "\n",
        "    fig, axs = plt.subplots(2, 2, figsize=(12, 10))\n",
        "\n",
        "    target_uniq = data[target].unique()\n",
        "\n",
        "    axs[0, 0].set_title(\"Distribution of target for target=\" + str(target_uniq[0]))\n",
        "    sns.histplot(\n",
        "        data=data[data[target] == target_uniq[0]],\n",
        "        x=predictor,\n",
        "        kde=True,\n",
        "        ax=axs[0, 0],\n",
        "        color=\"teal\",\n",
        "        stat=\"density\",\n",
        "    )\n",
        "\n",
        "    axs[0, 1].set_title(\"Distribution of target for target=\" + str(target_uniq[1]))\n",
        "    sns.histplot(\n",
        "        data=data[data[target] == target_uniq[1]],\n",
        "        x=predictor,\n",
        "        kde=True,\n",
        "        ax=axs[0, 1],\n",
        "        color=\"orange\",\n",
        "        stat=\"density\",\n",
        "    )\n",
        "\n",
        "    axs[1, 0].set_title(\"Boxplot w.r.t target\")\n",
        "    sns.boxplot(data=data, x=target, y=predictor, ax=axs[1, 0], palette=\"gist_rainbow\")\n",
        "\n",
        "    axs[1, 1].set_title(\"Boxplot (without outliers) w.r.t target\")\n",
        "    sns.boxplot(\n",
        "        data=data,\n",
        "        x=target,\n",
        "        y=predictor,\n",
        "        ax=axs[1, 1],\n",
        "        showfliers=False,\n",
        "        palette=\"gist_rainbow\",\n",
        "    )\n",
        "\n",
        "    plt.tight_layout()\n",
        "    plt.show()"
      ]
    },
    {
      "attachments": {},
      "cell_type": "markdown",
      "metadata": {},
      "source": [
        "#### Correlation check"
      ]
    },
    {
      "cell_type": "code",
      "execution_count": null,
      "metadata": {},
      "outputs": [],
      "source": [
        "plt.figure(figsize=(15, 7))\n",
        "sns.heatmap(loan_df.corr(), annot=True, vmin=-1, vmax=1, fmt=\".2f\", cmap=\"Spectral\") \n",
        "plt.show()"
      ]
    },
    {
      "attachments": {},
      "cell_type": "markdown",
      "metadata": {},
      "source": [
        "#### Age vs Personal_Loan"
      ]
    },
    {
      "cell_type": "code",
      "execution_count": null,
      "metadata": {},
      "outputs": [],
      "source": [
        "distribution_plot_wrt_target(loan_df, \"Age\", \"Personal_Loan\")"
      ]
    },
    {
      "attachments": {},
      "cell_type": "markdown",
      "metadata": {},
      "source": [
        "##### Observations:\n",
        "It appears Age does not have a relationship with Personal_Loan"
      ]
    },
    {
      "attachments": {},
      "cell_type": "markdown",
      "metadata": {},
      "source": [
        "#### Experience vs Personal_Loan"
      ]
    },
    {
      "cell_type": "code",
      "execution_count": null,
      "metadata": {},
      "outputs": [],
      "source": [
        "distribution_plot_wrt_target(loan_df, \"Experience\", \"Personal_Loan\")"
      ]
    },
    {
      "attachments": {},
      "cell_type": "markdown",
      "metadata": {},
      "source": [
        "##### Observations:\n",
        "It appears Experience does not have a relationship with Personal_Loan"
      ]
    },
    {
      "attachments": {},
      "cell_type": "markdown",
      "metadata": {},
      "source": [
        "#### Income vs Personal_Loan"
      ]
    },
    {
      "cell_type": "code",
      "execution_count": null,
      "metadata": {},
      "outputs": [],
      "source": [
        "distribution_plot_wrt_target(loan_df, \"Income\", \"Personal_Loan\")"
      ]
    },
    {
      "attachments": {},
      "cell_type": "markdown",
      "metadata": {},
      "source": [
        "##### Observations:\n",
        "- The mean income for customers who did not accept a personal loan is about $65k\n",
        "- The mean income for customers who did accept a personal loan is about $145k\n",
        "- Based on the graphs, it appears there is a relationship between Income and Personal_Loan. We can observe that the higher the income, the more likely the customer will accept a personal loan. "
      ]
    },
    {
      "attachments": {},
      "cell_type": "markdown",
      "metadata": {},
      "source": [
        "#### Personal_Loan vs ZIPCode"
      ]
    },
    {
      "cell_type": "code",
      "execution_count": null,
      "metadata": {},
      "outputs": [],
      "source": [
        "stacked_barplot(loan_df, \"Personal_Loan\", \"ZIPCode\")  "
      ]
    },
    {
      "attachments": {},
      "cell_type": "markdown",
      "metadata": {},
      "source": [
        "##### Observations:\n",
        "- It appears that there are some zip codes that are more likely to accept personal loans, specifically those whose zip code leads with a 94, whereas those in zip code leading in 93 appear less likely to accept a personal loan. "
      ]
    },
    {
      "attachments": {},
      "cell_type": "markdown",
      "metadata": {},
      "source": [
        "#### Family vs Personal_Loan"
      ]
    },
    {
      "cell_type": "code",
      "execution_count": null,
      "metadata": {},
      "outputs": [],
      "source": [
        "stacked_barplot(loan_df, \"Family\", \"Personal_Loan\")  "
      ]
    },
    {
      "attachments": {},
      "cell_type": "markdown",
      "metadata": {},
      "source": [
        "##### Observations:\n",
        "Based on the graphs, it appears that families of size 3 or 4 are more likely to accept a personal loan. This could show a trend that as family size grows, customers are more likely to accept personal loan. "
      ]
    },
    {
      "attachments": {},
      "cell_type": "markdown",
      "metadata": {},
      "source": [
        "#### CCAvg vs Personal_Loan"
      ]
    },
    {
      "cell_type": "code",
      "execution_count": null,
      "metadata": {},
      "outputs": [],
      "source": [
        "distribution_plot_wrt_target(loan_df, \"CCAvg\", \"Personal_Loan\")"
      ]
    },
    {
      "attachments": {},
      "cell_type": "markdown",
      "metadata": {},
      "source": [
        "##### Observations:\n",
        "The data shows that those who spend more money per month are more likely to accept a personal loan."
      ]
    },
    {
      "attachments": {},
      "cell_type": "markdown",
      "metadata": {},
      "source": [
        "#### Education vs Personal_Loan"
      ]
    },
    {
      "cell_type": "code",
      "execution_count": null,
      "metadata": {},
      "outputs": [],
      "source": [
        "stacked_barplot(loan_df, \"Education\", \"Personal_Loan\")"
      ]
    },
    {
      "attachments": {},
      "cell_type": "markdown",
      "metadata": {},
      "source": [
        "##### Observations:\n",
        "- Fewer Undergraduate customers have accepted a personal loan offered in the last campaign, compared to customers with a Graduate or Advanced/Professional education\n",
        "- There doesn't seem to be a significant difference between customers with Advanced/Professional and Graduate level education with regards to accepting the personal loan offered in the last campaign. \n",
        "- It seems customers with Advanced/Professional and Graducate level educations are more willing to accept a personal loan than those with an Undergraduate education. "
      ]
    },
    {
      "attachments": {},
      "cell_type": "markdown",
      "metadata": {},
      "source": [
        "#### Mortgage vs Personal_Loan"
      ]
    },
    {
      "cell_type": "code",
      "execution_count": null,
      "metadata": {},
      "outputs": [],
      "source": [
        "distribution_plot_wrt_target(loan_df, \"Mortgage\", \"Personal_Loan\")"
      ]
    },
    {
      "attachments": {},
      "cell_type": "markdown",
      "metadata": {},
      "source": [
        "Due to the high number of customers not paying a mortgage, the distribution looks to be heavily skewed to the right. To get a better look, let us create a new plot that does not include the customers paying no mortgage:"
      ]
    },
    {
      "cell_type": "code",
      "execution_count": null,
      "metadata": {},
      "outputs": [],
      "source": [
        "distribution_plot_wrt_target(mortgage_gt_zero, \"Mortgage\", \"Personal_Loan\")"
      ]
    },
    {
      "attachments": {},
      "cell_type": "markdown",
      "metadata": {},
      "source": [
        "##### Observations:\n",
        "- The mean value of mortgage paid by customers not accepting a personal loan is about $150k\n",
        "- The mean value of mortgage paid by customers paying a personal loan is about $290k\n",
        "- Based on this data, it appears that as the mortgage value increases, the more likely the customer is to accept a personal loan"
      ]
    },
    {
      "attachments": {},
      "cell_type": "markdown",
      "metadata": {},
      "source": [
        "#### Securities_Account vs Personal_Loan"
      ]
    },
    {
      "cell_type": "code",
      "execution_count": null,
      "metadata": {},
      "outputs": [],
      "source": [
        "stacked_barplot(loan_df, \"Personal_Loan\", \"Securities_Account\")  "
      ]
    },
    {
      "attachments": {},
      "cell_type": "markdown",
      "metadata": {},
      "source": [
        "##### Observations:\n",
        "The data shows that those with a securities account with the bank are slightly more likely to accept a personal loan. "
      ]
    },
    {
      "attachments": {},
      "cell_type": "markdown",
      "metadata": {},
      "source": [
        "#### CD_Account vs Personal_Loan"
      ]
    },
    {
      "cell_type": "code",
      "execution_count": null,
      "metadata": {},
      "outputs": [],
      "source": [
        "stacked_barplot(loan_df, \"Personal_Loan\", \"CD_Account\")  "
      ]
    },
    {
      "attachments": {},
      "cell_type": "markdown",
      "metadata": {},
      "source": [
        "##### Observations:\n",
        "The data shows that those customers with a CD account with the bank are much more likely to accept a personal loan."
      ]
    },
    {
      "attachments": {},
      "cell_type": "markdown",
      "metadata": {},
      "source": [
        "#### Online vs Personal_Loan"
      ]
    },
    {
      "cell_type": "code",
      "execution_count": null,
      "metadata": {},
      "outputs": [],
      "source": [
        "stacked_barplot(loan_df, \"Personal_Loan\", \"Online\")  "
      ]
    },
    {
      "attachments": {},
      "cell_type": "markdown",
      "metadata": {},
      "source": [
        "##### Observations:\n",
        "The data shows that customers who use internet banking facilities are about equally likely to accept a personal loan as those who do not use internet banking facilities. "
      ]
    },
    {
      "attachments": {},
      "cell_type": "markdown",
      "metadata": {},
      "source": [
        "#### CreditCard vs Personal_Loan"
      ]
    },
    {
      "cell_type": "code",
      "execution_count": null,
      "metadata": {},
      "outputs": [],
      "source": [
        "stacked_barplot(loan_df, \"Personal_Loan\", \"CreditCard\")  "
      ]
    },
    {
      "attachments": {},
      "cell_type": "markdown",
      "metadata": {},
      "source": [
        "##### Observations:\n",
        "The data shows that customers who use credit cards issues by other banks are about equally likely to accept a personal loan as those who do not use credit cards from other banks. "
      ]
    },
    {
      "attachments": {},
      "cell_type": "markdown",
      "metadata": {
        "id": "CjVNBJWozGSA"
      },
      "source": [
        "**Questions**:\n",
        "\n",
        "1. What is the distribution of mortgage attribute? Are there any noticeable patterns or outliers in the distribution?\n",
        "2. How many customers have credit cards?\n",
        "3. What are the attributes that have a strong correlation with the target attribute (personal loan)?\n",
        "4. How does a customer's interest in purchasing a loan vary with their age?\n",
        "5. How does a customer's interest in purchasing a loan vary with their education?"
      ]
    },
    {
      "attachments": {},
      "cell_type": "markdown",
      "metadata": {},
      "source": [
        "### **Question 1:** What is the distribution of mortgage attribute? Are there any noticeable patterns or outliers in the distribution?\n"
      ]
    },
    {
      "cell_type": "code",
      "execution_count": null,
      "metadata": {},
      "outputs": [],
      "source": [
        "print(loan_df['Mortgage'].describe())\n",
        "histogram_boxplot(loan_df, \"Mortgage\") \n",
        "\n",
        "# Histogram\n",
        "plt.figure(figsize=(8, 6))\n",
        "plt.hist(loan_df['Mortgage'], bins=30, edgecolor='k')\n",
        "plt.xlabel('Mortgage')\n",
        "plt.ylabel('Frequency')\n",
        "plt.title('Distribution of Mortgage')\n",
        "plt.show()\n",
        "\n",
        "# Box plot\n",
        "plt.figure(figsize=(8, 6))\n",
        "sns.boxplot(data=loan_df, x='Mortgage')\n",
        "plt.xlabel('Mortgage')\n",
        "plt.title('Box Plot of Mortgage')\n",
        "plt.show()\n",
        "\n",
        "# Density plot\n",
        "plt.figure(figsize=(8, 6))\n",
        "sns.kdeplot(data=loan_df, x='Mortgage', fill=True)\n",
        "plt.xlabel('Mortgage')\n",
        "plt.ylabel('Density')\n",
        "plt.title('Density Plot of Mortgage')\n",
        "plt.show()"
      ]
    },
    {
      "attachments": {},
      "cell_type": "markdown",
      "metadata": {},
      "source": [
        "### Data Preparation for Modeling"
      ]
    },
    {
      "cell_type": "code",
      "execution_count": null,
      "metadata": {},
      "outputs": [],
      "source": [
        "# Separate independent and dependent variable\n",
        "X = loan_df.drop([\"Personal_Loan\", \"Experience\"], axis=1)\n",
        "Y = loan_df[\"Personal_Loan\"]"
      ]
    },
    {
      "cell_type": "code",
      "execution_count": null,
      "metadata": {},
      "outputs": [],
      "source": [
        "# Complete the code to apply dummies on ZIPCode and Education\n",
        "X = pd.get_dummies(X, columns=[\"ZIPCode\", \"Education\"], drop_first=True)  \n",
        "\n",
        "# Complete the code to split data in train and test sets\n",
        "X_train, X_test, y_train, y_test = train_test_split(X, Y, test_size=0.30, random_state=1)"
      ]
    },
    {
      "cell_type": "code",
      "execution_count": null,
      "metadata": {},
      "outputs": [],
      "source": [
        "print(\"Shape of Training set : \", X_train.shape)     \n",
        "print(\"Shape of test set : \", X_test.shape)          \n",
        "print(\"Percentage of classes in training set:\")\n",
        "print(y_train.value_counts(normalize=True))              \n",
        "print(\"Percentage of classes in test set:\")\n",
        "print(y_test.value_counts(normalize=True))           "
      ]
    },
    {
      "attachments": {},
      "cell_type": "markdown",
      "metadata": {
        "id": "f4lwYN5bYmHp"
      },
      "source": [
        "## Model Building"
      ]
    },
    {
      "attachments": {},
      "cell_type": "markdown",
      "metadata": {
        "id": "I8KXyX2cYnxg"
      },
      "source": [
        "### Model Evaluation Criterion"
      ]
    },
    {
      "attachments": {},
      "cell_type": "markdown",
      "metadata": {},
      "source": [
        "**Model can make wrong predictions as:**\n",
        "\n",
        "1. Predicting a customer will take the personal loan but in reality the customer will not take the personal loan - Loss of resources\n",
        "2. Predicting a customer will not take the personal loan but in reality the customer was going to take the personal loan - Loss of opportunity\n",
        "\n",
        "**Which case is more important?**\n",
        "* Losing a potential customer by predicting that the customer will not be taking the personal loan but in reality the customer was going to take the personal loan.\n",
        "\n",
        "**How to reduce this loss i.e need to reduce False Negatives?**\n",
        "\n",
        "* Bank would want `Recall` to be maximized, greater the Recall higher the chances of minimizing false negatives. Hence, the focus should be on increasing Recall or minimizing the false negatives."
      ]
    },
    {
      "attachments": {},
      "cell_type": "markdown",
      "metadata": {
        "id": "-Tak4mSn4PeV"
      },
      "source": [
        "### Model Building: Logistic Regression"
      ]
    },
    {
      "attachments": {},
      "cell_type": "markdown",
      "metadata": {},
      "source": [
        "First, let's create functions to calculate different metrics and confusion matrix so that we don't have to use the same code repeatedly for each model.\n",
        "* The model_performance_classification_sklearn_with_threshold function will be used to check the model performance of models. \n",
        "* The confusion_matrix_sklearn_with_threshold function will be used to plot confusion matrix."
      ]
    },
    {
      "cell_type": "code",
      "execution_count": null,
      "metadata": {
        "id": "hgK1YZAWeqPA"
      },
      "outputs": [],
      "source": [
        "# defining a function to compute different metrics to check performance of a classification model built using sklearn\n",
        "\n",
        "\n",
        "def model_performance_classification_sklearn_with_threshold(\n",
        "    model, predictors, target, threshold=0.5\n",
        "):\n",
        "    \"\"\"\n",
        "    Function to compute different metrics, based on the threshold specified, to check classification model performance\n",
        "\n",
        "    model: classifier\n",
        "    predictors: independent variables\n",
        "    target: dependent variable\n",
        "    threshold: threshold for classifying the observation as class 1\n",
        "    \"\"\"\n",
        "\n",
        "    # predicting using the independent variables\n",
        "    pred_prob = model.predict_proba(predictors)[:, 1]\n",
        "    pred_thres = pred_prob > threshold\n",
        "    pred = np.round(pred_thres)\n",
        "\n",
        "    acc = accuracy_score(target, pred)  # to compute Accuracy\n",
        "    recall = recall_score(target, pred)  # to compute Recall\n",
        "    precision = precision_score(target, pred)  # to compute Precision\n",
        "    f1 = f1_score(target, pred)  # to compute F1-score\n",
        "\n",
        "    # creating a dataframe of metrics\n",
        "    df_perf = pd.DataFrame(\n",
        "        {\"Accuracy\": acc, \"Recall\": recall, \"Precision\": precision, \"F1\": f1,},\n",
        "        index=[0],\n",
        "    )\n",
        "\n",
        "    return df_perf"
      ]
    },
    {
      "cell_type": "code",
      "execution_count": null,
      "metadata": {},
      "outputs": [],
      "source": [
        "# defining a function to plot the confusion_matrix of a classification model built using sklearn\n",
        "def confusion_matrix_sklearn_with_threshold(model, predictors, target, threshold=0.5):\n",
        "    \"\"\"\n",
        "    To plot the confusion_matrix, based on the threshold specified, with percentages\n",
        "\n",
        "    model: classifier\n",
        "    predictors: independent variables\n",
        "    target: dependent variable\n",
        "    threshold: threshold for classifying the observation as class 1\n",
        "    \"\"\"\n",
        "    pred_prob = model.predict_proba(predictors)[:, 1]\n",
        "    pred_thres = pred_prob > threshold\n",
        "    y_pred = np.round(pred_thres)\n",
        "\n",
        "    cm = confusion_matrix(target, y_pred)\n",
        "    labels = np.asarray(\n",
        "        [\n",
        "            [\"{0:0.0f}\".format(item) + \"\\n{0:.2%}\".format(item / cm.flatten().sum())]\n",
        "            for item in cm.flatten()\n",
        "        ]\n",
        "    ).reshape(2, 2)\n",
        "\n",
        "    plt.figure(figsize=(6, 4))\n",
        "    sns.heatmap(cm, annot=labels, fmt=\"\")\n",
        "    plt.ylabel(\"True label\")\n",
        "    plt.xlabel(\"Predicted label\")"
      ]
    },
    {
      "attachments": {},
      "cell_type": "markdown",
      "metadata": {
        "id": "ucaUXSMmSHqU"
      },
      "source": [
        "### Model Performance Improvement: Logistic Regression"
      ]
    },
    {
      "cell_type": "code",
      "execution_count": null,
      "metadata": {
        "id": "-upaWNXISGkF"
      },
      "outputs": [],
      "source": []
    },
    {
      "attachments": {},
      "cell_type": "markdown",
      "metadata": {
        "id": "n0zOSq9mieSG"
      },
      "source": [
        "### Model Building: Decision Tree"
      ]
    },
    {
      "cell_type": "code",
      "execution_count": null,
      "metadata": {
        "id": "N5-9mneBiVE8"
      },
      "outputs": [],
      "source": []
    },
    {
      "attachments": {},
      "cell_type": "markdown",
      "metadata": {
        "id": "tOOFfQIWh3_G"
      },
      "source": [
        "### Model Performance Improvement: Decision Tree"
      ]
    },
    {
      "cell_type": "code",
      "execution_count": null,
      "metadata": {
        "id": "D4H3HH5zh4dG"
      },
      "outputs": [],
      "source": []
    },
    {
      "attachments": {},
      "cell_type": "markdown",
      "metadata": {
        "id": "36XMQ7JKjFyx"
      },
      "source": [
        "## Model Comparison and Final Model Selection"
      ]
    },
    {
      "cell_type": "code",
      "execution_count": null,
      "metadata": {
        "id": "jvq640U7kWZF"
      },
      "outputs": [],
      "source": []
    },
    {
      "attachments": {},
      "cell_type": "markdown",
      "metadata": {
        "id": "vb-iuMZQkcDL"
      },
      "source": [
        "## Actionable Insights and Business Recommendations\n"
      ]
    },
    {
      "attachments": {},
      "cell_type": "markdown",
      "metadata": {
        "id": "H_-eZCetiDXK"
      },
      "source": [
        "* What recommedations would you suggest to the bank?"
      ]
    },
    {
      "attachments": {},
      "cell_type": "markdown",
      "metadata": {
        "id": "vX7N2zFwS1nV"
      },
      "source": [
        "___"
      ]
    }
  ],
  "metadata": {
    "colab": {
      "collapsed_sections": [
        "dHp26RRERvXx",
        "CP-77n_lxyBt",
        "D0cilOy9yeK7",
        "vUbDMkrLQb8U",
        "9KgxRHBOy6fn",
        "ZCM6avoA39FB",
        "f4lwYN5bYmHp",
        "I8KXyX2cYnxg",
        "-Tak4mSn4PeV",
        "ucaUXSMmSHqU",
        "n0zOSq9mieSG",
        "tOOFfQIWh3_G",
        "36XMQ7JKjFyx",
        "vb-iuMZQkcDL"
      ],
      "provenance": []
    },
    "kernelspec": {
      "display_name": "Python 3",
      "language": "python",
      "name": "python3"
    },
    "language_info": {
      "codemirror_mode": {
        "name": "ipython",
        "version": 3
      },
      "file_extension": ".py",
      "mimetype": "text/x-python",
      "name": "python",
      "nbconvert_exporter": "python",
      "pygments_lexer": "ipython3",
      "version": "3.9.12"
    }
  },
  "nbformat": 4,
  "nbformat_minor": 0
}
