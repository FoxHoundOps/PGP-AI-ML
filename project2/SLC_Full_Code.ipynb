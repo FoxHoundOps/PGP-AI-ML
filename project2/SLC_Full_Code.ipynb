{
  "cells": [
    {
      "cell_type": "markdown",
      "source": [
        "# Supervised Learning Classification Project: AllLife Bank Personal Loan Campaign"
      ],
      "metadata": {
        "id": "GQ4inoGOw_su"
      }
    },
    {
      "cell_type": "markdown",
      "source": [
        "## Problem Statement"
      ],
      "metadata": {
        "id": "dHp26RRERvXx"
      }
    },
    {
      "cell_type": "markdown",
      "source": [
        "### Context\n",
        "\n",
        "AllLife Bank is a US bank that has a growing customer base. The majority of these customers are liability customers (depositors) with varying sizes of deposits. The number of customers who are also borrowers (asset customers) is quite small, and the bank is interested in expanding this base rapidly to bring in more loan business and in the process, earn more through the interest on loans. In particular, the management wants to explore ways of converting its liability customers to personal loan customers (while retaining them as depositors).\n",
        "\n",
        "A campaign that the bank ran last year for liability customers showed a healthy conversion rate of over 9% success. This has encouraged the retail marketing department to devise campaigns with better target marketing to increase the success ratio.\n",
        "\n",
        "You as a Data scientist at AllLife bank have to build a model that will help the marketing department to identify the potential customers who have a higher probability of purchasing the loan."
      ],
      "metadata": {
        "id": "m5MpauhvxIh6"
      }
    },
    {
      "cell_type": "markdown",
      "source": [
        "### Objective\n",
        "\n",
        "To predict whether a liability customer will buy personal loans, to understand which customer attributes are most significant in driving purchases, and identify which segment of customers to target more."
      ],
      "metadata": {
        "id": "s4T59mPjxMmc"
      }
    },
    {
      "cell_type": "markdown",
      "source": [
        "### Data Dictionary\n",
        "* `ID`: Customer ID\n",
        "* `Age`: Customer’s age in completed years\n",
        "* `Experience`: #years of professional experience\n",
        "* `Income`: Annual income of the customer (in thousand dollars)\n",
        "* `ZIP Code`: Home Address ZIP code.\n",
        "* `Family`: the Family size of the customer\n",
        "* `CCAvg`: Average spending on credit cards per month (in thousand dollars)\n",
        "* `Education`: Education Level. 1: Undergrad; 2: Graduate;3: Advanced/Professional\n",
        "* `Mortgage`: Value of house mortgage if any. (in thousand dollars)\n",
        "* `Personal_Loan`: Did this customer accept the personal loan offered in the last campaign? (0: No, 1: Yes)\n",
        "* `Securities_Account`: Does the customer have securities account with the bank? (0: No, 1: Yes)\n",
        "* `CD_Account`: Does the customer have a certificate of deposit (CD) account with the bank? (0: No, 1: Yes)\n",
        "* `Online`: Do customers use internet banking facilities? (0: No, 1: Yes)\n",
        "* `CreditCard`: Does the customer use a credit card issued by any other Bank (excluding All life Bank)? (0: No, 1: Yes)"
      ],
      "metadata": {
        "id": "FN8fKs4_xPLS"
      }
    },
    {
      "cell_type": "markdown",
      "source": [
        "## Importing necessary libraries"
      ],
      "metadata": {
        "id": "CP-77n_lxyBt"
      }
    },
    {
      "cell_type": "code",
      "execution_count": null,
      "metadata": {
        "id": "O36RnISpw679"
      },
      "outputs": [],
      "source": []
    },
    {
      "cell_type": "markdown",
      "source": [
        "## Loading the dataset"
      ],
      "metadata": {
        "id": "D0cilOy9yeK7"
      }
    },
    {
      "cell_type": "code",
      "source": [],
      "metadata": {
        "id": "veW9EM12yd5M"
      },
      "execution_count": null,
      "outputs": []
    },
    {
      "cell_type": "markdown",
      "source": [
        "## Data Overview"
      ],
      "metadata": {
        "id": "vUbDMkrLQb8U"
      }
    },
    {
      "cell_type": "markdown",
      "source": [
        "* Observations\n",
        "* Sanity checks"
      ],
      "metadata": {
        "id": "yPQbY4cIQaK4"
      }
    },
    {
      "cell_type": "code",
      "source": [],
      "metadata": {
        "id": "EKrLdS4fZmpk"
      },
      "execution_count": null,
      "outputs": []
    },
    {
      "cell_type": "markdown",
      "source": [
        "## Exploratory Data Analysis."
      ],
      "metadata": {
        "id": "9KgxRHBOy6fn"
      }
    },
    {
      "cell_type": "markdown",
      "source": [
        "- EDA is an important part of any project involving data.\n",
        "- It is important to investigate and understand the data better before building a model with it.\n",
        "- A few questions have been mentioned below which will help you approach the analysis in the right manner and generate insights from the data.\n",
        "- A thorough analysis of the data, in addition to the questions mentioned below, should be done."
      ],
      "metadata": {
        "id": "5w7PtDMazCRh"
      }
    },
    {
      "cell_type": "markdown",
      "source": [
        "**Questions**:\n",
        "\n",
        "1. What is the distribution of mortgage attribute? Are there any noticeable patterns or outliers in the distribution?\n",
        "2. How many customers have credit cards?\n",
        "3. What are the attributes that have a strong correlation with the target attribute (personal loan)?\n",
        "4. How does a customer's interest in purchasing a loan vary with their age?\n",
        "5. How does a customer's interest in purchasing a loan vary with their education?"
      ],
      "metadata": {
        "id": "CjVNBJWozGSA"
      }
    },
    {
      "cell_type": "code",
      "source": [],
      "metadata": {
        "id": "KY7_qg7Cymt2"
      },
      "execution_count": null,
      "outputs": []
    },
    {
      "cell_type": "markdown",
      "source": [
        "## Data Preprocessing"
      ],
      "metadata": {
        "id": "ZCM6avoA39FB"
      }
    },
    {
      "cell_type": "markdown",
      "source": [
        "* Missing value treatment\n",
        "* Feature engineering (if needed)\n",
        "* Outlier detection and treatment (if needed)\n",
        "* Preparing data for modeling\n",
        "* Any other preprocessing steps (if needed)"
      ],
      "metadata": {
        "id": "GxmVZXfCfNnc"
      }
    },
    {
      "cell_type": "code",
      "source": [],
      "metadata": {
        "id": "q6D5tdDiymfd"
      },
      "execution_count": null,
      "outputs": []
    },
    {
      "cell_type": "markdown",
      "source": [
        "## Model Building"
      ],
      "metadata": {
        "id": "f4lwYN5bYmHp"
      }
    },
    {
      "cell_type": "markdown",
      "source": [
        "### Model Evaluation Criterion"
      ],
      "metadata": {
        "id": "I8KXyX2cYnxg"
      }
    },
    {
      "cell_type": "markdown",
      "source": [
        "* \n"
      ],
      "metadata": {
        "id": "s9-hADbhYrdc"
      }
    },
    {
      "cell_type": "markdown",
      "source": [
        "### Model Building: Logistic Regression"
      ],
      "metadata": {
        "id": "-Tak4mSn4PeV"
      }
    },
    {
      "cell_type": "code",
      "source": [],
      "metadata": {
        "id": "hgK1YZAWeqPA"
      },
      "execution_count": null,
      "outputs": []
    },
    {
      "cell_type": "markdown",
      "source": [
        "### Model Performance Improvement: Logistic Regression"
      ],
      "metadata": {
        "id": "ucaUXSMmSHqU"
      }
    },
    {
      "cell_type": "code",
      "source": [],
      "metadata": {
        "id": "-upaWNXISGkF"
      },
      "execution_count": null,
      "outputs": []
    },
    {
      "cell_type": "markdown",
      "source": [
        "### Model Building: Decision Tree"
      ],
      "metadata": {
        "id": "n0zOSq9mieSG"
      }
    },
    {
      "cell_type": "code",
      "source": [],
      "metadata": {
        "id": "N5-9mneBiVE8"
      },
      "execution_count": null,
      "outputs": []
    },
    {
      "cell_type": "markdown",
      "source": [
        "### Model Performance Improvement: Decision Tree"
      ],
      "metadata": {
        "id": "tOOFfQIWh3_G"
      }
    },
    {
      "cell_type": "code",
      "source": [],
      "metadata": {
        "id": "D4H3HH5zh4dG"
      },
      "execution_count": null,
      "outputs": []
    },
    {
      "cell_type": "markdown",
      "source": [
        "## Model Comparison and Final Model Selection"
      ],
      "metadata": {
        "id": "36XMQ7JKjFyx"
      }
    },
    {
      "cell_type": "code",
      "source": [],
      "metadata": {
        "id": "jvq640U7kWZF"
      },
      "execution_count": null,
      "outputs": []
    },
    {
      "cell_type": "markdown",
      "source": [
        "## Actionable Insights and Business Recommendations\n"
      ],
      "metadata": {
        "id": "vb-iuMZQkcDL"
      }
    },
    {
      "cell_type": "markdown",
      "source": [
        "* What recommedations would you suggest to the bank?"
      ],
      "metadata": {
        "id": "H_-eZCetiDXK"
      }
    },
    {
      "cell_type": "markdown",
      "source": [
        "___"
      ],
      "metadata": {
        "id": "vX7N2zFwS1nV"
      }
    }
  ],
  "metadata": {
    "kernelspec": {
      "display_name": "Python 3",
      "language": "python",
      "name": "python3"
    },
    "language_info": {
      "codemirror_mode": {
        "name": "ipython",
        "version": 3
      },
      "file_extension": ".py",
      "mimetype": "text/x-python",
      "name": "python",
      "nbconvert_exporter": "python",
      "pygments_lexer": "ipython3",
      "version": "3.8.8"
    },
    "colab": {
      "provenance": [],
      "collapsed_sections": [
        "dHp26RRERvXx",
        "CP-77n_lxyBt",
        "D0cilOy9yeK7",
        "vUbDMkrLQb8U",
        "9KgxRHBOy6fn",
        "ZCM6avoA39FB",
        "f4lwYN5bYmHp",
        "I8KXyX2cYnxg",
        "-Tak4mSn4PeV",
        "ucaUXSMmSHqU",
        "n0zOSq9mieSG",
        "tOOFfQIWh3_G",
        "36XMQ7JKjFyx",
        "vb-iuMZQkcDL"
      ]
    }
  },
  "nbformat": 4,
  "nbformat_minor": 0
}